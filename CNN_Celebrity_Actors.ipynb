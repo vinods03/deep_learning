{
  "nbformat": 4,
  "nbformat_minor": 0,
  "metadata": {
    "colab": {
      "name": "CNN Celebrity Actors.ipynb",
      "provenance": [],
      "authorship_tag": "ABX9TyNeSwffIeeXWjxMvyUpLYfa",
      "include_colab_link": true
    },
    "kernelspec": {
      "name": "python3",
      "display_name": "Python 3"
    },
    "language_info": {
      "name": "python"
    },
    "accelerator": "GPU",
    "gpuClass": "standard"
  },
  "cells": [
    {
      "cell_type": "markdown",
      "metadata": {
        "id": "view-in-github",
        "colab_type": "text"
      },
      "source": [
        "<a href=\"https://colab.research.google.com/github/vinods03/deep_learning/blob/main/CNN_Celebrity_Actors.ipynb\" target=\"_parent\"><img src=\"https://colab.research.google.com/assets/colab-badge.svg\" alt=\"Open In Colab\"/></a>"
      ]
    },
    {
      "cell_type": "code",
      "execution_count": 1,
      "metadata": {
        "colab": {
          "base_uri": "https://localhost:8080/"
        },
        "id": "WkeQlI0I2K-l",
        "outputId": "34e8b909-0bd9-488f-d7f0-2d8efe50eb71"
      },
      "outputs": [
        {
          "output_type": "stream",
          "name": "stdout",
          "text": [
            "Mounted at /content/drive\n"
          ]
        }
      ],
      "source": [
        "from google.colab import drive\n",
        "drive.mount('/content/drive')"
      ]
    },
    {
      "cell_type": "code",
      "source": [
        "import tensorflow as tf\n",
        "print(tf.__version__)"
      ],
      "metadata": {
        "colab": {
          "base_uri": "https://localhost:8080/"
        },
        "id": "YPkCIL6o2x7P",
        "outputId": "f9bcb2b8-271c-492d-b299-d75ea9e75383"
      },
      "execution_count": 2,
      "outputs": [
        {
          "output_type": "stream",
          "name": "stdout",
          "text": [
            "2.8.2\n"
          ]
        }
      ]
    },
    {
      "cell_type": "code",
      "source": [
        "base_dir = '/content/drive/MyDrive/Celebrity Faces Dataset'"
      ],
      "metadata": {
        "id": "crt1fnkm27nu"
      },
      "execution_count": 3,
      "outputs": []
    },
    {
      "cell_type": "code",
      "source": [
        "import os\n",
        "\n",
        "dataset = []\n",
        "for i in os.listdir(base_dir):\n",
        "  dataset.append(os.path.join(base_dir, i))\n",
        "\n",
        "dataset"
      ],
      "metadata": {
        "colab": {
          "base_uri": "https://localhost:8080/"
        },
        "id": "UEJkCLs23Rkz",
        "outputId": "70fe6290-c2bb-4d4c-c464-cce444770d9c"
      },
      "execution_count": 4,
      "outputs": [
        {
          "output_type": "execute_result",
          "data": {
            "text/plain": [
              "['/content/drive/MyDrive/Celebrity Faces Dataset/Scarlett Johansson',\n",
              " '/content/drive/MyDrive/Celebrity Faces Dataset/Tom Cruise',\n",
              " '/content/drive/MyDrive/Celebrity Faces Dataset/Megan Fox',\n",
              " '/content/drive/MyDrive/Celebrity Faces Dataset/Nicole Kidman',\n",
              " '/content/drive/MyDrive/Celebrity Faces Dataset/Sandra Bullock',\n",
              " '/content/drive/MyDrive/Celebrity Faces Dataset/Robert Downey Jr',\n",
              " '/content/drive/MyDrive/Celebrity Faces Dataset/Leonardo DiCaprio',\n",
              " '/content/drive/MyDrive/Celebrity Faces Dataset/Natalie Portman',\n",
              " '/content/drive/MyDrive/Celebrity Faces Dataset/Will Smith',\n",
              " '/content/drive/MyDrive/Celebrity Faces Dataset/Tom Hanks',\n",
              " '/content/drive/MyDrive/Celebrity Faces Dataset/Kate Winslet',\n",
              " '/content/drive/MyDrive/Celebrity Faces Dataset/Angelina Jolie',\n",
              " '/content/drive/MyDrive/Celebrity Faces Dataset/Brad Pitt',\n",
              " '/content/drive/MyDrive/Celebrity Faces Dataset/Denzel Washington',\n",
              " '/content/drive/MyDrive/Celebrity Faces Dataset/Jennifer Lawrence',\n",
              " '/content/drive/MyDrive/Celebrity Faces Dataset/Johnny Depp',\n",
              " '/content/drive/MyDrive/Celebrity Faces Dataset/Hugh Jackman']"
            ]
          },
          "metadata": {},
          "execution_count": 4
        }
      ]
    },
    {
      "cell_type": "code",
      "source": [
        "for i in dataset:\n",
        "  label = i.split('/')[-1]\n",
        "  print('The number of images under', label, 'is', len(os.listdir(i)))"
      ],
      "metadata": {
        "colab": {
          "base_uri": "https://localhost:8080/"
        },
        "id": "kMiTHAHb3o69",
        "outputId": "2640a6cb-afda-4cce-b7a2-bea6f9d22b9a"
      },
      "execution_count": 5,
      "outputs": [
        {
          "output_type": "stream",
          "name": "stdout",
          "text": [
            "The number of images under Scarlett Johansson is 200\n",
            "The number of images under Tom Cruise is 100\n",
            "The number of images under Megan Fox is 100\n",
            "The number of images under Nicole Kidman is 100\n",
            "The number of images under Sandra Bullock is 100\n",
            "The number of images under Robert Downey Jr is 100\n",
            "The number of images under Leonardo DiCaprio is 100\n",
            "The number of images under Natalie Portman is 100\n",
            "The number of images under Will Smith is 100\n",
            "The number of images under Tom Hanks is 100\n",
            "The number of images under Kate Winslet is 100\n",
            "The number of images under Angelina Jolie is 100\n",
            "The number of images under Brad Pitt is 100\n",
            "The number of images under Denzel Washington is 100\n",
            "The number of images under Jennifer Lawrence is 100\n",
            "The number of images under Johnny Depp is 100\n",
            "The number of images under Hugh Jackman is 100\n"
          ]
        }
      ]
    },
    {
      "cell_type": "code",
      "source": [
        "translate = {'Scarlett Johansson': 0, 'Tom Cruise': 1, 'Megan Fox': 2, 'Nicole Kidman': 3, 'Sandra Bullock': 4, 'Robert Downey Jr': 5, 'Leonardo DiCaprio': 6, 'Natalie Portman': 7,\n",
        "             'Will Smith': 8, 'Tom Hanks': 9, 'Kate Winslet': 10, 'Angelina Jolie': 11, 'Brad Pitt': 12, 'Denzel Washington': 13, 'Jennifer Lawrence': 14, 'Johnny Depp': 15, 'Hugh Jackman': 16}"
      ],
      "metadata": {
        "id": "w9k8TlxCIkP6"
      },
      "execution_count": 6,
      "outputs": []
    },
    {
      "cell_type": "code",
      "source": [
        "translate['Will Smith']"
      ],
      "metadata": {
        "colab": {
          "base_uri": "https://localhost:8080/"
        },
        "id": "ngkTee6uKBIX",
        "outputId": "165a715a-e6fb-4783-cac1-a156819d8c4b"
      },
      "execution_count": 7,
      "outputs": [
        {
          "output_type": "execute_result",
          "data": {
            "text/plain": [
              "8"
            ]
          },
          "metadata": {},
          "execution_count": 7
        }
      ]
    },
    {
      "cell_type": "code",
      "source": [
        "# convert 1 sample image into a 3D array\n",
        "\n",
        "from tensorflow.keras.preprocessing.image import load_img, img_to_array\n",
        "img = load_img('/content/drive/MyDrive/Celebrity Faces Dataset/Tom Cruise/100_32a5d9d1.jpg')\n",
        "img = img_to_array(img)\n",
        "img = img / 255\n",
        "img\n",
        "print(img.shape)\n"
      ],
      "metadata": {
        "colab": {
          "base_uri": "https://localhost:8080/"
        },
        "id": "BDEzMVCY5Idx",
        "outputId": "e12a0f26-5ad3-4199-b8f1-77691dfab6b7"
      },
      "execution_count": 8,
      "outputs": [
        {
          "output_type": "stream",
          "name": "stdout",
          "text": [
            "(567, 474, 3)\n"
          ]
        }
      ]
    },
    {
      "cell_type": "code",
      "source": [
        "# get the image back from the array\n",
        "\n",
        "import matplotlib.pyplot as plt\n",
        "plt.imshow(img)"
      ],
      "metadata": {
        "colab": {
          "base_uri": "https://localhost:8080/",
          "height": 286
        },
        "id": "NPPPhuqd6ThE",
        "outputId": "44f3c69d-e2ae-4408-ad33-637edcaf3444"
      },
      "execution_count": 9,
      "outputs": [
        {
          "output_type": "execute_result",
          "data": {
            "text/plain": [
              "<matplotlib.image.AxesImage at 0x7f782d3ad690>"
            ]
          },
          "metadata": {},
          "execution_count": 9
        },
        {
          "output_type": "display_data",
          "data": {
            "text/plain": [
              "<Figure size 432x288 with 1 Axes>"
            ],
            "image/png": "[encoded data removed]"
          },
          "metadata": {
            "needs_background": "light"
          }
        }
      ]
    },
    {
      "cell_type": "code",
      "source": [
        "image_array = []\n",
        "image_label = []\n",
        "\n",
        "for i in dataset:\n",
        "  for (n,j) in enumerate(os.listdir(i)):\n",
        "    img_path = os.path.join(i,j)\n",
        "    img = load_img(img_path, target_size = (256, 256))\n",
        "    img = img_to_array(img)\n",
        "    img = img/255\n",
        "    image_array.append(img)\n",
        "    label = i.split('/')[-1]\n",
        "    image_label.append(translate[label])\n",
        "\n",
        "\n"
      ],
      "metadata": {
        "id": "fnn6dut-6oEL"
      },
      "execution_count": 10,
      "outputs": []
    },
    {
      "cell_type": "code",
      "source": [
        "image_array[0][0][0]\n",
        "set(image_label)"
      ],
      "metadata": {
        "colab": {
          "base_uri": "https://localhost:8080/"
        },
        "id": "8AY_T4GMQAqz",
        "outputId": "8378bd50-3803-4013-cb2b-a422a24198a2"
      },
      "execution_count": 11,
      "outputs": [
        {
          "output_type": "execute_result",
          "data": {
            "text/plain": [
              "{0, 1, 2, 3, 4, 5, 6, 7, 8, 9, 10, 11, 12, 13, 14, 15, 16}"
            ]
          },
          "metadata": {},
          "execution_count": 11
        }
      ]
    },
    {
      "cell_type": "code",
      "source": [
        "import numpy as np\n",
        "\n",
        "image_array = np.array(image_array)\n",
        "image_label = np.array(image_label)\n",
        "\n",
        "print(image_array.shape)\n",
        "print(image_label.shape)"
      ],
      "metadata": {
        "colab": {
          "base_uri": "https://localhost:8080/"
        },
        "id": "FIx_v6srEH_8",
        "outputId": "2b18bf02-9940-43c4-e853-a417d7955279"
      },
      "execution_count": 12,
      "outputs": [
        {
          "output_type": "stream",
          "name": "stdout",
          "text": [
            "(1800, 256, 256, 3)\n",
            "(1800,)\n"
          ]
        }
      ]
    },
    {
      "cell_type": "code",
      "source": [
        "from sklearn.model_selection import train_test_split\n",
        "X_train, X_test, y_train, y_test = train_test_split(image_array, image_label, test_size = 0.2)"
      ],
      "metadata": {
        "id": "V5MWYLnsETgq"
      },
      "execution_count": 13,
      "outputs": []
    },
    {
      "cell_type": "code",
      "source": [
        "print(X_train.shape)\n",
        "print(X_test.shape)\n",
        "print(y_train.shape)\n",
        "print(y_test.shape)"
      ],
      "metadata": {
        "colab": {
          "base_uri": "https://localhost:8080/"
        },
        "id": "FcoGjG7iE2EW",
        "outputId": "1b8bef6b-7cbf-40fa-f9eb-f5adc8808412"
      },
      "execution_count": 14,
      "outputs": [
        {
          "output_type": "stream",
          "name": "stdout",
          "text": [
            "(1440, 256, 256, 3)\n",
            "(360, 256, 256, 3)\n",
            "(1440,)\n",
            "(360,)\n"
          ]
        }
      ]
    },
    {
      "cell_type": "code",
      "source": [
        "c = len(set(y_train))\n",
        "print(c)\n",
        "\n",
        "d = len(set(y_test))\n",
        "print(d)"
      ],
      "metadata": {
        "colab": {
          "base_uri": "https://localhost:8080/"
        },
        "id": "bAdpKK_CFDCn",
        "outputId": "e9525607-0bae-43dc-e21a-284effd5dd18"
      },
      "execution_count": 15,
      "outputs": [
        {
          "output_type": "stream",
          "name": "stdout",
          "text": [
            "17\n",
            "17\n"
          ]
        }
      ]
    },
    {
      "cell_type": "code",
      "source": [
        "# Build the model\n",
        "\n",
        "from tensorflow.keras.layers import Input, Conv2D, Dense, Flatten, GlobalMaxPooling2D, Dropout, BatchNormalization\n",
        "from tensorflow.keras.models import Model"
      ],
      "metadata": {
        "id": "WWIpQgR1FIuZ"
      },
      "execution_count": 16,
      "outputs": []
    },
    {
      "cell_type": "code",
      "source": [
        "X_train[0].shape\n",
        "\n",
        "i = Input(shape = X_train[0].shape)\n",
        "x = Conv2D(32, (3,3), strides = 2, activation = 'relu', padding = 'same')(i)\n",
        "x = BatchNormalization()(x)\n",
        "x = Conv2D(64, (3,3), strides =  2, activation = 'relu', padding = 'same')(x)\n",
        "x = BatchNormalization()(x)\n",
        "x = Conv2D(128, (3,3), strides = 2, activation = 'relu', padding = 'same')(x)\n",
        "x = BatchNormalization()(x)\n",
        "x = Conv2D(256, (3,3), strides = 2, activation = 'relu', padding = 'same')(x)\n",
        "x = BatchNormalization()(x)\n",
        "x = Conv2D(512, (3,3), strides = 2, activation = 'relu', padding = 'same')(x)\n",
        "x = BatchNormalization()(x)\n",
        "x = Conv2D(512, (3,3), strides = 2, activation = 'relu', padding = 'same')(x)\n",
        "x = BatchNormalization()(x)\n",
        "x = Conv2D(512, (3,3), strides = 2, activation = 'relu', padding = 'same')(x)\n",
        "x = BatchNormalization()(x)\n",
        "# x = Conv2D(512, (3,3), strides = 2, activation = 'relu', padding = 'same')(x)\n",
        "# x = BatchNormalization()(x)\n",
        "\n",
        "x = Flatten()(x)\n",
        "# x = GlobalMaxPooling2D()(x)\n",
        "\n",
        "x = Dropout(0.1)(x)\n",
        "x = Dense(512, activation = 'relu')(x)\n",
        "\n",
        "x = Dropout(0.1)(x)\n",
        "x = Dense(256, activation = 'relu')(x)\n",
        "\n",
        "# x = Dropout(0.2)(x)\n",
        "x = Dense(128, activation = 'relu')(x)\n",
        "\n",
        "# x = Dropout(0.2)(x)\n",
        "# x = Dense(64, activation = 'relu')(x)\n",
        "\n",
        "\n",
        "x = Dropout(0.2)(x)\n",
        "x = Dense(c, activation = 'softmax')(x)\n",
        "\n",
        "m = Model(i,x)\n"
      ],
      "metadata": {
        "id": "fLRZCBREFnW9"
      },
      "execution_count": 17,
      "outputs": []
    },
    {
      "cell_type": "code",
      "source": [
        "# compile and fit the model\n",
        "\n",
        "m.compile(optimizer = 'adam', loss = 'sparse_categorical_crossentropy', metrics = ['accuracy'])\n",
        "r = m.fit(X_train, y_train, validation_data = (X_test, y_test), epochs = 20)"
      ],
      "metadata": {
        "colab": {
          "base_uri": "https://localhost:8080/"
        },
        "id": "NAFx6nXPGAw9",
        "outputId": "b768d41d-60d8-4747-c0c5-70386e309968"
      },
      "execution_count": 18,
      "outputs": [
        {
          "output_type": "stream",
          "name": "stdout",
          "text": [
            "Epoch 1/20\n",
            "45/45 [==============================] - 14s 68ms/step - loss: 2.8594 - accuracy: 0.1069 - val_loss: 3.0069 - val_accuracy: 0.1111\n",
            "Epoch 2/20\n",
            "45/45 [==============================] - 2s 51ms/step - loss: 2.5253 - accuracy: 0.1868 - val_loss: 3.2138 - val_accuracy: 0.0889\n",
            "Epoch 3/20\n",
            "45/45 [==============================] - 2s 51ms/step - loss: 2.2695 - accuracy: 0.2465 - val_loss: 3.5323 - val_accuracy: 0.0694\n",
            "Epoch 4/20\n",
            "45/45 [==============================] - 2s 51ms/step - loss: 2.1006 - accuracy: 0.3056 - val_loss: 5.2275 - val_accuracy: 0.1278\n",
            "Epoch 5/20\n",
            "45/45 [==============================] - 2s 52ms/step - loss: 1.9761 - accuracy: 0.3160 - val_loss: 4.7786 - val_accuracy: 0.0972\n",
            "Epoch 6/20\n",
            "45/45 [==============================] - 2s 52ms/step - loss: 1.7561 - accuracy: 0.4187 - val_loss: 3.9565 - val_accuracy: 0.1000\n",
            "Epoch 7/20\n",
            "45/45 [==============================] - 2s 51ms/step - loss: 1.5170 - accuracy: 0.4847 - val_loss: 3.3164 - val_accuracy: 0.1111\n",
            "Epoch 8/20\n",
            "45/45 [==============================] - 2s 51ms/step - loss: 1.4890 - accuracy: 0.5118 - val_loss: 3.8348 - val_accuracy: 0.1472\n",
            "Epoch 9/20\n",
            "45/45 [==============================] - 2s 51ms/step - loss: 1.1974 - accuracy: 0.6125 - val_loss: 3.1574 - val_accuracy: 0.2444\n",
            "Epoch 10/20\n",
            "45/45 [==============================] - 2s 53ms/step - loss: 0.9586 - accuracy: 0.6715 - val_loss: 3.1050 - val_accuracy: 0.2694\n",
            "Epoch 11/20\n",
            "45/45 [==============================] - 2s 51ms/step - loss: 0.7242 - accuracy: 0.7611 - val_loss: 3.0644 - val_accuracy: 0.3111\n",
            "Epoch 12/20\n",
            "45/45 [==============================] - 2s 51ms/step - loss: 0.7016 - accuracy: 0.7597 - val_loss: 3.9594 - val_accuracy: 0.2444\n",
            "Epoch 13/20\n",
            "45/45 [==============================] - 2s 51ms/step - loss: 0.6321 - accuracy: 0.8069 - val_loss: 3.4849 - val_accuracy: 0.3306\n",
            "Epoch 14/20\n",
            "45/45 [==============================] - 2s 53ms/step - loss: 0.3791 - accuracy: 0.8785 - val_loss: 3.5267 - val_accuracy: 0.3528\n",
            "Epoch 15/20\n",
            "45/45 [==============================] - 2s 52ms/step - loss: 0.4288 - accuracy: 0.8618 - val_loss: 4.2084 - val_accuracy: 0.3250\n",
            "Epoch 16/20\n",
            "45/45 [==============================] - 2s 51ms/step - loss: 0.3857 - accuracy: 0.8778 - val_loss: 6.0865 - val_accuracy: 0.1028\n",
            "Epoch 17/20\n",
            "45/45 [==============================] - 2s 52ms/step - loss: 0.4019 - accuracy: 0.8646 - val_loss: 4.7539 - val_accuracy: 0.1694\n",
            "Epoch 18/20\n",
            "45/45 [==============================] - 2s 51ms/step - loss: 0.2231 - accuracy: 0.9319 - val_loss: 3.7746 - val_accuracy: 0.3056\n",
            "Epoch 19/20\n",
            "45/45 [==============================] - 2s 54ms/step - loss: 0.2488 - accuracy: 0.9236 - val_loss: 3.7864 - val_accuracy: 0.3472\n",
            "Epoch 20/20\n",
            "45/45 [==============================] - 2s 52ms/step - loss: 0.1929 - accuracy: 0.9458 - val_loss: 3.4729 - val_accuracy: 0.3528\n"
          ]
        }
      ]
    },
    {
      "cell_type": "code",
      "source": [
        "# Data Augmentation\n",
        "\n",
        "batch_size = 24\n",
        "data_generator = tf.keras.preprocessing.image.ImageDataGenerator(width_shift_range = 0.1, height_shift_range = 0.1)\n",
        "train_generator = data_generator.flow(image_array, image_label, batch_size)\n",
        "steps_per_epoch = image_array.shape[0] // batch_size\n",
        "\n",
        "r = m.fit_generator(train_generator, validation_data = (X_test, y_test), steps_per_epoch = steps_per_epoch, epochs = 20)"
      ],
      "metadata": {
        "colab": {
          "base_uri": "https://localhost:8080/"
        },
        "id": "1Q2SvCj1IIm2",
        "outputId": "bf541608-6497-4f3f-c88a-c99553323f0b"
      },
      "execution_count": 19,
      "outputs": [
        {
          "output_type": "stream",
          "name": "stderr",
          "text": [
            "/usr/local/lib/python3.7/dist-packages/ipykernel_launcher.py:8: UserWarning: `Model.fit_generator` is deprecated and will be removed in a future version. Please use `Model.fit`, which supports generators.\n",
            "  \n"
          ]
        },
        {
          "output_type": "stream",
          "name": "stdout",
          "text": [
            "Epoch 1/20\n",
            "75/75 [==============================] - 22s 290ms/step - loss: 2.2320 - accuracy: 0.3456 - val_loss: 2.4973 - val_accuracy: 0.2778\n",
            "Epoch 2/20\n",
            "75/75 [==============================] - 23s 312ms/step - loss: 1.7586 - accuracy: 0.4311 - val_loss: 2.5434 - val_accuracy: 0.3361\n",
            "Epoch 3/20\n",
            "75/75 [==============================] - 22s 290ms/step - loss: 1.5889 - accuracy: 0.5028 - val_loss: 1.7843 - val_accuracy: 0.4528\n",
            "Epoch 4/20\n",
            "75/75 [==============================] - 22s 288ms/step - loss: 1.4234 - accuracy: 0.5439 - val_loss: 1.3042 - val_accuracy: 0.6000\n",
            "Epoch 5/20\n",
            "75/75 [==============================] - 22s 292ms/step - loss: 1.2857 - accuracy: 0.5894 - val_loss: 1.4942 - val_accuracy: 0.5333\n",
            "Epoch 6/20\n",
            "75/75 [==============================] - 23s 311ms/step - loss: 1.2841 - accuracy: 0.5967 - val_loss: 1.5529 - val_accuracy: 0.5306\n",
            "Epoch 7/20\n",
            "75/75 [==============================] - 22s 294ms/step - loss: 1.1642 - accuracy: 0.6317 - val_loss: 0.9846 - val_accuracy: 0.6806\n",
            "Epoch 8/20\n",
            "75/75 [==============================] - 22s 290ms/step - loss: 1.1309 - accuracy: 0.6383 - val_loss: 1.1166 - val_accuracy: 0.6417\n",
            "Epoch 9/20\n",
            "75/75 [==============================] - 22s 289ms/step - loss: 1.0258 - accuracy: 0.6767 - val_loss: 1.2068 - val_accuracy: 0.6750\n",
            "Epoch 10/20\n",
            "75/75 [==============================] - 23s 309ms/step - loss: 0.9358 - accuracy: 0.7044 - val_loss: 0.5682 - val_accuracy: 0.8250\n",
            "Epoch 11/20\n",
            "75/75 [==============================] - 22s 289ms/step - loss: 0.8386 - accuracy: 0.7333 - val_loss: 0.6032 - val_accuracy: 0.8083\n",
            "Epoch 12/20\n",
            "75/75 [==============================] - 22s 290ms/step - loss: 0.8574 - accuracy: 0.7261 - val_loss: 0.5272 - val_accuracy: 0.8556\n",
            "Epoch 13/20\n",
            "75/75 [==============================] - 22s 288ms/step - loss: 0.7970 - accuracy: 0.7500 - val_loss: 0.3543 - val_accuracy: 0.8944\n",
            "Epoch 14/20\n",
            "75/75 [==============================] - 22s 289ms/step - loss: 0.7609 - accuracy: 0.7644 - val_loss: 0.6127 - val_accuracy: 0.8083\n",
            "Epoch 15/20\n",
            "75/75 [==============================] - 23s 310ms/step - loss: 0.6855 - accuracy: 0.7883 - val_loss: 0.4314 - val_accuracy: 0.8694\n",
            "Epoch 16/20\n",
            "75/75 [==============================] - 22s 291ms/step - loss: 0.6842 - accuracy: 0.7811 - val_loss: 1.2658 - val_accuracy: 0.6750\n",
            "Epoch 17/20\n",
            "75/75 [==============================] - 22s 289ms/step - loss: 0.6105 - accuracy: 0.8072 - val_loss: 0.9526 - val_accuracy: 0.6833\n",
            "Epoch 18/20\n",
            "75/75 [==============================] - 22s 289ms/step - loss: 0.6496 - accuracy: 0.7961 - val_loss: 0.8201 - val_accuracy: 0.7333\n",
            "Epoch 19/20\n",
            "75/75 [==============================] - 22s 289ms/step - loss: 0.5260 - accuracy: 0.8317 - val_loss: 0.1756 - val_accuracy: 0.9278\n",
            "Epoch 20/20\n",
            "75/75 [==============================] - 23s 309ms/step - loss: 0.4517 - accuracy: 0.8639 - val_loss: 0.1892 - val_accuracy: 0.9611\n"
          ]
        }
      ]
    },
    {
      "cell_type": "code",
      "source": [
        "import matplotlib.pyplot as plt\n",
        "plt.plot(r.history['loss'], label = 'loss')\n",
        "plt.plot(r.history['val_loss'], label = 'val_loss')\n",
        "plt.legend()"
      ],
      "metadata": {
        "colab": {
          "base_uri": "https://localhost:8080/",
          "height": 282
        },
        "id": "qntSE6c8VRpl",
        "outputId": "7aecb64a-3f41-4697-f199-28391edd7e62"
      },
      "execution_count": 20,
      "outputs": [
        {
          "output_type": "execute_result",
          "data": {
            "text/plain": [
              "<matplotlib.legend.Legend at 0x7f7797248c90>"
            ]
          },
          "metadata": {},
          "execution_count": 20
        },
        {
          "output_type": "display_data",
          "data": {
            "text/plain": [
              "<Figure size 432x288 with 1 Axes>"
            ],
            "image/png": "[encoded data removed]"
          },
          "metadata": {
            "needs_background": "light"
          }
        }
      ]
    },
    {
      "cell_type": "code",
      "source": [
        "plt.plot(r.history['accuracy'], label = 'accuracy')\n",
        "plt.plot(r.history['val_accuracy'], label = 'val_accuracy')\n",
        "plt.legend()"
      ],
      "metadata": {
        "colab": {
          "base_uri": "https://localhost:8080/",
          "height": 282
        },
        "id": "G5ylmTz6Wqj4",
        "outputId": "a6c40119-4a6d-48ca-abac-3a17ffb05b88"
      },
      "execution_count": 21,
      "outputs": [
        {
          "output_type": "execute_result",
          "data": {
            "text/plain": [
              "<matplotlib.legend.Legend at 0x7f77972c5a10>"
            ]
          },
          "metadata": {},
          "execution_count": 21
        },
        {
          "output_type": "display_data",
          "data": {
            "text/plain": [
              "<Figure size 432x288 with 1 Axes>"
            ],
            "image/png": "[encoded data removed]"
          },
          "metadata": {
            "needs_background": "light"
          }
        }
      ]
    },
    {
      "cell_type": "code",
      "source": [
        "y_test_pred = m.predict(X_test)"
      ],
      "metadata": {
        "id": "Zb3zqlEmXMpn"
      },
      "execution_count": 22,
      "outputs": []
    },
    {
      "cell_type": "code",
      "source": [
        "# y_test"
      ],
      "metadata": {
        "id": "k1TEildzoUNf"
      },
      "execution_count": 23,
      "outputs": []
    },
    {
      "cell_type": "code",
      "source": [
        "y_test_pred"
      ],
      "metadata": {
        "colab": {
          "base_uri": "https://localhost:8080/"
        },
        "id": "KdwbvsG7mQNQ",
        "outputId": "f5ba5167-63aa-46b7-81cb-f1d2dbad4cd8"
      },
      "execution_count": 24,
      "outputs": [
        {
          "output_type": "execute_result",
          "data": {
            "text/plain": [
              "array([[8.3329314e-06, 8.8748534e-04, 4.5748328e-07, ..., 2.5445934e-05,\n",
              "        3.5866399e-04, 4.4611199e-03],\n",
              "       [9.5981705e-01, 4.3699474e-05, 1.0520406e-06, ..., 1.8799983e-05,\n",
              "        1.2883671e-05, 3.9461925e-06],\n",
              "       [1.6783135e-07, 4.3302542e-05, 3.4660868e-09, ..., 3.6207119e-08,\n",
              "        1.0511695e-05, 9.8778069e-01],\n",
              "       ...,\n",
              "       [5.7269990e-08, 2.2387653e-06, 2.1262278e-07, ..., 7.1082226e-08,\n",
              "        1.4315397e-04, 9.7428465e-06],\n",
              "       [1.3808288e-04, 8.1640437e-06, 7.2043240e-03, ..., 1.5509329e-03,\n",
              "        2.1811877e-04, 4.9751901e-07],\n",
              "       [5.3237218e-06, 2.4465234e-09, 3.5042042e-08, ..., 7.1664331e-08,\n",
              "        7.2924955e-10, 6.4620226e-11]], dtype=float32)"
            ]
          },
          "metadata": {},
          "execution_count": 24
        }
      ]
    },
    {
      "cell_type": "code",
      "source": [
        "y_test_pred_decoded = []\n",
        "\n",
        "for i in range(0,len(y_test_pred)):\n",
        "  for j in range(0,17):\n",
        "    if (y_test_pred[i][j]) == max(y_test_pred[i]):\n",
        "      y_test_pred_decoded.append(j)\n",
        "\n",
        "# y_test_pred_decoded"
      ],
      "metadata": {
        "id": "onC7_-FcmS69"
      },
      "execution_count": 25,
      "outputs": []
    },
    {
      "cell_type": "code",
      "source": [
        "a = [1,2,3,4,5]\n",
        "max(a)"
      ],
      "metadata": {
        "colab": {
          "base_uri": "https://localhost:8080/"
        },
        "id": "qmSFlnyGm7JN",
        "outputId": "7bd8a062-57ef-4434-87fb-6c534d1cf78d"
      },
      "execution_count": 26,
      "outputs": [
        {
          "output_type": "execute_result",
          "data": {
            "text/plain": [
              "5"
            ]
          },
          "metadata": {},
          "execution_count": 26
        }
      ]
    },
    {
      "cell_type": "code",
      "source": [
        "import sklearn.metrics as metrics\n",
        "accuracy = metrics.accuracy_score(y_test, y_test_pred_decoded)\n",
        "error = 1 - accuracy\n",
        "precision = metrics.precision_score(y_test, y_test_pred_decoded, average = 'weighted')\n",
        "recall = metrics.recall_score(y_test, y_test_pred_decoded, average = 'weighted')\n",
        "f1 = metrics.f1_score(y_test, y_test_pred_decoded, average = 'weighted')\n",
        "cm = metrics.confusion_matrix(y_test, y_test_pred_decoded)\n",
        "\n",
        "print('accuracy:', accuracy)\n",
        "print('error:', error)\n",
        "print('precision:', precision)\n",
        "print('recall:', recall)\n",
        "print('f1:', f1)\n",
        "\n",
        "print('\\n')\n",
        "print('Confusion Matrix')\n",
        "print('\\n')\n",
        "print(cm)\n",
        "\n",
        "from sklearn.metrics import classification_report\n",
        "print('\\n')\n",
        "print(classification_report(y_test, y_test_pred_decoded))\n",
        "      \n"
      ],
      "metadata": {
        "colab": {
          "base_uri": "https://localhost:8080/"
        },
        "id": "oVi3Mb-6mowS",
        "outputId": "5eb6b07c-00c3-4c47-dc3d-9dc81eecdf87"
      },
      "execution_count": 27,
      "outputs": [
        {
          "output_type": "stream",
          "name": "stdout",
          "text": [
            "accuracy: 0.9611111111111111\n",
            "error: 0.03888888888888886\n",
            "precision: 0.9632675123295356\n",
            "recall: 0.9611111111111111\n",
            "f1: 0.9606912820359246\n",
            "\n",
            "\n",
            "Confusion Matrix\n",
            "\n",
            "\n",
            "[[41  0  0  0  0  0  0  0  0  0  0  0  0  0  0  0  0]\n",
            " [ 0 20  0  0  0  0  0  0  0  0  0  0  0  0  0  1  0]\n",
            " [ 0  0 17  0  0  0  0  0  0  0  0  0  0  0  0  0  0]\n",
            " [ 0  0  0 21  0  0  0  0  0  0  0  0  0  0  0  0  0]\n",
            " [ 0  0  0  1 20  0  0  0  0  0  0  0  0  0  0  0  0]\n",
            " [ 0  0  0  0  0 19  0  0  0  0  0  0  0  0  0  0  0]\n",
            " [ 0  0  0  0  0  0 18  0  0  0  0  0  1  0  0  0  0]\n",
            " [ 0  0  0  0  0  0  0 17  0  0  0  0  0  0  0  0  0]\n",
            " [ 0  0  0  0  0  0  0  0 22  0  0  0  0  0  0  0  0]\n",
            " [ 0  0  0  0  0  0  1  0  0 19  0  0  0  0  0  0  0]\n",
            " [ 0  0  0  1  0  0  0  0  0  0 19  0  0  0  0  0  0]\n",
            " [ 0  0  0  0  0  0  0  0  0  0  0 21  0  0  0  0  0]\n",
            " [ 0  0  0  0  0  0  0  0  0  0  0  0 17  0  0  0  0]\n",
            " [ 0  1  0  0  0  0  0  0  0  0  0  0  0 25  0  0  0]\n",
            " [ 1  0  0  0  0  0  0  2  0  0  0  0  0  0 13  0  0]\n",
            " [ 0  0  0  0  0  0  0  0  0  0  0  0  0  0  0 22  1]\n",
            " [ 0  1  0  0  0  3  0  0  0  0  0  0  0  0  0  0 15]]\n",
            "\n",
            "\n",
            "              precision    recall  f1-score   support\n",
            "\n",
            "           0       0.98      1.00      0.99        41\n",
            "           1       0.91      0.95      0.93        21\n",
            "           2       1.00      1.00      1.00        17\n",
            "           3       0.91      1.00      0.95        21\n",
            "           4       1.00      0.95      0.98        21\n",
            "           5       0.86      1.00      0.93        19\n",
            "           6       0.95      0.95      0.95        19\n",
            "           7       0.89      1.00      0.94        17\n",
            "           8       1.00      1.00      1.00        22\n",
            "           9       1.00      0.95      0.97        20\n",
            "          10       1.00      0.95      0.97        20\n",
            "          11       1.00      1.00      1.00        21\n",
            "          12       0.94      1.00      0.97        17\n",
            "          13       1.00      0.96      0.98        26\n",
            "          14       1.00      0.81      0.90        16\n",
            "          15       0.96      0.96      0.96        23\n",
            "          16       0.94      0.79      0.86        19\n",
            "\n",
            "    accuracy                           0.96       360\n",
            "   macro avg       0.96      0.96      0.96       360\n",
            "weighted avg       0.96      0.96      0.96       360\n",
            "\n"
          ]
        }
      ]
    },
    {
      "cell_type": "code",
      "source": [
        "# Test one image\n",
        "\n",
        "img = load_img('/content/drive/MyDrive/Celebrity Faces Dataset/Angelina Jolie/094_c255b703.jpg', target_size = (256,256))\n",
        "img = img_to_array(img)\n",
        "img = img/255\n",
        "img\n",
        "\n",
        "X_test.shape\n",
        "img.shape\n",
        "\n",
        "img = np.expand_dims(img, axis = 0)\n",
        "img.shape\n",
        "\n",
        "pred = m.predict(img)\n",
        "pred\n",
        "\n",
        "for i in range(0,len(pred)):\n",
        "  for j in range(0,17):\n",
        "    if pred[i][j] == max(pred[i]):\n",
        "      result = j\n",
        "\n",
        "reverse_translate = {0: 'Scarlett Johansson', 1: 'Tom Cruise', 2: 'Megan Fox', 3: 'Nicole Kidman', 4: 'Sandra Bullock', 5: 'Robert Downey Jr', 6: 'Leonardo DiCaprio', 7: 'Natalie Portman',\n",
        "             8: 'Will Smith', 9: 'Tom Hanks', 10: 'Kate Winslet', 11: 'Angelina Jolie', 12: 'Brad Pitt', 13: 'Denzel Washington', 14: 'Jennifer Lawrence', 15: 'Johnny Depp', 16: 'Hugh Jackman'}\n",
        "\n",
        "print('The image is that of', reverse_translate[result])"
      ],
      "metadata": {
        "colab": {
          "base_uri": "https://localhost:8080/"
        },
        "id": "3qTSyAWuqD2y",
        "outputId": "a7b9e051-4ffb-4b51-f722-795582df6efa"
      },
      "execution_count": 28,
      "outputs": [
        {
          "output_type": "stream",
          "name": "stdout",
          "text": [
            "The image is that of Angelina Jolie\n"
          ]
        }
      ]
    },
    {
      "cell_type": "code",
      "source": [
        ""
      ],
      "metadata": {
        "id": "5lMZRGAErOKF"
      },
      "execution_count": 28,
      "outputs": []
    }
  ]
}