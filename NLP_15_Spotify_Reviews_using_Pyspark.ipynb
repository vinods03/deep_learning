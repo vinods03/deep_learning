{
  "nbformat": 4,
  "nbformat_minor": 0,
  "metadata": {
    "colab": {
      "name": "NLP -15 Spotify Reviews using Pyspark.ipynb",
      "provenance": [],
      "collapsed_sections": [],
      "authorship_tag": "ABX9TyPRUi0UAVYGrlLmA9FBAEn2",
      "include_colab_link": true
    },
    "kernelspec": {
      "name": "python3",
      "display_name": "Python 3"
    },
    "language_info": {
      "name": "python"
    }
  },
  "cells": [
    {
      "cell_type": "markdown",
      "metadata": {
        "id": "view-in-github",
        "colab_type": "text"
      },
      "source": [
        "<a href=\"https://colab.research.google.com/github/vinods03/deep_learning/blob/main/NLP_15_Spotify_Reviews_using_Pyspark.ipynb\" target=\"_parent\"><img src=\"https://colab.research.google.com/assets/colab-badge.svg\" alt=\"Open In Colab\"/></a>"
      ]
    },
    {
      "cell_type": "code",
      "execution_count": 1,
      "metadata": {
        "colab": {
          "base_uri": "https://localhost:8080/"
        },
        "id": "AfxBRp7DuPzU",
        "outputId": "8f731225-a8e4-4540-c942-79f7fe816e0c"
      },
      "outputs": [
        {
          "output_type": "stream",
          "name": "stdout",
          "text": [
            "Looking in indexes: https://pypi.org/simple, https://us-python.pkg.dev/colab-wheels/public/simple/\n",
            "Collecting pyspark\n",
            "  Downloading pyspark-3.3.0.tar.gz (281.3 MB)\n",
            "\u001b[K     |████████████████████████████████| 281.3 MB 47 kB/s \n",
            "\u001b[?25hCollecting py4j==0.10.9.5\n",
            "  Downloading py4j-0.10.9.5-py2.py3-none-any.whl (199 kB)\n",
            "\u001b[K     |████████████████████████████████| 199 kB 35.5 MB/s \n",
            "\u001b[?25hBuilding wheels for collected packages: pyspark\n",
            "  Building wheel for pyspark (setup.py) ... \u001b[?25l\u001b[?25hdone\n",
            "  Created wheel for pyspark: filename=pyspark-3.3.0-py2.py3-none-any.whl size=281764026 sha256=0202f3e20803ddce6406ac3b0ad0c43b534c7a02746063cd9c1e88b847d90097\n",
            "  Stored in directory: /root/.cache/pip/wheels/7a/8e/1b/f73a52650d2e5f337708d9f6a1750d451a7349a867f928b885\n",
            "Successfully built pyspark\n",
            "Installing collected packages: py4j, pyspark\n",
            "Successfully installed py4j-0.10.9.5 pyspark-3.3.0\n"
          ]
        }
      ],
      "source": [
        "pip install pyspark"
      ]
    },
    {
      "cell_type": "code",
      "source": [
        "from pyspark.sql import SparkSession"
      ],
      "metadata": {
        "id": "PvCSzS6PuldK"
      },
      "execution_count": 2,
      "outputs": []
    },
    {
      "cell_type": "code",
      "source": [
        "spark = SparkSession.builder.appName('Spotify Reviews').getOrCreate()"
      ],
      "metadata": {
        "id": "eVkVGIFbvKe9"
      },
      "execution_count": 3,
      "outputs": []
    },
    {
      "cell_type": "code",
      "source": [
        "from google.colab import drive\n",
        "drive.mount('/content/drive')"
      ],
      "metadata": {
        "colab": {
          "base_uri": "https://localhost:8080/"
        },
        "id": "U94KUWJJvh8Z",
        "outputId": "fe194060-83f2-4aa7-f2dc-14d43659370b"
      },
      "execution_count": 4,
      "outputs": [
        {
          "output_type": "stream",
          "name": "stdout",
          "text": [
            "Mounted at /content/drive\n"
          ]
        }
      ]
    },
    {
      "cell_type": "code",
      "source": [
        "df = spark.read.csv('/content/drive/MyDrive/spotify_reviews.csv', header = True)"
      ],
      "metadata": {
        "id": "-BU3JAwJv48B"
      },
      "execution_count": 5,
      "outputs": []
    },
    {
      "cell_type": "code",
      "source": [
        "df = df[['Review','Rating','Total_thumbsup']]"
      ],
      "metadata": {
        "id": "Y4QeKUoZ7e8v"
      },
      "execution_count": 6,
      "outputs": []
    },
    {
      "cell_type": "code",
      "source": [
        "df.show()"
      ],
      "metadata": {
        "colab": {
          "base_uri": "https://localhost:8080/"
        },
        "id": "-3YP9nlUzwNi",
        "outputId": "0be22628-4610-4baa-835d-b976240fe921"
      },
      "execution_count": 7,
      "outputs": [
        {
          "output_type": "stream",
          "name": "stdout",
          "text": [
            "+--------------------+------+--------------+\n",
            "|              Review|Rating|Total_thumbsup|\n",
            "+--------------------+------+--------------+\n",
            "|Great music servi...|     5|             2|\n",
            "|Please ignore pre...|     5|             1|\n",
            "|\"This pop-up \"\"Ge...|     4|             0|\n",
            "|Really buggy and ...|     1|             1|\n",
            "|Dear Spotify why ...|     1|             1|\n",
            "|The player contro...|     3|             7|\n",
            "|I love the select...|     5|             0|\n",
            "|\"Still extremely ...|     3|            16|\n",
            "|It's a great app ...|     5|             0|\n",
            "|I'm deleting this...|     1|           318|\n",
            "|Love Spotify, and...|     2|             1|\n",
            "|Can't play Spotif...|     1|             1|\n",
            "|I had amazon prem...|     1|             7|\n",
            "|Worst app always ...|     1|             1|\n",
            "|i hav any music t...|     5|             0|\n",
            "|Improve the IA to...|     5|             0|\n",
            "|Android user - th...|     2|             0|\n",
            "|I can't listen to...|     3|             0|\n",
            "|It always crashin...|     1|             0|\n",
            "|I know ads are th...|     1|             0|\n",
            "+--------------------+------+--------------+\n",
            "only showing top 20 rows\n",
            "\n"
          ]
        }
      ]
    },
    {
      "cell_type": "code",
      "source": [
        "df.describe()"
      ],
      "metadata": {
        "colab": {
          "base_uri": "https://localhost:8080/"
        },
        "id": "JXujOtD3zlCg",
        "outputId": "989a82de-bdde-4195-ed9f-2dd2620edb21"
      },
      "execution_count": 8,
      "outputs": [
        {
          "output_type": "execute_result",
          "data": {
            "text/plain": [
              "DataFrame[summary: string, Review: string, Rating: string, Total_thumbsup: string]"
            ]
          },
          "metadata": {},
          "execution_count": 8
        }
      ]
    },
    {
      "cell_type": "code",
      "source": [
        "# this is not required actually because either we are assigning different values to the rating and we are not using thumbsup / length\n",
        "\n",
        "from pyspark.sql.types import IntegerType\n",
        "df = df.withColumn('Rating_int',df['Rating'].cast(IntegerType()))\n",
        "df = df.withColumn('Total_thumbsup_int',df['Total_thumbsup'].cast(IntegerType()))\n",
        "\n",
        "from pyspark.sql.functions import length\n",
        "df = df.withColumn('length', length(df['Review'])) "
      ],
      "metadata": {
        "id": "uSNaarltz4y2"
      },
      "execution_count": 9,
      "outputs": []
    },
    {
      "cell_type": "code",
      "source": [
        "df = df.drop('Rating','Total_thumbsup')"
      ],
      "metadata": {
        "id": "tLGKaje69RU3"
      },
      "execution_count": 10,
      "outputs": []
    },
    {
      "cell_type": "code",
      "source": [
        "df.show()"
      ],
      "metadata": {
        "id": "T-ZA69TF29jz",
        "colab": {
          "base_uri": "https://localhost:8080/"
        },
        "outputId": "cf35b0e8-b02a-461f-823c-4beb29b7587d"
      },
      "execution_count": 11,
      "outputs": [
        {
          "output_type": "stream",
          "name": "stdout",
          "text": [
            "+--------------------+----------+------------------+------+\n",
            "|              Review|Rating_int|Total_thumbsup_int|length|\n",
            "+--------------------+----------+------------------+------+\n",
            "|Great music servi...|         5|                 2|   112|\n",
            "|Please ignore pre...|         5|                 1|    86|\n",
            "|\"This pop-up \"\"Ge...|         4|                 0|   110|\n",
            "|Really buggy and ...|         1|                 1|    47|\n",
            "|Dear Spotify why ...|         1|                 1|   100|\n",
            "|The player contro...|         3|                 7|   114|\n",
            "|I love the select...|         5|                 0|    83|\n",
            "|\"Still extremely ...|         3|                16|   356|\n",
            "|It's a great app ...|         5|                 0|   210|\n",
            "|I'm deleting this...|         1|               318|   443|\n",
            "|Love Spotify, and...|         2|                 1|   293|\n",
            "|Can't play Spotif...|         1|                 1|    31|\n",
            "|I had amazon prem...|         1|                 7|   430|\n",
            "|Worst app always ...|         1|                 1|    70|\n",
            "|i hav any music t...|         5|                 0|    40|\n",
            "|Improve the IA to...|         5|                 0|   160|\n",
            "|Android user - th...|         2|                 0|   127|\n",
            "|I can't listen to...|         3|                 0|   111|\n",
            "|It always crashin...|         1|                 0|    80|\n",
            "|I know ads are th...|         1|                 0|   218|\n",
            "+--------------------+----------+------------------+------+\n",
            "only showing top 20 rows\n",
            "\n"
          ]
        }
      ]
    },
    {
      "cell_type": "code",
      "source": [
        "df.count()"
      ],
      "metadata": {
        "colab": {
          "base_uri": "https://localhost:8080/"
        },
        "id": "iPd34FU06og8",
        "outputId": "53f9c8f6-5343-4e5f-9047-fa3dc750dabf"
      },
      "execution_count": 12,
      "outputs": [
        {
          "output_type": "execute_result",
          "data": {
            "text/plain": [
              "61594"
            ]
          },
          "metadata": {},
          "execution_count": 12
        }
      ]
    },
    {
      "cell_type": "code",
      "source": [
        "df = df.dropna()"
      ],
      "metadata": {
        "id": "VMM56um86q-x"
      },
      "execution_count": 13,
      "outputs": []
    },
    {
      "cell_type": "code",
      "source": [
        "df.count()"
      ],
      "metadata": {
        "colab": {
          "base_uri": "https://localhost:8080/"
        },
        "id": "5UNFGGyO6thL",
        "outputId": "f58f103a-6ec2-4112-83c4-878b1eb91f08"
      },
      "execution_count": 14,
      "outputs": [
        {
          "output_type": "execute_result",
          "data": {
            "text/plain": [
              "60716"
            ]
          },
          "metadata": {},
          "execution_count": 14
        }
      ]
    },
    {
      "cell_type": "code",
      "source": [
        "from pyspark.ml.feature import Tokenizer, RegexTokenizer, StopWordsRemover, HashingTF, IDF, CountVectorizer, StringIndexer, VectorAssembler"
      ],
      "metadata": {
        "id": "GN-GxLpIy0aA"
      },
      "execution_count": 15,
      "outputs": []
    },
    {
      "cell_type": "code",
      "source": [
        "tokenizer = Tokenizer(inputCol = 'Review', outputCol = 'words')"
      ],
      "metadata": {
        "id": "ktHiHYEZzOaG"
      },
      "execution_count": 16,
      "outputs": []
    },
    {
      "cell_type": "code",
      "source": [
        "remover = StopWordsRemover(inputCol = 'words', outputCol = 'required_words')"
      ],
      "metadata": {
        "id": "iMwgE3u114hd"
      },
      "execution_count": 17,
      "outputs": []
    },
    {
      "cell_type": "code",
      "source": [
        "vectorizer = CountVectorizer(inputCol = 'required_words', outputCol = 'c_vec')"
      ],
      "metadata": {
        "id": "fuYtl9VG2Eq4"
      },
      "execution_count": 18,
      "outputs": []
    },
    {
      "cell_type": "code",
      "source": [
        "idf = IDF(inputCol = 'c_vec', outputCol = 'tf_idf')"
      ],
      "metadata": {
        "id": "8qNWnjJf2Pdb"
      },
      "execution_count": 19,
      "outputs": []
    },
    {
      "cell_type": "code",
      "source": [
        "assembler = VectorAssembler(inputCols = ['tf_idf'], outputCol = 'features')"
      ],
      "metadata": {
        "id": "oEqBiEqE2rO0"
      },
      "execution_count": 20,
      "outputs": []
    },
    {
      "cell_type": "code",
      "source": [
        "from pyspark.ml import Pipeline"
      ],
      "metadata": {
        "id": "7Idh_yag3cji"
      },
      "execution_count": 21,
      "outputs": []
    },
    {
      "cell_type": "code",
      "source": [
        "pipeline = Pipeline(stages = [tokenizer, remover, vectorizer, idf, assembler])"
      ],
      "metadata": {
        "id": "Qad4tSgb3rla"
      },
      "execution_count": 22,
      "outputs": []
    },
    {
      "cell_type": "code",
      "source": [
        "fit_data_in_pipeline = pipeline.fit(df)"
      ],
      "metadata": {
        "id": "aQBstyOk35Sf"
      },
      "execution_count": 23,
      "outputs": []
    },
    {
      "cell_type": "code",
      "source": [
        "transformed_df = fit_data_in_pipeline.transform(df)"
      ],
      "metadata": {
        "id": "HvU9vaJK4Bb0"
      },
      "execution_count": 24,
      "outputs": []
    },
    {
      "cell_type": "code",
      "source": [
        "transformed_df.show()"
      ],
      "metadata": {
        "colab": {
          "base_uri": "https://localhost:8080/"
        },
        "id": "4k5Wfod64MXp",
        "outputId": "944e667c-30ee-452f-c5d2-e072fd00a4b2"
      },
      "execution_count": 25,
      "outputs": [
        {
          "output_type": "stream",
          "name": "stdout",
          "text": [
            "+--------------------+----------+------------------+------+--------------------+--------------------+--------------------+--------------------+--------------------+\n",
            "|              Review|Rating_int|Total_thumbsup_int|length|               words|      required_words|               c_vec|              tf_idf|            features|\n",
            "+--------------------+----------+------------------+------+--------------------+--------------------+--------------------+--------------------+--------------------+\n",
            "|Great music servi...|         5|                 2|   112|[great, music, se...|[great, music, se...|(55344,[0,1,13,31...|(55344,[0,1,13,31...|(55344,[0,1,13,31...|\n",
            "|Please ignore pre...|         5|                 1|    86|[please, ignore, ...|[please, ignore, ...|(55344,[0,25,71,2...|(55344,[0,25,71,2...|(55344,[0,25,71,2...|\n",
            "|\"This pop-up \"\"Ge...|         4|                 0|   110|[\"this, pop-up, \"...|[\"this, pop-up, \"...|(55344,[3,14,21,2...|(55344,[3,14,21,2...|(55344,[3,14,21,2...|\n",
            "|Really buggy and ...|         1|                 1|    47|[really, buggy, a...|[really, buggy, t...|(55344,[18,19,181...|(55344,[18,19,181...|(55344,[18,19,181...|\n",
            "|Dear Spotify why ...|         1|                 1|   100|[dear, spotify, w...|[dear, spotify, g...|(55344,[2,3,14,70...|(55344,[2,3,14,70...|(55344,[2,3,14,70...|\n",
            "|The player contro...|         3|                 7|   114|[the, player, con...|[player, controls...|(55344,[0,17,66,1...|(55344,[0,17,66,1...|(55344,[0,17,66,1...|\n",
            "|I love the select...|         5|                 0|    83|[i, love, the, se...|[love, selection,...|(55344,[4,8,27,10...|(55344,[4,8,27,10...|(55344,[4,8,27,10...|\n",
            "|\"Still extremely ...|         3|                16|   356|[\"still, extremel...|[\"still, extremel...|(55344,[3,7,25,29...|(55344,[3,7,25,29...|(55344,[3,7,25,29...|\n",
            "|It's a great app ...|         5|                 0|   210|[it's, a, great, ...|[great, app, best...|(55344,[0,1,2,5,1...|(55344,[0,1,2,5,1...|(55344,[0,1,2,5,1...|\n",
            "|I'm deleting this...|         1|               318|   443|[i'm, deleting, t...|[deleting, app,, ...|(55344,[0,1,7,12,...|(55344,[0,1,7,12,...|(55344,[0,1,7,12,...|\n",
            "|Love Spotify, and...|         2|                 1|   293|[love, spotify,, ...|[love, spotify,, ...|(55344,[0,8,24,40...|(55344,[0,8,24,40...|(55344,[0,8,24,40...|\n",
            "|Can't play Spotif...|         1|                 1|    31|[can't, play, spo...|[play, spotify, w...|(55344,[3,5,315],...|(55344,[3,5,315],...|(55344,[3,5,315],...|\n",
            "|I had amazon prem...|         1|                 7|   430|[i, had, amazon, ...|[amazon, premium,...|(55344,[1,3,5,6,7...|(55344,[1,3,5,6,7...|(55344,[1,3,5,6,7...|\n",
            "|Worst app always ...|         1|                 1|    70|[worst, app, alwa...|[worst, app, alwa...|(55344,[0,4,48,62...|(55344,[0,4,48,62...|(55344,[0,4,48,62...|\n",
            "|i hav any music t...|         5|                 0|    40|[i, hav, any, mus...|[hav, music, like...|(55344,[1,7,6005,...|(55344,[1,7,6005,...|(55344,[1,7,6005,...|\n",
            "|Improve the IA to...|         5|                 0|   160|[improve, the, ia...|[improve, ia, rec...|(55344,[1,2,3,21,...|(55344,[1,2,3,21,...|(55344,[1,2,3,21,...|\n",
            "|Android user - th...|         2|                 0|   127|[android, user, -...|[android, user, -...|(55344,[25,70,114...|(55344,[25,70,114...|(55344,[25,70,114...|\n",
            "|I can't listen to...|         3|                 0|   111|[i, can't, listen...|[listen, download...|(55344,[6,16,74,3...|(55344,[6,16,74,3...|(55344,[6,16,74,3...|\n",
            "|It always crashin...|         1|                 0|    80|[it, always, cras...|[always, crashing...|(55344,[5,18,40,4...|(55344,[5,18,40,4...|(55344,[5,18,40,4...|\n",
            "|I know ads are th...|         1|                 0|   218|[i, know, ads, ar...|[know, ads, cost,...|(55344,[7,11,12,1...|(55344,[7,11,12,1...|(55344,[7,11,12,1...|\n",
            "+--------------------+----------+------------------+------+--------------------+--------------------+--------------------+--------------------+--------------------+\n",
            "only showing top 20 rows\n",
            "\n"
          ]
        }
      ]
    },
    {
      "cell_type": "code",
      "source": [
        "transformed_df.select('features', 'Rating_int').show()"
      ],
      "metadata": {
        "colab": {
          "base_uri": "https://localhost:8080/"
        },
        "id": "17Ut0AKX6ODT",
        "outputId": "6e9c69cd-423d-4e41-9dfe-68b9cf27b286"
      },
      "execution_count": 26,
      "outputs": [
        {
          "output_type": "stream",
          "name": "stdout",
          "text": [
            "+--------------------+----------+\n",
            "|            features|Rating_int|\n",
            "+--------------------+----------+\n",
            "|(55344,[0,1,13,31...|         5|\n",
            "|(55344,[0,25,71,2...|         5|\n",
            "|(55344,[3,14,21,2...|         4|\n",
            "|(55344,[18,19,181...|         1|\n",
            "|(55344,[2,3,14,70...|         1|\n",
            "|(55344,[0,17,66,1...|         3|\n",
            "|(55344,[4,8,27,10...|         5|\n",
            "|(55344,[3,7,25,29...|         3|\n",
            "|(55344,[0,1,2,5,1...|         5|\n",
            "|(55344,[0,1,7,12,...|         1|\n",
            "|(55344,[0,8,24,40...|         2|\n",
            "|(55344,[3,5,315],...|         1|\n",
            "|(55344,[1,3,5,6,7...|         1|\n",
            "|(55344,[0,4,48,62...|         1|\n",
            "|(55344,[1,7,6005,...|         5|\n",
            "|(55344,[1,2,3,21,...|         5|\n",
            "|(55344,[25,70,114...|         2|\n",
            "|(55344,[6,16,74,3...|         3|\n",
            "|(55344,[5,18,40,4...|         1|\n",
            "|(55344,[7,11,12,1...|         1|\n",
            "+--------------------+----------+\n",
            "only showing top 20 rows\n",
            "\n"
          ]
        }
      ]
    },
    {
      "cell_type": "code",
      "source": [
        "# o -> Negative, 1 -> Positive\n",
        "\n",
        "from pyspark.sql.functions import when\n",
        "transformed_df = transformed_df.withColumn('label', when (transformed_df['Rating_int'] == 1, 0)\n",
        "                                                   .when (transformed_df['Rating_int'] == 2, 0)\n",
        "                                                   .when (transformed_df['Rating_int'] == 3, 0)\n",
        "                                                   .when (transformed_df['Rating_int'] == 4, 1)\n",
        "                                                   .when (transformed_df['Rating_int'] == 5, 1))"
      ],
      "metadata": {
        "id": "-292lrEmJHwf"
      },
      "execution_count": 27,
      "outputs": []
    },
    {
      "cell_type": "code",
      "source": [
        "transformed_df = transformed_df.select('features', 'label')\n",
        "transformed_df.show()"
      ],
      "metadata": {
        "id": "KBkGraZ67Sz7",
        "colab": {
          "base_uri": "https://localhost:8080/"
        },
        "outputId": "0592d230-0758-4702-9158-65317651d505"
      },
      "execution_count": 28,
      "outputs": [
        {
          "output_type": "stream",
          "name": "stdout",
          "text": [
            "+--------------------+-----+\n",
            "|            features|label|\n",
            "+--------------------+-----+\n",
            "|(55344,[0,1,13,31...|    1|\n",
            "|(55344,[0,25,71,2...|    1|\n",
            "|(55344,[3,14,21,2...|    1|\n",
            "|(55344,[18,19,181...|    0|\n",
            "|(55344,[2,3,14,70...|    0|\n",
            "|(55344,[0,17,66,1...|    0|\n",
            "|(55344,[4,8,27,10...|    1|\n",
            "|(55344,[3,7,25,29...|    0|\n",
            "|(55344,[0,1,2,5,1...|    1|\n",
            "|(55344,[0,1,7,12,...|    0|\n",
            "|(55344,[0,8,24,40...|    0|\n",
            "|(55344,[3,5,315],...|    0|\n",
            "|(55344,[1,3,5,6,7...|    0|\n",
            "|(55344,[0,4,48,62...|    0|\n",
            "|(55344,[1,7,6005,...|    1|\n",
            "|(55344,[1,2,3,21,...|    1|\n",
            "|(55344,[25,70,114...|    0|\n",
            "|(55344,[6,16,74,3...|    0|\n",
            "|(55344,[5,18,40,4...|    0|\n",
            "|(55344,[7,11,12,1...|    0|\n",
            "+--------------------+-----+\n",
            "only showing top 20 rows\n",
            "\n"
          ]
        }
      ]
    },
    {
      "cell_type": "code",
      "source": [
        "training, test = transformed_df.randomSplit([0.8, 0.2])"
      ],
      "metadata": {
        "id": "KnXB1NK-6rkO"
      },
      "execution_count": 29,
      "outputs": []
    },
    {
      "cell_type": "code",
      "source": [
        "from pyspark.ml.classification import LinearSVC"
      ],
      "metadata": {
        "id": "r5YhjMhY6b_o"
      },
      "execution_count": 30,
      "outputs": []
    },
    {
      "cell_type": "code",
      "source": [
        "svc = LinearSVC()"
      ],
      "metadata": {
        "id": "Lm7XkZ736laQ"
      },
      "execution_count": 31,
      "outputs": []
    },
    {
      "cell_type": "code",
      "source": [
        "review_detector = svc.fit(training)"
      ],
      "metadata": {
        "id": "tOdkLSrj6nlz"
      },
      "execution_count": 32,
      "outputs": []
    },
    {
      "cell_type": "code",
      "source": [
        "predictions = review_detector.transform(test)"
      ],
      "metadata": {
        "id": "UZllSOuH7BXg"
      },
      "execution_count": 33,
      "outputs": []
    },
    {
      "cell_type": "code",
      "source": [
        "predictions.show()"
      ],
      "metadata": {
        "colab": {
          "base_uri": "https://localhost:8080/"
        },
        "id": "84m6pDQE-Ryi",
        "outputId": "1f5ccd35-a4a6-44dc-eddb-a5d73450ae0e"
      },
      "execution_count": 34,
      "outputs": [
        {
          "output_type": "stream",
          "name": "stdout",
          "text": [
            "+--------------------+-----+--------------------+----------+\n",
            "|            features|label|       rawPrediction|prediction|\n",
            "+--------------------+-----+--------------------+----------+\n",
            "|(55344,[0,1,2,3,4...|    0|[7.07572105492031...|       0.0|\n",
            "|(55344,[0,1,2,3,4...|    0|[-2.9647129101412...|       1.0|\n",
            "|(55344,[0,1,2,3,4...|    0|[8.95682025405653...|       0.0|\n",
            "|(55344,[0,1,2,3,4...|    1|[-0.6787625863107...|       1.0|\n",
            "|(55344,[0,1,2,3,4...|    0|[8.36492165405092...|       0.0|\n",
            "|(55344,[0,1,2,3,4...|    0|[3.18988771869465...|       0.0|\n",
            "|(55344,[0,1,2,3,4...|    0|[6.09874581402988...|       0.0|\n",
            "|(55344,[0,1,2,3,4...|    0|[0.25351336713560...|       0.0|\n",
            "|(55344,[0,1,2,3,4...|    0|[-7.2148914258111...|       1.0|\n",
            "|(55344,[0,1,2,3,4...|    1|[-4.9444293063117...|       1.0|\n",
            "|(55344,[0,1,2,3,4...|    1|[8.80412592720226...|       0.0|\n",
            "|(55344,[0,1,2,3,4...|    0|[2.39605643437370...|       0.0|\n",
            "|(55344,[0,1,2,3,4...|    1|[-3.8354304782033...|       1.0|\n",
            "|(55344,[0,1,2,3,4...|    0|[7.70750410800446...|       0.0|\n",
            "|(55344,[0,1,2,3,4...|    1|[-16.160779758348...|       1.0|\n",
            "|(55344,[0,1,2,3,4...|    0|[11.6413285731291...|       0.0|\n",
            "|(55344,[0,1,2,3,5...|    1|[-5.2755469952943...|       1.0|\n",
            "|(55344,[0,1,2,3,5...|    0|[4.32229496906493...|       0.0|\n",
            "|(55344,[0,1,2,3,5...|    1|[-8.7213947473699...|       1.0|\n",
            "|(55344,[0,1,2,3,5...|    0|[-0.2297588268188...|       1.0|\n",
            "+--------------------+-----+--------------------+----------+\n",
            "only showing top 20 rows\n",
            "\n"
          ]
        }
      ]
    },
    {
      "cell_type": "code",
      "source": [
        "from pyspark.ml.evaluation import MulticlassClassificationEvaluator"
      ],
      "metadata": {
        "id": "968Wf6T1-Vcr"
      },
      "execution_count": 35,
      "outputs": []
    },
    {
      "cell_type": "code",
      "source": [
        "eval = MulticlassClassificationEvaluator()"
      ],
      "metadata": {
        "id": "liAwoS03-hmv"
      },
      "execution_count": 36,
      "outputs": []
    },
    {
      "cell_type": "code",
      "source": [
        "accuracy = eval.evaluate(predictions)"
      ],
      "metadata": {
        "id": "E0RdjoGq-jpq"
      },
      "execution_count": 37,
      "outputs": []
    },
    {
      "cell_type": "code",
      "source": [
        "print(accuracy)"
      ],
      "metadata": {
        "colab": {
          "base_uri": "https://localhost:8080/"
        },
        "id": "yNU0toAa-ltb",
        "outputId": "d17e196b-6638-49da-e1ec-392b9855ad35"
      },
      "execution_count": 38,
      "outputs": [
        {
          "output_type": "stream",
          "name": "stdout",
          "text": [
            "0.823067763055908\n"
          ]
        }
      ]
    },
    {
      "cell_type": "code",
      "source": [
        ""
      ],
      "metadata": {
        "id": "eVEMPffT-oUe"
      },
      "execution_count": 38,
      "outputs": []
    }
  ]
}