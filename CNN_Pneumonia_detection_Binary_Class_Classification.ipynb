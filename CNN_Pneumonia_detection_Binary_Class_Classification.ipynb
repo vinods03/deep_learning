{
  "nbformat": 4,
  "nbformat_minor": 0,
  "metadata": {
    "colab": {
      "name": "CNN - Pneumonia detection - Binary Class Classification.ipynb",
      "provenance": [],
      "collapsed_sections": [],
      "machine_shape": "hm",
      "authorship_tag": "ABX9TyONG8XQt8o1ScENsZnCJslB",
      "include_colab_link": true
    },
    "kernelspec": {
      "name": "python3",
      "display_name": "Python 3"
    },
    "language_info": {
      "name": "python"
    },
    "accelerator": "GPU",
    "gpuClass": "standard"
  },
  "cells": [
    {
      "cell_type": "markdown",
      "metadata": {
        "id": "view-in-github",
        "colab_type": "text"
      },
      "source": [
        "<a href=\"https://colab.research.google.com/github/vinods03/deep_learning/blob/main/CNN_Pneumonia_detection_Binary_Class_Classification.ipynb\" target=\"_parent\"><img src=\"https://colab.research.google.com/assets/colab-badge.svg\" alt=\"Open In Colab\"/></a>"
      ]
    },
    {
      "cell_type": "code",
      "execution_count": 1,
      "metadata": {
        "id": "t2IfEZQrog-2",
        "colab": {
          "base_uri": "https://localhost:8080/"
        },
        "outputId": "a45c7b34-4804-440d-fda2-6bc7bf7af8bf"
      },
      "outputs": [
        {
          "output_type": "stream",
          "name": "stdout",
          "text": [
            "Mounted at /content/drive\n"
          ]
        }
      ],
      "source": [
        "from google.colab import drive\n",
        "drive.mount('/content/drive')"
      ]
    },
    {
      "cell_type": "code",
      "source": [
        "import tensorflow as tf\n",
        "print(tf.__version__)"
      ],
      "metadata": {
        "id": "yhAeNjNDqrvA",
        "colab": {
          "base_uri": "https://localhost:8080/"
        },
        "outputId": "b1c8f816-b922-4ca7-b3fe-e20dcbf1d352"
      },
      "execution_count": 2,
      "outputs": [
        {
          "output_type": "stream",
          "name": "stdout",
          "text": [
            "2.8.2\n"
          ]
        }
      ]
    },
    {
      "cell_type": "code",
      "source": [
        "base_dir = '/content/drive/MyDrive/chest_xray/train'"
      ],
      "metadata": {
        "id": "vFvPJ2GNrDyw"
      },
      "execution_count": 3,
      "outputs": []
    },
    {
      "cell_type": "code",
      "source": [
        "translate = {'NORMAL': 0, 'PNEUMONIA': 1}"
      ],
      "metadata": {
        "id": "cNA36F4vbEVQ"
      },
      "execution_count": 4,
      "outputs": []
    },
    {
      "cell_type": "code",
      "source": [
        "import os\n",
        "\n",
        "dataset = []\n",
        "\n",
        "for i in os.listdir(base_dir):\n",
        "  dataset.append(os.path.join(base_dir, i))\n",
        "\n",
        "dataset"
      ],
      "metadata": {
        "id": "jetzG0XZr3ES",
        "colab": {
          "base_uri": "https://localhost:8080/"
        },
        "outputId": "6a056494-6975-45e7-fa7b-ba15e936353b"
      },
      "execution_count": 5,
      "outputs": [
        {
          "output_type": "execute_result",
          "data": {
            "text/plain": [
              "['/content/drive/MyDrive/chest_xray/train/PNEUMONIA',\n",
              " '/content/drive/MyDrive/chest_xray/train/NORMAL']"
            ]
          },
          "metadata": {},
          "execution_count": 5
        }
      ]
    },
    {
      "cell_type": "code",
      "source": [
        "test_dir = '/content/drive/MyDrive/chest_xray/test'"
      ],
      "metadata": {
        "id": "tY59vCO1VZ_h"
      },
      "execution_count": 6,
      "outputs": []
    },
    {
      "cell_type": "code",
      "source": [
        "import os\n",
        "\n",
        "testset = []\n",
        "\n",
        "for i in os.listdir(test_dir):\n",
        "  testset.append(os.path.join(test_dir, i))\n",
        "\n",
        "testset"
      ],
      "metadata": {
        "id": "fOn7jrJgVVjI",
        "colab": {
          "base_uri": "https://localhost:8080/"
        },
        "outputId": "2ebb1581-eeb3-494b-93b6-53b97b75fb4c"
      },
      "execution_count": 7,
      "outputs": [
        {
          "output_type": "execute_result",
          "data": {
            "text/plain": [
              "['/content/drive/MyDrive/chest_xray/test/NORMAL',\n",
              " '/content/drive/MyDrive/chest_xray/test/PNEUMONIA']"
            ]
          },
          "metadata": {},
          "execution_count": 7
        }
      ]
    },
    {
      "cell_type": "code",
      "source": [
        "for i in dataset:\n",
        "  label = i.split('/')[-1]\n",
        "  print('The number of images in ', label, ' folder of dataset is: ', len(os.listdir(i)))"
      ],
      "metadata": {
        "id": "Ylnyv_4JsCnS",
        "colab": {
          "base_uri": "https://localhost:8080/"
        },
        "outputId": "c084276d-aa0f-4594-e622-b6a7446c10b6"
      },
      "execution_count": 8,
      "outputs": [
        {
          "output_type": "stream",
          "name": "stdout",
          "text": [
            "The number of images in  PNEUMONIA  folder of dataset is:  3875\n",
            "The number of images in  NORMAL  folder of dataset is:  1341\n"
          ]
        }
      ]
    },
    {
      "cell_type": "code",
      "source": [
        "for i in testset:\n",
        "  label = i.split('/')[-1]\n",
        "  print('The number of images in ', label, ' folder of testset is: ', len(os.listdir(i)))"
      ],
      "metadata": {
        "id": "tY4FezXfgOJv",
        "colab": {
          "base_uri": "https://localhost:8080/"
        },
        "outputId": "50a08ece-0685-49c5-92de-7b62598ad96d"
      },
      "execution_count": 9,
      "outputs": [
        {
          "output_type": "stream",
          "name": "stdout",
          "text": [
            "The number of images in  NORMAL  folder of testset is:  234\n",
            "The number of images in  PNEUMONIA  folder of testset is:  390\n"
          ]
        }
      ]
    },
    {
      "cell_type": "code",
      "source": [
        "# convert 1 sample image into an array\n",
        "\n",
        "from tensorflow.keras.preprocessing.image import load_img, img_to_array\n",
        "img = load_img('/content/drive/MyDrive/chest_xray/train/PNEUMONIA/person4_bacteria_14.jpeg')\n",
        "img = img_to_array(img)\n",
        "img = img/255\n",
        "print(img.shape)"
      ],
      "metadata": {
        "id": "JaTSE4fYtalN",
        "colab": {
          "base_uri": "https://localhost:8080/"
        },
        "outputId": "bf4c8510-dd4e-4f76-fb99-421e92635676"
      },
      "execution_count": 10,
      "outputs": [
        {
          "output_type": "stream",
          "name": "stdout",
          "text": [
            "(592, 1032, 3)\n"
          ]
        }
      ]
    },
    {
      "cell_type": "code",
      "source": [
        "img[0][0][0]"
      ],
      "metadata": {
        "id": "hnqWMUKWv_wd",
        "colab": {
          "base_uri": "https://localhost:8080/"
        },
        "outputId": "08a31224-91a5-4013-a6ad-ffbef30a5af8"
      },
      "execution_count": 11,
      "outputs": [
        {
          "output_type": "execute_result",
          "data": {
            "text/plain": [
              "0.2901961"
            ]
          },
          "metadata": {},
          "execution_count": 11
        }
      ]
    },
    {
      "cell_type": "code",
      "source": [
        "# get back the image from the array\n",
        "\n",
        "import matplotlib.pyplot as plt\n",
        "plt.imshow(img)"
      ],
      "metadata": {
        "id": "HJyQ0arDs1wD",
        "colab": {
          "base_uri": "https://localhost:8080/",
          "height": 261
        },
        "outputId": "29401044-6603-44d0-8fa4-98c49924a61b"
      },
      "execution_count": 12,
      "outputs": [
        {
          "output_type": "execute_result",
          "data": {
            "text/plain": [
              "<matplotlib.image.AxesImage at 0x7fd0c637d310>"
            ]
          },
          "metadata": {},
          "execution_count": 12
        },
        {
          "output_type": "display_data",
          "data": {
            "text/plain": [
              "<Figure size 432x288 with 1 Axes>"
            ],
            "image/png": "[encoded data removed]"
          },
          "metadata": {
            "needs_background": "light"
          }
        }
      ]
    },
    {
      "cell_type": "code",
      "source": [
        "image_array = []\n",
        "image_label = []\n",
        "\n",
        "for i in dataset:\n",
        "  for (n, j) in enumerate(os.listdir(i)):\n",
        "    # if (n < 1201):\n",
        "      img_path = os.path.join(i,j)\n",
        "      img = load_img(img_path, target_size=(256, 256))\n",
        "      img = img_to_array(img)\n",
        "      img = img/255.0\n",
        "      image_array.append(img)\n",
        "      label = translate[i.split('/')[-1]]\n",
        "      image_label.append(label)"
      ],
      "metadata": {
        "id": "lzv4X1FQvpS9"
      },
      "execution_count": 13,
      "outputs": []
    },
    {
      "cell_type": "code",
      "source": [
        "set(image_label)"
      ],
      "metadata": {
        "id": "_91q5KfOaytG",
        "colab": {
          "base_uri": "https://localhost:8080/"
        },
        "outputId": "38971637-0f8e-4a88-ff7e-9d6c031f42f2"
      },
      "execution_count": 14,
      "outputs": [
        {
          "output_type": "execute_result",
          "data": {
            "text/plain": [
              "{0, 1}"
            ]
          },
          "metadata": {},
          "execution_count": 14
        }
      ]
    },
    {
      "cell_type": "code",
      "source": [
        "X_test = []\n",
        "y_test = []\n",
        "\n",
        "for i in testset:\n",
        "  for (n, j) in enumerate(os.listdir(i)):\n",
        "    # if (n < 1201):\n",
        "      img_path = os.path.join(i,j)\n",
        "      img = load_img(img_path, target_size=(256, 256))\n",
        "      img = img_to_array(img)\n",
        "      img = img/255.0\n",
        "      X_test.append(img)\n",
        "      label = translate[i.split('/')[-1]]\n",
        "      y_test.append(label)"
      ],
      "metadata": {
        "id": "upuMZ5HsVQ6J"
      },
      "execution_count": 15,
      "outputs": []
    },
    {
      "cell_type": "code",
      "source": [
        "set(y_test)"
      ],
      "metadata": {
        "id": "0mjfX9FY9BAi",
        "colab": {
          "base_uri": "https://localhost:8080/"
        },
        "outputId": "fae416bc-06dd-4141-8ad3-9df335792cfb"
      },
      "execution_count": 16,
      "outputs": [
        {
          "output_type": "execute_result",
          "data": {
            "text/plain": [
              "{0, 1}"
            ]
          },
          "metadata": {},
          "execution_count": 16
        }
      ]
    },
    {
      "cell_type": "code",
      "source": [
        "import numpy as np\n",
        "\n",
        "image_array = np.array(image_array)\n",
        "image_label = np.array(image_label)\n",
        "X_test = np.array(X_test)\n",
        "y_test = np.array(y_test)\n",
        "\n",
        "print(image_array.shape)\n",
        "print(image_label.shape)\n",
        "print(X_test.shape)\n",
        "print(y_test.shape)"
      ],
      "metadata": {
        "id": "WFEQk5a8MV3p",
        "colab": {
          "base_uri": "https://localhost:8080/"
        },
        "outputId": "45bbb0ca-da9f-4e05-8944-0e5629dd780e"
      },
      "execution_count": 17,
      "outputs": [
        {
          "output_type": "stream",
          "name": "stdout",
          "text": [
            "(5216, 256, 256, 3)\n",
            "(5216,)\n",
            "(624, 256, 256, 3)\n",
            "(624,)\n"
          ]
        }
      ]
    },
    {
      "cell_type": "code",
      "source": [
        "# Not needed because we already have separate training and test data\n",
        "\n",
        "# from sklearn.model_selection import train_test_split\n",
        "# X_train, X_test, y_train, y_test = train_test_split(image_array, image_label, test_size = 0.2)"
      ],
      "metadata": {
        "id": "BofiluNmMai5"
      },
      "execution_count": 18,
      "outputs": []
    },
    {
      "cell_type": "code",
      "source": [
        "c = len(set(image_label))\n",
        "print('The number of classes is: ', c)"
      ],
      "metadata": {
        "id": "NGDkv5J8OvzF",
        "colab": {
          "base_uri": "https://localhost:8080/"
        },
        "outputId": "b61e2ddb-6a34-444a-d513-fff8535ed894"
      },
      "execution_count": 19,
      "outputs": [
        {
          "output_type": "stream",
          "name": "stdout",
          "text": [
            "The number of classes is:  2\n"
          ]
        }
      ]
    },
    {
      "cell_type": "code",
      "source": [
        "# Build the model\n",
        "\n",
        "from tensorflow.keras.layers import Input, Conv2D, Dense, Flatten, Dropout, GlobalMaxPooling2D, BatchNormalization\n",
        "from tensorflow.keras.models import Model"
      ],
      "metadata": {
        "id": "4TJ7uuaFOzTX"
      },
      "execution_count": 20,
      "outputs": []
    },
    {
      "cell_type": "code",
      "source": [
        "image_array[0].shape\n",
        "i = Input(shape = image_array[0].shape)\n",
        "\n",
        "x = Conv2D(32, (3,3), strides = 2, activation = 'relu', padding = 'same')(i)\n",
        "x = BatchNormalization()(x)\n",
        "# x = Conv2D(32, (3,3), strides = 2, activation = 'relu', padding = 'same')(i)\n",
        "# x = BatchNormalization()(x)\n",
        "\n",
        "x = Conv2D(64, (3,3), strides = 2, activation = 'relu', padding = 'same')(x)\n",
        "x = BatchNormalization()(x)\n",
        "# x = Conv2D(64, (3,3), strides = 2, activation = 'relu', padding = 'same')(x)\n",
        "# x = BatchNormalization()(x)\n",
        "\n",
        "# x = Conv2D(128, (3,3), strides = 2, activation = 'relu', padding = 'same')(x)\n",
        "# x = BatchNormalization()(x)\n",
        "# x = Conv2D(128, (3,3), strides = 2, activation = 'relu', padding = 'same')(x)\n",
        "# x = BatchNormalization()(x)\n",
        "\n",
        "# x = Conv2D(256, (3,3), strides = 2, activation = 'relu', padding = 'same')(x)\n",
        "# x = BatchNormalization()(x)\n",
        "# x = Conv2D(256, (3,3), strides = 2, activation = 'relu', padding = 'same')(x)\n",
        "# x = BatchNormalization()(x)\n",
        "\n",
        "# x = Conv2D(512, (3,3), strides = 2, activation = 'relu', padding = 'same')(x)\n",
        "# x = BatchNormalization()(x)\n",
        "# x = Conv2D(512, (3,3), strides = 2, activation = 'relu', padding = 'same')(x)\n",
        "# x = BatchNormalization()(x)\n",
        "\n",
        "x = GlobalMaxPooling2D()(x)\n",
        "# x = Flatten()(x)\n",
        "\n",
        "# x = Dropout(0.2)(x)\n",
        "# x = Dense(128, activation = 'relu')(x)\n",
        "\n",
        "x = Dropout(0.2)(x)\n",
        "x = Dense(256, activation = 'relu')(x)\n",
        "\n",
        "# x = Dropout(0.2)(x)\n",
        "# x = Dense(1024, activation = 'relu')(x)\n",
        "\n",
        "x = Dropout(0.2)(x)\n",
        "x = Dense(1, activation = 'sigmoid')(x)\n",
        "\n",
        "model = Model(i, x)"
      ],
      "metadata": {
        "id": "V3XpxSb0Qcou"
      },
      "execution_count": 21,
      "outputs": []
    },
    {
      "cell_type": "code",
      "source": [
        "# compile and fit\n",
        "\n",
        "model.compile(optimizer = 'adam', loss = 'binary_crossentropy', metrics = ['accuracy'])\n",
        "r = model.fit(image_array, image_label, validation_data = (X_test, y_test), epochs = 15)"
      ],
      "metadata": {
        "id": "IGPH2l2rU1mb",
        "colab": {
          "base_uri": "https://localhost:8080/"
        },
        "outputId": "eeb3515e-ab00-4478-a0fa-28c1ff3d7f47"
      },
      "execution_count": 22,
      "outputs": [
        {
          "output_type": "stream",
          "name": "stdout",
          "text": [
            "Epoch 1/15\n",
            "163/163 [==============================] - 16s 29ms/step - loss: 0.6181 - accuracy: 0.7634 - val_loss: 0.6821 - val_accuracy: 0.4615\n",
            "Epoch 2/15\n",
            "163/163 [==============================] - 4s 25ms/step - loss: 0.3289 - accuracy: 0.8507 - val_loss: 0.5181 - val_accuracy: 0.8365\n",
            "Epoch 3/15\n",
            "163/163 [==============================] - 4s 25ms/step - loss: 0.3050 - accuracy: 0.8625 - val_loss: 0.4229 - val_accuracy: 0.8317\n",
            "Epoch 4/15\n",
            "163/163 [==============================] - 4s 25ms/step - loss: 0.2809 - accuracy: 0.8762 - val_loss: 0.4052 - val_accuracy: 0.8381\n",
            "Epoch 5/15\n",
            "163/163 [==============================] - 4s 24ms/step - loss: 0.2598 - accuracy: 0.8911 - val_loss: 0.5339 - val_accuracy: 0.7756\n",
            "Epoch 6/15\n",
            "163/163 [==============================] - 4s 25ms/step - loss: 0.2483 - accuracy: 0.8957 - val_loss: 0.6307 - val_accuracy: 0.7276\n",
            "Epoch 7/15\n",
            "163/163 [==============================] - 4s 25ms/step - loss: 0.2387 - accuracy: 0.8999 - val_loss: 0.6900 - val_accuracy: 0.6843\n",
            "Epoch 8/15\n",
            "163/163 [==============================] - 4s 25ms/step - loss: 0.2405 - accuracy: 0.9018 - val_loss: 0.6269 - val_accuracy: 0.7147\n",
            "Epoch 9/15\n",
            "163/163 [==============================] - 4s 25ms/step - loss: 0.2264 - accuracy: 0.9089 - val_loss: 0.8694 - val_accuracy: 0.6843\n",
            "Epoch 10/15\n",
            "163/163 [==============================] - 4s 25ms/step - loss: 0.2075 - accuracy: 0.9128 - val_loss: 0.5514 - val_accuracy: 0.7612\n",
            "Epoch 11/15\n",
            "163/163 [==============================] - 4s 25ms/step - loss: 0.2009 - accuracy: 0.9181 - val_loss: 0.6798 - val_accuracy: 0.7372\n",
            "Epoch 12/15\n",
            "163/163 [==============================] - 4s 25ms/step - loss: 0.1967 - accuracy: 0.9170 - val_loss: 0.6901 - val_accuracy: 0.7083\n",
            "Epoch 13/15\n",
            "163/163 [==============================] - 4s 25ms/step - loss: 0.1893 - accuracy: 0.9229 - val_loss: 0.6779 - val_accuracy: 0.7228\n",
            "Epoch 14/15\n",
            "163/163 [==============================] - 4s 25ms/step - loss: 0.1706 - accuracy: 0.9273 - val_loss: 0.8181 - val_accuracy: 0.7163\n",
            "Epoch 15/15\n",
            "163/163 [==============================] - 4s 24ms/step - loss: 0.1769 - accuracy: 0.9294 - val_loss: 0.7010 - val_accuracy: 0.7484\n"
          ]
        }
      ]
    },
    {
      "cell_type": "code",
      "source": [
        "# Data Augmentation\n",
        "\n",
        "# batch_size = 32\n",
        "# data_generator = tf.keras.preprocessing.image.ImageDataGenerator(width_shift_range = 0.1, height_shift_range = 0.1)\n",
        "# train_generator = data_generator.flow(image_array, image_label, batch_size)\n",
        "# steps_per_epoch = image_array.shape[0] // batch_size\n",
        "\n",
        "# r = model.fit_generator(train_generator, validation_data = (X_test, y_test), steps_per_epoch = steps_per_epoch, epochs = 10)"
      ],
      "metadata": {
        "id": "61qJTTZz7BZd"
      },
      "execution_count": 23,
      "outputs": []
    },
    {
      "cell_type": "code",
      "source": [
        "import matplotlib.pyplot as plt\n",
        "plt.plot(r.history['loss'], label = 'loss')\n",
        "plt.plot(r.history['val_loss'], label = 'loss')\n",
        "plt.legend()"
      ],
      "metadata": {
        "id": "5JTDe470RvkR",
        "colab": {
          "base_uri": "https://localhost:8080/",
          "height": 285
        },
        "outputId": "2c14e5b6-7559-4ebb-f12c-f93505bbb8c1"
      },
      "execution_count": 24,
      "outputs": [
        {
          "output_type": "execute_result",
          "data": {
            "text/plain": [
              "<matplotlib.legend.Legend at 0x7fd0b0269950>"
            ]
          },
          "metadata": {},
          "execution_count": 24
        },
        {
          "output_type": "display_data",
          "data": {
            "text/plain": [
              "<Figure size 432x288 with 1 Axes>"
            ],
            "image/png": "[encoded data removed]"
          },
          "metadata": {
            "needs_background": "light"
          }
        }
      ]
    },
    {
      "cell_type": "code",
      "source": [
        "plt.plot(r.history['accuracy'], label = 'accuracy')\n",
        "plt.plot(r.history['val_accuracy'], label = 'val_accuracy')\n",
        "plt.legend()"
      ],
      "metadata": {
        "id": "iARcrOS5d9sp",
        "colab": {
          "base_uri": "https://localhost:8080/",
          "height": 282
        },
        "outputId": "428772c7-4c5b-4096-afaa-e6b827beeb40"
      },
      "execution_count": 25,
      "outputs": [
        {
          "output_type": "execute_result",
          "data": {
            "text/plain": [
              "<matplotlib.legend.Legend at 0x7fd0b01cd390>"
            ]
          },
          "metadata": {},
          "execution_count": 25
        },
        {
          "output_type": "display_data",
          "data": {
            "text/plain": [
              "<Figure size 432x288 with 1 Axes>"
            ],
            "image/png": "[encoded data removed]"
          },
          "metadata": {
            "needs_background": "light"
          }
        }
      ]
    },
    {
      "cell_type": "code",
      "source": [
        "X_test.shape"
      ],
      "metadata": {
        "colab": {
          "base_uri": "https://localhost:8080/"
        },
        "id": "J93oBh6ze1Gu",
        "outputId": "5d950211-e31b-4ea2-b3c9-f81db5cbbbd1"
      },
      "execution_count": 26,
      "outputs": [
        {
          "output_type": "execute_result",
          "data": {
            "text/plain": [
              "(624, 256, 256, 3)"
            ]
          },
          "metadata": {},
          "execution_count": 26
        }
      ]
    },
    {
      "cell_type": "code",
      "source": [
        "y_test_pred = model.predict(X_test)"
      ],
      "metadata": {
        "id": "_8up2SbYeMHR"
      },
      "execution_count": 27,
      "outputs": []
    },
    {
      "cell_type": "code",
      "source": [
        "y_test_pred"
      ],
      "metadata": {
        "id": "AuUc2BfUIYxR",
        "colab": {
          "base_uri": "https://localhost:8080/"
        },
        "outputId": "721b9943-5a5b-430a-a06c-c5a3a2f31c40"
      },
      "execution_count": 28,
      "outputs": [
        {
          "output_type": "execute_result",
          "data": {
            "text/plain": [
              "array([[0.9019611 ],\n",
              "       [0.7832539 ],\n",
              "       [0.55722755],\n",
              "       [0.76350224],\n",
              "       [0.10271834],\n",
              "       [0.4069961 ],\n",
              "       [0.6141931 ],\n",
              "       [0.49162307],\n",
              "       [0.7078015 ],\n",
              "       [0.32798997],\n",
              "       [0.6951606 ],\n",
              "       [0.42628706],\n",
              "       [0.26306665],\n",
              "       [0.46101627],\n",
              "       [0.5126291 ],\n",
              "       [0.38646835],\n",
              "       [0.448088  ],\n",
              "       [0.2812878 ],\n",
              "       [0.57230896],\n",
              "       [0.65518624],\n",
              "       [0.962647  ],\n",
              "       [0.44893903],\n",
              "       [0.37060422],\n",
              "       [0.7188886 ],\n",
              "       [0.40787077],\n",
              "       [0.6222244 ],\n",
              "       [0.5923287 ],\n",
              "       [0.5596847 ],\n",
              "       [0.57478136],\n",
              "       [0.09382559],\n",
              "       [0.6685679 ],\n",
              "       [0.5226751 ],\n",
              "       [0.45296636],\n",
              "       [0.9987463 ],\n",
              "       [0.96238315],\n",
              "       [0.23248947],\n",
              "       [0.49013937],\n",
              "       [0.9944112 ],\n",
              "       [0.9562764 ],\n",
              "       [0.91056514],\n",
              "       [0.9945918 ],\n",
              "       [0.46051294],\n",
              "       [0.16123468],\n",
              "       [0.95853484],\n",
              "       [0.8142889 ],\n",
              "       [0.8887689 ],\n",
              "       [0.190611  ],\n",
              "       [0.9994443 ],\n",
              "       [0.9945918 ],\n",
              "       [0.20365338],\n",
              "       [0.9978956 ],\n",
              "       [0.9776244 ],\n",
              "       [0.17017019],\n",
              "       [0.28675887],\n",
              "       [0.68354434],\n",
              "       [0.9938167 ],\n",
              "       [0.15080819],\n",
              "       [0.98396504],\n",
              "       [0.6973884 ],\n",
              "       [0.99210346],\n",
              "       [0.9152242 ],\n",
              "       [0.6741717 ],\n",
              "       [0.24468662],\n",
              "       [0.9046419 ],\n",
              "       [0.13415061],\n",
              "       [0.38290885],\n",
              "       [0.39442354],\n",
              "       [0.8305176 ],\n",
              "       [0.99618137],\n",
              "       [0.9933001 ],\n",
              "       [0.5038312 ],\n",
              "       [0.45643416],\n",
              "       [0.99713576],\n",
              "       [0.22578171],\n",
              "       [0.3977649 ],\n",
              "       [0.73677087],\n",
              "       [0.8692476 ],\n",
              "       [0.98258924],\n",
              "       [0.8055088 ],\n",
              "       [0.97569513],\n",
              "       [0.3780069 ],\n",
              "       [0.7945044 ],\n",
              "       [0.7649247 ],\n",
              "       [0.10368887],\n",
              "       [0.9627176 ],\n",
              "       [0.41375485],\n",
              "       [0.69923913],\n",
              "       [0.34814638],\n",
              "       [0.56868297],\n",
              "       [0.15767886],\n",
              "       [0.32260615],\n",
              "       [0.8342588 ],\n",
              "       [0.5874335 ],\n",
              "       [0.9665573 ],\n",
              "       [0.18284838],\n",
              "       [0.69645643],\n",
              "       [0.8946251 ],\n",
              "       [0.08406769],\n",
              "       [0.21664695],\n",
              "       [0.9093776 ],\n",
              "       [0.9634417 ],\n",
              "       [0.4576459 ],\n",
              "       [0.49094293],\n",
              "       [0.06221132],\n",
              "       [0.5694349 ],\n",
              "       [0.7378038 ],\n",
              "       [0.37457496],\n",
              "       [0.9498142 ],\n",
              "       [0.8898646 ],\n",
              "       [0.32907292],\n",
              "       [0.80172247],\n",
              "       [0.98132575],\n",
              "       [0.55912036],\n",
              "       [0.9603495 ],\n",
              "       [0.99624026],\n",
              "       [0.7993174 ],\n",
              "       [0.9508924 ],\n",
              "       [0.42522058],\n",
              "       [0.9813789 ],\n",
              "       [0.82950544],\n",
              "       [0.14830546],\n",
              "       [0.96630347],\n",
              "       [0.9418664 ],\n",
              "       [0.6685679 ],\n",
              "       [0.7998681 ],\n",
              "       [0.7619514 ],\n",
              "       [0.1140518 ],\n",
              "       [0.16266279],\n",
              "       [0.4783041 ],\n",
              "       [0.07987705],\n",
              "       [0.52089494],\n",
              "       [0.99223495],\n",
              "       [0.04109355],\n",
              "       [0.43814576],\n",
              "       [0.40026483],\n",
              "       [0.8352571 ],\n",
              "       [0.7746688 ],\n",
              "       [0.09882818],\n",
              "       [0.4326951 ],\n",
              "       [0.83589536],\n",
              "       [0.9954389 ],\n",
              "       [0.87168187],\n",
              "       [0.08244114],\n",
              "       [0.35580438],\n",
              "       [0.39353937],\n",
              "       [0.31834728],\n",
              "       [0.5585826 ],\n",
              "       [0.9911884 ],\n",
              "       [0.20952378],\n",
              "       [0.33898887],\n",
              "       [0.33565217],\n",
              "       [0.2734163 ],\n",
              "       [0.5264216 ],\n",
              "       [0.99223495],\n",
              "       [0.7156475 ],\n",
              "       [0.52261245],\n",
              "       [0.6703993 ],\n",
              "       [0.18666917],\n",
              "       [0.8528371 ],\n",
              "       [0.09989233],\n",
              "       [0.10696611],\n",
              "       [0.99780947],\n",
              "       [0.8811613 ],\n",
              "       [0.99750406],\n",
              "       [0.8991943 ],\n",
              "       [0.26741767],\n",
              "       [0.08749855],\n",
              "       [0.99862516],\n",
              "       [0.69815296],\n",
              "       [0.81676185],\n",
              "       [0.2373351 ],\n",
              "       [0.9632292 ],\n",
              "       [0.61171025],\n",
              "       [0.14176564],\n",
              "       [0.26709008],\n",
              "       [0.34430644],\n",
              "       [0.5447324 ],\n",
              "       [0.18085326],\n",
              "       [0.991325  ],\n",
              "       [0.84718585],\n",
              "       [0.9520402 ],\n",
              "       [0.46193254],\n",
              "       [0.28156352],\n",
              "       [0.38712198],\n",
              "       [0.292113  ],\n",
              "       [0.79087067],\n",
              "       [0.6034394 ],\n",
              "       [0.04171265],\n",
              "       [0.31330356],\n",
              "       [0.77679807],\n",
              "       [0.99517906],\n",
              "       [0.7563988 ],\n",
              "       [0.9992231 ],\n",
              "       [0.07701222],\n",
              "       [0.8989788 ],\n",
              "       [0.9992181 ],\n",
              "       [0.14897625],\n",
              "       [0.98347384],\n",
              "       [0.12386978],\n",
              "       [0.23104714],\n",
              "       [0.04395965],\n",
              "       [0.42864633],\n",
              "       [0.45172602],\n",
              "       [0.9909508 ],\n",
              "       [0.1254048 ],\n",
              "       [0.8477628 ],\n",
              "       [0.998142  ],\n",
              "       [0.089716  ],\n",
              "       [0.9011551 ],\n",
              "       [0.7769718 ],\n",
              "       [0.3308988 ],\n",
              "       [0.58238095],\n",
              "       [0.9977876 ],\n",
              "       [0.23559746],\n",
              "       [0.09645437],\n",
              "       [0.18937415],\n",
              "       [0.13884822],\n",
              "       [0.99980277],\n",
              "       [0.12265056],\n",
              "       [0.17546868],\n",
              "       [0.5384657 ],\n",
              "       [0.9599239 ],\n",
              "       [0.19339782],\n",
              "       [0.95157874],\n",
              "       [0.98533195],\n",
              "       [0.39464876],\n",
              "       [0.63861364],\n",
              "       [0.21234591],\n",
              "       [0.60741776],\n",
              "       [0.94598705],\n",
              "       [0.25307527],\n",
              "       [0.37396827],\n",
              "       [0.27579892],\n",
              "       [0.1607364 ],\n",
              "       [0.9920589 ],\n",
              "       [0.9991517 ],\n",
              "       [0.24690418],\n",
              "       [0.9914609 ],\n",
              "       [0.9973335 ],\n",
              "       [0.9989648 ],\n",
              "       [0.9983803 ],\n",
              "       [0.9989128 ],\n",
              "       [0.9939644 ],\n",
              "       [0.99384487],\n",
              "       [0.99916744],\n",
              "       [0.98019385],\n",
              "       [0.9988753 ],\n",
              "       [0.98807985],\n",
              "       [0.98941565],\n",
              "       [0.9992907 ],\n",
              "       [0.5829841 ],\n",
              "       [0.99794096],\n",
              "       [0.9918216 ],\n",
              "       [0.9983839 ],\n",
              "       [0.1399856 ],\n",
              "       [0.99514467],\n",
              "       [0.9991854 ],\n",
              "       [0.99796593],\n",
              "       [0.99859005],\n",
              "       [0.9860595 ],\n",
              "       [0.99908066],\n",
              "       [0.99987066],\n",
              "       [0.9995592 ],\n",
              "       [0.99440104],\n",
              "       [0.7914958 ],\n",
              "       [0.8920159 ],\n",
              "       [0.9998604 ],\n",
              "       [0.99022186],\n",
              "       [0.9856045 ],\n",
              "       [0.67746085],\n",
              "       [0.9888859 ],\n",
              "       [0.91729826],\n",
              "       [0.9996886 ],\n",
              "       [0.99843913],\n",
              "       [0.9946679 ],\n",
              "       [0.998092  ],\n",
              "       [0.8736198 ],\n",
              "       [0.9973149 ],\n",
              "       [0.96791   ],\n",
              "       [0.9924625 ],\n",
              "       [0.98936355],\n",
              "       [0.13184184],\n",
              "       [0.99913615],\n",
              "       [0.96851045],\n",
              "       [0.98651266],\n",
              "       [0.9972269 ],\n",
              "       [0.99889034],\n",
              "       [0.99221605],\n",
              "       [0.99245304],\n",
              "       [0.88873726],\n",
              "       [0.9907843 ],\n",
              "       [0.9911739 ],\n",
              "       [0.99953675],\n",
              "       [0.98848116],\n",
              "       [0.99756926],\n",
              "       [0.8738636 ],\n",
              "       [0.99226063],\n",
              "       [0.99424064],\n",
              "       [0.9992816 ],\n",
              "       [0.9924223 ],\n",
              "       [0.98112166],\n",
              "       [0.9976987 ],\n",
              "       [0.9960259 ],\n",
              "       [0.9771261 ],\n",
              "       [0.82401353],\n",
              "       [0.98875695],\n",
              "       [0.9877796 ],\n",
              "       [0.9971186 ],\n",
              "       [0.9978542 ],\n",
              "       [0.9850654 ],\n",
              "       [0.9956768 ],\n",
              "       [0.9990238 ],\n",
              "       [0.94825566],\n",
              "       [0.9918281 ],\n",
              "       [0.99504095],\n",
              "       [0.9565596 ],\n",
              "       [0.91307807],\n",
              "       [0.9902021 ],\n",
              "       [0.9962871 ],\n",
              "       [0.9906031 ],\n",
              "       [0.982537  ],\n",
              "       [0.9206072 ],\n",
              "       [0.9975611 ],\n",
              "       [0.6518805 ],\n",
              "       [0.9956049 ],\n",
              "       [0.8152106 ],\n",
              "       [0.99521554],\n",
              "       [0.9984372 ],\n",
              "       [0.99759704],\n",
              "       [0.9942415 ],\n",
              "       [0.9950362 ],\n",
              "       [0.9973936 ],\n",
              "       [0.9968262 ],\n",
              "       [0.9984415 ],\n",
              "       [0.991042  ],\n",
              "       [0.99523723],\n",
              "       [0.9931079 ],\n",
              "       [0.99929535],\n",
              "       [0.9977144 ],\n",
              "       [0.9502059 ],\n",
              "       [0.9968252 ],\n",
              "       [0.9991774 ],\n",
              "       [0.9967244 ],\n",
              "       [0.8685137 ],\n",
              "       [0.99758124],\n",
              "       [0.9965198 ],\n",
              "       [0.9969586 ],\n",
              "       [0.2514045 ],\n",
              "       [0.9755387 ],\n",
              "       [0.9736212 ],\n",
              "       [0.99622524],\n",
              "       [0.94058806],\n",
              "       [0.9972886 ],\n",
              "       [0.984511  ],\n",
              "       [0.99815184],\n",
              "       [0.99699473],\n",
              "       [0.9914157 ],\n",
              "       [0.99589396],\n",
              "       [0.9837918 ],\n",
              "       [0.10266568],\n",
              "       [0.99954104],\n",
              "       [0.99757725],\n",
              "       [0.997785  ],\n",
              "       [0.9834743 ],\n",
              "       [0.9767022 ],\n",
              "       [0.99016654],\n",
              "       [0.9816373 ],\n",
              "       [0.5634955 ],\n",
              "       [0.72241694],\n",
              "       [0.99933606],\n",
              "       [0.9991635 ],\n",
              "       [0.3834005 ],\n",
              "       [0.9996201 ],\n",
              "       [0.9917794 ],\n",
              "       [0.9987405 ],\n",
              "       [0.9997222 ],\n",
              "       [0.9950907 ],\n",
              "       [0.6203522 ],\n",
              "       [0.8501261 ],\n",
              "       [0.9832153 ],\n",
              "       [0.9959298 ],\n",
              "       [0.999466  ],\n",
              "       [0.99171597],\n",
              "       [0.7552703 ],\n",
              "       [0.9984498 ],\n",
              "       [0.9962198 ],\n",
              "       [0.9988226 ],\n",
              "       [0.27964854],\n",
              "       [0.9985996 ],\n",
              "       [0.99600095],\n",
              "       [0.43888918],\n",
              "       [0.9972658 ],\n",
              "       [0.9970509 ],\n",
              "       [0.9980211 ],\n",
              "       [0.99557   ],\n",
              "       [0.98508954],\n",
              "       [0.99648654],\n",
              "       [0.97064835],\n",
              "       [0.9883382 ],\n",
              "       [0.9932706 ],\n",
              "       [0.99922276],\n",
              "       [0.9975172 ],\n",
              "       [0.929852  ],\n",
              "       [0.9994598 ],\n",
              "       [0.9988224 ],\n",
              "       [0.85372865],\n",
              "       [0.8673509 ],\n",
              "       [0.9892201 ],\n",
              "       [0.7077501 ],\n",
              "       [0.9965005 ],\n",
              "       [0.43772343],\n",
              "       [0.9943862 ],\n",
              "       [0.99919003],\n",
              "       [0.981106  ],\n",
              "       [0.9978751 ],\n",
              "       [0.87722254],\n",
              "       [0.9928935 ],\n",
              "       [0.9958436 ],\n",
              "       [0.9967817 ],\n",
              "       [0.98979026],\n",
              "       [0.91588986],\n",
              "       [0.98290354],\n",
              "       [0.93257487],\n",
              "       [0.98854464],\n",
              "       [0.9386248 ],\n",
              "       [0.9971156 ],\n",
              "       [0.99713635],\n",
              "       [0.9930837 ],\n",
              "       [0.9581485 ],\n",
              "       [0.9954743 ],\n",
              "       [0.5139641 ],\n",
              "       [0.99964464],\n",
              "       [0.98569924],\n",
              "       [0.900521  ],\n",
              "       [0.99570364],\n",
              "       [0.173535  ],\n",
              "       [0.9994697 ],\n",
              "       [0.05438211],\n",
              "       [0.99163437],\n",
              "       [0.9838012 ],\n",
              "       [0.9998609 ],\n",
              "       [0.99415696],\n",
              "       [0.98136765],\n",
              "       [0.99284536],\n",
              "       [0.99377877],\n",
              "       [0.9956422 ],\n",
              "       [0.99831057],\n",
              "       [0.99000776],\n",
              "       [0.9917692 ],\n",
              "       [0.9512084 ],\n",
              "       [0.9989753 ],\n",
              "       [0.9988254 ],\n",
              "       [0.98169047],\n",
              "       [0.99427116],\n",
              "       [0.87722254],\n",
              "       [0.99966776],\n",
              "       [0.9990251 ],\n",
              "       [0.9832466 ],\n",
              "       [0.97944874],\n",
              "       [0.79128313],\n",
              "       [0.5647083 ],\n",
              "       [0.9972269 ],\n",
              "       [0.85593534],\n",
              "       [0.9993331 ],\n",
              "       [0.9981529 ],\n",
              "       [0.9960846 ],\n",
              "       [0.99958855],\n",
              "       [0.9594467 ],\n",
              "       [0.9900439 ],\n",
              "       [0.9629241 ],\n",
              "       [0.9930601 ],\n",
              "       [0.9897226 ],\n",
              "       [0.99994564],\n",
              "       [0.9886513 ],\n",
              "       [0.9992804 ],\n",
              "       [0.83727974],\n",
              "       [0.98809195],\n",
              "       [0.99945074],\n",
              "       [0.99895453],\n",
              "       [0.9921261 ],\n",
              "       [0.2663667 ],\n",
              "       [0.99885964],\n",
              "       [0.6478195 ],\n",
              "       [0.9900829 ],\n",
              "       [0.76900846],\n",
              "       [0.99979407],\n",
              "       [0.3296256 ],\n",
              "       [0.8385946 ],\n",
              "       [0.9988206 ],\n",
              "       [0.99918896],\n",
              "       [0.9980964 ],\n",
              "       [0.9639685 ],\n",
              "       [0.99984026],\n",
              "       [0.9962717 ],\n",
              "       [0.9507414 ],\n",
              "       [0.9978352 ],\n",
              "       [0.99974424],\n",
              "       [0.8084216 ],\n",
              "       [0.99932146],\n",
              "       [0.99780816],\n",
              "       [0.9979557 ],\n",
              "       [0.9950537 ],\n",
              "       [0.9979157 ],\n",
              "       [0.9902407 ],\n",
              "       [0.9992611 ],\n",
              "       [0.9978491 ],\n",
              "       [0.13954642],\n",
              "       [0.43422452],\n",
              "       [0.9957457 ],\n",
              "       [0.48762465],\n",
              "       [0.9960025 ],\n",
              "       [0.9843999 ],\n",
              "       [0.3324333 ],\n",
              "       [0.99930465],\n",
              "       [0.9704413 ],\n",
              "       [0.80399615],\n",
              "       [0.99191886],\n",
              "       [0.9960025 ],\n",
              "       [0.9966428 ],\n",
              "       [0.9962064 ],\n",
              "       [0.9918684 ],\n",
              "       [0.9946556 ],\n",
              "       [0.99274725],\n",
              "       [0.9969207 ],\n",
              "       [0.98517585],\n",
              "       [0.9974298 ],\n",
              "       [0.97701174],\n",
              "       [0.9314234 ],\n",
              "       [0.99443984],\n",
              "       [0.37035614],\n",
              "       [0.9935495 ],\n",
              "       [0.99543756],\n",
              "       [0.9393884 ],\n",
              "       [0.9997017 ],\n",
              "       [0.99862635],\n",
              "       [0.99602854],\n",
              "       [0.15484312],\n",
              "       [0.7238617 ],\n",
              "       [0.9904963 ],\n",
              "       [0.99670464],\n",
              "       [0.9939938 ],\n",
              "       [0.98337656],\n",
              "       [0.9941901 ],\n",
              "       [0.4558338 ],\n",
              "       [0.99639964],\n",
              "       [0.99666506],\n",
              "       [0.98882574],\n",
              "       [0.99096304],\n",
              "       [0.97203064],\n",
              "       [0.9875585 ],\n",
              "       [0.99732226],\n",
              "       [0.9050426 ],\n",
              "       [0.99410987],\n",
              "       [0.98312736],\n",
              "       [0.9989843 ],\n",
              "       [0.99864453],\n",
              "       [0.9958916 ],\n",
              "       [0.9969483 ],\n",
              "       [0.9867113 ],\n",
              "       [0.9984664 ],\n",
              "       [0.9995883 ],\n",
              "       [0.33141434],\n",
              "       [0.99843615],\n",
              "       [0.42939502],\n",
              "       [0.9998024 ],\n",
              "       [0.99204046],\n",
              "       [0.99945086],\n",
              "       [0.995974  ],\n",
              "       [0.99865794],\n",
              "       [0.99770087],\n",
              "       [0.9926339 ],\n",
              "       [0.9901411 ],\n",
              "       [0.99975127],\n",
              "       [0.37081125],\n",
              "       [0.9957004 ],\n",
              "       [0.52895266],\n",
              "       [0.9905352 ],\n",
              "       [0.9992932 ],\n",
              "       [0.9950984 ],\n",
              "       [0.6087304 ],\n",
              "       [0.98761356],\n",
              "       [0.9994011 ],\n",
              "       [0.99765116],\n",
              "       [0.9361356 ],\n",
              "       [0.99924856],\n",
              "       [0.9917093 ],\n",
              "       [0.9987153 ],\n",
              "       [0.98905385],\n",
              "       [0.9953414 ],\n",
              "       [0.99979025],\n",
              "       [0.7661237 ],\n",
              "       [0.99994576],\n",
              "       [0.9953785 ],\n",
              "       [0.99421084],\n",
              "       [0.97693264],\n",
              "       [0.9999596 ],\n",
              "       [0.9941223 ],\n",
              "       [0.99921834],\n",
              "       [0.9941782 ],\n",
              "       [0.9991524 ],\n",
              "       [0.9745293 ],\n",
              "       [0.9939414 ],\n",
              "       [0.998896  ],\n",
              "       [0.98844135],\n",
              "       [0.93722576],\n",
              "       [0.99875057],\n",
              "       [0.9992705 ],\n",
              "       [0.32805625],\n",
              "       [0.99784505],\n",
              "       [0.997981  ],\n",
              "       [0.9836473 ],\n",
              "       [0.98745817],\n",
              "       [0.18189588],\n",
              "       [0.99492764],\n",
              "       [0.11782537],\n",
              "       [0.9979867 ],\n",
              "       [0.93636674],\n",
              "       [0.9879347 ],\n",
              "       [0.9999739 ],\n",
              "       [0.9778096 ],\n",
              "       [0.9780181 ],\n",
              "       [0.9991703 ],\n",
              "       [0.9846495 ],\n",
              "       [0.81118053]], dtype=float32)"
            ]
          },
          "metadata": {},
          "execution_count": 28
        }
      ]
    },
    {
      "cell_type": "code",
      "source": [
        "y_test_pred_decoded = y_test_pred > 0.5"
      ],
      "metadata": {
        "id": "k0kUy4BrIbgU"
      },
      "execution_count": 29,
      "outputs": []
    },
    {
      "cell_type": "code",
      "source": [
        "y_test_pred_decoded"
      ],
      "metadata": {
        "id": "A3ELeeHaImm1",
        "colab": {
          "base_uri": "https://localhost:8080/"
        },
        "outputId": "588dc008-f80b-4a5a-b920-4b5fb5413d97"
      },
      "execution_count": 30,
      "outputs": [
        {
          "output_type": "execute_result",
          "data": {
            "text/plain": [
              "array([[ True],\n",
              "       [ True],\n",
              "       [ True],\n",
              "       [ True],\n",
              "       [False],\n",
              "       [False],\n",
              "       [ True],\n",
              "       [False],\n",
              "       [ True],\n",
              "       [False],\n",
              "       [ True],\n",
              "       [False],\n",
              "       [False],\n",
              "       [False],\n",
              "       [ True],\n",
              "       [False],\n",
              "       [False],\n",
              "       [False],\n",
              "       [ True],\n",
              "       [ True],\n",
              "       [ True],\n",
              "       [False],\n",
              "       [False],\n",
              "       [ True],\n",
              "       [False],\n",
              "       [ True],\n",
              "       [ True],\n",
              "       [ True],\n",
              "       [ True],\n",
              "       [False],\n",
              "       [ True],\n",
              "       [ True],\n",
              "       [False],\n",
              "       [ True],\n",
              "       [ True],\n",
              "       [False],\n",
              "       [False],\n",
              "       [ True],\n",
              "       [ True],\n",
              "       [ True],\n",
              "       [ True],\n",
              "       [False],\n",
              "       [False],\n",
              "       [ True],\n",
              "       [ True],\n",
              "       [ True],\n",
              "       [False],\n",
              "       [ True],\n",
              "       [ True],\n",
              "       [False],\n",
              "       [ True],\n",
              "       [ True],\n",
              "       [False],\n",
              "       [False],\n",
              "       [ True],\n",
              "       [ True],\n",
              "       [False],\n",
              "       [ True],\n",
              "       [ True],\n",
              "       [ True],\n",
              "       [ True],\n",
              "       [ True],\n",
              "       [False],\n",
              "       [ True],\n",
              "       [False],\n",
              "       [False],\n",
              "       [False],\n",
              "       [ True],\n",
              "       [ True],\n",
              "       [ True],\n",
              "       [ True],\n",
              "       [False],\n",
              "       [ True],\n",
              "       [False],\n",
              "       [False],\n",
              "       [ True],\n",
              "       [ True],\n",
              "       [ True],\n",
              "       [ True],\n",
              "       [ True],\n",
              "       [False],\n",
              "       [ True],\n",
              "       [ True],\n",
              "       [False],\n",
              "       [ True],\n",
              "       [False],\n",
              "       [ True],\n",
              "       [False],\n",
              "       [ True],\n",
              "       [False],\n",
              "       [False],\n",
              "       [ True],\n",
              "       [ True],\n",
              "       [ True],\n",
              "       [False],\n",
              "       [ True],\n",
              "       [ True],\n",
              "       [False],\n",
              "       [False],\n",
              "       [ True],\n",
              "       [ True],\n",
              "       [False],\n",
              "       [False],\n",
              "       [False],\n",
              "       [ True],\n",
              "       [ True],\n",
              "       [False],\n",
              "       [ True],\n",
              "       [ True],\n",
              "       [False],\n",
              "       [ True],\n",
              "       [ True],\n",
              "       [ True],\n",
              "       [ True],\n",
              "       [ True],\n",
              "       [ True],\n",
              "       [ True],\n",
              "       [False],\n",
              "       [ True],\n",
              "       [ True],\n",
              "       [False],\n",
              "       [ True],\n",
              "       [ True],\n",
              "       [ True],\n",
              "       [ True],\n",
              "       [ True],\n",
              "       [False],\n",
              "       [False],\n",
              "       [False],\n",
              "       [False],\n",
              "       [ True],\n",
              "       [ True],\n",
              "       [False],\n",
              "       [False],\n",
              "       [False],\n",
              "       [ True],\n",
              "       [ True],\n",
              "       [False],\n",
              "       [False],\n",
              "       [ True],\n",
              "       [ True],\n",
              "       [ True],\n",
              "       [False],\n",
              "       [False],\n",
              "       [False],\n",
              "       [False],\n",
              "       [ True],\n",
              "       [ True],\n",
              "       [False],\n",
              "       [False],\n",
              "       [False],\n",
              "       [False],\n",
              "       [ True],\n",
              "       [ True],\n",
              "       [ True],\n",
              "       [ True],\n",
              "       [ True],\n",
              "       [False],\n",
              "       [ True],\n",
              "       [False],\n",
              "       [False],\n",
              "       [ True],\n",
              "       [ True],\n",
              "       [ True],\n",
              "       [ True],\n",
              "       [False],\n",
              "       [False],\n",
              "       [ True],\n",
              "       [ True],\n",
              "       [ True],\n",
              "       [False],\n",
              "       [ True],\n",
              "       [ True],\n",
              "       [False],\n",
              "       [False],\n",
              "       [False],\n",
              "       [ True],\n",
              "       [False],\n",
              "       [ True],\n",
              "       [ True],\n",
              "       [ True],\n",
              "       [False],\n",
              "       [False],\n",
              "       [False],\n",
              "       [False],\n",
              "       [ True],\n",
              "       [ True],\n",
              "       [False],\n",
              "       [False],\n",
              "       [ True],\n",
              "       [ True],\n",
              "       [ True],\n",
              "       [ True],\n",
              "       [False],\n",
              "       [ True],\n",
              "       [ True],\n",
              "       [False],\n",
              "       [ True],\n",
              "       [False],\n",
              "       [False],\n",
              "       [False],\n",
              "       [False],\n",
              "       [False],\n",
              "       [ True],\n",
              "       [False],\n",
              "       [ True],\n",
              "       [ True],\n",
              "       [False],\n",
              "       [ True],\n",
              "       [ True],\n",
              "       [False],\n",
              "       [ True],\n",
              "       [ True],\n",
              "       [False],\n",
              "       [False],\n",
              "       [False],\n",
              "       [False],\n",
              "       [ True],\n",
              "       [False],\n",
              "       [False],\n",
              "       [ True],\n",
              "       [ True],\n",
              "       [False],\n",
              "       [ True],\n",
              "       [ True],\n",
              "       [False],\n",
              "       [ True],\n",
              "       [False],\n",
              "       [ True],\n",
              "       [ True],\n",
              "       [False],\n",
              "       [False],\n",
              "       [False],\n",
              "       [False],\n",
              "       [ True],\n",
              "       [ True],\n",
              "       [False],\n",
              "       [ True],\n",
              "       [ True],\n",
              "       [ True],\n",
              "       [ True],\n",
              "       [ True],\n",
              "       [ True],\n",
              "       [ True],\n",
              "       [ True],\n",
              "       [ True],\n",
              "       [ True],\n",
              "       [ True],\n",
              "       [ True],\n",
              "       [ True],\n",
              "       [ True],\n",
              "       [ True],\n",
              "       [ True],\n",
              "       [ True],\n",
              "       [False],\n",
              "       [ True],\n",
              "       [ True],\n",
              "       [ True],\n",
              "       [ True],\n",
              "       [ True],\n",
              "       [ True],\n",
              "       [ True],\n",
              "       [ True],\n",
              "       [ True],\n",
              "       [ True],\n",
              "       [ True],\n",
              "       [ True],\n",
              "       [ True],\n",
              "       [ True],\n",
              "       [ True],\n",
              "       [ True],\n",
              "       [ True],\n",
              "       [ True],\n",
              "       [ True],\n",
              "       [ True],\n",
              "       [ True],\n",
              "       [ True],\n",
              "       [ True],\n",
              "       [ True],\n",
              "       [ True],\n",
              "       [ True],\n",
              "       [False],\n",
              "       [ True],\n",
              "       [ True],\n",
              "       [ True],\n",
              "       [ True],\n",
              "       [ True],\n",
              "       [ True],\n",
              "       [ True],\n",
              "       [ True],\n",
              "       [ True],\n",
              "       [ True],\n",
              "       [ True],\n",
              "       [ True],\n",
              "       [ True],\n",
              "       [ True],\n",
              "       [ True],\n",
              "       [ True],\n",
              "       [ True],\n",
              "       [ True],\n",
              "       [ True],\n",
              "       [ True],\n",
              "       [ True],\n",
              "       [ True],\n",
              "       [ True],\n",
              "       [ True],\n",
              "       [ True],\n",
              "       [ True],\n",
              "       [ True],\n",
              "       [ True],\n",
              "       [ True],\n",
              "       [ True],\n",
              "       [ True],\n",
              "       [ True],\n",
              "       [ True],\n",
              "       [ True],\n",
              "       [ True],\n",
              "       [ True],\n",
              "       [ True],\n",
              "       [ True],\n",
              "       [ True],\n",
              "       [ True],\n",
              "       [ True],\n",
              "       [ True],\n",
              "       [ True],\n",
              "       [ True],\n",
              "       [ True],\n",
              "       [ True],\n",
              "       [ True],\n",
              "       [ True],\n",
              "       [ True],\n",
              "       [ True],\n",
              "       [ True],\n",
              "       [ True],\n",
              "       [ True],\n",
              "       [ True],\n",
              "       [ True],\n",
              "       [ True],\n",
              "       [ True],\n",
              "       [ True],\n",
              "       [ True],\n",
              "       [ True],\n",
              "       [ True],\n",
              "       [ True],\n",
              "       [ True],\n",
              "       [ True],\n",
              "       [ True],\n",
              "       [False],\n",
              "       [ True],\n",
              "       [ True],\n",
              "       [ True],\n",
              "       [ True],\n",
              "       [ True],\n",
              "       [ True],\n",
              "       [ True],\n",
              "       [ True],\n",
              "       [ True],\n",
              "       [ True],\n",
              "       [ True],\n",
              "       [False],\n",
              "       [ True],\n",
              "       [ True],\n",
              "       [ True],\n",
              "       [ True],\n",
              "       [ True],\n",
              "       [ True],\n",
              "       [ True],\n",
              "       [ True],\n",
              "       [ True],\n",
              "       [ True],\n",
              "       [ True],\n",
              "       [False],\n",
              "       [ True],\n",
              "       [ True],\n",
              "       [ True],\n",
              "       [ True],\n",
              "       [ True],\n",
              "       [ True],\n",
              "       [ True],\n",
              "       [ True],\n",
              "       [ True],\n",
              "       [ True],\n",
              "       [ True],\n",
              "       [ True],\n",
              "       [ True],\n",
              "       [ True],\n",
              "       [ True],\n",
              "       [False],\n",
              "       [ True],\n",
              "       [ True],\n",
              "       [False],\n",
              "       [ True],\n",
              "       [ True],\n",
              "       [ True],\n",
              "       [ True],\n",
              "       [ True],\n",
              "       [ True],\n",
              "       [ True],\n",
              "       [ True],\n",
              "       [ True],\n",
              "       [ True],\n",
              "       [ True],\n",
              "       [ True],\n",
              "       [ True],\n",
              "       [ True],\n",
              "       [ True],\n",
              "       [ True],\n",
              "       [ True],\n",
              "       [ True],\n",
              "       [ True],\n",
              "       [False],\n",
              "       [ True],\n",
              "       [ True],\n",
              "       [ True],\n",
              "       [ True],\n",
              "       [ True],\n",
              "       [ True],\n",
              "       [ True],\n",
              "       [ True],\n",
              "       [ True],\n",
              "       [ True],\n",
              "       [ True],\n",
              "       [ True],\n",
              "       [ True],\n",
              "       [ True],\n",
              "       [ True],\n",
              "       [ True],\n",
              "       [ True],\n",
              "       [ True],\n",
              "       [ True],\n",
              "       [ True],\n",
              "       [ True],\n",
              "       [ True],\n",
              "       [ True],\n",
              "       [ True],\n",
              "       [False],\n",
              "       [ True],\n",
              "       [False],\n",
              "       [ True],\n",
              "       [ True],\n",
              "       [ True],\n",
              "       [ True],\n",
              "       [ True],\n",
              "       [ True],\n",
              "       [ True],\n",
              "       [ True],\n",
              "       [ True],\n",
              "       [ True],\n",
              "       [ True],\n",
              "       [ True],\n",
              "       [ True],\n",
              "       [ True],\n",
              "       [ True],\n",
              "       [ True],\n",
              "       [ True],\n",
              "       [ True],\n",
              "       [ True],\n",
              "       [ True],\n",
              "       [ True],\n",
              "       [ True],\n",
              "       [ True],\n",
              "       [ True],\n",
              "       [ True],\n",
              "       [ True],\n",
              "       [ True],\n",
              "       [ True],\n",
              "       [ True],\n",
              "       [ True],\n",
              "       [ True],\n",
              "       [ True],\n",
              "       [ True],\n",
              "       [ True],\n",
              "       [ True],\n",
              "       [ True],\n",
              "       [ True],\n",
              "       [ True],\n",
              "       [ True],\n",
              "       [ True],\n",
              "       [ True],\n",
              "       [ True],\n",
              "       [False],\n",
              "       [ True],\n",
              "       [ True],\n",
              "       [ True],\n",
              "       [ True],\n",
              "       [ True],\n",
              "       [False],\n",
              "       [ True],\n",
              "       [ True],\n",
              "       [ True],\n",
              "       [ True],\n",
              "       [ True],\n",
              "       [ True],\n",
              "       [ True],\n",
              "       [ True],\n",
              "       [ True],\n",
              "       [ True],\n",
              "       [ True],\n",
              "       [ True],\n",
              "       [ True],\n",
              "       [ True],\n",
              "       [ True],\n",
              "       [ True],\n",
              "       [ True],\n",
              "       [ True],\n",
              "       [ True],\n",
              "       [False],\n",
              "       [False],\n",
              "       [ True],\n",
              "       [False],\n",
              "       [ True],\n",
              "       [ True],\n",
              "       [False],\n",
              "       [ True],\n",
              "       [ True],\n",
              "       [ True],\n",
              "       [ True],\n",
              "       [ True],\n",
              "       [ True],\n",
              "       [ True],\n",
              "       [ True],\n",
              "       [ True],\n",
              "       [ True],\n",
              "       [ True],\n",
              "       [ True],\n",
              "       [ True],\n",
              "       [ True],\n",
              "       [ True],\n",
              "       [ True],\n",
              "       [False],\n",
              "       [ True],\n",
              "       [ True],\n",
              "       [ True],\n",
              "       [ True],\n",
              "       [ True],\n",
              "       [ True],\n",
              "       [False],\n",
              "       [ True],\n",
              "       [ True],\n",
              "       [ True],\n",
              "       [ True],\n",
              "       [ True],\n",
              "       [ True],\n",
              "       [False],\n",
              "       [ True],\n",
              "       [ True],\n",
              "       [ True],\n",
              "       [ True],\n",
              "       [ True],\n",
              "       [ True],\n",
              "       [ True],\n",
              "       [ True],\n",
              "       [ True],\n",
              "       [ True],\n",
              "       [ True],\n",
              "       [ True],\n",
              "       [ True],\n",
              "       [ True],\n",
              "       [ True],\n",
              "       [ True],\n",
              "       [ True],\n",
              "       [False],\n",
              "       [ True],\n",
              "       [False],\n",
              "       [ True],\n",
              "       [ True],\n",
              "       [ True],\n",
              "       [ True],\n",
              "       [ True],\n",
              "       [ True],\n",
              "       [ True],\n",
              "       [ True],\n",
              "       [ True],\n",
              "       [False],\n",
              "       [ True],\n",
              "       [ True],\n",
              "       [ True],\n",
              "       [ True],\n",
              "       [ True],\n",
              "       [ True],\n",
              "       [ True],\n",
              "       [ True],\n",
              "       [ True],\n",
              "       [ True],\n",
              "       [ True],\n",
              "       [ True],\n",
              "       [ True],\n",
              "       [ True],\n",
              "       [ True],\n",
              "       [ True],\n",
              "       [ True],\n",
              "       [ True],\n",
              "       [ True],\n",
              "       [ True],\n",
              "       [ True],\n",
              "       [ True],\n",
              "       [ True],\n",
              "       [ True],\n",
              "       [ True],\n",
              "       [ True],\n",
              "       [ True],\n",
              "       [ True],\n",
              "       [ True],\n",
              "       [ True],\n",
              "       [ True],\n",
              "       [ True],\n",
              "       [ True],\n",
              "       [False],\n",
              "       [ True],\n",
              "       [ True],\n",
              "       [ True],\n",
              "       [ True],\n",
              "       [False],\n",
              "       [ True],\n",
              "       [False],\n",
              "       [ True],\n",
              "       [ True],\n",
              "       [ True],\n",
              "       [ True],\n",
              "       [ True],\n",
              "       [ True],\n",
              "       [ True],\n",
              "       [ True],\n",
              "       [ True]])"
            ]
          },
          "metadata": {},
          "execution_count": 30
        }
      ]
    },
    {
      "cell_type": "code",
      "source": [
        "import sklearn.metrics as metrics\n",
        "cm = metrics.confusion_matrix(y_test, y_test_pred_decoded)\n",
        "accuracy = metrics.accuracy_score(y_test, y_test_pred_decoded)\n",
        "error = 1 - accuracy\n",
        "precision = metrics.precision_score(y_test, y_test_pred_decoded, average = 'weighted')\n",
        "recall = metrics.recall_score(y_test, y_test_pred_decoded, average = 'weighted')\n",
        "f1 = metrics.f1_score(y_test, y_test_pred_decoded, average = 'weighted')\n",
        "\n",
        "print('accuracy: ', accuracy)\n",
        "print('error: ', error)\n",
        "print('precision: ', precision)\n",
        "print('recall: ', recall)\n",
        "print('f1: ', f1)\n",
        "\n",
        "print('\\n')\n",
        "print('The confusion matrix is: ')\n",
        "print(cm)\n",
        "\n",
        "from sklearn.metrics import classification_report\n",
        "print(classification_report(y_test, y_test_pred_decoded))"
      ],
      "metadata": {
        "id": "nD4zohTlIoy8",
        "colab": {
          "base_uri": "https://localhost:8080/"
        },
        "outputId": "72c66bfb-07d4-43f6-cef9-41d1f43dea9f"
      },
      "execution_count": 31,
      "outputs": [
        {
          "output_type": "stream",
          "name": "stdout",
          "text": [
            "accuracy:  0.7483974358974359\n",
            "error:  0.2516025641025641\n",
            "precision:  0.7590145642471223\n",
            "recall:  0.7483974358974359\n",
            "f1:  0.7269342111406826\n",
            "\n",
            "\n",
            "The confusion matrix is: \n",
            "[[103 131]\n",
            " [ 26 364]]\n",
            "              precision    recall  f1-score   support\n",
            "\n",
            "           0       0.80      0.44      0.57       234\n",
            "           1       0.74      0.93      0.82       390\n",
            "\n",
            "    accuracy                           0.75       624\n",
            "   macro avg       0.77      0.69      0.70       624\n",
            "weighted avg       0.76      0.75      0.73       624\n",
            "\n"
          ]
        }
      ]
    },
    {
      "cell_type": "code",
      "source": [
        "# Now given an x-ray lets predict\n",
        "\n",
        "img = load_img('/content/drive/MyDrive/chest_xray/val/NORMAL/NORMAL2-IM-1427-0001.jpeg', target_size = (256,256))\n",
        "img = img_to_array(img)\n",
        "img = img / 255\n",
        "img = np.expand_dims(img, axis = 0)\n",
        "print(img.shape)\n",
        "\n",
        "prediction = model.predict(img)\n",
        "prediction = (prediction > 0.5)\n",
        "prediction = prediction[0][0]\n",
        "prediction\n",
        "\n",
        "reverse_translate = {0: 'NORMAL', 1: 'PNEUMONIA'}\n",
        "print('The given sample is', reverse_translate[prediction])"
      ],
      "metadata": {
        "id": "glTCFVaTI3w7",
        "colab": {
          "base_uri": "https://localhost:8080/"
        },
        "outputId": "6ffbb517-1e3e-4bea-c5b1-bb8a4ffc77ce"
      },
      "execution_count": 32,
      "outputs": [
        {
          "output_type": "stream",
          "name": "stdout",
          "text": [
            "(1, 256, 256, 3)\n",
            "The given sample is NORMAL\n"
          ]
        }
      ]
    },
    {
      "cell_type": "code",
      "source": [
        "img = load_img('/content/drive/MyDrive/chest_xray/val/PNEUMONIA/person1952_bacteria_4883.jpeg', target_size = (256,256))\n",
        "img = img_to_array(img)\n",
        "img = img / 255\n",
        "img = np.expand_dims(img, axis = 0)\n",
        "img.shape\n",
        "\n",
        "prediction = model.predict(img)\n",
        "prediction = (prediction > 0.5)\n",
        "prediction = prediction[0][0]\n",
        "prediction\n",
        "\n",
        "reverse_translate = {0: 'NORMAL', 1: 'PNEUMONIA'}\n",
        "print('The given sample is', reverse_translate[prediction])"
      ],
      "metadata": {
        "id": "0mNNHsw5SRwq",
        "colab": {
          "base_uri": "https://localhost:8080/"
        },
        "outputId": "eb46dc5a-412d-419b-dbbc-17eb819a62ee"
      },
      "execution_count": 33,
      "outputs": [
        {
          "output_type": "stream",
          "name": "stdout",
          "text": [
            "The given sample is PNEUMONIA\n"
          ]
        }
      ]
    },
    {
      "cell_type": "code",
      "source": [
        ""
      ],
      "metadata": {
        "id": "bObZ-TXhT78c"
      },
      "execution_count": 33,
      "outputs": []
    }
  ]
}