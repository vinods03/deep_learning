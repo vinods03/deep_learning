{
  "nbformat": 4,
  "nbformat_minor": 0,
  "metadata": {
    "colab": {
      "name": "CNN - Covid19.ipynb",
      "provenance": [],
      "collapsed_sections": [],
      "machine_shape": "hm",
      "authorship_tag": "ABX9TyM7MaJWYYJBC8kArbzabKqL",
      "include_colab_link": true
    },
    "kernelspec": {
      "name": "python3",
      "display_name": "Python 3"
    },
    "language_info": {
      "name": "python"
    },
    "accelerator": "GPU",
    "gpuClass": "standard"
  },
  "cells": [
    {
      "cell_type": "markdown",
      "metadata": {
        "id": "view-in-github",
        "colab_type": "text"
      },
      "source": [
        "<a href=\"https://colab.research.google.com/github/vinods03/deep_learning/blob/main/CNN_Covid19.ipynb\" target=\"_parent\"><img src=\"https://colab.research.google.com/assets/colab-badge.svg\" alt=\"Open In Colab\"/></a>"
      ]
    },
    {
      "cell_type": "code",
      "execution_count": 1,
      "metadata": {
        "colab": {
          "base_uri": "https://localhost:8080/"
        },
        "id": "ljSNNe7sTlGB",
        "outputId": "5ac03338-1e8a-4861-ce0d-96334c8c80d3"
      },
      "outputs": [
        {
          "output_type": "stream",
          "name": "stdout",
          "text": [
            "Mounted at /content/drive\n"
          ]
        }
      ],
      "source": [
        "from google.colab import drive\n",
        "drive.mount('/content/drive')"
      ]
    },
    {
      "cell_type": "code",
      "source": [
        "import tensorflow as tf\n",
        "print(tf.__version__)"
      ],
      "metadata": {
        "colab": {
          "base_uri": "https://localhost:8080/"
        },
        "id": "EElvmEfyURQo",
        "outputId": "a074878e-5f89-475f-cedd-82ba5a6c202d"
      },
      "execution_count": 2,
      "outputs": [
        {
          "output_type": "stream",
          "name": "stdout",
          "text": [
            "2.8.2\n"
          ]
        }
      ]
    },
    {
      "cell_type": "code",
      "source": [
        "base_dir = '/content/drive/MyDrive/Covid19-dataset/train'"
      ],
      "metadata": {
        "id": "3M2QvLUMUhba"
      },
      "execution_count": 3,
      "outputs": []
    },
    {
      "cell_type": "code",
      "source": [
        "import os\n",
        "\n",
        "dataset_a = []\n",
        "for item in os.listdir(base_dir):\n",
        "  dataset_a.append(os.path.join(base_dir, item))\n",
        "\n",
        "dataset_a"
      ],
      "metadata": {
        "colab": {
          "base_uri": "https://localhost:8080/"
        },
        "id": "Y60NajXPVB2n",
        "outputId": "90901d80-0606-4ce4-b072-f5ada8069a4e"
      },
      "execution_count": 4,
      "outputs": [
        {
          "output_type": "execute_result",
          "data": {
            "text/plain": [
              "['/content/drive/MyDrive/Covid19-dataset/train/Covid',\n",
              " '/content/drive/MyDrive/Covid19-dataset/train/Normal',\n",
              " '/content/drive/MyDrive/Covid19-dataset/train/Viral Pneumonia']"
            ]
          },
          "metadata": {},
          "execution_count": 4
        }
      ]
    },
    {
      "cell_type": "code",
      "source": [
        "dataset_train = []\n",
        "for i in range(0,len(dataset_a)):\n",
        "  for j in os.listdir(dataset_a[i]):\n",
        "    dataset_train.append(os.path.join(dataset_a[i],j))\n",
        "\n",
        "dataset_train\n",
        "print(len(dataset_train))"
      ],
      "metadata": {
        "colab": {
          "base_uri": "https://localhost:8080/"
        },
        "id": "HEvx5TFZVWKZ",
        "outputId": "dd105bbc-1b25-4612-ea3c-7cfef03f99de"
      },
      "execution_count": 5,
      "outputs": [
        {
          "output_type": "stream",
          "name": "stdout",
          "text": [
            "251\n"
          ]
        }
      ]
    },
    {
      "cell_type": "code",
      "source": [
        "# convert one img into an array\n",
        "\n",
        "from tensorflow.keras.preprocessing.image import load_img, img_to_array\n",
        "img = load_img('/content/drive/MyDrive/Covid19-dataset/train/Viral Pneumonia/012.jpeg', target_size = (256,256))\n",
        "img = img_to_array(img)\n",
        "img = img/255\n",
        "img\n",
        "print(img.shape)"
      ],
      "metadata": {
        "colab": {
          "base_uri": "https://localhost:8080/"
        },
        "id": "tV6aB174WF8x",
        "outputId": "a0fa702a-4438-4e2e-bbd6-6f7c7ba39e84"
      },
      "execution_count": 6,
      "outputs": [
        {
          "output_type": "stream",
          "name": "stdout",
          "text": [
            "(256, 256, 3)\n"
          ]
        }
      ]
    },
    {
      "cell_type": "code",
      "source": [
        "# convert array back to image\n",
        "\n",
        "import matplotlib.pyplot as plt\n",
        "plt.imshow(img)"
      ],
      "metadata": {
        "colab": {
          "base_uri": "https://localhost:8080/",
          "height": 286
        },
        "id": "e7iKS6CXYsgN",
        "outputId": "39e1ba2f-cac9-48f5-f632-b621471cc01d"
      },
      "execution_count": 7,
      "outputs": [
        {
          "output_type": "execute_result",
          "data": {
            "text/plain": [
              "<matplotlib.image.AxesImage at 0x7feeda271810>"
            ]
          },
          "metadata": {},
          "execution_count": 7
        },
        {
          "output_type": "display_data",
          "data": {
            "text/plain": [
              "<Figure size 432x288 with 1 Axes>"
            ],
            "image/png": "[encoded data removed]"
          },
          "metadata": {
            "needs_background": "light"
          }
        }
      ]
    },
    {
      "cell_type": "code",
      "source": [
        "translate = {'Normal':0, 'Viral Pneumonia':1, 'Covid':2}"
      ],
      "metadata": {
        "id": "VT7FFMta0sj2"
      },
      "execution_count": 8,
      "outputs": []
    },
    {
      "cell_type": "code",
      "source": [
        "# create image_array and image_label\n",
        "\n",
        "image_array = []\n",
        "image_label = []\n",
        "\n",
        "for i in dataset_train:\n",
        "  img = load_img(i, target_size = (256,256))\n",
        "  img = img_to_array(img)\n",
        "  img = img/255\n",
        "  image_array.append(img)\n",
        "  label = i.split('/')[-2]\n",
        "  image_label.append(translate[label])"
      ],
      "metadata": {
        "id": "lLmyRx0GY7TB"
      },
      "execution_count": 9,
      "outputs": []
    },
    {
      "cell_type": "code",
      "source": [
        "set(image_label)"
      ],
      "metadata": {
        "colab": {
          "base_uri": "https://localhost:8080/"
        },
        "id": "HuvYaJz2aGDe",
        "outputId": "e8285a47-c921-4607-8871-65f6a8d5b601"
      },
      "execution_count": 10,
      "outputs": [
        {
          "output_type": "execute_result",
          "data": {
            "text/plain": [
              "{0, 1, 2}"
            ]
          },
          "metadata": {},
          "execution_count": 10
        }
      ]
    },
    {
      "cell_type": "code",
      "source": [
        "# image_array"
      ],
      "metadata": {
        "id": "4XJGnJ5la1HN"
      },
      "execution_count": 11,
      "outputs": []
    },
    {
      "cell_type": "code",
      "source": [
        "import numpy as np\n",
        "image_array = np.array(image_array)\n",
        "image_label = np.array(image_label)\n",
        "print(image_array.shape)\n",
        "print(image_label.shape)"
      ],
      "metadata": {
        "colab": {
          "base_uri": "https://localhost:8080/"
        },
        "id": "WutIKxY9al6N",
        "outputId": "9c6bca01-8b97-4b45-d59e-7b3641fefc87"
      },
      "execution_count": 12,
      "outputs": [
        {
          "output_type": "stream",
          "name": "stdout",
          "text": [
            "(251, 256, 256, 3)\n",
            "(251,)\n"
          ]
        }
      ]
    },
    {
      "cell_type": "code",
      "source": [
        "test_dir = '/content/drive/MyDrive/Covid19-dataset/test'"
      ],
      "metadata": {
        "id": "bFGVe2t7ao5n"
      },
      "execution_count": 13,
      "outputs": []
    },
    {
      "cell_type": "code",
      "source": [
        "dataset_b = []\n",
        "\n",
        "for item in os.listdir(test_dir):\n",
        "  dataset_b.append(os.path.join(test_dir,item))\n",
        "\n",
        "dataset_b"
      ],
      "metadata": {
        "colab": {
          "base_uri": "https://localhost:8080/"
        },
        "id": "V7OFh8qRcjPV",
        "outputId": "6da757f2-6f97-4689-fa8f-30eb9a1ca11d"
      },
      "execution_count": 14,
      "outputs": [
        {
          "output_type": "execute_result",
          "data": {
            "text/plain": [
              "['/content/drive/MyDrive/Covid19-dataset/test/Viral Pneumonia',\n",
              " '/content/drive/MyDrive/Covid19-dataset/test/Normal',\n",
              " '/content/drive/MyDrive/Covid19-dataset/test/Covid']"
            ]
          },
          "metadata": {},
          "execution_count": 14
        }
      ]
    },
    {
      "cell_type": "code",
      "source": [
        "dataset_test = []\n",
        "\n",
        "for i in range(0,len(dataset_b)):\n",
        "  for j in os.listdir(dataset_b[i]):\n",
        "    dataset_test.append(os.path.join(dataset_b[i],j))\n",
        "\n",
        "dataset_test"
      ],
      "metadata": {
        "colab": {
          "base_uri": "https://localhost:8080/"
        },
        "id": "Xu7ZcJ9yct0s",
        "outputId": "a660c666-2af3-4bc8-da1c-3d9d48f5c583"
      },
      "execution_count": 15,
      "outputs": [
        {
          "output_type": "execute_result",
          "data": {
            "text/plain": [
              "['/content/drive/MyDrive/Covid19-dataset/test/Viral Pneumonia/0107.jpeg',\n",
              " '/content/drive/MyDrive/Covid19-dataset/test/Viral Pneumonia/0108.jpeg',\n",
              " '/content/drive/MyDrive/Covid19-dataset/test/Viral Pneumonia/0118.jpeg',\n",
              " '/content/drive/MyDrive/Covid19-dataset/test/Viral Pneumonia/0114.jpeg',\n",
              " '/content/drive/MyDrive/Covid19-dataset/test/Viral Pneumonia/0112.jpeg',\n",
              " '/content/drive/MyDrive/Covid19-dataset/test/Viral Pneumonia/0104.jpeg',\n",
              " '/content/drive/MyDrive/Covid19-dataset/test/Viral Pneumonia/0105.jpeg',\n",
              " '/content/drive/MyDrive/Covid19-dataset/test/Viral Pneumonia/0109.jpeg',\n",
              " '/content/drive/MyDrive/Covid19-dataset/test/Viral Pneumonia/0113.jpeg',\n",
              " '/content/drive/MyDrive/Covid19-dataset/test/Viral Pneumonia/0119.jpeg',\n",
              " '/content/drive/MyDrive/Covid19-dataset/test/Viral Pneumonia/0101.jpeg',\n",
              " '/content/drive/MyDrive/Covid19-dataset/test/Viral Pneumonia/0102.jpeg',\n",
              " '/content/drive/MyDrive/Covid19-dataset/test/Viral Pneumonia/0115.jpeg',\n",
              " '/content/drive/MyDrive/Covid19-dataset/test/Viral Pneumonia/0111.jpeg',\n",
              " '/content/drive/MyDrive/Covid19-dataset/test/Viral Pneumonia/0106.jpeg',\n",
              " '/content/drive/MyDrive/Covid19-dataset/test/Viral Pneumonia/0120.jpeg',\n",
              " '/content/drive/MyDrive/Covid19-dataset/test/Viral Pneumonia/0110.jpeg',\n",
              " '/content/drive/MyDrive/Covid19-dataset/test/Viral Pneumonia/0103.jpeg',\n",
              " '/content/drive/MyDrive/Covid19-dataset/test/Viral Pneumonia/0116.jpeg',\n",
              " '/content/drive/MyDrive/Covid19-dataset/test/Viral Pneumonia/0117.jpeg',\n",
              " '/content/drive/MyDrive/Covid19-dataset/test/Normal/0105.jpeg',\n",
              " '/content/drive/MyDrive/Covid19-dataset/test/Normal/0118.jpeg',\n",
              " '/content/drive/MyDrive/Covid19-dataset/test/Normal/0101.jpeg',\n",
              " '/content/drive/MyDrive/Covid19-dataset/test/Normal/0117.jpeg',\n",
              " '/content/drive/MyDrive/Covid19-dataset/test/Normal/0106.jpeg',\n",
              " '/content/drive/MyDrive/Covid19-dataset/test/Normal/0115.jpeg',\n",
              " '/content/drive/MyDrive/Covid19-dataset/test/Normal/0110.jpeg',\n",
              " '/content/drive/MyDrive/Covid19-dataset/test/Normal/0107.jpeg',\n",
              " '/content/drive/MyDrive/Covid19-dataset/test/Normal/0111.jpeg',\n",
              " '/content/drive/MyDrive/Covid19-dataset/test/Normal/0102.jpeg',\n",
              " '/content/drive/MyDrive/Covid19-dataset/test/Normal/0112.jpeg',\n",
              " '/content/drive/MyDrive/Covid19-dataset/test/Normal/0114.jpeg',\n",
              " '/content/drive/MyDrive/Covid19-dataset/test/Normal/0108.jpeg',\n",
              " '/content/drive/MyDrive/Covid19-dataset/test/Normal/0116.jpeg',\n",
              " '/content/drive/MyDrive/Covid19-dataset/test/Normal/0103.jpeg',\n",
              " '/content/drive/MyDrive/Covid19-dataset/test/Normal/0109.jpeg',\n",
              " '/content/drive/MyDrive/Covid19-dataset/test/Normal/0122.jpeg',\n",
              " '/content/drive/MyDrive/Covid19-dataset/test/Normal/0121.jpeg',\n",
              " '/content/drive/MyDrive/Covid19-dataset/test/Normal/0120.jpeg',\n",
              " '/content/drive/MyDrive/Covid19-dataset/test/Normal/0119.jpeg',\n",
              " '/content/drive/MyDrive/Covid19-dataset/test/Covid/0100.jpeg',\n",
              " '/content/drive/MyDrive/Covid19-dataset/test/Covid/096.png',\n",
              " '/content/drive/MyDrive/Covid19-dataset/test/Covid/0113.jpg',\n",
              " '/content/drive/MyDrive/Covid19-dataset/test/Covid/0108.jpeg',\n",
              " '/content/drive/MyDrive/Covid19-dataset/test/Covid/auntminnie-a-2020_01_28_23_51_6665_2020_01_28_Vietnam_coronavirus.jpeg',\n",
              " '/content/drive/MyDrive/Covid19-dataset/test/Covid/0119.jpeg',\n",
              " '/content/drive/MyDrive/Covid19-dataset/test/Covid/0118.jpeg',\n",
              " '/content/drive/MyDrive/Covid19-dataset/test/Covid/COVID-00012.jpg',\n",
              " '/content/drive/MyDrive/Covid19-dataset/test/Covid/0115.jpeg',\n",
              " '/content/drive/MyDrive/Covid19-dataset/test/Covid/094.png',\n",
              " '/content/drive/MyDrive/Covid19-dataset/test/Covid/0102.jpeg',\n",
              " '/content/drive/MyDrive/Covid19-dataset/test/Covid/098.jpeg',\n",
              " '/content/drive/MyDrive/Covid19-dataset/test/Covid/COVID-00037.jpg',\n",
              " '/content/drive/MyDrive/Covid19-dataset/test/Covid/auntminnie-2020_01_31_20_24_2322_2020_01_31_x-ray_coronavirus_US.jpg',\n",
              " '/content/drive/MyDrive/Covid19-dataset/test/Covid/0120.jpg',\n",
              " '/content/drive/MyDrive/Covid19-dataset/test/Covid/COVID-00022.jpg',\n",
              " '/content/drive/MyDrive/Covid19-dataset/test/Covid/COVID-00003b.jpg',\n",
              " '/content/drive/MyDrive/Covid19-dataset/test/Covid/0106.jpeg',\n",
              " '/content/drive/MyDrive/Covid19-dataset/test/Covid/COVID-00033.jpg',\n",
              " '/content/drive/MyDrive/Covid19-dataset/test/Covid/auntminnie-c-2020_01_28_23_51_6665_2020_01_28_Vietnam_coronavirus.jpeg',\n",
              " '/content/drive/MyDrive/Covid19-dataset/test/Covid/0112.jpg',\n",
              " '/content/drive/MyDrive/Covid19-dataset/test/Covid/auntminnie-b-2020_01_28_23_51_6665_2020_01_28_Vietnam_coronavirus.jpeg',\n",
              " '/content/drive/MyDrive/Covid19-dataset/test/Covid/radiopaedia-2019-novel-coronavirus-infected-pneumonia.jpg',\n",
              " '/content/drive/MyDrive/Covid19-dataset/test/Covid/0105.png',\n",
              " '/content/drive/MyDrive/Covid19-dataset/test/Covid/0111.jpg',\n",
              " '/content/drive/MyDrive/Covid19-dataset/test/Covid/auntminnie-d-2020_01_28_23_51_6665_2020_01_28_Vietnam_coronavirus.jpeg']"
            ]
          },
          "metadata": {},
          "execution_count": 15
        }
      ]
    },
    {
      "cell_type": "code",
      "source": [
        "test_array = []\n",
        "test_label = []\n",
        "\n",
        "for item in dataset_test:\n",
        "  img = load_img(item, target_size = (256,256))\n",
        "  img = img_to_array(img)\n",
        "  img = img/255\n",
        "  test_array.append(img)\n",
        "  label = item.split('/')[-2]\n",
        "  test_label.append(translate[label])\n",
        "\n",
        "set(test_label)"
      ],
      "metadata": {
        "colab": {
          "base_uri": "https://localhost:8080/"
        },
        "id": "-tltgmMMgyA_",
        "outputId": "c379e525-a2ac-4fc4-d5ef-1e8a24ff558b"
      },
      "execution_count": 16,
      "outputs": [
        {
          "output_type": "execute_result",
          "data": {
            "text/plain": [
              "{0, 1, 2}"
            ]
          },
          "metadata": {},
          "execution_count": 16
        }
      ]
    },
    {
      "cell_type": "code",
      "source": [
        "test_array = np.array(test_array)\n",
        "test_label = np.array(test_label)\n",
        "\n",
        "print(test_array.shape)\n",
        "print(test_label.shape)"
      ],
      "metadata": {
        "colab": {
          "base_uri": "https://localhost:8080/"
        },
        "id": "RD7HIazxhpR7",
        "outputId": "162974cf-d08c-42c1-e920-74e29a719285"
      },
      "execution_count": 17,
      "outputs": [
        {
          "output_type": "stream",
          "name": "stdout",
          "text": [
            "(66, 256, 256, 3)\n",
            "(66,)\n"
          ]
        }
      ]
    },
    {
      "cell_type": "code",
      "source": [
        "c = len(set(image_label))\n",
        "print('Number of classes:',c)"
      ],
      "metadata": {
        "colab": {
          "base_uri": "https://localhost:8080/"
        },
        "id": "kN7lY1fzz6b0",
        "outputId": "dbbd9e60-1470-419c-9b46-3936f57837f5"
      },
      "execution_count": 18,
      "outputs": [
        {
          "output_type": "stream",
          "name": "stdout",
          "text": [
            "Number of classes: 3\n"
          ]
        }
      ]
    },
    {
      "cell_type": "code",
      "source": [
        "# Build model\n",
        "\n",
        "from tensorflow.keras.layers import Input, Conv2D, BatchNormalization, Flatten, GlobalMaxPooling2D, Dropout, Dense\n",
        "from tensorflow.keras.models import Model"
      ],
      "metadata": {
        "id": "Gsj5syfDiyJZ"
      },
      "execution_count": 19,
      "outputs": []
    },
    {
      "cell_type": "code",
      "source": [
        "# image_array[0].shape\n",
        "i = Input(shape = image_array[0].shape)\n",
        "\n",
        "x = Conv2D(32, (3,3), strides = 2, activation = 'relu', padding = 'valid')(i)\n",
        "x = BatchNormalization()(x)\n",
        "\n",
        "x = Conv2D(64, (3,3), strides = 2, activation = 'relu', padding = 'valid')(x)\n",
        "x = BatchNormalization()(x)\n",
        "\n",
        "x = Conv2D(128, (3,3), strides = 2, activation = 'relu', padding = 'valid')(x)\n",
        "x = BatchNormalization()(x)\n",
        "\n",
        "x = Conv2D(128, (3,3), strides = 2, activation = 'relu', padding = 'valid')(x)\n",
        "x = BatchNormalization()(x)\n",
        "\n",
        "x = Conv2D(128, (3,3), strides = 2, activation = 'relu', padding = 'valid')(x)\n",
        "x = BatchNormalization()(x)\n",
        "\n",
        "x = Conv2D(128, (3,3), strides = 2, activation = 'relu', padding = 'valid')(x)\n",
        "x = BatchNormalization()(x)\n",
        "\n",
        "# x = Conv2D(128, (3,3), strides = 2, activation = 'relu', padding = 'valid')(x)\n",
        "# x = BatchNormalization()(x) \n",
        "\n",
        "# x = Flatten()(x)\n",
        "x = GlobalMaxPooling2D()(x)\n",
        "\n",
        "x = Dropout(0.2)(x)\n",
        "x = Dense(128, activation = 'relu')(x)\n",
        "\n",
        "x = Dropout(0.2)(x)\n",
        "x = Dense(c, activation = 'softmax')(x)\n",
        "\n",
        "m = Model(i,x)"
      ],
      "metadata": {
        "id": "7Ih_PNCfy2gb"
      },
      "execution_count": 20,
      "outputs": []
    },
    {
      "cell_type": "code",
      "source": [
        "# compile and fit the model\n",
        "\n",
        "# 0.001 is the default learning rate\n",
        "# m.compile(optimizer = 'adam', loss = 'sparse_categorical_crossentropy', metrics = ['accuracy'])\n",
        "\n",
        "# opt = tf.keras.optimizers.Adam(0.001)\n",
        "opt = tf.keras.optimizers.Adam(0.0001)\n",
        "# opt = tf.keras.optimizers.Adam(0.00001) didnt help, accuracy and val_accuracy went down drastically\n",
        "m.compile(optimizer = opt, loss = 'sparse_categorical_crossentropy', metrics = ['accuracy'])\n",
        "\n",
        "r = m.fit(image_array, image_label, validation_data = (test_array, test_label), epochs = 20)"
      ],
      "metadata": {
        "colab": {
          "base_uri": "https://localhost:8080/"
        },
        "id": "SzS-9M16y_a0",
        "outputId": "e4ca7b01-972c-446d-8d6c-eabe45f76e1c"
      },
      "execution_count": 21,
      "outputs": [
        {
          "output_type": "stream",
          "name": "stdout",
          "text": [
            "Epoch 1/20\n",
            "8/8 [==============================] - 12s 100ms/step - loss: 1.9024 - accuracy: 0.3984 - val_loss: 1.0988 - val_accuracy: 0.2727\n",
            "Epoch 2/20\n",
            "8/8 [==============================] - 0s 35ms/step - loss: 0.7646 - accuracy: 0.7450 - val_loss: 1.0970 - val_accuracy: 0.3939\n",
            "Epoch 3/20\n",
            "8/8 [==============================] - 0s 32ms/step - loss: 0.4895 - accuracy: 0.7968 - val_loss: 1.0947 - val_accuracy: 0.3939\n",
            "Epoch 4/20\n",
            "8/8 [==============================] - 0s 33ms/step - loss: 0.3570 - accuracy: 0.8805 - val_loss: 1.0940 - val_accuracy: 0.3939\n",
            "Epoch 5/20\n",
            "8/8 [==============================] - 0s 33ms/step - loss: 0.2932 - accuracy: 0.8924 - val_loss: 1.0933 - val_accuracy: 0.3939\n",
            "Epoch 6/20\n",
            "8/8 [==============================] - 0s 31ms/step - loss: 0.2579 - accuracy: 0.9203 - val_loss: 1.0937 - val_accuracy: 0.3939\n",
            "Epoch 7/20\n",
            "8/8 [==============================] - 0s 32ms/step - loss: 0.1392 - accuracy: 0.9482 - val_loss: 1.0961 - val_accuracy: 0.3939\n",
            "Epoch 8/20\n",
            "8/8 [==============================] - 0s 31ms/step - loss: 0.1088 - accuracy: 0.9721 - val_loss: 1.1015 - val_accuracy: 0.3939\n",
            "Epoch 9/20\n",
            "8/8 [==============================] - 0s 32ms/step - loss: 0.1083 - accuracy: 0.9602 - val_loss: 1.1107 - val_accuracy: 0.3939\n",
            "Epoch 10/20\n",
            "8/8 [==============================] - 0s 34ms/step - loss: 0.1135 - accuracy: 0.9602 - val_loss: 1.1230 - val_accuracy: 0.3939\n",
            "Epoch 11/20\n",
            "8/8 [==============================] - 0s 38ms/step - loss: 0.0570 - accuracy: 0.9880 - val_loss: 1.1362 - val_accuracy: 0.3939\n",
            "Epoch 12/20\n",
            "8/8 [==============================] - 0s 34ms/step - loss: 0.0672 - accuracy: 0.9801 - val_loss: 1.1543 - val_accuracy: 0.3939\n",
            "Epoch 13/20\n",
            "8/8 [==============================] - 0s 33ms/step - loss: 0.0768 - accuracy: 0.9841 - val_loss: 1.1753 - val_accuracy: 0.3939\n",
            "Epoch 14/20\n",
            "8/8 [==============================] - 0s 32ms/step - loss: 0.0527 - accuracy: 0.9880 - val_loss: 1.2105 - val_accuracy: 0.3939\n",
            "Epoch 15/20\n",
            "8/8 [==============================] - 0s 33ms/step - loss: 0.0463 - accuracy: 0.9920 - val_loss: 1.2516 - val_accuracy: 0.3939\n",
            "Epoch 16/20\n",
            "8/8 [==============================] - 0s 32ms/step - loss: 0.0721 - accuracy: 0.9801 - val_loss: 1.3045 - val_accuracy: 0.3939\n",
            "Epoch 17/20\n",
            "8/8 [==============================] - 0s 32ms/step - loss: 0.0490 - accuracy: 0.9801 - val_loss: 1.3695 - val_accuracy: 0.3939\n",
            "Epoch 18/20\n",
            "8/8 [==============================] - 0s 33ms/step - loss: 0.0477 - accuracy: 0.9880 - val_loss: 1.4454 - val_accuracy: 0.3939\n",
            "Epoch 19/20\n",
            "8/8 [==============================] - 0s 32ms/step - loss: 0.0410 - accuracy: 0.9920 - val_loss: 1.5108 - val_accuracy: 0.3939\n",
            "Epoch 20/20\n",
            "8/8 [==============================] - 0s 32ms/step - loss: 0.0389 - accuracy: 0.9880 - val_loss: 1.5957 - val_accuracy: 0.3939\n"
          ]
        }
      ]
    },
    {
      "cell_type": "code",
      "source": [
        "batch_size = 24\n",
        "# data_generator = tf.keras.preprocessing.image.ImageDataGenerator(width_shift_range = 0.1, height_shift_range = 0.1, horizontal_flip = True)\n",
        "# data_generator = tf.keras.preprocessing.image.ImageDataGenerator(width_shift_range = 0.1, height_shift_range = 0.1)\n",
        "data_generator = tf.keras.preprocessing.image.ImageDataGenerator(\n",
        "    featurewise_center=True,\n",
        "    featurewise_std_normalization=True,\n",
        "    rotation_range=20,\n",
        "    width_shift_range=0.2,\n",
        "    height_shift_range=0.2,\n",
        "    # horizontal_flip=True,\n",
        "    # rescale=1./255,\n",
        "    shear_range=0.2,\n",
        "    zoom_range=0.2)\n",
        "train_generator = data_generator.flow(image_array, image_label, batch_size)\n",
        "steps_per_epoch = image_array.shape[0] // batch_size\n",
        "r = m.fit_generator(train_generator, validation_data = (test_array, test_label), steps_per_epoch = steps_per_epoch, epochs = 40)"
      ],
      "metadata": {
        "colab": {
          "base_uri": "https://localhost:8080/"
        },
        "id": "8QWLMrLnF8N2",
        "outputId": "c43ce22b-74dc-4208-fa31-b81ae03e5cf2"
      },
      "execution_count": 22,
      "outputs": [
        {
          "output_type": "stream",
          "name": "stderr",
          "text": [
            "/usr/local/lib/python3.7/dist-packages/ipykernel_launcher.py:16: UserWarning: `Model.fit_generator` is deprecated and will be removed in a future version. Please use `Model.fit`, which supports generators.\n",
            "  app.launch_new_instance()\n",
            "/usr/local/lib/python3.7/dist-packages/keras_preprocessing/image/image_data_generator.py:720: UserWarning: This ImageDataGenerator specifies `featurewise_center`, but it hasn't been fit on any training data. Fit it first by calling `.fit(numpy_data)`.\n",
            "  warnings.warn('This ImageDataGenerator specifies '\n",
            "/usr/local/lib/python3.7/dist-packages/keras_preprocessing/image/image_data_generator.py:728: UserWarning: This ImageDataGenerator specifies `featurewise_std_normalization`, but it hasn't been fit on any training data. Fit it first by calling `.fit(numpy_data)`.\n",
            "  warnings.warn('This ImageDataGenerator specifies '\n"
          ]
        },
        {
          "output_type": "stream",
          "name": "stdout",
          "text": [
            "Epoch 1/40\n",
            "10/10 [==============================] - 3s 276ms/step - loss: 1.0222 - accuracy: 0.6476 - val_loss: 2.1380 - val_accuracy: 0.3939\n",
            "Epoch 2/40\n",
            "10/10 [==============================] - 3s 285ms/step - loss: 1.0078 - accuracy: 0.6333 - val_loss: 2.6979 - val_accuracy: 0.3939\n",
            "Epoch 3/40\n",
            "10/10 [==============================] - 3s 272ms/step - loss: 0.9585 - accuracy: 0.6432 - val_loss: 2.9984 - val_accuracy: 0.3939\n",
            "Epoch 4/40\n",
            "10/10 [==============================] - 3s 270ms/step - loss: 0.8375 - accuracy: 0.6960 - val_loss: 3.3335 - val_accuracy: 0.3939\n",
            "Epoch 5/40\n",
            "10/10 [==============================] - 3s 288ms/step - loss: 0.8754 - accuracy: 0.6792 - val_loss: 3.7164 - val_accuracy: 0.3939\n",
            "Epoch 6/40\n",
            "10/10 [==============================] - 3s 274ms/step - loss: 0.7663 - accuracy: 0.7137 - val_loss: 4.0519 - val_accuracy: 0.3939\n",
            "Epoch 7/40\n",
            "10/10 [==============================] - 3s 288ms/step - loss: 0.7443 - accuracy: 0.7375 - val_loss: 4.2832 - val_accuracy: 0.3939\n",
            "Epoch 8/40\n",
            "10/10 [==============================] - 3s 270ms/step - loss: 0.7042 - accuracy: 0.7269 - val_loss: 4.3950 - val_accuracy: 0.3939\n",
            "Epoch 9/40\n",
            "10/10 [==============================] - 3s 270ms/step - loss: 0.7366 - accuracy: 0.7137 - val_loss: 4.6973 - val_accuracy: 0.3939\n",
            "Epoch 10/40\n",
            "10/10 [==============================] - 3s 291ms/step - loss: 0.6548 - accuracy: 0.7357 - val_loss: 4.6500 - val_accuracy: 0.3939\n",
            "Epoch 11/40\n",
            "10/10 [==============================] - 3s 294ms/step - loss: 0.6327 - accuracy: 0.7445 - val_loss: 4.5422 - val_accuracy: 0.3939\n",
            "Epoch 12/40\n",
            "10/10 [==============================] - 3s 293ms/step - loss: 0.6111 - accuracy: 0.7667 - val_loss: 4.4496 - val_accuracy: 0.3939\n",
            "Epoch 13/40\n",
            "10/10 [==============================] - 3s 276ms/step - loss: 0.5447 - accuracy: 0.7797 - val_loss: 4.3278 - val_accuracy: 0.3939\n",
            "Epoch 14/40\n",
            "10/10 [==============================] - 3s 270ms/step - loss: 0.6896 - accuracy: 0.7445 - val_loss: 4.1148 - val_accuracy: 0.3939\n",
            "Epoch 15/40\n",
            "10/10 [==============================] - 3s 291ms/step - loss: 0.5638 - accuracy: 0.7708 - val_loss: 3.7203 - val_accuracy: 0.3939\n",
            "Epoch 16/40\n",
            "10/10 [==============================] - 3s 271ms/step - loss: 0.5342 - accuracy: 0.7709 - val_loss: 3.4428 - val_accuracy: 0.3939\n",
            "Epoch 17/40\n",
            "10/10 [==============================] - 3s 288ms/step - loss: 0.5099 - accuracy: 0.7709 - val_loss: 3.4061 - val_accuracy: 0.3939\n",
            "Epoch 18/40\n",
            "10/10 [==============================] - 3s 270ms/step - loss: 0.4876 - accuracy: 0.8326 - val_loss: 3.3647 - val_accuracy: 0.3939\n",
            "Epoch 19/40\n",
            "10/10 [==============================] - 3s 294ms/step - loss: 0.5553 - accuracy: 0.7885 - val_loss: 3.1594 - val_accuracy: 0.3939\n",
            "Epoch 20/40\n",
            "10/10 [==============================] - 3s 273ms/step - loss: 0.5528 - accuracy: 0.7930 - val_loss: 2.9022 - val_accuracy: 0.3939\n",
            "Epoch 21/40\n",
            "10/10 [==============================] - 3s 288ms/step - loss: 0.4594 - accuracy: 0.8333 - val_loss: 2.5183 - val_accuracy: 0.3939\n",
            "Epoch 22/40\n",
            "10/10 [==============================] - 3s 272ms/step - loss: 0.4040 - accuracy: 0.8634 - val_loss: 2.1868 - val_accuracy: 0.3939\n",
            "Epoch 23/40\n",
            "10/10 [==============================] - 3s 290ms/step - loss: 0.5259 - accuracy: 0.8018 - val_loss: 1.1717 - val_accuracy: 0.4848\n",
            "Epoch 24/40\n",
            "10/10 [==============================] - 3s 273ms/step - loss: 0.4046 - accuracy: 0.8458 - val_loss: 0.7241 - val_accuracy: 0.6061\n",
            "Epoch 25/40\n",
            "10/10 [==============================] - 3s 276ms/step - loss: 0.5269 - accuracy: 0.7930 - val_loss: 0.4055 - val_accuracy: 0.8333\n",
            "Epoch 26/40\n",
            "10/10 [==============================] - 3s 272ms/step - loss: 0.4455 - accuracy: 0.8194 - val_loss: 0.3309 - val_accuracy: 0.9091\n",
            "Epoch 27/40\n",
            "10/10 [==============================] - 3s 272ms/step - loss: 0.4037 - accuracy: 0.8678 - val_loss: 0.3072 - val_accuracy: 0.9091\n",
            "Epoch 28/40\n",
            "10/10 [==============================] - 3s 270ms/step - loss: 0.4122 - accuracy: 0.8238 - val_loss: 0.3004 - val_accuracy: 0.9091\n",
            "Epoch 29/40\n",
            "10/10 [==============================] - 3s 271ms/step - loss: 0.3848 - accuracy: 0.8458 - val_loss: 0.2829 - val_accuracy: 0.9091\n",
            "Epoch 30/40\n",
            "10/10 [==============================] - 3s 272ms/step - loss: 0.3979 - accuracy: 0.8282 - val_loss: 0.2556 - val_accuracy: 0.9242\n",
            "Epoch 31/40\n",
            "10/10 [==============================] - 3s 288ms/step - loss: 0.4392 - accuracy: 0.8194 - val_loss: 0.2656 - val_accuracy: 0.9242\n",
            "Epoch 32/40\n",
            "10/10 [==============================] - 3s 271ms/step - loss: 0.4029 - accuracy: 0.8326 - val_loss: 0.3819 - val_accuracy: 0.8030\n",
            "Epoch 33/40\n",
            "10/10 [==============================] - 3s 297ms/step - loss: 0.4060 - accuracy: 0.8546 - val_loss: 0.5169 - val_accuracy: 0.7121\n",
            "Epoch 34/40\n",
            "10/10 [==============================] - 3s 288ms/step - loss: 0.4494 - accuracy: 0.8282 - val_loss: 0.4691 - val_accuracy: 0.7424\n",
            "Epoch 35/40\n",
            "10/10 [==============================] - 3s 273ms/step - loss: 0.3311 - accuracy: 0.8546 - val_loss: 0.4150 - val_accuracy: 0.7727\n",
            "Epoch 36/40\n",
            "10/10 [==============================] - 3s 273ms/step - loss: 0.3941 - accuracy: 0.8502 - val_loss: 0.3563 - val_accuracy: 0.8182\n",
            "Epoch 37/40\n",
            "10/10 [==============================] - 3s 275ms/step - loss: 0.4446 - accuracy: 0.8370 - val_loss: 0.3530 - val_accuracy: 0.8030\n",
            "Epoch 38/40\n",
            "10/10 [==============================] - 3s 273ms/step - loss: 0.3144 - accuracy: 0.8767 - val_loss: 0.3440 - val_accuracy: 0.8333\n",
            "Epoch 39/40\n",
            "10/10 [==============================] - 3s 273ms/step - loss: 0.3144 - accuracy: 0.8811 - val_loss: 0.2970 - val_accuracy: 0.8636\n",
            "Epoch 40/40\n",
            "10/10 [==============================] - 3s 289ms/step - loss: 0.3198 - accuracy: 0.8722 - val_loss: 0.2862 - val_accuracy: 0.8939\n"
          ]
        }
      ]
    },
    {
      "cell_type": "code",
      "source": [
        "import matplotlib.pyplot as plt\n",
        "plt.plot(r.history['loss'], label = 'loss')\n",
        "plt.plot(r.history['val_loss'], label = 'val_loss')\n",
        "plt.legend()"
      ],
      "metadata": {
        "colab": {
          "base_uri": "https://localhost:8080/",
          "height": 282
        },
        "id": "6IjTTMaI0fAN",
        "outputId": "68c6acc8-e209-4a27-ae49-1969afdba626"
      },
      "execution_count": 23,
      "outputs": [
        {
          "output_type": "execute_result",
          "data": {
            "text/plain": [
              "<matplotlib.legend.Legend at 0x7fee42a83b10>"
            ]
          },
          "metadata": {},
          "execution_count": 23
        },
        {
          "output_type": "display_data",
          "data": {
            "text/plain": [
              "<Figure size 432x288 with 1 Axes>"
            ],
            "image/png": "[encoded data removed]"
          },
          "metadata": {
            "needs_background": "light"
          }
        }
      ]
    },
    {
      "cell_type": "code",
      "source": [
        "plt.plot(r.history['accuracy'], label = 'accuracy')\n",
        "plt.plot(r.history['val_accuracy'], label = 'val_accuracy')\n",
        "plt.legend()"
      ],
      "metadata": {
        "colab": {
          "base_uri": "https://localhost:8080/",
          "height": 282
        },
        "id": "jVRPQcLG5BMR",
        "outputId": "56b5efd3-4153-44c0-c74a-095a2e7a66d8"
      },
      "execution_count": 24,
      "outputs": [
        {
          "output_type": "execute_result",
          "data": {
            "text/plain": [
              "<matplotlib.legend.Legend at 0x7fee42a47810>"
            ]
          },
          "metadata": {},
          "execution_count": 24
        },
        {
          "output_type": "display_data",
          "data": {
            "text/plain": [
              "<Figure size 432x288 with 1 Axes>"
            ],
            "image/png": "[encoded data removed]"
          },
          "metadata": {
            "needs_background": "light"
          }
        }
      ]
    },
    {
      "cell_type": "code",
      "source": [
        "y_test_pred = m.predict(test_array)\n",
        "# y_test_pred"
      ],
      "metadata": {
        "id": "85fbsrHZCqa9"
      },
      "execution_count": 25,
      "outputs": []
    },
    {
      "cell_type": "code",
      "source": [
        "y_test_pred_decoded = []\n",
        "\n",
        "for i in range(0,len(y_test_pred)):\n",
        "  y_test_pred_decoded.append(y_test_pred[i].argmax())\n",
        "\n",
        "# y_test_pred_decoded"
      ],
      "metadata": {
        "id": "m1_1vDipGX0S"
      },
      "execution_count": 26,
      "outputs": []
    },
    {
      "cell_type": "code",
      "source": [
        "import sklearn.metrics as metrics\n",
        "accuracy = metrics.accuracy_score(test_label, y_test_pred_decoded)\n",
        "error = 1 - accuracy\n",
        "precision = metrics.precision_score(test_label, y_test_pred_decoded, average = 'weighted')\n",
        "recall = metrics.recall_score(test_label, y_test_pred_decoded, average = 'weighted')\n",
        "f1 = metrics.f1_score(test_label, y_test_pred_decoded, average = 'weighted')\n",
        "cm = metrics.confusion_matrix(test_label, y_test_pred_decoded)\n",
        "\n",
        "print('accuracy:', accuracy)\n",
        "print('error:', error)\n",
        "print('precision:', precision)\n",
        "print('recall:', recall)\n",
        "print('f1:', f1)\n",
        "\n",
        "print('\\n')\n",
        "print('Confusion Matrix:')\n",
        "print('\\n')\n",
        "print(cm)\n",
        "\n",
        "from sklearn.metrics import classification_report\n",
        "print(classification_report(test_label, y_test_pred_decoded))"
      ],
      "metadata": {
        "colab": {
          "base_uri": "https://localhost:8080/"
        },
        "id": "UFEDYNi1DAeM",
        "outputId": "990555eb-25a9-4b48-d57a-0757f7afa564"
      },
      "execution_count": 27,
      "outputs": [
        {
          "output_type": "stream",
          "name": "stdout",
          "text": [
            "accuracy: 0.8939393939393939\n",
            "error: 0.10606060606060608\n",
            "precision: 0.907070707070707\n",
            "recall: 0.8939393939393939\n",
            "f1: 0.8922558922558922\n",
            "\n",
            "\n",
            "Confusion Matrix:\n",
            "\n",
            "\n",
            "[[14  6  0]\n",
            " [ 1 19  0]\n",
            " [ 0  0 26]]\n",
            "              precision    recall  f1-score   support\n",
            "\n",
            "           0       0.93      0.70      0.80        20\n",
            "           1       0.76      0.95      0.84        20\n",
            "           2       1.00      1.00      1.00        26\n",
            "\n",
            "    accuracy                           0.89        66\n",
            "   macro avg       0.90      0.88      0.88        66\n",
            "weighted avg       0.91      0.89      0.89        66\n",
            "\n"
          ]
        }
      ]
    },
    {
      "cell_type": "code",
      "source": [
        "reverse_translate = {0:'Normal', 1:'Viral Pneumonia', 2:'Covid'}"
      ],
      "metadata": {
        "id": "bDqxvlBZ3wEr"
      },
      "execution_count": 28,
      "outputs": []
    },
    {
      "cell_type": "code",
      "source": [
        "for i in range(0,len(test_label)):\n",
        "  print('Test image number:',i, '       ','Actual Value:', reverse_translate[test_label[i]], '        ', 'Predicted Value:', reverse_translate[y_test_pred_decoded[i]])"
      ],
      "metadata": {
        "id": "_BuuwvrRK4j3",
        "colab": {
          "base_uri": "https://localhost:8080/"
        },
        "outputId": "6164efae-0265-431c-9ec8-9aae2466db47"
      },
      "execution_count": 29,
      "outputs": [
        {
          "output_type": "stream",
          "name": "stdout",
          "text": [
            "Test image number: 0         Actual Value: Viral Pneumonia          Predicted Value: Viral Pneumonia\n",
            "Test image number: 1         Actual Value: Viral Pneumonia          Predicted Value: Viral Pneumonia\n",
            "Test image number: 2         Actual Value: Viral Pneumonia          Predicted Value: Normal\n",
            "Test image number: 3         Actual Value: Viral Pneumonia          Predicted Value: Viral Pneumonia\n",
            "Test image number: 4         Actual Value: Viral Pneumonia          Predicted Value: Viral Pneumonia\n",
            "Test image number: 5         Actual Value: Viral Pneumonia          Predicted Value: Viral Pneumonia\n",
            "Test image number: 6         Actual Value: Viral Pneumonia          Predicted Value: Viral Pneumonia\n",
            "Test image number: 7         Actual Value: Viral Pneumonia          Predicted Value: Viral Pneumonia\n",
            "Test image number: 8         Actual Value: Viral Pneumonia          Predicted Value: Viral Pneumonia\n",
            "Test image number: 9         Actual Value: Viral Pneumonia          Predicted Value: Viral Pneumonia\n",
            "Test image number: 10         Actual Value: Viral Pneumonia          Predicted Value: Viral Pneumonia\n",
            "Test image number: 11         Actual Value: Viral Pneumonia          Predicted Value: Viral Pneumonia\n",
            "Test image number: 12         Actual Value: Viral Pneumonia          Predicted Value: Viral Pneumonia\n",
            "Test image number: 13         Actual Value: Viral Pneumonia          Predicted Value: Viral Pneumonia\n",
            "Test image number: 14         Actual Value: Viral Pneumonia          Predicted Value: Viral Pneumonia\n",
            "Test image number: 15         Actual Value: Viral Pneumonia          Predicted Value: Viral Pneumonia\n",
            "Test image number: 16         Actual Value: Viral Pneumonia          Predicted Value: Viral Pneumonia\n",
            "Test image number: 17         Actual Value: Viral Pneumonia          Predicted Value: Viral Pneumonia\n",
            "Test image number: 18         Actual Value: Viral Pneumonia          Predicted Value: Viral Pneumonia\n",
            "Test image number: 19         Actual Value: Viral Pneumonia          Predicted Value: Viral Pneumonia\n",
            "Test image number: 20         Actual Value: Normal          Predicted Value: Normal\n",
            "Test image number: 21         Actual Value: Normal          Predicted Value: Normal\n",
            "Test image number: 22         Actual Value: Normal          Predicted Value: Normal\n",
            "Test image number: 23         Actual Value: Normal          Predicted Value: Normal\n",
            "Test image number: 24         Actual Value: Normal          Predicted Value: Normal\n",
            "Test image number: 25         Actual Value: Normal          Predicted Value: Normal\n",
            "Test image number: 26         Actual Value: Normal          Predicted Value: Normal\n",
            "Test image number: 27         Actual Value: Normal          Predicted Value: Viral Pneumonia\n",
            "Test image number: 28         Actual Value: Normal          Predicted Value: Viral Pneumonia\n",
            "Test image number: 29         Actual Value: Normal          Predicted Value: Normal\n",
            "Test image number: 30         Actual Value: Normal          Predicted Value: Normal\n",
            "Test image number: 31         Actual Value: Normal          Predicted Value: Viral Pneumonia\n",
            "Test image number: 32         Actual Value: Normal          Predicted Value: Normal\n",
            "Test image number: 33         Actual Value: Normal          Predicted Value: Normal\n",
            "Test image number: 34         Actual Value: Normal          Predicted Value: Normal\n",
            "Test image number: 35         Actual Value: Normal          Predicted Value: Viral Pneumonia\n",
            "Test image number: 36         Actual Value: Normal          Predicted Value: Normal\n",
            "Test image number: 37         Actual Value: Normal          Predicted Value: Viral Pneumonia\n",
            "Test image number: 38         Actual Value: Normal          Predicted Value: Normal\n",
            "Test image number: 39         Actual Value: Normal          Predicted Value: Viral Pneumonia\n",
            "Test image number: 40         Actual Value: Covid          Predicted Value: Covid\n",
            "Test image number: 41         Actual Value: Covid          Predicted Value: Covid\n",
            "Test image number: 42         Actual Value: Covid          Predicted Value: Covid\n",
            "Test image number: 43         Actual Value: Covid          Predicted Value: Covid\n",
            "Test image number: 44         Actual Value: Covid          Predicted Value: Covid\n",
            "Test image number: 45         Actual Value: Covid          Predicted Value: Covid\n",
            "Test image number: 46         Actual Value: Covid          Predicted Value: Covid\n",
            "Test image number: 47         Actual Value: Covid          Predicted Value: Covid\n",
            "Test image number: 48         Actual Value: Covid          Predicted Value: Covid\n",
            "Test image number: 49         Actual Value: Covid          Predicted Value: Covid\n",
            "Test image number: 50         Actual Value: Covid          Predicted Value: Covid\n",
            "Test image number: 51         Actual Value: Covid          Predicted Value: Covid\n",
            "Test image number: 52         Actual Value: Covid          Predicted Value: Covid\n",
            "Test image number: 53         Actual Value: Covid          Predicted Value: Covid\n",
            "Test image number: 54         Actual Value: Covid          Predicted Value: Covid\n",
            "Test image number: 55         Actual Value: Covid          Predicted Value: Covid\n",
            "Test image number: 56         Actual Value: Covid          Predicted Value: Covid\n",
            "Test image number: 57         Actual Value: Covid          Predicted Value: Covid\n",
            "Test image number: 58         Actual Value: Covid          Predicted Value: Covid\n",
            "Test image number: 59         Actual Value: Covid          Predicted Value: Covid\n",
            "Test image number: 60         Actual Value: Covid          Predicted Value: Covid\n",
            "Test image number: 61         Actual Value: Covid          Predicted Value: Covid\n",
            "Test image number: 62         Actual Value: Covid          Predicted Value: Covid\n",
            "Test image number: 63         Actual Value: Covid          Predicted Value: Covid\n",
            "Test image number: 64         Actual Value: Covid          Predicted Value: Covid\n",
            "Test image number: 65         Actual Value: Covid          Predicted Value: Covid\n"
          ]
        }
      ]
    },
    {
      "cell_type": "code",
      "source": [
        "# Lets take a closer look at some of the images\n",
        "\n",
        "plt.imshow(test_array[39]) # Test image number: 39        Actual Value: Normal          Predicted Value: Viral Pneumonia"
      ],
      "metadata": {
        "colab": {
          "base_uri": "https://localhost:8080/",
          "height": 286
        },
        "id": "xyudcFjy4BxM",
        "outputId": "c2d004d6-de07-4a81-af65-9062439f04c5"
      },
      "execution_count": 31,
      "outputs": [
        {
          "output_type": "execute_result",
          "data": {
            "text/plain": [
              "<matplotlib.image.AxesImage at 0x7fee2ff11690>"
            ]
          },
          "metadata": {},
          "execution_count": 31
        },
        {
          "output_type": "display_data",
          "data": {
            "text/plain": [
              "<Figure size 432x288 with 1 Axes>"
            ],
            "image/png": "[encoded data removed]"
          },
          "metadata": {
            "needs_background": "light"
          }
        }
      ]
    },
    {
      "cell_type": "code",
      "source": [
        ""
      ],
      "metadata": {
        "id": "aagadBg44VfZ"
      },
      "execution_count": 30,
      "outputs": []
    }
  ]
}