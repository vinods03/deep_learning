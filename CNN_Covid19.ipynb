{
  "nbformat": 4,
  "nbformat_minor": 0,
  "metadata": {
    "colab": {
      "name": "CNN - Covid19.ipynb",
      "provenance": [],
      "collapsed_sections": [],
      "machine_shape": "hm",
      "authorship_tag": "ABX9TyOUXjI5/oxNzhdpbw3X5wRd",
      "include_colab_link": true
    },
    "kernelspec": {
      "name": "python3",
      "display_name": "Python 3"
    },
    "language_info": {
      "name": "python"
    },
    "accelerator": "GPU",
    "gpuClass": "standard"
  },
  "cells": [
    {
      "cell_type": "markdown",
      "metadata": {
        "id": "view-in-github",
        "colab_type": "text"
      },
      "source": [
        "<a href=\"https://colab.research.google.com/github/vinods03/deep_learning/blob/main/CNN_Covid19.ipynb\" target=\"_parent\"><img src=\"https://colab.research.google.com/assets/colab-badge.svg\" alt=\"Open In Colab\"/></a>"
      ]
    },
    {
      "cell_type": "code",
      "execution_count": 1,
      "metadata": {
        "colab": {
          "base_uri": "https://localhost:8080/"
        },
        "id": "ljSNNe7sTlGB",
        "outputId": "c5fdbcb9-124a-4733-84e7-4039a1d25841"
      },
      "outputs": [
        {
          "output_type": "stream",
          "name": "stdout",
          "text": [
            "Mounted at /content/drive\n"
          ]
        }
      ],
      "source": [
        "from google.colab import drive\n",
        "drive.mount('/content/drive')"
      ]
    },
    {
      "cell_type": "code",
      "source": [
        "import tensorflow as tf\n",
        "print(tf.__version__)"
      ],
      "metadata": {
        "colab": {
          "base_uri": "https://localhost:8080/"
        },
        "id": "EElvmEfyURQo",
        "outputId": "3afb8005-31a4-458c-ce65-0d529d70008f"
      },
      "execution_count": 2,
      "outputs": [
        {
          "output_type": "stream",
          "name": "stdout",
          "text": [
            "2.8.2\n"
          ]
        }
      ]
    },
    {
      "cell_type": "code",
      "source": [
        "base_dir = '/content/drive/MyDrive/Covid19-dataset/train'"
      ],
      "metadata": {
        "id": "3M2QvLUMUhba"
      },
      "execution_count": 3,
      "outputs": []
    },
    {
      "cell_type": "code",
      "source": [
        "import os\n",
        "\n",
        "dataset_a = []\n",
        "for item in os.listdir(base_dir):\n",
        "  dataset_a.append(os.path.join(base_dir, item))\n",
        "\n",
        "dataset_a"
      ],
      "metadata": {
        "colab": {
          "base_uri": "https://localhost:8080/"
        },
        "id": "Y60NajXPVB2n",
        "outputId": "eceb8525-7f6f-4b30-d8e2-cc6fdf04b6e0"
      },
      "execution_count": 4,
      "outputs": [
        {
          "output_type": "execute_result",
          "data": {
            "text/plain": [
              "['/content/drive/MyDrive/Covid19-dataset/train/Covid',\n",
              " '/content/drive/MyDrive/Covid19-dataset/train/Normal',\n",
              " '/content/drive/MyDrive/Covid19-dataset/train/Viral Pneumonia']"
            ]
          },
          "metadata": {},
          "execution_count": 4
        }
      ]
    },
    {
      "cell_type": "code",
      "source": [
        "dataset_train = []\n",
        "for i in range(0,len(dataset_a)):\n",
        "  for j in os.listdir(dataset_a[i]):\n",
        "    dataset_train.append(os.path.join(dataset_a[i],j))\n",
        "\n",
        "dataset_train\n",
        "print(len(dataset_train))"
      ],
      "metadata": {
        "colab": {
          "base_uri": "https://localhost:8080/"
        },
        "id": "HEvx5TFZVWKZ",
        "outputId": "a1f57352-1504-4a46-8436-8aa765ae7028"
      },
      "execution_count": 5,
      "outputs": [
        {
          "output_type": "stream",
          "name": "stdout",
          "text": [
            "251\n"
          ]
        }
      ]
    },
    {
      "cell_type": "code",
      "source": [
        "# convert one img into an array\n",
        "\n",
        "from tensorflow.keras.preprocessing.image import load_img, img_to_array\n",
        "img = load_img('/content/drive/MyDrive/Covid19-dataset/train/Viral Pneumonia/012.jpeg', target_size = (256,256))\n",
        "img = img_to_array(img)\n",
        "img = img/255\n",
        "img\n",
        "print(img.shape)"
      ],
      "metadata": {
        "colab": {
          "base_uri": "https://localhost:8080/"
        },
        "id": "tV6aB174WF8x",
        "outputId": "78cf118e-d8ee-4bea-a52a-00fb58fdcdaa"
      },
      "execution_count": 6,
      "outputs": [
        {
          "output_type": "stream",
          "name": "stdout",
          "text": [
            "(256, 256, 3)\n"
          ]
        }
      ]
    },
    {
      "cell_type": "code",
      "source": [
        "# convert array back to image\n",
        "\n",
        "import matplotlib.pyplot as plt\n",
        "plt.imshow(img)"
      ],
      "metadata": {
        "colab": {
          "base_uri": "https://localhost:8080/",
          "height": 286
        },
        "id": "e7iKS6CXYsgN",
        "outputId": "7cc7ac22-7fd2-4010-9ef2-9bc44f347181"
      },
      "execution_count": 7,
      "outputs": [
        {
          "output_type": "execute_result",
          "data": {
            "text/plain": [
              "<matplotlib.image.AxesImage at 0x7fe7eab93250>"
            ]
          },
          "metadata": {},
          "execution_count": 7
        },
        {
          "output_type": "display_data",
          "data": {
            "text/plain": [
              "<Figure size 432x288 with 1 Axes>"
            ],
            "image/png": "[encoded data removed]"
          },
          "metadata": {
            "needs_background": "light"
          }
        }
      ]
    },
    {
      "cell_type": "code",
      "source": [
        "translate = {'Normal':0, 'Viral Pneumonia':1, 'Covid':2}"
      ],
      "metadata": {
        "id": "VT7FFMta0sj2"
      },
      "execution_count": 8,
      "outputs": []
    },
    {
      "cell_type": "code",
      "source": [
        "# create image_array and image_label\n",
        "\n",
        "image_array = []\n",
        "image_label = []\n",
        "\n",
        "for i in dataset_train:\n",
        "  img = load_img(i, target_size = (256,256))\n",
        "  img = img_to_array(img)\n",
        "  img = img/255\n",
        "  image_array.append(img)\n",
        "  label = i.split('/')[-2]\n",
        "  image_label.append(translate[label])"
      ],
      "metadata": {
        "id": "lLmyRx0GY7TB"
      },
      "execution_count": 9,
      "outputs": []
    },
    {
      "cell_type": "code",
      "source": [
        "set(image_label)"
      ],
      "metadata": {
        "colab": {
          "base_uri": "https://localhost:8080/"
        },
        "id": "HuvYaJz2aGDe",
        "outputId": "374b5c17-b9c7-494e-a18b-ad41a315c811"
      },
      "execution_count": 10,
      "outputs": [
        {
          "output_type": "execute_result",
          "data": {
            "text/plain": [
              "{0, 1, 2}"
            ]
          },
          "metadata": {},
          "execution_count": 10
        }
      ]
    },
    {
      "cell_type": "code",
      "source": [
        "# image_array"
      ],
      "metadata": {
        "id": "4XJGnJ5la1HN"
      },
      "execution_count": 11,
      "outputs": []
    },
    {
      "cell_type": "code",
      "source": [
        "import numpy as np\n",
        "image_array = np.array(image_array)\n",
        "image_label = np.array(image_label)\n",
        "print(image_array.shape)\n",
        "print(image_label.shape)"
      ],
      "metadata": {
        "colab": {
          "base_uri": "https://localhost:8080/"
        },
        "id": "WutIKxY9al6N",
        "outputId": "52869e1d-099f-4d46-9590-46cac84ca409"
      },
      "execution_count": 12,
      "outputs": [
        {
          "output_type": "stream",
          "name": "stdout",
          "text": [
            "(251, 256, 256, 3)\n",
            "(251,)\n"
          ]
        }
      ]
    },
    {
      "cell_type": "code",
      "source": [
        "test_dir = '/content/drive/MyDrive/Covid19-dataset/test'"
      ],
      "metadata": {
        "id": "bFGVe2t7ao5n"
      },
      "execution_count": 13,
      "outputs": []
    },
    {
      "cell_type": "code",
      "source": [
        "dataset_b = []\n",
        "\n",
        "for item in os.listdir(test_dir):\n",
        "  dataset_b.append(os.path.join(test_dir,item))\n",
        "\n",
        "dataset_b"
      ],
      "metadata": {
        "colab": {
          "base_uri": "https://localhost:8080/"
        },
        "id": "V7OFh8qRcjPV",
        "outputId": "7eb7ba3f-a9a2-464d-dbea-bb807d629599"
      },
      "execution_count": 14,
      "outputs": [
        {
          "output_type": "execute_result",
          "data": {
            "text/plain": [
              "['/content/drive/MyDrive/Covid19-dataset/test/Viral Pneumonia',\n",
              " '/content/drive/MyDrive/Covid19-dataset/test/Normal',\n",
              " '/content/drive/MyDrive/Covid19-dataset/test/Covid']"
            ]
          },
          "metadata": {},
          "execution_count": 14
        }
      ]
    },
    {
      "cell_type": "code",
      "source": [
        "dataset_test = []\n",
        "\n",
        "for i in range(0,len(dataset_b)):\n",
        "  for j in os.listdir(dataset_b[i]):\n",
        "    dataset_test.append(os.path.join(dataset_b[i],j))\n",
        "\n",
        "dataset_test"
      ],
      "metadata": {
        "colab": {
          "base_uri": "https://localhost:8080/"
        },
        "id": "Xu7ZcJ9yct0s",
        "outputId": "65d76ecf-b096-46ae-8819-4b78ddc0e782"
      },
      "execution_count": 15,
      "outputs": [
        {
          "output_type": "execute_result",
          "data": {
            "text/plain": [
              "['/content/drive/MyDrive/Covid19-dataset/test/Viral Pneumonia/0107.jpeg',\n",
              " '/content/drive/MyDrive/Covid19-dataset/test/Viral Pneumonia/0108.jpeg',\n",
              " '/content/drive/MyDrive/Covid19-dataset/test/Viral Pneumonia/0118.jpeg',\n",
              " '/content/drive/MyDrive/Covid19-dataset/test/Viral Pneumonia/0114.jpeg',\n",
              " '/content/drive/MyDrive/Covid19-dataset/test/Viral Pneumonia/0112.jpeg',\n",
              " '/content/drive/MyDrive/Covid19-dataset/test/Viral Pneumonia/0104.jpeg',\n",
              " '/content/drive/MyDrive/Covid19-dataset/test/Viral Pneumonia/0105.jpeg',\n",
              " '/content/drive/MyDrive/Covid19-dataset/test/Viral Pneumonia/0109.jpeg',\n",
              " '/content/drive/MyDrive/Covid19-dataset/test/Viral Pneumonia/0113.jpeg',\n",
              " '/content/drive/MyDrive/Covid19-dataset/test/Viral Pneumonia/0119.jpeg',\n",
              " '/content/drive/MyDrive/Covid19-dataset/test/Viral Pneumonia/0101.jpeg',\n",
              " '/content/drive/MyDrive/Covid19-dataset/test/Viral Pneumonia/0102.jpeg',\n",
              " '/content/drive/MyDrive/Covid19-dataset/test/Viral Pneumonia/0115.jpeg',\n",
              " '/content/drive/MyDrive/Covid19-dataset/test/Viral Pneumonia/0111.jpeg',\n",
              " '/content/drive/MyDrive/Covid19-dataset/test/Viral Pneumonia/0106.jpeg',\n",
              " '/content/drive/MyDrive/Covid19-dataset/test/Viral Pneumonia/0120.jpeg',\n",
              " '/content/drive/MyDrive/Covid19-dataset/test/Viral Pneumonia/0110.jpeg',\n",
              " '/content/drive/MyDrive/Covid19-dataset/test/Viral Pneumonia/0103.jpeg',\n",
              " '/content/drive/MyDrive/Covid19-dataset/test/Viral Pneumonia/0116.jpeg',\n",
              " '/content/drive/MyDrive/Covid19-dataset/test/Viral Pneumonia/0117.jpeg',\n",
              " '/content/drive/MyDrive/Covid19-dataset/test/Normal/0105.jpeg',\n",
              " '/content/drive/MyDrive/Covid19-dataset/test/Normal/0118.jpeg',\n",
              " '/content/drive/MyDrive/Covid19-dataset/test/Normal/0101.jpeg',\n",
              " '/content/drive/MyDrive/Covid19-dataset/test/Normal/0117.jpeg',\n",
              " '/content/drive/MyDrive/Covid19-dataset/test/Normal/0106.jpeg',\n",
              " '/content/drive/MyDrive/Covid19-dataset/test/Normal/0115.jpeg',\n",
              " '/content/drive/MyDrive/Covid19-dataset/test/Normal/0110.jpeg',\n",
              " '/content/drive/MyDrive/Covid19-dataset/test/Normal/0107.jpeg',\n",
              " '/content/drive/MyDrive/Covid19-dataset/test/Normal/0111.jpeg',\n",
              " '/content/drive/MyDrive/Covid19-dataset/test/Normal/0102.jpeg',\n",
              " '/content/drive/MyDrive/Covid19-dataset/test/Normal/0112.jpeg',\n",
              " '/content/drive/MyDrive/Covid19-dataset/test/Normal/0114.jpeg',\n",
              " '/content/drive/MyDrive/Covid19-dataset/test/Normal/0108.jpeg',\n",
              " '/content/drive/MyDrive/Covid19-dataset/test/Normal/0116.jpeg',\n",
              " '/content/drive/MyDrive/Covid19-dataset/test/Normal/0103.jpeg',\n",
              " '/content/drive/MyDrive/Covid19-dataset/test/Normal/0109.jpeg',\n",
              " '/content/drive/MyDrive/Covid19-dataset/test/Normal/0122.jpeg',\n",
              " '/content/drive/MyDrive/Covid19-dataset/test/Normal/0121.jpeg',\n",
              " '/content/drive/MyDrive/Covid19-dataset/test/Normal/0120.jpeg',\n",
              " '/content/drive/MyDrive/Covid19-dataset/test/Normal/0119.jpeg',\n",
              " '/content/drive/MyDrive/Covid19-dataset/test/Covid/0100.jpeg',\n",
              " '/content/drive/MyDrive/Covid19-dataset/test/Covid/096.png',\n",
              " '/content/drive/MyDrive/Covid19-dataset/test/Covid/0113.jpg',\n",
              " '/content/drive/MyDrive/Covid19-dataset/test/Covid/0108.jpeg',\n",
              " '/content/drive/MyDrive/Covid19-dataset/test/Covid/auntminnie-a-2020_01_28_23_51_6665_2020_01_28_Vietnam_coronavirus.jpeg',\n",
              " '/content/drive/MyDrive/Covid19-dataset/test/Covid/0119.jpeg',\n",
              " '/content/drive/MyDrive/Covid19-dataset/test/Covid/0118.jpeg',\n",
              " '/content/drive/MyDrive/Covid19-dataset/test/Covid/COVID-00012.jpg',\n",
              " '/content/drive/MyDrive/Covid19-dataset/test/Covid/0115.jpeg',\n",
              " '/content/drive/MyDrive/Covid19-dataset/test/Covid/094.png',\n",
              " '/content/drive/MyDrive/Covid19-dataset/test/Covid/0102.jpeg',\n",
              " '/content/drive/MyDrive/Covid19-dataset/test/Covid/098.jpeg',\n",
              " '/content/drive/MyDrive/Covid19-dataset/test/Covid/COVID-00037.jpg',\n",
              " '/content/drive/MyDrive/Covid19-dataset/test/Covid/auntminnie-2020_01_31_20_24_2322_2020_01_31_x-ray_coronavirus_US.jpg',\n",
              " '/content/drive/MyDrive/Covid19-dataset/test/Covid/0120.jpg',\n",
              " '/content/drive/MyDrive/Covid19-dataset/test/Covid/COVID-00022.jpg',\n",
              " '/content/drive/MyDrive/Covid19-dataset/test/Covid/COVID-00003b.jpg',\n",
              " '/content/drive/MyDrive/Covid19-dataset/test/Covid/0106.jpeg',\n",
              " '/content/drive/MyDrive/Covid19-dataset/test/Covid/COVID-00033.jpg',\n",
              " '/content/drive/MyDrive/Covid19-dataset/test/Covid/auntminnie-c-2020_01_28_23_51_6665_2020_01_28_Vietnam_coronavirus.jpeg',\n",
              " '/content/drive/MyDrive/Covid19-dataset/test/Covid/0112.jpg',\n",
              " '/content/drive/MyDrive/Covid19-dataset/test/Covid/auntminnie-b-2020_01_28_23_51_6665_2020_01_28_Vietnam_coronavirus.jpeg',\n",
              " '/content/drive/MyDrive/Covid19-dataset/test/Covid/radiopaedia-2019-novel-coronavirus-infected-pneumonia.jpg',\n",
              " '/content/drive/MyDrive/Covid19-dataset/test/Covid/0105.png',\n",
              " '/content/drive/MyDrive/Covid19-dataset/test/Covid/0111.jpg',\n",
              " '/content/drive/MyDrive/Covid19-dataset/test/Covid/auntminnie-d-2020_01_28_23_51_6665_2020_01_28_Vietnam_coronavirus.jpeg']"
            ]
          },
          "metadata": {},
          "execution_count": 15
        }
      ]
    },
    {
      "cell_type": "code",
      "source": [
        "test_array = []\n",
        "test_label = []\n",
        "\n",
        "for item in dataset_test:\n",
        "  img = load_img(item, target_size = (256,256))\n",
        "  img = img_to_array(img)\n",
        "  img = img/255\n",
        "  test_array.append(img)\n",
        "  label = item.split('/')[-2]\n",
        "  test_label.append(translate[label])\n",
        "\n",
        "set(test_label)"
      ],
      "metadata": {
        "colab": {
          "base_uri": "https://localhost:8080/"
        },
        "id": "-tltgmMMgyA_",
        "outputId": "b29303c0-a413-494d-9217-4e35fffa2b3a"
      },
      "execution_count": 16,
      "outputs": [
        {
          "output_type": "execute_result",
          "data": {
            "text/plain": [
              "{0, 1, 2}"
            ]
          },
          "metadata": {},
          "execution_count": 16
        }
      ]
    },
    {
      "cell_type": "code",
      "source": [
        "test_array = np.array(test_array)\n",
        "test_label = np.array(test_label)\n",
        "\n",
        "print(test_array.shape)\n",
        "print(test_label.shape)"
      ],
      "metadata": {
        "colab": {
          "base_uri": "https://localhost:8080/"
        },
        "id": "RD7HIazxhpR7",
        "outputId": "8ad83d01-011d-4ac5-bcea-363a3b10b8d2"
      },
      "execution_count": 17,
      "outputs": [
        {
          "output_type": "stream",
          "name": "stdout",
          "text": [
            "(66, 256, 256, 3)\n",
            "(66,)\n"
          ]
        }
      ]
    },
    {
      "cell_type": "code",
      "source": [
        "c = len(set(image_label))\n",
        "print('Number of classes:',c)"
      ],
      "metadata": {
        "colab": {
          "base_uri": "https://localhost:8080/"
        },
        "id": "kN7lY1fzz6b0",
        "outputId": "ec84b516-1638-4670-e328-4a2df8e2429a"
      },
      "execution_count": 18,
      "outputs": [
        {
          "output_type": "stream",
          "name": "stdout",
          "text": [
            "Number of classes: 3\n"
          ]
        }
      ]
    },
    {
      "cell_type": "code",
      "source": [
        "# Build model\n",
        "\n",
        "from tensorflow.keras.layers import Input, Conv2D, BatchNormalization, Flatten, GlobalMaxPooling2D, Dropout, Dense\n",
        "from tensorflow.keras.models import Model"
      ],
      "metadata": {
        "id": "Gsj5syfDiyJZ"
      },
      "execution_count": 19,
      "outputs": []
    },
    {
      "cell_type": "code",
      "source": [
        "# image_array[0].shape\n",
        "i = Input(shape = image_array[0].shape)\n",
        "\n",
        "x = Conv2D(32, (3,3), strides = 2, activation = 'relu', padding = 'same')(i)\n",
        "x = BatchNormalization()(x)\n",
        "\n",
        "x = Conv2D(64, (3,3), strides = 2, activation = 'relu', padding = 'same')(x)\n",
        "x = BatchNormalization()(x)\n",
        "\n",
        "x = Conv2D(128, (3,3), strides = 2, activation = 'relu', padding = 'same')(x)\n",
        "x = BatchNormalization()(x)\n",
        "\n",
        "x = Conv2D(128, (3,3), strides = 2, activation = 'relu', padding = 'same')(x)\n",
        "x = BatchNormalization()(x)\n",
        "\n",
        "x = Conv2D(128, (3,3), strides = 2, activation = 'relu', padding = 'same')(x)\n",
        "x = BatchNormalization()(x)\n",
        "\n",
        "# x = Conv2D(256, (3,3), strides = 2, activation = 'relu', padding = 'same')(x)\n",
        "# x = BatchNormalization()(x)\n",
        "\n",
        "# x = Flatten()(x)\n",
        "x = GlobalMaxPooling2D()(x)\n",
        "\n",
        "x = Dropout(0.2)(x)\n",
        "x = Dense(128, activation = 'relu')(x)\n",
        "\n",
        "x = Dropout(0.2)(x)\n",
        "x = Dense(c, activation = 'softmax')(x)\n",
        "\n",
        "m = Model(i,x)"
      ],
      "metadata": {
        "id": "7Ih_PNCfy2gb"
      },
      "execution_count": 20,
      "outputs": []
    },
    {
      "cell_type": "code",
      "source": [
        "# compile and fit the model\n",
        "\n",
        "# 0.001 is the default learning rate\n",
        "# m.compile(optimizer = 'adam', loss = 'sparse_categorical_crossentropy', metrics = ['accuracy'])\n",
        "\n",
        "# opt = tf.keras.optimizers.Adam(0.001)\n",
        "opt = tf.keras.optimizers.Adam(0.0001)\n",
        "# opt = tf.keras.optimizers.Adam(0.00001) didnt help, accuracy and val_accuracy went down drastically\n",
        "m.compile(optimizer = opt, loss = 'sparse_categorical_crossentropy', metrics = ['accuracy'])\n",
        "\n",
        "r = m.fit(image_array, image_label, validation_data = (test_array, test_label), epochs = 20)"
      ],
      "metadata": {
        "colab": {
          "base_uri": "https://localhost:8080/"
        },
        "id": "SzS-9M16y_a0",
        "outputId": "a6268cbf-0a5e-4984-aef9-1c8343c6d7ac"
      },
      "execution_count": 21,
      "outputs": [
        {
          "output_type": "stream",
          "name": "stdout",
          "text": [
            "Epoch 1/20\n",
            "8/8 [==============================] - 12s 99ms/step - loss: 2.6986 - accuracy: 0.3785 - val_loss: 1.0960 - val_accuracy: 0.4242\n",
            "Epoch 2/20\n",
            "8/8 [==============================] - 0s 36ms/step - loss: 1.5284 - accuracy: 0.5618 - val_loss: 1.0926 - val_accuracy: 0.3939\n",
            "Epoch 3/20\n",
            "8/8 [==============================] - 0s 36ms/step - loss: 1.0253 - accuracy: 0.6653 - val_loss: 1.0923 - val_accuracy: 0.3939\n",
            "Epoch 4/20\n",
            "8/8 [==============================] - 0s 37ms/step - loss: 0.8886 - accuracy: 0.7171 - val_loss: 1.0933 - val_accuracy: 0.3939\n",
            "Epoch 5/20\n",
            "8/8 [==============================] - 0s 37ms/step - loss: 0.7860 - accuracy: 0.7530 - val_loss: 1.0971 - val_accuracy: 0.3939\n",
            "Epoch 6/20\n",
            "8/8 [==============================] - 0s 37ms/step - loss: 0.6575 - accuracy: 0.7729 - val_loss: 1.1047 - val_accuracy: 0.3939\n",
            "Epoch 7/20\n",
            "8/8 [==============================] - 0s 37ms/step - loss: 0.5158 - accuracy: 0.8247 - val_loss: 1.1172 - val_accuracy: 0.3939\n",
            "Epoch 8/20\n",
            "8/8 [==============================] - 0s 37ms/step - loss: 0.4524 - accuracy: 0.8765 - val_loss: 1.1337 - val_accuracy: 0.3939\n",
            "Epoch 9/20\n",
            "8/8 [==============================] - 0s 37ms/step - loss: 0.4233 - accuracy: 0.8367 - val_loss: 1.1552 - val_accuracy: 0.3939\n",
            "Epoch 10/20\n",
            "8/8 [==============================] - 0s 38ms/step - loss: 0.3647 - accuracy: 0.8765 - val_loss: 1.1818 - val_accuracy: 0.3939\n",
            "Epoch 11/20\n",
            "8/8 [==============================] - 0s 37ms/step - loss: 0.3309 - accuracy: 0.8845 - val_loss: 1.2149 - val_accuracy: 0.3939\n",
            "Epoch 12/20\n",
            "8/8 [==============================] - 0s 37ms/step - loss: 0.2898 - accuracy: 0.8924 - val_loss: 1.2518 - val_accuracy: 0.3939\n",
            "Epoch 13/20\n",
            "8/8 [==============================] - 0s 37ms/step - loss: 0.2115 - accuracy: 0.9124 - val_loss: 1.3012 - val_accuracy: 0.3939\n",
            "Epoch 14/20\n",
            "8/8 [==============================] - 0s 37ms/step - loss: 0.3015 - accuracy: 0.8964 - val_loss: 1.3615 - val_accuracy: 0.3939\n",
            "Epoch 15/20\n",
            "8/8 [==============================] - 0s 35ms/step - loss: 0.2703 - accuracy: 0.9124 - val_loss: 1.4346 - val_accuracy: 0.3939\n",
            "Epoch 16/20\n",
            "8/8 [==============================] - 0s 37ms/step - loss: 0.1953 - accuracy: 0.8964 - val_loss: 1.4953 - val_accuracy: 0.3939\n",
            "Epoch 17/20\n",
            "8/8 [==============================] - 0s 36ms/step - loss: 0.2646 - accuracy: 0.9004 - val_loss: 1.5611 - val_accuracy: 0.3939\n",
            "Epoch 18/20\n",
            "8/8 [==============================] - 0s 38ms/step - loss: 0.1550 - accuracy: 0.9402 - val_loss: 1.6371 - val_accuracy: 0.3939\n",
            "Epoch 19/20\n",
            "8/8 [==============================] - 0s 37ms/step - loss: 0.1615 - accuracy: 0.9482 - val_loss: 1.7365 - val_accuracy: 0.3939\n",
            "Epoch 20/20\n",
            "8/8 [==============================] - 0s 36ms/step - loss: 0.1330 - accuracy: 0.9522 - val_loss: 1.8446 - val_accuracy: 0.3939\n"
          ]
        }
      ]
    },
    {
      "cell_type": "code",
      "source": [
        "batch_size = 24\n",
        "# data_generator = tf.keras.preprocessing.image.ImageDataGenerator(width_shift_range = 0.1, height_shift_range = 0.1, horizontal_flip = True)\n",
        "# data_generator = tf.keras.preprocessing.image.ImageDataGenerator(width_shift_range = 0.1, height_shift_range = 0.1)\n",
        "data_generator = tf.keras.preprocessing.image.ImageDataGenerator(\n",
        "    featurewise_center=True,\n",
        "    featurewise_std_normalization=True,\n",
        "    rotation_range=20,\n",
        "    width_shift_range=0.2,\n",
        "    height_shift_range=0.2,\n",
        "    # horizontal_flip=True,\n",
        "    # rescale=1./255,\n",
        "    shear_range=0.2,\n",
        "    zoom_range=0.2)\n",
        "train_generator = data_generator.flow(image_array, image_label, batch_size)\n",
        "steps_per_epoch = image_array.shape[0] // batch_size\n",
        "r = m.fit_generator(train_generator, validation_data = (test_array, test_label), steps_per_epoch = steps_per_epoch, epochs = 40)"
      ],
      "metadata": {
        "colab": {
          "base_uri": "https://localhost:8080/"
        },
        "id": "8QWLMrLnF8N2",
        "outputId": "c66e4fea-faa3-4239-b27d-73d3e6126fb7"
      },
      "execution_count": 22,
      "outputs": [
        {
          "output_type": "stream",
          "name": "stderr",
          "text": [
            "/usr/local/lib/python3.7/dist-packages/ipykernel_launcher.py:16: UserWarning: `Model.fit_generator` is deprecated and will be removed in a future version. Please use `Model.fit`, which supports generators.\n",
            "  app.launch_new_instance()\n",
            "/usr/local/lib/python3.7/dist-packages/keras_preprocessing/image/image_data_generator.py:720: UserWarning: This ImageDataGenerator specifies `featurewise_center`, but it hasn't been fit on any training data. Fit it first by calling `.fit(numpy_data)`.\n",
            "  warnings.warn('This ImageDataGenerator specifies '\n",
            "/usr/local/lib/python3.7/dist-packages/keras_preprocessing/image/image_data_generator.py:728: UserWarning: This ImageDataGenerator specifies `featurewise_std_normalization`, but it hasn't been fit on any training data. Fit it first by calling `.fit(numpy_data)`.\n",
            "  warnings.warn('This ImageDataGenerator specifies '\n"
          ]
        },
        {
          "output_type": "stream",
          "name": "stdout",
          "text": [
            "Epoch 1/40\n",
            "10/10 [==============================] - 3s 270ms/step - loss: 1.5004 - accuracy: 0.5815 - val_loss: 2.0874 - val_accuracy: 0.3939\n",
            "Epoch 2/40\n",
            "10/10 [==============================] - 3s 272ms/step - loss: 1.0210 - accuracy: 0.6696 - val_loss: 2.3148 - val_accuracy: 0.3939\n",
            "Epoch 3/40\n",
            "10/10 [==============================] - 3s 273ms/step - loss: 1.1562 - accuracy: 0.6652 - val_loss: 2.5843 - val_accuracy: 0.3939\n",
            "Epoch 4/40\n",
            "10/10 [==============================] - 3s 273ms/step - loss: 0.9637 - accuracy: 0.6872 - val_loss: 2.8367 - val_accuracy: 0.3939\n",
            "Epoch 5/40\n",
            "10/10 [==============================] - 3s 273ms/step - loss: 0.9671 - accuracy: 0.7048 - val_loss: 3.0476 - val_accuracy: 0.3939\n",
            "Epoch 6/40\n",
            "10/10 [==============================] - 3s 273ms/step - loss: 1.0976 - accuracy: 0.6608 - val_loss: 3.2525 - val_accuracy: 0.3939\n",
            "Epoch 7/40\n",
            "10/10 [==============================] - 3s 270ms/step - loss: 0.8830 - accuracy: 0.6872 - val_loss: 3.3176 - val_accuracy: 0.3939\n",
            "Epoch 8/40\n",
            "10/10 [==============================] - 3s 289ms/step - loss: 0.9686 - accuracy: 0.6872 - val_loss: 3.4728 - val_accuracy: 0.3939\n",
            "Epoch 9/40\n",
            "10/10 [==============================] - 3s 271ms/step - loss: 0.8388 - accuracy: 0.6520 - val_loss: 3.6116 - val_accuracy: 0.3939\n",
            "Epoch 10/40\n",
            "10/10 [==============================] - 3s 278ms/step - loss: 0.8213 - accuracy: 0.7181 - val_loss: 3.7149 - val_accuracy: 0.3939\n",
            "Epoch 11/40\n",
            "10/10 [==============================] - 3s 272ms/step - loss: 0.9125 - accuracy: 0.6828 - val_loss: 3.7144 - val_accuracy: 0.3939\n",
            "Epoch 12/40\n",
            "10/10 [==============================] - 3s 275ms/step - loss: 0.8656 - accuracy: 0.7137 - val_loss: 3.6253 - val_accuracy: 0.3939\n",
            "Epoch 13/40\n",
            "10/10 [==============================] - 3s 275ms/step - loss: 0.7342 - accuracy: 0.7357 - val_loss: 3.6048 - val_accuracy: 0.3939\n",
            "Epoch 14/40\n",
            "10/10 [==============================] - 3s 273ms/step - loss: 0.6487 - accuracy: 0.7974 - val_loss: 3.5505 - val_accuracy: 0.3939\n",
            "Epoch 15/40\n",
            "10/10 [==============================] - 3s 290ms/step - loss: 0.8292 - accuracy: 0.7458 - val_loss: 3.4316 - val_accuracy: 0.3939\n",
            "Epoch 16/40\n",
            "10/10 [==============================] - 3s 279ms/step - loss: 0.6721 - accuracy: 0.7797 - val_loss: 3.3622 - val_accuracy: 0.3939\n",
            "Epoch 17/40\n",
            "10/10 [==============================] - 3s 278ms/step - loss: 0.6816 - accuracy: 0.7533 - val_loss: 3.3761 - val_accuracy: 0.3939\n",
            "Epoch 18/40\n",
            "10/10 [==============================] - 3s 274ms/step - loss: 0.6856 - accuracy: 0.7665 - val_loss: 3.2964 - val_accuracy: 0.3939\n",
            "Epoch 19/40\n",
            "10/10 [==============================] - 3s 289ms/step - loss: 0.5594 - accuracy: 0.8106 - val_loss: 3.1129 - val_accuracy: 0.3939\n",
            "Epoch 20/40\n",
            "10/10 [==============================] - 3s 292ms/step - loss: 0.5841 - accuracy: 0.8042 - val_loss: 2.8862 - val_accuracy: 0.3939\n",
            "Epoch 21/40\n",
            "10/10 [==============================] - 3s 274ms/step - loss: 0.6240 - accuracy: 0.7797 - val_loss: 2.6173 - val_accuracy: 0.3939\n",
            "Epoch 22/40\n",
            "10/10 [==============================] - 3s 270ms/step - loss: 0.6342 - accuracy: 0.7665 - val_loss: 2.2382 - val_accuracy: 0.3939\n",
            "Epoch 23/40\n",
            "10/10 [==============================] - 3s 270ms/step - loss: 0.6365 - accuracy: 0.7621 - val_loss: 2.0134 - val_accuracy: 0.3939\n",
            "Epoch 24/40\n",
            "10/10 [==============================] - 3s 285ms/step - loss: 0.6932 - accuracy: 0.7181 - val_loss: 1.9795 - val_accuracy: 0.3939\n",
            "Epoch 25/40\n",
            "10/10 [==============================] - 3s 269ms/step - loss: 0.6435 - accuracy: 0.7709 - val_loss: 1.9965 - val_accuracy: 0.3939\n",
            "Epoch 26/40\n",
            "10/10 [==============================] - 3s 272ms/step - loss: 0.5946 - accuracy: 0.7974 - val_loss: 1.7770 - val_accuracy: 0.3939\n",
            "Epoch 27/40\n",
            "10/10 [==============================] - 3s 285ms/step - loss: 0.6563 - accuracy: 0.7542 - val_loss: 1.6884 - val_accuracy: 0.3939\n",
            "Epoch 28/40\n",
            "10/10 [==============================] - 3s 270ms/step - loss: 0.5306 - accuracy: 0.7974 - val_loss: 1.4499 - val_accuracy: 0.4091\n",
            "Epoch 29/40\n",
            "10/10 [==============================] - 3s 289ms/step - loss: 0.6582 - accuracy: 0.7542 - val_loss: 1.3339 - val_accuracy: 0.4242\n",
            "Epoch 30/40\n",
            "10/10 [==============================] - 3s 272ms/step - loss: 0.6056 - accuracy: 0.7930 - val_loss: 1.4148 - val_accuracy: 0.4242\n",
            "Epoch 31/40\n",
            "10/10 [==============================] - 3s 271ms/step - loss: 0.5478 - accuracy: 0.8062 - val_loss: 1.3019 - val_accuracy: 0.4545\n",
            "Epoch 32/40\n",
            "10/10 [==============================] - 3s 290ms/step - loss: 0.5507 - accuracy: 0.8000 - val_loss: 1.0749 - val_accuracy: 0.5152\n",
            "Epoch 33/40\n",
            "10/10 [==============================] - 3s 271ms/step - loss: 0.6543 - accuracy: 0.7665 - val_loss: 0.8906 - val_accuracy: 0.6061\n",
            "Epoch 34/40\n",
            "10/10 [==============================] - 3s 270ms/step - loss: 0.4637 - accuracy: 0.8238 - val_loss: 0.9162 - val_accuracy: 0.6061\n",
            "Epoch 35/40\n",
            "10/10 [==============================] - 3s 273ms/step - loss: 0.6341 - accuracy: 0.7709 - val_loss: 0.9743 - val_accuracy: 0.5909\n",
            "Epoch 36/40\n",
            "10/10 [==============================] - 3s 274ms/step - loss: 0.6371 - accuracy: 0.7797 - val_loss: 0.8045 - val_accuracy: 0.5758\n",
            "Epoch 37/40\n",
            "10/10 [==============================] - 3s 272ms/step - loss: 0.5287 - accuracy: 0.7841 - val_loss: 0.6310 - val_accuracy: 0.6818\n",
            "Epoch 38/40\n",
            "10/10 [==============================] - 3s 272ms/step - loss: 0.5586 - accuracy: 0.7841 - val_loss: 0.5084 - val_accuracy: 0.7727\n",
            "Epoch 39/40\n",
            "10/10 [==============================] - 3s 274ms/step - loss: 0.5389 - accuracy: 0.7841 - val_loss: 0.4680 - val_accuracy: 0.8030\n",
            "Epoch 40/40\n",
            "10/10 [==============================] - 3s 272ms/step - loss: 0.6195 - accuracy: 0.7841 - val_loss: 0.4540 - val_accuracy: 0.8182\n"
          ]
        }
      ]
    },
    {
      "cell_type": "code",
      "source": [
        "import matplotlib.pyplot as plt\n",
        "plt.plot(r.history['loss'], label = 'loss')\n",
        "plt.plot(r.history['val_loss'], label = 'val_loss')\n",
        "plt.legend()"
      ],
      "metadata": {
        "colab": {
          "base_uri": "https://localhost:8080/",
          "height": 282
        },
        "id": "6IjTTMaI0fAN",
        "outputId": "92102e1d-33cc-41ce-8356-c1532fbe1a44"
      },
      "execution_count": 23,
      "outputs": [
        {
          "output_type": "execute_result",
          "data": {
            "text/plain": [
              "<matplotlib.legend.Legend at 0x7fe75238bf50>"
            ]
          },
          "metadata": {},
          "execution_count": 23
        },
        {
          "output_type": "display_data",
          "data": {
            "text/plain": [
              "<Figure size 432x288 with 1 Axes>"
            ],
            "image/png": "[encoded data removed]"
          },
          "metadata": {
            "needs_background": "light"
          }
        }
      ]
    },
    {
      "cell_type": "code",
      "source": [
        "plt.plot(r.history['accuracy'], label = 'accuracy')\n",
        "plt.plot(r.history['val_accuracy'], label = 'val_accuracy')\n",
        "plt.legend()"
      ],
      "metadata": {
        "colab": {
          "base_uri": "https://localhost:8080/",
          "height": 282
        },
        "id": "jVRPQcLG5BMR",
        "outputId": "917deecd-2430-4859-9287-f9ccbbfb1de7"
      },
      "execution_count": 24,
      "outputs": [
        {
          "output_type": "execute_result",
          "data": {
            "text/plain": [
              "<matplotlib.legend.Legend at 0x7fe7533d6d90>"
            ]
          },
          "metadata": {},
          "execution_count": 24
        },
        {
          "output_type": "display_data",
          "data": {
            "text/plain": [
              "<Figure size 432x288 with 1 Axes>"
            ],
            "image/png": "[encoded data removed]"
          },
          "metadata": {
            "needs_background": "light"
          }
        }
      ]
    },
    {
      "cell_type": "code",
      "source": [
        "y_test_pred = m.predict(test_array)\n",
        "# y_test_pred"
      ],
      "metadata": {
        "id": "85fbsrHZCqa9"
      },
      "execution_count": 25,
      "outputs": []
    },
    {
      "cell_type": "code",
      "source": [
        "y_test_pred_decoded = []\n",
        "\n",
        "for i in range(0,len(y_test_pred)):\n",
        "  y_test_pred_decoded.append(y_test_pred[i].argmax())\n",
        "\n",
        "# y_test_pred_decoded"
      ],
      "metadata": {
        "id": "m1_1vDipGX0S"
      },
      "execution_count": 26,
      "outputs": []
    },
    {
      "cell_type": "code",
      "source": [
        "import sklearn.metrics as metrics\n",
        "accuracy = metrics.accuracy_score(test_label, y_test_pred_decoded)\n",
        "error = 1 - accuracy\n",
        "precision = metrics.precision_score(test_label, y_test_pred_decoded, average = 'weighted')\n",
        "recall = metrics.recall_score(test_label, y_test_pred_decoded, average = 'weighted')\n",
        "f1 = metrics.f1_score(test_label, y_test_pred_decoded, average = 'weighted')\n",
        "cm = metrics.confusion_matrix(test_label, y_test_pred_decoded)\n",
        "\n",
        "print('accuracy:', accuracy)\n",
        "print('error:', error)\n",
        "print('precision:', precision)\n",
        "print('recall:', recall)\n",
        "print('f1:', f1)\n",
        "\n",
        "print('\\n')\n",
        "print('Confusion Matrix:')\n",
        "print('\\n')\n",
        "print(cm)\n",
        "\n",
        "from sklearn.metrics import classification_report\n",
        "print(classification_report(test_label, y_test_pred_decoded))"
      ],
      "metadata": {
        "colab": {
          "base_uri": "https://localhost:8080/"
        },
        "id": "UFEDYNi1DAeM",
        "outputId": "410eac60-d211-401a-b33f-17bc75702294"
      },
      "execution_count": 27,
      "outputs": [
        {
          "output_type": "stream",
          "name": "stdout",
          "text": [
            "accuracy: 0.8181818181818182\n",
            "error: 0.18181818181818177\n",
            "precision: 0.8157467532467533\n",
            "recall: 0.8181818181818182\n",
            "f1: 0.8068412317905218\n",
            "\n",
            "\n",
            "Confusion Matrix:\n",
            "\n",
            "\n",
            "[[17  3  0]\n",
            " [ 3 11  6]\n",
            " [ 0  0 26]]\n",
            "              precision    recall  f1-score   support\n",
            "\n",
            "           0       0.85      0.85      0.85        20\n",
            "           1       0.79      0.55      0.65        20\n",
            "           2       0.81      1.00      0.90        26\n",
            "\n",
            "    accuracy                           0.82        66\n",
            "   macro avg       0.82      0.80      0.80        66\n",
            "weighted avg       0.82      0.82      0.81        66\n",
            "\n"
          ]
        }
      ]
    },
    {
      "cell_type": "code",
      "source": [
        "reverse_translate = {0:'Normal', 1:'Viral Pneumonia', 2:'Covid'}"
      ],
      "metadata": {
        "id": "bDqxvlBZ3wEr"
      },
      "execution_count": 28,
      "outputs": []
    },
    {
      "cell_type": "code",
      "source": [
        "for i in range(0,len(test_label)):\n",
        "  print('Test image number:',i, '       ','Actual Value:', reverse_translate[test_label[i]], '        ', 'Predicted Value:', reverse_translate[y_test_pred_decoded[i]])"
      ],
      "metadata": {
        "id": "_BuuwvrRK4j3",
        "colab": {
          "base_uri": "https://localhost:8080/"
        },
        "outputId": "10591c0a-e05d-4652-9633-7ead8e26a2a2"
      },
      "execution_count": 29,
      "outputs": [
        {
          "output_type": "stream",
          "name": "stdout",
          "text": [
            "Test image number: 0         Actual Value: Viral Pneumonia          Predicted Value: Viral Pneumonia\n",
            "Test image number: 1         Actual Value: Viral Pneumonia          Predicted Value: Covid\n",
            "Test image number: 2         Actual Value: Viral Pneumonia          Predicted Value: Normal\n",
            "Test image number: 3         Actual Value: Viral Pneumonia          Predicted Value: Viral Pneumonia\n",
            "Test image number: 4         Actual Value: Viral Pneumonia          Predicted Value: Covid\n",
            "Test image number: 5         Actual Value: Viral Pneumonia          Predicted Value: Covid\n",
            "Test image number: 6         Actual Value: Viral Pneumonia          Predicted Value: Viral Pneumonia\n",
            "Test image number: 7         Actual Value: Viral Pneumonia          Predicted Value: Normal\n",
            "Test image number: 8         Actual Value: Viral Pneumonia          Predicted Value: Normal\n",
            "Test image number: 9         Actual Value: Viral Pneumonia          Predicted Value: Covid\n",
            "Test image number: 10         Actual Value: Viral Pneumonia          Predicted Value: Viral Pneumonia\n",
            "Test image number: 11         Actual Value: Viral Pneumonia          Predicted Value: Viral Pneumonia\n",
            "Test image number: 12         Actual Value: Viral Pneumonia          Predicted Value: Viral Pneumonia\n",
            "Test image number: 13         Actual Value: Viral Pneumonia          Predicted Value: Viral Pneumonia\n",
            "Test image number: 14         Actual Value: Viral Pneumonia          Predicted Value: Viral Pneumonia\n",
            "Test image number: 15         Actual Value: Viral Pneumonia          Predicted Value: Covid\n",
            "Test image number: 16         Actual Value: Viral Pneumonia          Predicted Value: Viral Pneumonia\n",
            "Test image number: 17         Actual Value: Viral Pneumonia          Predicted Value: Viral Pneumonia\n",
            "Test image number: 18         Actual Value: Viral Pneumonia          Predicted Value: Covid\n",
            "Test image number: 19         Actual Value: Viral Pneumonia          Predicted Value: Viral Pneumonia\n",
            "Test image number: 20         Actual Value: Normal          Predicted Value: Normal\n",
            "Test image number: 21         Actual Value: Normal          Predicted Value: Normal\n",
            "Test image number: 22         Actual Value: Normal          Predicted Value: Normal\n",
            "Test image number: 23         Actual Value: Normal          Predicted Value: Normal\n",
            "Test image number: 24         Actual Value: Normal          Predicted Value: Normal\n",
            "Test image number: 25         Actual Value: Normal          Predicted Value: Viral Pneumonia\n",
            "Test image number: 26         Actual Value: Normal          Predicted Value: Normal\n",
            "Test image number: 27         Actual Value: Normal          Predicted Value: Normal\n",
            "Test image number: 28         Actual Value: Normal          Predicted Value: Viral Pneumonia\n",
            "Test image number: 29         Actual Value: Normal          Predicted Value: Normal\n",
            "Test image number: 30         Actual Value: Normal          Predicted Value: Normal\n",
            "Test image number: 31         Actual Value: Normal          Predicted Value: Normal\n",
            "Test image number: 32         Actual Value: Normal          Predicted Value: Normal\n",
            "Test image number: 33         Actual Value: Normal          Predicted Value: Normal\n",
            "Test image number: 34         Actual Value: Normal          Predicted Value: Viral Pneumonia\n",
            "Test image number: 35         Actual Value: Normal          Predicted Value: Normal\n",
            "Test image number: 36         Actual Value: Normal          Predicted Value: Normal\n",
            "Test image number: 37         Actual Value: Normal          Predicted Value: Normal\n",
            "Test image number: 38         Actual Value: Normal          Predicted Value: Normal\n",
            "Test image number: 39         Actual Value: Normal          Predicted Value: Normal\n",
            "Test image number: 40         Actual Value: Covid          Predicted Value: Covid\n",
            "Test image number: 41         Actual Value: Covid          Predicted Value: Covid\n",
            "Test image number: 42         Actual Value: Covid          Predicted Value: Covid\n",
            "Test image number: 43         Actual Value: Covid          Predicted Value: Covid\n",
            "Test image number: 44         Actual Value: Covid          Predicted Value: Covid\n",
            "Test image number: 45         Actual Value: Covid          Predicted Value: Covid\n",
            "Test image number: 46         Actual Value: Covid          Predicted Value: Covid\n",
            "Test image number: 47         Actual Value: Covid          Predicted Value: Covid\n",
            "Test image number: 48         Actual Value: Covid          Predicted Value: Covid\n",
            "Test image number: 49         Actual Value: Covid          Predicted Value: Covid\n",
            "Test image number: 50         Actual Value: Covid          Predicted Value: Covid\n",
            "Test image number: 51         Actual Value: Covid          Predicted Value: Covid\n",
            "Test image number: 52         Actual Value: Covid          Predicted Value: Covid\n",
            "Test image number: 53         Actual Value: Covid          Predicted Value: Covid\n",
            "Test image number: 54         Actual Value: Covid          Predicted Value: Covid\n",
            "Test image number: 55         Actual Value: Covid          Predicted Value: Covid\n",
            "Test image number: 56         Actual Value: Covid          Predicted Value: Covid\n",
            "Test image number: 57         Actual Value: Covid          Predicted Value: Covid\n",
            "Test image number: 58         Actual Value: Covid          Predicted Value: Covid\n",
            "Test image number: 59         Actual Value: Covid          Predicted Value: Covid\n",
            "Test image number: 60         Actual Value: Covid          Predicted Value: Covid\n",
            "Test image number: 61         Actual Value: Covid          Predicted Value: Covid\n",
            "Test image number: 62         Actual Value: Covid          Predicted Value: Covid\n",
            "Test image number: 63         Actual Value: Covid          Predicted Value: Covid\n",
            "Test image number: 64         Actual Value: Covid          Predicted Value: Covid\n",
            "Test image number: 65         Actual Value: Covid          Predicted Value: Covid\n"
          ]
        }
      ]
    },
    {
      "cell_type": "code",
      "source": [
        "# Lets take a closer look at some of the images\n",
        "\n",
        "plt.imshow(test_array[8]) # Test image number: 8         Actual Value: Viral Pneumonia          Predicted Value: Normal\n",
        "plt.imshow(test_array[49]) # Test image number: 49         Actual Value: Covid          Predicted Value: Covid"
      ],
      "metadata": {
        "colab": {
          "base_uri": "https://localhost:8080/",
          "height": 286
        },
        "id": "xyudcFjy4BxM",
        "outputId": "d2f1568a-5e7c-435c-bd71-55b8067fc3d8"
      },
      "execution_count": 30,
      "outputs": [
        {
          "output_type": "execute_result",
          "data": {
            "text/plain": [
              "<matplotlib.image.AxesImage at 0x7fe7521c1210>"
            ]
          },
          "metadata": {},
          "execution_count": 30
        },
        {
          "output_type": "display_data",
          "data": {
            "text/plain": [
              "<Figure size 432x288 with 1 Axes>"
            ],
            "image/png": "[encoded data removed]"
          },
          "metadata": {
            "needs_background": "light"
          }
        }
      ]
    },
    {
      "cell_type": "code",
      "source": [
        ""
      ],
      "metadata": {
        "id": "aagadBg44VfZ"
      },
      "execution_count": 30,
      "outputs": []
    }
  ]
}