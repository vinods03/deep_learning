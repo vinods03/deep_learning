{
  "nbformat": 4,
  "nbformat_minor": 0,
  "metadata": {
    "colab": {
      "name": "NLP - 9b - Pyspark Project - Spam Detection.ipynb",
      "provenance": [],
      "collapsed_sections": [],
      "authorship_tag": "ABX9TyN0c7VxKKAGmF7mKUjrhP79",
      "include_colab_link": true
    },
    "kernelspec": {
      "name": "python3",
      "display_name": "Python 3"
    },
    "language_info": {
      "name": "python"
    }
  },
  "cells": [
    {
      "cell_type": "markdown",
      "metadata": {
        "id": "view-in-github",
        "colab_type": "text"
      },
      "source": [
        "<a href=\"https://colab.research.google.com/github/vinods03/deep_learning/blob/main/NLP_9b_Pyspark_Project_Spam_Detection.ipynb\" target=\"_parent\"><img src=\"https://colab.research.google.com/assets/colab-badge.svg\" alt=\"Open In Colab\"/></a>"
      ]
    },
    {
      "cell_type": "code",
      "execution_count": null,
      "metadata": {
        "colab": {
          "base_uri": "https://localhost:8080/"
        },
        "id": "StKtgt2Nheru",
        "outputId": "67308853-f0d6-4e2c-9c51-763f4a6f1493"
      },
      "outputs": [
        {
          "output_type": "stream",
          "name": "stdout",
          "text": [
            "Looking in indexes: https://pypi.org/simple, https://us-python.pkg.dev/colab-wheels/public/simple/\n",
            "Collecting pyspark\n",
            "  Downloading pyspark-3.3.0.tar.gz (281.3 MB)\n",
            "\u001b[K     |████████████████████████████████| 281.3 MB 41 kB/s \n",
            "\u001b[?25hCollecting py4j==0.10.9.5\n",
            "  Downloading py4j-0.10.9.5-py2.py3-none-any.whl (199 kB)\n",
            "\u001b[K     |████████████████████████████████| 199 kB 43.7 MB/s \n",
            "\u001b[?25hBuilding wheels for collected packages: pyspark\n",
            "  Building wheel for pyspark (setup.py) ... \u001b[?25l\u001b[?25hdone\n",
            "  Created wheel for pyspark: filename=pyspark-3.3.0-py2.py3-none-any.whl size=281764026 sha256=f8ec4799d1cc281b66b8da7e1abb0b3bd1a47061650e9700d1a37a91891aea52\n",
            "  Stored in directory: /root/.cache/pip/wheels/7a/8e/1b/f73a52650d2e5f337708d9f6a1750d451a7349a867f928b885\n",
            "Successfully built pyspark\n",
            "Installing collected packages: py4j, pyspark\n",
            "Successfully installed py4j-0.10.9.5 pyspark-3.3.0\n"
          ]
        }
      ],
      "source": [
        "pip install pyspark"
      ]
    },
    {
      "cell_type": "code",
      "source": [
        "from pyspark.sql import SparkSession"
      ],
      "metadata": {
        "id": "GxsELsiahxQH"
      },
      "execution_count": null,
      "outputs": []
    },
    {
      "cell_type": "code",
      "source": [
        "spark = SparkSession.builder.appName('Spam Detection').getOrCreate()"
      ],
      "metadata": {
        "id": "M2IKfv1kiLFE"
      },
      "execution_count": null,
      "outputs": []
    },
    {
      "cell_type": "code",
      "source": [
        "from google.colab import drive\n",
        "drive.mount('/content/drive')"
      ],
      "metadata": {
        "colab": {
          "base_uri": "https://localhost:8080/"
        },
        "id": "BYjNwgR7iTPE",
        "outputId": "31eac508-a48c-4984-ba09-fe812b8d8038"
      },
      "execution_count": null,
      "outputs": [
        {
          "output_type": "stream",
          "name": "stdout",
          "text": [
            "Mounted at /content/drive\n"
          ]
        }
      ]
    },
    {
      "cell_type": "code",
      "source": [
        "data = spark.read.csv('/content/drive/MyDrive/smsspamcollection/SMSSpamCollection',inferSchema = True, sep = '\\t')"
      ],
      "metadata": {
        "id": "jRMQpaa0gFHK"
      },
      "execution_count": null,
      "outputs": []
    },
    {
      "cell_type": "code",
      "source": [
        "data.show()"
      ],
      "metadata": {
        "colab": {
          "base_uri": "https://localhost:8080/"
        },
        "id": "gtHmU85Pg90b",
        "outputId": "d186eb38-0b6f-4bdc-ff28-4bf3d9c472f6"
      },
      "execution_count": null,
      "outputs": [
        {
          "output_type": "stream",
          "name": "stdout",
          "text": [
            "+----+--------------------+\n",
            "| _c0|                 _c1|\n",
            "+----+--------------------+\n",
            "| ham|Go until jurong p...|\n",
            "| ham|Ok lar... Joking ...|\n",
            "|spam|Free entry in 2 a...|\n",
            "| ham|U dun say so earl...|\n",
            "| ham|Nah I don't think...|\n",
            "|spam|FreeMsg Hey there...|\n",
            "| ham|Even my brother i...|\n",
            "| ham|As per your reque...|\n",
            "|spam|WINNER!! As a val...|\n",
            "|spam|Had your mobile 1...|\n",
            "| ham|I'm gonna be home...|\n",
            "|spam|SIX chances to wi...|\n",
            "|spam|URGENT! You have ...|\n",
            "| ham|I've been searchi...|\n",
            "| ham|I HAVE A DATE ON ...|\n",
            "|spam|XXXMobileMovieClu...|\n",
            "| ham|Oh k...i'm watchi...|\n",
            "| ham|Eh u remember how...|\n",
            "| ham|Fine if thats th...|\n",
            "|spam|England v Macedon...|\n",
            "+----+--------------------+\n",
            "only showing top 20 rows\n",
            "\n"
          ]
        }
      ]
    },
    {
      "cell_type": "code",
      "source": [
        "data.describe()"
      ],
      "metadata": {
        "colab": {
          "base_uri": "https://localhost:8080/"
        },
        "id": "J2VfLiGshNIS",
        "outputId": "31d8422d-5130-41ed-9823-94425c0ff1b3"
      },
      "execution_count": null,
      "outputs": [
        {
          "output_type": "execute_result",
          "data": {
            "text/plain": [
              "DataFrame[summary: string, _c0: string, _c1: string]"
            ]
          },
          "metadata": {},
          "execution_count": 7
        }
      ]
    },
    {
      "cell_type": "code",
      "source": [
        "data = data.withColumnRenamed('_c0','class').withColumnRenamed('_c1','text')"
      ],
      "metadata": {
        "id": "3G5K9iAphVGH"
      },
      "execution_count": null,
      "outputs": []
    },
    {
      "cell_type": "code",
      "source": [
        "data.show()"
      ],
      "metadata": {
        "colab": {
          "base_uri": "https://localhost:8080/"
        },
        "id": "fWIOhNcZhXsu",
        "outputId": "ac9ac536-16a3-46e9-f786-17e2a65d1f00"
      },
      "execution_count": null,
      "outputs": [
        {
          "output_type": "stream",
          "name": "stdout",
          "text": [
            "+-----+--------------------+\n",
            "|class|                text|\n",
            "+-----+--------------------+\n",
            "|  ham|Go until jurong p...|\n",
            "|  ham|Ok lar... Joking ...|\n",
            "| spam|Free entry in 2 a...|\n",
            "|  ham|U dun say so earl...|\n",
            "|  ham|Nah I don't think...|\n",
            "| spam|FreeMsg Hey there...|\n",
            "|  ham|Even my brother i...|\n",
            "|  ham|As per your reque...|\n",
            "| spam|WINNER!! As a val...|\n",
            "| spam|Had your mobile 1...|\n",
            "|  ham|I'm gonna be home...|\n",
            "| spam|SIX chances to wi...|\n",
            "| spam|URGENT! You have ...|\n",
            "|  ham|I've been searchi...|\n",
            "|  ham|I HAVE A DATE ON ...|\n",
            "| spam|XXXMobileMovieClu...|\n",
            "|  ham|Oh k...i'm watchi...|\n",
            "|  ham|Eh u remember how...|\n",
            "|  ham|Fine if thats th...|\n",
            "| spam|England v Macedon...|\n",
            "+-----+--------------------+\n",
            "only showing top 20 rows\n",
            "\n"
          ]
        }
      ]
    },
    {
      "cell_type": "code",
      "source": [
        "from pyspark.sql.functions import length"
      ],
      "metadata": {
        "id": "jFEX4Cihi775"
      },
      "execution_count": null,
      "outputs": []
    },
    {
      "cell_type": "code",
      "source": [
        "data = data.withColumn('length',length(data['text']))"
      ],
      "metadata": {
        "id": "p-pN4NJwiRgq"
      },
      "execution_count": null,
      "outputs": []
    },
    {
      "cell_type": "code",
      "source": [
        "data.show()"
      ],
      "metadata": {
        "colab": {
          "base_uri": "https://localhost:8080/"
        },
        "id": "Vwzvhjr7i65X",
        "outputId": "1e57a097-905d-4d09-c4a0-ca67047de14c"
      },
      "execution_count": null,
      "outputs": [
        {
          "output_type": "stream",
          "name": "stdout",
          "text": [
            "+-----+--------------------+------+\n",
            "|class|                text|length|\n",
            "+-----+--------------------+------+\n",
            "|  ham|Go until jurong p...|   111|\n",
            "|  ham|Ok lar... Joking ...|    29|\n",
            "| spam|Free entry in 2 a...|   155|\n",
            "|  ham|U dun say so earl...|    49|\n",
            "|  ham|Nah I don't think...|    61|\n",
            "| spam|FreeMsg Hey there...|   147|\n",
            "|  ham|Even my brother i...|    77|\n",
            "|  ham|As per your reque...|   160|\n",
            "| spam|WINNER!! As a val...|   157|\n",
            "| spam|Had your mobile 1...|   154|\n",
            "|  ham|I'm gonna be home...|   109|\n",
            "| spam|SIX chances to wi...|   136|\n",
            "| spam|URGENT! You have ...|   155|\n",
            "|  ham|I've been searchi...|   196|\n",
            "|  ham|I HAVE A DATE ON ...|    35|\n",
            "| spam|XXXMobileMovieClu...|   149|\n",
            "|  ham|Oh k...i'm watchi...|    26|\n",
            "|  ham|Eh u remember how...|    81|\n",
            "|  ham|Fine if thats th...|    56|\n",
            "| spam|England v Macedon...|   155|\n",
            "+-----+--------------------+------+\n",
            "only showing top 20 rows\n",
            "\n"
          ]
        }
      ]
    },
    {
      "cell_type": "code",
      "source": [
        "# see if length of text is different for ham and spam. Yes, it is !!\n",
        "\n",
        "data.groupBy('class').mean('length').show()"
      ],
      "metadata": {
        "colab": {
          "base_uri": "https://localhost:8080/"
        },
        "id": "KBuBG2ptjDJL",
        "outputId": "ac03182b-4c0e-484f-fdfe-93f327ae3847"
      },
      "execution_count": null,
      "outputs": [
        {
          "output_type": "stream",
          "name": "stdout",
          "text": [
            "+-----+-----------------+\n",
            "|class|      avg(length)|\n",
            "+-----+-----------------+\n",
            "|  ham|71.45431945307645|\n",
            "| spam|138.6706827309237|\n",
            "+-----+-----------------+\n",
            "\n"
          ]
        }
      ]
    },
    {
      "cell_type": "code",
      "source": [
        "from pyspark.ml.feature import Tokenizer, RegexTokenizer, StopWordsRemover, HashingTF, IDF, CountVectorizer, StringIndexer, VectorAssembler"
      ],
      "metadata": {
        "id": "lFk_YZ1ojbto"
      },
      "execution_count": null,
      "outputs": []
    },
    {
      "cell_type": "code",
      "source": [
        "tokenizer = Tokenizer(inputCol = 'text', outputCol = 'words')"
      ],
      "metadata": {
        "id": "3JpPaowwkWWo"
      },
      "execution_count": null,
      "outputs": []
    },
    {
      "cell_type": "code",
      "source": [
        "remover = StopWordsRemover(inputCol = 'words', outputCol = 'required_words')"
      ],
      "metadata": {
        "id": "U1NXhuvMvxz2"
      },
      "execution_count": null,
      "outputs": []
    },
    {
      "cell_type": "code",
      "source": [
        "vectorizer = CountVectorizer(inputCol = 'required_words', outputCol = 'c_vec')"
      ],
      "metadata": {
        "id": "guJDEpwswAbe"
      },
      "execution_count": null,
      "outputs": []
    },
    {
      "cell_type": "code",
      "source": [
        "# hashing_TF = HashingTF(inputCol = 'required_words', outputCol = 'rawFeatures')"
      ],
      "metadata": {
        "id": "VgFUGt3L6sMl"
      },
      "execution_count": null,
      "outputs": []
    },
    {
      "cell_type": "code",
      "source": [
        "idf = IDF(inputCol = 'c_vec', outputCol = 'tf_idf')"
      ],
      "metadata": {
        "id": "EeFOBSFfwsXP"
      },
      "execution_count": null,
      "outputs": []
    },
    {
      "cell_type": "code",
      "source": [
        "assembler = VectorAssembler(inputCols = ['tf_idf', 'length'], outputCol = 'features')"
      ],
      "metadata": {
        "id": "OBpPXWRQxTGS"
      },
      "execution_count": null,
      "outputs": []
    },
    {
      "cell_type": "code",
      "source": [
        "ham_spam_convert_to_numeric = StringIndexer(inputCol = 'class', outputCol = 'label')"
      ],
      "metadata": {
        "id": "A-Wfy6gWw9oB"
      },
      "execution_count": null,
      "outputs": []
    },
    {
      "cell_type": "code",
      "source": [
        "from pyspark.ml import Pipeline"
      ],
      "metadata": {
        "id": "lA7i6Tq7ydRK"
      },
      "execution_count": null,
      "outputs": []
    },
    {
      "cell_type": "code",
      "source": [
        "pipeline = Pipeline(stages = [ham_spam_convert_to_numeric, tokenizer, remover, vectorizer, idf, assembler])"
      ],
      "metadata": {
        "id": "BEUWe7SmyhjI"
      },
      "execution_count": null,
      "outputs": []
    },
    {
      "cell_type": "code",
      "source": [
        "fit_data_into_pipeline = pipeline.fit(data)"
      ],
      "metadata": {
        "id": "cEK6162-zTTZ"
      },
      "execution_count": null,
      "outputs": []
    },
    {
      "cell_type": "code",
      "source": [
        "transformed_data = fit_data_into_pipeline.transform(data)"
      ],
      "metadata": {
        "id": "1PAi4lHZzYPV"
      },
      "execution_count": null,
      "outputs": []
    },
    {
      "cell_type": "code",
      "source": [
        "transformed_data.select('features', 'label').show()"
      ],
      "metadata": {
        "colab": {
          "base_uri": "https://localhost:8080/"
        },
        "id": "wYhQJzQuzr_x",
        "outputId": "bd5130af-042a-486f-94c6-c8983a0a89c4"
      },
      "execution_count": null,
      "outputs": [
        {
          "output_type": "stream",
          "name": "stdout",
          "text": [
            "+--------------------+-----+\n",
            "|            features|label|\n",
            "+--------------------+-----+\n",
            "|(13424,[7,11,31,6...|  0.0|\n",
            "|(13424,[0,24,297,...|  0.0|\n",
            "|(13424,[2,13,19,3...|  1.0|\n",
            "|(13424,[0,70,80,1...|  0.0|\n",
            "|(13424,[36,134,31...|  0.0|\n",
            "|(13424,[10,60,139...|  1.0|\n",
            "|(13424,[10,53,103...|  0.0|\n",
            "|(13424,[125,184,4...|  0.0|\n",
            "|(13424,[1,47,118,...|  1.0|\n",
            "|(13424,[0,1,13,27...|  1.0|\n",
            "|(13424,[18,43,120...|  0.0|\n",
            "|(13424,[8,17,37,8...|  1.0|\n",
            "|(13424,[13,30,47,...|  1.0|\n",
            "|(13424,[39,96,217...|  0.0|\n",
            "|(13424,[552,1697,...|  0.0|\n",
            "|(13424,[30,109,11...|  1.0|\n",
            "|(13424,[82,214,47...|  0.0|\n",
            "|(13424,[0,2,49,13...|  0.0|\n",
            "|(13424,[0,74,105,...|  0.0|\n",
            "|(13424,[4,30,33,5...|  1.0|\n",
            "+--------------------+-----+\n",
            "only showing top 20 rows\n",
            "\n"
          ]
        }
      ]
    },
    {
      "cell_type": "code",
      "source": [
        "transformed_data.printSchema"
      ],
      "metadata": {
        "colab": {
          "base_uri": "https://localhost:8080/"
        },
        "id": "65cG6y21z0re",
        "outputId": "1c27aa68-0f33-4b40-ab94-2be8a074284d"
      },
      "execution_count": null,
      "outputs": [
        {
          "output_type": "execute_result",
          "data": {
            "text/plain": [
              "<bound method DataFrame.printSchema of DataFrame[class: string, text: string, length: int, label: double, words: array<string>, required_words: array<string>, c_vec: vector, tf_idf: vector, features: vector]>"
            ]
          },
          "metadata": {},
          "execution_count": 27
        }
      ]
    },
    {
      "cell_type": "code",
      "source": [
        "from pyspark.ml.classification import NaiveBayes"
      ],
      "metadata": {
        "id": "9OnTgxFExs7g"
      },
      "execution_count": null,
      "outputs": []
    },
    {
      "cell_type": "code",
      "source": [
        "nb = NaiveBayes()"
      ],
      "metadata": {
        "id": "-6iLzNJlyaAX"
      },
      "execution_count": null,
      "outputs": []
    },
    {
      "cell_type": "code",
      "source": [
        "training, test = transformed_data.randomSplit([0.7, 0.3])"
      ],
      "metadata": {
        "id": "wjk_gf0V1U4Y"
      },
      "execution_count": null,
      "outputs": []
    },
    {
      "cell_type": "code",
      "source": [
        "spam_detector = nb.fit(training)"
      ],
      "metadata": {
        "id": "qt2e38uH14qE"
      },
      "execution_count": null,
      "outputs": []
    },
    {
      "cell_type": "code",
      "source": [
        "predictions = spam_detector.transform(test)"
      ],
      "metadata": {
        "id": "0FDJNWPw2yDD"
      },
      "execution_count": null,
      "outputs": []
    },
    {
      "cell_type": "code",
      "source": [
        "predictions.show()"
      ],
      "metadata": {
        "colab": {
          "base_uri": "https://localhost:8080/"
        },
        "id": "cSA0nTnb2-vX",
        "outputId": "5d4682f6-93de-4494-8b0b-a8f36247c549"
      },
      "execution_count": null,
      "outputs": [
        {
          "output_type": "stream",
          "name": "stdout",
          "text": [
            "+-----+--------------------+------+-----+--------------------+--------------------+--------------------+--------------------+--------------------+--------------------+--------------------+----------+\n",
            "|class|                text|length|label|               words|      required_words|               c_vec|              tf_idf|            features|       rawPrediction|         probability|prediction|\n",
            "+-----+--------------------+------+-----+--------------------+--------------------+--------------------+--------------------+--------------------+--------------------+--------------------+----------+\n",
            "|  ham| &lt;#&gt;  in mc...|    36|  0.0|[, &lt;#&gt;, , i...|[, &lt;#&gt;, , m...|(13423,[3,6,5140,...|(13423,[3,6,5140,...|(13424,[3,6,5140,...|[-278.45741315822...|[1.0,2.0921043904...|       0.0|\n",
            "|  ham| said kiss, kiss,...|   133|  0.0|[, said, kiss,, k...|[, said, kiss,, k...|(13423,[3,94,212,...|(13423,[3,94,212,...|(13424,[3,94,212,...|[-1059.8528509708...|[1.0,2.6939016631...|       0.0|\n",
            "|  ham| says that he's q...|   200|  0.0|[, says, that, he...|[, says, quitting...|(13423,[0,3,14,18...|(13423,[0,3,14,18...|(13424,[0,3,14,18...|[-1201.4527556657...|[1.0,5.0734062498...|       0.0|\n",
            "|  ham| what number do u...|    36|  0.0|[, what, number, ...|[, number, u, liv...|(13423,[0,3,86,19...|(13423,[0,3,86,19...|(13424,[0,3,86,19...|[-313.87601419774...|[0.99997394229353...|       0.0|\n",
            "|  ham|\"Its Ur luck to L...|   155|  0.0|[\"its, ur, luck, ...|[\"its, ur, luck, ...|(13423,[4,21,29,1...|(13423,[4,21,29,1...|(13424,[4,21,29,1...|[-1208.0328242760...|[1.0,9.6550857110...|       0.0|\n",
            "|  ham|\"Life is nothing ...|   159|  0.0|[\"life, is, nothi...|[\"life, nothing, ...|(13423,[5,78,116,...|(13423,[5,78,116,...|(13424,[5,78,116,...|[-1343.7430382545...|[1.0,2.1718207964...|       0.0|\n",
            "|  ham|&lt;#&gt;  is fas...|   461|  0.0|[&lt;#&gt;, , is,...|[&lt;#&gt;, , fas...|(13423,[0,3,6,8,1...|(13423,[0,3,6,8,1...|(13424,[0,3,6,8,1...|[-3602.1125166200...|[1.0,2.7095803690...|       0.0|\n",
            "|  ham|'Wnevr i wana fal...|   155|  0.0|['wnevr, i, wana,...|['wnevr, wana, fa...|(13423,[9,116,259...|(13423,[9,116,259...|(13424,[9,116,259...|[-1941.1987776108...|[1.07589071055287...|       1.0|\n",
            "|  ham|(I should add tha...|   132|  0.0|[(i, should, add,...|[(i, add, really,...|(13423,[5,18,71,1...|(13423,[5,18,71,1...|(13424,[5,18,71,1...|[-708.58949803518...|[1.0,1.4394162828...|       0.0|\n",
            "|  ham|* Am on a train b...|    56|  0.0|[*, am, on, a, tr...|[*, train, back, ...|(13423,[40,195,10...|(13423,[40,195,10...|(13424,[40,195,10...|[-393.92537917421...|[1.0,2.1829732965...|       0.0|\n",
            "|  ham|* Was really good...|    69|  0.0|[*, was, really, ...|[*, really, good,...|(13423,[15,32,45,...|(13423,[15,32,45,...|(13424,[15,32,45,...|[-385.31011145373...|[1.0,1.0519941339...|       0.0|\n",
            "|  ham|... Are you in th...|    23|  0.0|[..., are, you, i...|         [..., pub?]|(13423,[22,3697],...|(13423,[22,3697],...|(13424,[22,3697,1...|[-122.41383256350...|[0.99999999998373...|       0.0|\n",
            "|  ham|....photoshop mak...|    42|  0.0|[....photoshop, m...|[....photoshop, m...|(13423,[357,864,2...|(13423,[357,864,2...|(13424,[357,864,2...|[-413.16577135451...|[0.64124768574535...|       0.0|\n",
            "|  ham|1's finish meetin...|    27|  0.0|[1's, finish, mee...|[1's, finish, mee...|(13423,[1,53,181,...|(13423,[1,53,181,...|(13424,[1,53,181,...|[-225.42405722824...|[1.0,3.1043329258...|       0.0|\n",
            "|  ham|1. Tension face 2...|   158|  0.0|[1., tension, fac...|[1., tension, fac...|(13423,[3,6,339,7...|(13423,[3,6,339,7...|(13424,[3,6,339,7...|[-1808.0941966039...|[1.0,6.7707706649...|       0.0|\n",
            "|  ham|1.20 that call co...|    79|  0.0|[1.20, that, call...|[1.20, call, cost...|(13423,[1,18,21,2...|(13423,[1,18,21,2...|(13424,[1,18,21,2...|[-777.18924835832...|[1.0,3.7910428501...|       0.0|\n",
            "|  ham|   10 min later k...|    17|  0.0|[10, min, later, ...|[10, min, later, ...|(13423,[55,352,62...|(13423,[55,352,62...|(13424,[55,352,62...|[-216.09912805862...|[0.99999999997882...|       0.0|\n",
            "|  ham|5 nights...We nt ...|    51|  0.0|[5, nights...we, ...|[5, nights...we, ...|(13423,[242,759,9...|(13423,[242,759,9...|(13424,[242,759,9...|[-628.32771355739...|[1.0,2.3676426654...|       0.0|\n",
            "|  ham|                 645|     3|  0.0|               [645]|               [645]|(13423,[11401],[1...|(13423,[11401],[7...|(13424,[11401,134...|[-104.54100847989...|[0.00114003551972...|       1.0|\n",
            "|  ham|7 lor... Change 2...|    46|  0.0|[7, lor..., chang...|[7, lor..., chang...|(13423,[0,2,20,10...|(13423,[0,2,20,10...|(13424,[0,2,20,10...|[-426.43873899458...|[1.0,1.7513459324...|       0.0|\n",
            "+-----+--------------------+------+-----+--------------------+--------------------+--------------------+--------------------+--------------------+--------------------+--------------------+----------+\n",
            "only showing top 20 rows\n",
            "\n"
          ]
        }
      ]
    },
    {
      "cell_type": "code",
      "source": [
        "from pyspark.ml.evaluation import MulticlassClassificationEvaluator"
      ],
      "metadata": {
        "id": "Vg0Fqi_w3Etf"
      },
      "execution_count": null,
      "outputs": []
    },
    {
      "cell_type": "code",
      "source": [
        "eval = MulticlassClassificationEvaluator()"
      ],
      "metadata": {
        "id": "TxEMpev93Tai"
      },
      "execution_count": null,
      "outputs": []
    },
    {
      "cell_type": "code",
      "source": [
        "accuracy = eval.evaluate(predictions)"
      ],
      "metadata": {
        "id": "mdO1l7pd3YFZ"
      },
      "execution_count": null,
      "outputs": []
    },
    {
      "cell_type": "code",
      "source": [
        "print(accuracy)"
      ],
      "metadata": {
        "colab": {
          "base_uri": "https://localhost:8080/"
        },
        "id": "-x6N9pY13oDW",
        "outputId": "a14d66c1-95df-45bf-dc74-0690ab17f938"
      },
      "execution_count": null,
      "outputs": [
        {
          "output_type": "stream",
          "name": "stdout",
          "text": [
            "0.9179182753197234\n"
          ]
        }
      ]
    },
    {
      "cell_type": "code",
      "source": [
        ""
      ],
      "metadata": {
        "id": "mw4r1og23qRj"
      },
      "execution_count": null,
      "outputs": []
    }
  ]
}