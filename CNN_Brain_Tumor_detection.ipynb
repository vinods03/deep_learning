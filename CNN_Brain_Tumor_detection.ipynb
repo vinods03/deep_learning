{
  "nbformat": 4,
  "nbformat_minor": 0,
  "metadata": {
    "colab": {
      "name": "CNN - Brain Tumor detection.ipynb",
      "provenance": [],
      "machine_shape": "hm",
      "collapsed_sections": [],
      "authorship_tag": "ABX9TyNKWBs3pjl5hAWJPPWXQ+sc",
      "include_colab_link": true
    },
    "kernelspec": {
      "name": "python3",
      "display_name": "Python 3"
    },
    "language_info": {
      "name": "python"
    },
    "accelerator": "GPU",
    "gpuClass": "standard"
  },
  "cells": [
    {
      "cell_type": "markdown",
      "metadata": {
        "id": "view-in-github",
        "colab_type": "text"
      },
      "source": [
        "<a href=\"https://colab.research.google.com/github/vinods03/deep_learning/blob/main/CNN_Brain_Tumor_detection.ipynb\" target=\"_parent\"><img src=\"https://colab.research.google.com/assets/colab-badge.svg\" alt=\"Open In Colab\"/></a>"
      ]
    },
    {
      "cell_type": "code",
      "execution_count": 1,
      "metadata": {
        "colab": {
          "base_uri": "https://localhost:8080/"
        },
        "id": "Ln6SUste9C9E",
        "outputId": "58fc6735-0828-429f-b09d-182f2a1c789e"
      },
      "outputs": [
        {
          "output_type": "stream",
          "name": "stdout",
          "text": [
            "Mounted at /content/drive\n"
          ]
        }
      ],
      "source": [
        "from google.colab import drive\n",
        "drive.mount('/content/drive')"
      ]
    },
    {
      "cell_type": "code",
      "source": [
        "import tensorflow as tf\n",
        "print(tf.__version__)"
      ],
      "metadata": {
        "colab": {
          "base_uri": "https://localhost:8080/"
        },
        "id": "ha44fjXH9P84",
        "outputId": "76bd765d-0cb7-4f32-80a2-6ad402b3d2c3"
      },
      "execution_count": 2,
      "outputs": [
        {
          "output_type": "stream",
          "name": "stdout",
          "text": [
            "2.8.2\n"
          ]
        }
      ]
    },
    {
      "cell_type": "code",
      "source": [
        "base_dir = '/content/drive/MyDrive/brain_tumour'"
      ],
      "metadata": {
        "id": "2Eq9aNJF9qwq"
      },
      "execution_count": 3,
      "outputs": []
    },
    {
      "cell_type": "code",
      "source": [
        "translate = {'no':0, 'yes':1}\n",
        "reverse_translate = {0:'no', 1:'yes'}"
      ],
      "metadata": {
        "id": "-FwGci9R-K35"
      },
      "execution_count": 4,
      "outputs": []
    },
    {
      "cell_type": "code",
      "source": [
        "import os\n",
        "\n",
        "dataset = []\n",
        "\n",
        "for i in os.listdir(base_dir):\n",
        "  dataset.append(os.path.join(base_dir,i))\n",
        "\n",
        "dataset\n"
      ],
      "metadata": {
        "colab": {
          "base_uri": "https://localhost:8080/"
        },
        "id": "ko372Hw8_Jmb",
        "outputId": "3cda9921-dfa7-4050-a071-7d8d0625639c"
      },
      "execution_count": 5,
      "outputs": [
        {
          "output_type": "execute_result",
          "data": {
            "text/plain": [
              "['/content/drive/MyDrive/brain_tumour/no',\n",
              " '/content/drive/MyDrive/brain_tumour/yes']"
            ]
          },
          "metadata": {},
          "execution_count": 5
        }
      ]
    },
    {
      "cell_type": "code",
      "source": [
        "image_dataset = []\n",
        "\n",
        "for i in range(0, len(dataset)):\n",
        "  for j in os.listdir(dataset[i]):\n",
        "    image_dataset.append(os.path.join(dataset[i],j))\n",
        "\n",
        "image_dataset"
      ],
      "metadata": {
        "colab": {
          "base_uri": "https://localhost:8080/"
        },
        "id": "eNTo6sgn_o4K",
        "outputId": "0ce4a44d-6142-4055-b278-f4c396330a4f"
      },
      "execution_count": 6,
      "outputs": [
        {
          "output_type": "execute_result",
          "data": {
            "text/plain": [
              "['/content/drive/MyDrive/brain_tumour/no/8 no.jpg',\n",
              " '/content/drive/MyDrive/brain_tumour/no/22 no.jpg',\n",
              " '/content/drive/MyDrive/brain_tumour/no/24 no.jpg',\n",
              " '/content/drive/MyDrive/brain_tumour/no/49 no.jpg',\n",
              " '/content/drive/MyDrive/brain_tumour/no/43 no.jpg',\n",
              " '/content/drive/MyDrive/brain_tumour/no/no 923.jpg',\n",
              " '/content/drive/MyDrive/brain_tumour/no/no 94.jpg',\n",
              " '/content/drive/MyDrive/brain_tumour/no/No21.jpg',\n",
              " '/content/drive/MyDrive/brain_tumour/no/21 no.jpg',\n",
              " '/content/drive/MyDrive/brain_tumour/no/32 no.jpg',\n",
              " '/content/drive/MyDrive/brain_tumour/no/15 no.jpg',\n",
              " '/content/drive/MyDrive/brain_tumour/no/no 2.jpg',\n",
              " '/content/drive/MyDrive/brain_tumour/no/no 4.jpg',\n",
              " '/content/drive/MyDrive/brain_tumour/no/28 no.jpg',\n",
              " '/content/drive/MyDrive/brain_tumour/no/no 7.jpeg',\n",
              " '/content/drive/MyDrive/brain_tumour/no/N19.JPG',\n",
              " '/content/drive/MyDrive/brain_tumour/no/no 96.jpg',\n",
              " '/content/drive/MyDrive/brain_tumour/no/5 no.jpg',\n",
              " '/content/drive/MyDrive/brain_tumour/no/N15.jpg',\n",
              " '/content/drive/MyDrive/brain_tumour/no/No17.jpg',\n",
              " '/content/drive/MyDrive/brain_tumour/no/no 10.jpg',\n",
              " '/content/drive/MyDrive/brain_tumour/no/N17.jpg',\n",
              " '/content/drive/MyDrive/brain_tumour/no/No15.jpg',\n",
              " '/content/drive/MyDrive/brain_tumour/no/4 no.jpg',\n",
              " '/content/drive/MyDrive/brain_tumour/no/no 8.jpg',\n",
              " '/content/drive/MyDrive/brain_tumour/no/no 89.jpg',\n",
              " '/content/drive/MyDrive/brain_tumour/no/No12.jpg',\n",
              " '/content/drive/MyDrive/brain_tumour/no/48 no.jpeg',\n",
              " '/content/drive/MyDrive/brain_tumour/no/no 1.jpg',\n",
              " '/content/drive/MyDrive/brain_tumour/no/13 no.jpg',\n",
              " '/content/drive/MyDrive/brain_tumour/no/no.jpg',\n",
              " '/content/drive/MyDrive/brain_tumour/no/no 99.jpg',\n",
              " '/content/drive/MyDrive/brain_tumour/no/No16.jpg',\n",
              " '/content/drive/MyDrive/brain_tumour/no/N3.jpg',\n",
              " '/content/drive/MyDrive/brain_tumour/no/N20.JPG',\n",
              " '/content/drive/MyDrive/brain_tumour/no/33 no.jpg',\n",
              " '/content/drive/MyDrive/brain_tumour/no/No13.jpg',\n",
              " '/content/drive/MyDrive/brain_tumour/no/25 no.jpg',\n",
              " '/content/drive/MyDrive/brain_tumour/no/N22.JPG',\n",
              " '/content/drive/MyDrive/brain_tumour/no/No11.jpg',\n",
              " '/content/drive/MyDrive/brain_tumour/no/35 no.jpg',\n",
              " '/content/drive/MyDrive/brain_tumour/no/29 no.jpg',\n",
              " '/content/drive/MyDrive/brain_tumour/no/no 95.jpg',\n",
              " '/content/drive/MyDrive/brain_tumour/no/20 no.jpg',\n",
              " '/content/drive/MyDrive/brain_tumour/no/no 97.jpg',\n",
              " '/content/drive/MyDrive/brain_tumour/no/46 no.jpg',\n",
              " '/content/drive/MyDrive/brain_tumour/no/44no.jpg',\n",
              " '/content/drive/MyDrive/brain_tumour/no/31 no.jpg',\n",
              " '/content/drive/MyDrive/brain_tumour/no/23 no.jpg',\n",
              " '/content/drive/MyDrive/brain_tumour/no/no 92.jpg',\n",
              " '/content/drive/MyDrive/brain_tumour/no/26 no.jpg',\n",
              " '/content/drive/MyDrive/brain_tumour/no/40 no.jpg',\n",
              " '/content/drive/MyDrive/brain_tumour/no/N16.jpg',\n",
              " '/content/drive/MyDrive/brain_tumour/no/1 no.jpeg',\n",
              " '/content/drive/MyDrive/brain_tumour/no/no 90.jpg',\n",
              " '/content/drive/MyDrive/brain_tumour/no/no 3.jpg',\n",
              " '/content/drive/MyDrive/brain_tumour/no/11 no.jpg',\n",
              " '/content/drive/MyDrive/brain_tumour/no/N6.jpg',\n",
              " '/content/drive/MyDrive/brain_tumour/no/No18.jpg',\n",
              " '/content/drive/MyDrive/brain_tumour/no/No22.jpg',\n",
              " '/content/drive/MyDrive/brain_tumour/no/no 5.jpeg',\n",
              " '/content/drive/MyDrive/brain_tumour/no/10 no.jpg',\n",
              " '/content/drive/MyDrive/brain_tumour/no/no 6.jpg',\n",
              " '/content/drive/MyDrive/brain_tumour/no/50 no.jpg',\n",
              " '/content/drive/MyDrive/brain_tumour/no/N5.jpg',\n",
              " '/content/drive/MyDrive/brain_tumour/no/No20.jpg',\n",
              " '/content/drive/MyDrive/brain_tumour/no/No14.jpg',\n",
              " '/content/drive/MyDrive/brain_tumour/no/No19.jpg',\n",
              " '/content/drive/MyDrive/brain_tumour/no/38 no.jpg',\n",
              " '/content/drive/MyDrive/brain_tumour/no/42 no.jpg',\n",
              " '/content/drive/MyDrive/brain_tumour/no/N11.jpg',\n",
              " '/content/drive/MyDrive/brain_tumour/no/41 no.jpg',\n",
              " '/content/drive/MyDrive/brain_tumour/no/37 no.jpg',\n",
              " '/content/drive/MyDrive/brain_tumour/no/no 98.jpg',\n",
              " '/content/drive/MyDrive/brain_tumour/no/2 no.jpeg',\n",
              " '/content/drive/MyDrive/brain_tumour/no/6 no.jpg',\n",
              " '/content/drive/MyDrive/brain_tumour/no/36 no.jpg',\n",
              " '/content/drive/MyDrive/brain_tumour/no/no 9.png',\n",
              " '/content/drive/MyDrive/brain_tumour/no/34 no.jpg',\n",
              " '/content/drive/MyDrive/brain_tumour/no/9 no.jpg',\n",
              " '/content/drive/MyDrive/brain_tumour/no/no 91.jpeg',\n",
              " '/content/drive/MyDrive/brain_tumour/no/27 no.jpg',\n",
              " '/content/drive/MyDrive/brain_tumour/no/N2.JPG',\n",
              " '/content/drive/MyDrive/brain_tumour/no/18 no.jpg',\n",
              " '/content/drive/MyDrive/brain_tumour/no/7 no.jpg',\n",
              " '/content/drive/MyDrive/brain_tumour/no/45 no.jpg',\n",
              " '/content/drive/MyDrive/brain_tumour/no/19 no.jpg',\n",
              " '/content/drive/MyDrive/brain_tumour/no/39 no.jpg',\n",
              " '/content/drive/MyDrive/brain_tumour/no/30 no.jpg',\n",
              " '/content/drive/MyDrive/brain_tumour/no/14 no.jpg',\n",
              " '/content/drive/MyDrive/brain_tumour/no/no 100.jpg',\n",
              " '/content/drive/MyDrive/brain_tumour/no/17 no.jpg',\n",
              " '/content/drive/MyDrive/brain_tumour/no/N26.JPG',\n",
              " '/content/drive/MyDrive/brain_tumour/no/N21.jpg',\n",
              " '/content/drive/MyDrive/brain_tumour/no/N1.JPG',\n",
              " '/content/drive/MyDrive/brain_tumour/no/47 no.jpg',\n",
              " '/content/drive/MyDrive/brain_tumour/no/12 no.jpg',\n",
              " '/content/drive/MyDrive/brain_tumour/no/3 no.jpg',\n",
              " '/content/drive/MyDrive/brain_tumour/yes/Y101.jpg',\n",
              " '/content/drive/MyDrive/brain_tumour/yes/Y16.JPG',\n",
              " '/content/drive/MyDrive/brain_tumour/yes/Y22.jpg',\n",
              " '/content/drive/MyDrive/brain_tumour/yes/Y159.JPG',\n",
              " '/content/drive/MyDrive/brain_tumour/yes/Y148.JPG',\n",
              " '/content/drive/MyDrive/brain_tumour/yes/Y188.jpg',\n",
              " '/content/drive/MyDrive/brain_tumour/yes/Y12.jpg',\n",
              " '/content/drive/MyDrive/brain_tumour/yes/Y154.jpg',\n",
              " '/content/drive/MyDrive/brain_tumour/yes/Y104.jpg',\n",
              " '/content/drive/MyDrive/brain_tumour/yes/Y156.JPG',\n",
              " '/content/drive/MyDrive/brain_tumour/yes/Y105.jpg',\n",
              " '/content/drive/MyDrive/brain_tumour/yes/Y102.jpg',\n",
              " '/content/drive/MyDrive/brain_tumour/yes/Y108.jpg',\n",
              " '/content/drive/MyDrive/brain_tumour/yes/Y109.JPG',\n",
              " '/content/drive/MyDrive/brain_tumour/yes/Y169.jpg',\n",
              " '/content/drive/MyDrive/brain_tumour/yes/Y114.JPG',\n",
              " '/content/drive/MyDrive/brain_tumour/yes/Y17.jpg',\n",
              " '/content/drive/MyDrive/brain_tumour/yes/Y106.jpg',\n",
              " '/content/drive/MyDrive/brain_tumour/yes/Y11.jpg',\n",
              " '/content/drive/MyDrive/brain_tumour/yes/Y182.JPG',\n",
              " '/content/drive/MyDrive/brain_tumour/yes/Y146.JPG',\n",
              " '/content/drive/MyDrive/brain_tumour/yes/Y170.JPG',\n",
              " '/content/drive/MyDrive/brain_tumour/yes/Y181.jpg',\n",
              " '/content/drive/MyDrive/brain_tumour/yes/Y164.JPG',\n",
              " '/content/drive/MyDrive/brain_tumour/yes/Y163.JPG',\n",
              " '/content/drive/MyDrive/brain_tumour/yes/Y113.JPG',\n",
              " '/content/drive/MyDrive/brain_tumour/yes/Y155.JPG',\n",
              " '/content/drive/MyDrive/brain_tumour/yes/Y153.jpg',\n",
              " '/content/drive/MyDrive/brain_tumour/yes/Y117.JPG',\n",
              " '/content/drive/MyDrive/brain_tumour/yes/Y193.JPG',\n",
              " '/content/drive/MyDrive/brain_tumour/yes/Y24.jpg',\n",
              " '/content/drive/MyDrive/brain_tumour/yes/Y184.JPG',\n",
              " '/content/drive/MyDrive/brain_tumour/yes/Y15.jpg',\n",
              " '/content/drive/MyDrive/brain_tumour/yes/Y194.jpg',\n",
              " '/content/drive/MyDrive/brain_tumour/yes/Y157.JPG',\n",
              " '/content/drive/MyDrive/brain_tumour/yes/Y100.JPG',\n",
              " '/content/drive/MyDrive/brain_tumour/yes/Y167.JPG',\n",
              " '/content/drive/MyDrive/brain_tumour/yes/Y185.jpg',\n",
              " '/content/drive/MyDrive/brain_tumour/yes/Y195.JPG',\n",
              " '/content/drive/MyDrive/brain_tumour/yes/Y107.jpg',\n",
              " '/content/drive/MyDrive/brain_tumour/yes/Y162.jpg',\n",
              " '/content/drive/MyDrive/brain_tumour/yes/Y19.JPG',\n",
              " '/content/drive/MyDrive/brain_tumour/yes/Y18.JPG',\n",
              " '/content/drive/MyDrive/brain_tumour/yes/Y112.JPG',\n",
              " '/content/drive/MyDrive/brain_tumour/yes/Y23.JPG',\n",
              " '/content/drive/MyDrive/brain_tumour/yes/Y13.jpg',\n",
              " '/content/drive/MyDrive/brain_tumour/yes/Y161.JPG',\n",
              " '/content/drive/MyDrive/brain_tumour/yes/Y165.JPG',\n",
              " '/content/drive/MyDrive/brain_tumour/yes/Y160.JPG',\n",
              " '/content/drive/MyDrive/brain_tumour/yes/Y14.jpg',\n",
              " '/content/drive/MyDrive/brain_tumour/yes/Y147.JPG',\n",
              " '/content/drive/MyDrive/brain_tumour/yes/Y166.JPG',\n",
              " '/content/drive/MyDrive/brain_tumour/yes/Y120.JPG',\n",
              " '/content/drive/MyDrive/brain_tumour/yes/Y103.jpg',\n",
              " '/content/drive/MyDrive/brain_tumour/yes/Y2.jpg',\n",
              " '/content/drive/MyDrive/brain_tumour/yes/Y10.jpg',\n",
              " '/content/drive/MyDrive/brain_tumour/yes/Y192.JPG',\n",
              " '/content/drive/MyDrive/brain_tumour/yes/Y186.jpg',\n",
              " '/content/drive/MyDrive/brain_tumour/yes/Y183.jpg',\n",
              " '/content/drive/MyDrive/brain_tumour/yes/Y168.jpg',\n",
              " '/content/drive/MyDrive/brain_tumour/yes/Y111.JPG',\n",
              " '/content/drive/MyDrive/brain_tumour/yes/Y1.jpg',\n",
              " '/content/drive/MyDrive/brain_tumour/yes/Y187.jpg',\n",
              " '/content/drive/MyDrive/brain_tumour/yes/Y115.JPG',\n",
              " '/content/drive/MyDrive/brain_tumour/yes/Y116.JPG',\n",
              " '/content/drive/MyDrive/brain_tumour/yes/Y158.JPG',\n",
              " '/content/drive/MyDrive/brain_tumour/yes/Y21.jpg',\n",
              " '/content/drive/MyDrive/brain_tumour/yes/Y20.jpg',\n",
              " '/content/drive/MyDrive/brain_tumour/yes/Y180.jpg',\n",
              " '/content/drive/MyDrive/brain_tumour/yes/Y253.JPG',\n",
              " '/content/drive/MyDrive/brain_tumour/yes/Y95.jpg',\n",
              " '/content/drive/MyDrive/brain_tumour/yes/Y53.jpg',\n",
              " '/content/drive/MyDrive/brain_tumour/yes/Y65.JPG',\n",
              " '/content/drive/MyDrive/brain_tumour/yes/Y247.JPG',\n",
              " '/content/drive/MyDrive/brain_tumour/yes/Y40.JPG',\n",
              " '/content/drive/MyDrive/brain_tumour/yes/Y255.JPG',\n",
              " '/content/drive/MyDrive/brain_tumour/yes/Y6.jpg',\n",
              " '/content/drive/MyDrive/brain_tumour/yes/Y30.jpg',\n",
              " '/content/drive/MyDrive/brain_tumour/yes/Y246.JPG',\n",
              " '/content/drive/MyDrive/brain_tumour/yes/Y251.JPG',\n",
              " '/content/drive/MyDrive/brain_tumour/yes/Y249.JPG',\n",
              " '/content/drive/MyDrive/brain_tumour/yes/Y74.jpg',\n",
              " '/content/drive/MyDrive/brain_tumour/yes/Y248.JPG',\n",
              " '/content/drive/MyDrive/brain_tumour/yes/Y27.jpg',\n",
              " '/content/drive/MyDrive/brain_tumour/yes/Y36.JPG',\n",
              " '/content/drive/MyDrive/brain_tumour/yes/Y252.jpg',\n",
              " '/content/drive/MyDrive/brain_tumour/yes/Y35.jpg',\n",
              " '/content/drive/MyDrive/brain_tumour/yes/Y243.JPG',\n",
              " '/content/drive/MyDrive/brain_tumour/yes/Y51.jpg',\n",
              " '/content/drive/MyDrive/brain_tumour/yes/Y49.JPG',\n",
              " '/content/drive/MyDrive/brain_tumour/yes/Y28.jpg',\n",
              " '/content/drive/MyDrive/brain_tumour/yes/Y38.jpg',\n",
              " '/content/drive/MyDrive/brain_tumour/yes/Y54.jpg',\n",
              " '/content/drive/MyDrive/brain_tumour/yes/Y39.jpg',\n",
              " '/content/drive/MyDrive/brain_tumour/yes/Y85.JPG',\n",
              " '/content/drive/MyDrive/brain_tumour/yes/Y245.jpg',\n",
              " '/content/drive/MyDrive/brain_tumour/yes/Y258.JPG',\n",
              " '/content/drive/MyDrive/brain_tumour/yes/Y55.jpg',\n",
              " '/content/drive/MyDrive/brain_tumour/yes/Y59.JPG',\n",
              " '/content/drive/MyDrive/brain_tumour/yes/Y96.jpg',\n",
              " '/content/drive/MyDrive/brain_tumour/yes/Y259.JPG',\n",
              " '/content/drive/MyDrive/brain_tumour/yes/Y25.jpg',\n",
              " '/content/drive/MyDrive/brain_tumour/yes/Y81.jpg',\n",
              " '/content/drive/MyDrive/brain_tumour/yes/Y70.jpg',\n",
              " '/content/drive/MyDrive/brain_tumour/yes/Y73.jpg',\n",
              " '/content/drive/MyDrive/brain_tumour/yes/Y37.jpg',\n",
              " '/content/drive/MyDrive/brain_tumour/yes/Y250.jpg',\n",
              " '/content/drive/MyDrive/brain_tumour/yes/Y257.jpg',\n",
              " '/content/drive/MyDrive/brain_tumour/yes/Y26.jpg',\n",
              " '/content/drive/MyDrive/brain_tumour/yes/Y34.jpg',\n",
              " '/content/drive/MyDrive/brain_tumour/yes/Y86.JPG',\n",
              " '/content/drive/MyDrive/brain_tumour/yes/Y79.jpg',\n",
              " '/content/drive/MyDrive/brain_tumour/yes/Y98.JPG',\n",
              " '/content/drive/MyDrive/brain_tumour/yes/Y33.jpg',\n",
              " '/content/drive/MyDrive/brain_tumour/yes/Y67.JPG',\n",
              " '/content/drive/MyDrive/brain_tumour/yes/Y7.jpg',\n",
              " '/content/drive/MyDrive/brain_tumour/yes/Y58.JPG',\n",
              " '/content/drive/MyDrive/brain_tumour/yes/Y47.JPG',\n",
              " '/content/drive/MyDrive/brain_tumour/yes/Y60.jpg',\n",
              " '/content/drive/MyDrive/brain_tumour/yes/Y242.JPG',\n",
              " '/content/drive/MyDrive/brain_tumour/yes/Y29.jpg',\n",
              " '/content/drive/MyDrive/brain_tumour/yes/Y56.jpg',\n",
              " '/content/drive/MyDrive/brain_tumour/yes/Y92.png',\n",
              " '/content/drive/MyDrive/brain_tumour/yes/Y89.JPG',\n",
              " '/content/drive/MyDrive/brain_tumour/yes/Y31.jpg',\n",
              " '/content/drive/MyDrive/brain_tumour/yes/Y75.JPG',\n",
              " '/content/drive/MyDrive/brain_tumour/yes/Y78.jpg',\n",
              " '/content/drive/MyDrive/brain_tumour/yes/Y3.jpg',\n",
              " '/content/drive/MyDrive/brain_tumour/yes/Y71.JPG',\n",
              " '/content/drive/MyDrive/brain_tumour/yes/Y90.jpg',\n",
              " '/content/drive/MyDrive/brain_tumour/yes/Y77.jpg',\n",
              " '/content/drive/MyDrive/brain_tumour/yes/Y41.jpg',\n",
              " '/content/drive/MyDrive/brain_tumour/yes/Y91.jpg',\n",
              " '/content/drive/MyDrive/brain_tumour/yes/Y92.jpg',\n",
              " '/content/drive/MyDrive/brain_tumour/yes/Y42.jpg',\n",
              " '/content/drive/MyDrive/brain_tumour/yes/Y45.JPG',\n",
              " '/content/drive/MyDrive/brain_tumour/yes/Y99.JPG',\n",
              " '/content/drive/MyDrive/brain_tumour/yes/Y254.jpg',\n",
              " '/content/drive/MyDrive/brain_tumour/yes/Y244.JPG',\n",
              " '/content/drive/MyDrive/brain_tumour/yes/Y82.jpg',\n",
              " '/content/drive/MyDrive/brain_tumour/yes/Y46.jpg',\n",
              " '/content/drive/MyDrive/brain_tumour/yes/Y32.jpg',\n",
              " '/content/drive/MyDrive/brain_tumour/yes/Y8.jpg',\n",
              " '/content/drive/MyDrive/brain_tumour/yes/Y76.jpg',\n",
              " '/content/drive/MyDrive/brain_tumour/yes/Y97.JPG',\n",
              " '/content/drive/MyDrive/brain_tumour/yes/Y4.jpg',\n",
              " '/content/drive/MyDrive/brain_tumour/yes/Y44.JPG',\n",
              " '/content/drive/MyDrive/brain_tumour/yes/Y50.JPG',\n",
              " '/content/drive/MyDrive/brain_tumour/yes/Y62.jpg',\n",
              " '/content/drive/MyDrive/brain_tumour/yes/Y69.jpg',\n",
              " '/content/drive/MyDrive/brain_tumour/yes/Y61.jpg',\n",
              " '/content/drive/MyDrive/brain_tumour/yes/Y52.jpg',\n",
              " '/content/drive/MyDrive/brain_tumour/yes/Y66.JPG',\n",
              " '/content/drive/MyDrive/brain_tumour/yes/Y256.JPG',\n",
              " '/content/drive/MyDrive/brain_tumour/yes/Y9.jpg']"
            ]
          },
          "metadata": {},
          "execution_count": 6
        }
      ]
    },
    {
      "cell_type": "code",
      "source": [
        "print(len(image_dataset))"
      ],
      "metadata": {
        "colab": {
          "base_uri": "https://localhost:8080/"
        },
        "id": "neu9SZB8A0pP",
        "outputId": "560313a2-439b-469c-b217-dec91dc17f2c"
      },
      "execution_count": 7,
      "outputs": [
        {
          "output_type": "stream",
          "name": "stdout",
          "text": [
            "253\n"
          ]
        }
      ]
    },
    {
      "cell_type": "code",
      "source": [
        "# convert one image into an array\n",
        "\n",
        "from tensorflow.keras.preprocessing.image import load_img, img_to_array\n",
        "img = load_img('/content/drive/MyDrive/brain_tumour/yes/Y250.jpg', target_size = (256, 256))\n",
        "img = img_to_array(img)\n",
        "img = img/255\n",
        "print(img.shape)"
      ],
      "metadata": {
        "colab": {
          "base_uri": "https://localhost:8080/"
        },
        "id": "p6-uMqCCHknF",
        "outputId": "39b9adc7-c000-474a-8b33-2747c14eca07"
      },
      "execution_count": 8,
      "outputs": [
        {
          "output_type": "stream",
          "name": "stdout",
          "text": [
            "(256, 256, 3)\n"
          ]
        }
      ]
    },
    {
      "cell_type": "code",
      "source": [
        "img[0][0][0]"
      ],
      "metadata": {
        "colab": {
          "base_uri": "https://localhost:8080/"
        },
        "id": "nwA-kpUwIOFK",
        "outputId": "1f2f9e27-b6d3-4f9c-b36f-f0850de9f2f7"
      },
      "execution_count": 9,
      "outputs": [
        {
          "output_type": "execute_result",
          "data": {
            "text/plain": [
              "0.05490196"
            ]
          },
          "metadata": {},
          "execution_count": 9
        }
      ]
    },
    {
      "cell_type": "code",
      "source": [
        "# convert array back to image\n",
        "\n",
        "import matplotlib.pyplot as plt\n",
        "plt.imshow(img)"
      ],
      "metadata": {
        "colab": {
          "base_uri": "https://localhost:8080/",
          "height": 286
        },
        "id": "kiYJgeSSIfjM",
        "outputId": "80c80604-7e67-4fd1-9866-bcbb6d75dcc1"
      },
      "execution_count": 10,
      "outputs": [
        {
          "output_type": "execute_result",
          "data": {
            "text/plain": [
              "<matplotlib.image.AxesImage at 0x7f9ba9d56990>"
            ]
          },
          "metadata": {},
          "execution_count": 10
        },
        {
          "output_type": "display_data",
          "data": {
            "text/plain": [
              "<Figure size 432x288 with 1 Axes>"
            ],
            "image/png": "[encoded data removed]"
          },
          "metadata": {
            "needs_background": "light"
          }
        }
      ]
    },
    {
      "cell_type": "code",
      "source": [
        "image_array = []\n",
        "image_label = []\n",
        "\n",
        "for i in image_dataset:\n",
        "    img = load_img(i, target_size = (256, 256))\n",
        "    img = img_to_array(img)\n",
        "    img = img/255\n",
        "    image_array.append(img)\n",
        "    label = i.split('/')[-2]\n",
        "    image_label.append(translate[label])"
      ],
      "metadata": {
        "id": "xq_0HrfbI_V0"
      },
      "execution_count": 11,
      "outputs": []
    },
    {
      "cell_type": "code",
      "source": [
        "set(image_label)"
      ],
      "metadata": {
        "colab": {
          "base_uri": "https://localhost:8080/"
        },
        "id": "QeyESB40KE8d",
        "outputId": "dd1bdf1c-b89a-4300-e978-c9c442061116"
      },
      "execution_count": 12,
      "outputs": [
        {
          "output_type": "execute_result",
          "data": {
            "text/plain": [
              "{0, 1}"
            ]
          },
          "metadata": {},
          "execution_count": 12
        }
      ]
    },
    {
      "cell_type": "code",
      "source": [
        "c = len(set(image_label))\n",
        "print('Number of classes in the dataset', c)"
      ],
      "metadata": {
        "colab": {
          "base_uri": "https://localhost:8080/"
        },
        "id": "DtxaichJMzZa",
        "outputId": "8801abe7-2b56-45bf-972e-feafc24e386b"
      },
      "execution_count": 13,
      "outputs": [
        {
          "output_type": "stream",
          "name": "stdout",
          "text": [
            "Number of classes in the dataset 2\n"
          ]
        }
      ]
    },
    {
      "cell_type": "code",
      "source": [
        "import numpy as np\n",
        "image_array = np.array(image_array)\n",
        "image_label = np.array(image_label)"
      ],
      "metadata": {
        "id": "rAQzV995MUGT"
      },
      "execution_count": 14,
      "outputs": []
    },
    {
      "cell_type": "code",
      "source": [
        "image_array.shape"
      ],
      "metadata": {
        "colab": {
          "base_uri": "https://localhost:8080/"
        },
        "id": "U8bVYU1YMhff",
        "outputId": "c3457fb9-0957-477b-c58d-311900a09a49"
      },
      "execution_count": 15,
      "outputs": [
        {
          "output_type": "execute_result",
          "data": {
            "text/plain": [
              "(253, 256, 256, 3)"
            ]
          },
          "metadata": {},
          "execution_count": 15
        }
      ]
    },
    {
      "cell_type": "code",
      "source": [
        "image_label.shape"
      ],
      "metadata": {
        "colab": {
          "base_uri": "https://localhost:8080/"
        },
        "id": "DSdQeEzeMjLz",
        "outputId": "b6f54a01-2875-470c-ac10-cf4a88d55c98"
      },
      "execution_count": 16,
      "outputs": [
        {
          "output_type": "execute_result",
          "data": {
            "text/plain": [
              "(253,)"
            ]
          },
          "metadata": {},
          "execution_count": 16
        }
      ]
    },
    {
      "cell_type": "code",
      "source": [
        "from sklearn.model_selection import train_test_split\n",
        "X_train, X_test, y_train, y_test = train_test_split(image_array, image_label, test_size = 0.2)"
      ],
      "metadata": {
        "id": "u5SqTPsfMl1q"
      },
      "execution_count": 17,
      "outputs": []
    },
    {
      "cell_type": "code",
      "source": [
        "print(X_train.shape)\n",
        "print(X_test.shape)\n",
        "print(y_train.shape)\n",
        "print(y_test.shape)"
      ],
      "metadata": {
        "colab": {
          "base_uri": "https://localhost:8080/"
        },
        "id": "f0b5Hj1zNHL5",
        "outputId": "86380e4e-b045-4134-f82c-874fcab86977"
      },
      "execution_count": 18,
      "outputs": [
        {
          "output_type": "stream",
          "name": "stdout",
          "text": [
            "(202, 256, 256, 3)\n",
            "(51, 256, 256, 3)\n",
            "(202,)\n",
            "(51,)\n"
          ]
        }
      ]
    },
    {
      "cell_type": "code",
      "source": [
        "# Build the model\n",
        "\n",
        "from tensorflow.keras.layers import Input, Conv2D, BatchNormalization, Flatten, GlobalMaxPooling2D, Dropout, Dense\n",
        "from tensorflow.keras.models import Model\n",
        "from keras.regularizers import l2, l1, l1_l2"
      ],
      "metadata": {
        "id": "BeTJPjy6NOf0"
      },
      "execution_count": 19,
      "outputs": []
    },
    {
      "cell_type": "code",
      "source": [
        "image_array[0]. shape\n",
        "\n",
        "i = Input(shape = image_array[0].shape)\n",
        "\n",
        "# x = Conv2D(32, (3,3), strides = 2, activation = 'relu', padding = 'same')(i)\n",
        "# x = Conv2D(32, (3,3), strides = 2, activation = 'relu', padding = 'same', kernel_regularizer = l2(0.01), bias_regularizer = l2(0.01))(i)\n",
        "# x = Conv2D(32, (3,3), strides = 2, activation = 'relu', padding = 'same', kernel_regularizer = l1(0.01), bias_regularizer = l1(0.01))(i)\n",
        "\n",
        "x = Conv2D(32, (3,3), strides = 2, activation = 'relu', padding = 'valid')(i)\n",
        "x = BatchNormalization()(x)\n",
        "\n",
        "# x = Conv2D(64, (3,3), strides = 2, activation = 'relu', padding = 'same')(x)\n",
        "# x = Conv2D(64, (3,3), strides = 2, activation = 'relu', padding = 'same', kernel_regularizer = l2(0.01), bias_regularizer = l2(0.01))(x)\n",
        "# x = Conv2D(64, (3,3), strides = 2, activation = 'relu', padding = 'same', kernel_regularizer = l1(0.01), bias_regularizer = l1(0.01))(x)\n",
        "\n",
        "x = Conv2D(64, (3,3), strides = 2, activation = 'relu', padding = 'valid')(x)\n",
        "x = BatchNormalization()(x)\n",
        "\n",
        "# x = Conv2D(128, (3,3), strides = 2, activation = 'relu', padding = 'same')(x)\n",
        "# x = Conv2D(128, (3,3), strides = 2, activation = 'relu', padding = 'same', kernel_regularizer = l2(0.01), bias_regularizer = l2(0.01))(x)\n",
        "# x = Conv2D(128, (3,3), strides = 2, activation = 'relu', padding = 'same', kernel_regularizer = l1(0.01), bias_regularizer = l1(0.01))(x)\n",
        "\n",
        "x = Conv2D(128, (3,3), strides = 2, activation = 'relu', padding = 'valid')(x)\n",
        "x = BatchNormalization()(x)\n",
        "\n",
        "x = Conv2D(256, (3,3), strides = 2, activation = 'relu', padding = 'valid')(x)\n",
        "x = BatchNormalization()(x)\n",
        "\n",
        "# x = Flatten()(x)\n",
        "x = GlobalMaxPooling2D()(x)\n",
        "\n",
        "x = Dropout(0.2)(x)\n",
        "x = Dense(256, activation = 'relu')(x)\n",
        "\n",
        "x = Dropout(0.2)(x)\n",
        "x = Dense(1, activation = 'sigmoid')(x)\n",
        "\n",
        "m = Model(i, x)\n"
      ],
      "metadata": {
        "id": "UEzEbacUNocv"
      },
      "execution_count": 20,
      "outputs": []
    },
    {
      "cell_type": "code",
      "source": [
        "y_train"
      ],
      "metadata": {
        "colab": {
          "base_uri": "https://localhost:8080/"
        },
        "id": "TwsdL5MePuSt",
        "outputId": "f9c5759b-1792-4b26-d1d4-21b4c7e496cb"
      },
      "execution_count": 21,
      "outputs": [
        {
          "output_type": "execute_result",
          "data": {
            "text/plain": [
              "array([0, 1, 1, 1, 1, 0, 1, 1, 0, 1, 0, 1, 0, 1, 1, 1, 0, 1, 0, 1, 1, 1,\n",
              "       1, 0, 0, 1, 1, 1, 0, 1, 0, 0, 1, 1, 1, 1, 1, 1, 0, 0, 1, 1, 1, 1,\n",
              "       1, 1, 0, 1, 0, 1, 1, 1, 1, 0, 1, 1, 1, 0, 1, 0, 1, 0, 0, 0, 1, 0,\n",
              "       1, 0, 0, 1, 0, 1, 1, 1, 1, 1, 1, 1, 0, 0, 0, 1, 1, 1, 1, 1, 0, 1,\n",
              "       1, 1, 0, 1, 1, 0, 1, 1, 0, 1, 0, 1, 0, 1, 0, 1, 1, 0, 1, 0, 1, 0,\n",
              "       1, 1, 1, 1, 1, 1, 0, 1, 1, 0, 1, 1, 0, 1, 1, 1, 1, 0, 0, 0, 1, 1,\n",
              "       1, 1, 0, 1, 0, 1, 1, 1, 0, 1, 1, 0, 0, 1, 1, 0, 1, 0, 0, 1, 1, 0,\n",
              "       0, 1, 0, 1, 1, 1, 0, 0, 0, 1, 1, 0, 0, 0, 1, 1, 1, 1, 0, 1, 1, 0,\n",
              "       1, 0, 0, 1, 1, 1, 1, 1, 1, 1, 0, 0, 1, 1, 1, 1, 0, 0, 1, 0, 0, 1,\n",
              "       1, 0, 1, 1])"
            ]
          },
          "metadata": {},
          "execution_count": 21
        }
      ]
    },
    {
      "cell_type": "code",
      "source": [
        "# Compile and fit the model\n",
        "\n",
        "# m.compile(optimizer = 'adam', loss = 'binary_crossentropy', metrics = ['accuracy'])\n",
        "\n",
        "opt = tf.keras.optimizers.Adam(0.0001)\n",
        "m.compile(optimizer = opt, loss = 'binary_crossentropy', metrics = ['accuracy'])\n",
        "r = m.fit(X_train, y_train, validation_data = (X_test, y_test), epochs = 20)"
      ],
      "metadata": {
        "colab": {
          "base_uri": "https://localhost:8080/"
        },
        "id": "sj3UlfSDNvI2",
        "outputId": "7da3c6f7-6ad0-4cb7-a227-40eb5d940bbd"
      },
      "execution_count": 22,
      "outputs": [
        {
          "output_type": "stream",
          "name": "stdout",
          "text": [
            "Epoch 1/20\n",
            "7/7 [==============================] - 14s 110ms/step - loss: 1.6627 - accuracy: 0.5347 - val_loss: 0.6897 - val_accuracy: 0.5098\n",
            "Epoch 2/20\n",
            "7/7 [==============================] - 0s 32ms/step - loss: 1.0082 - accuracy: 0.6733 - val_loss: 0.6874 - val_accuracy: 0.7059\n",
            "Epoch 3/20\n",
            "7/7 [==============================] - 0s 31ms/step - loss: 1.2510 - accuracy: 0.6436 - val_loss: 0.6867 - val_accuracy: 0.6471\n",
            "Epoch 4/20\n",
            "7/7 [==============================] - 0s 30ms/step - loss: 0.8245 - accuracy: 0.7129 - val_loss: 0.6865 - val_accuracy: 0.6471\n",
            "Epoch 5/20\n",
            "7/7 [==============================] - 0s 31ms/step - loss: 0.7049 - accuracy: 0.7426 - val_loss: 0.6876 - val_accuracy: 0.5490\n",
            "Epoch 6/20\n",
            "7/7 [==============================] - 0s 31ms/step - loss: 0.5434 - accuracy: 0.8069 - val_loss: 0.6883 - val_accuracy: 0.5098\n",
            "Epoch 7/20\n",
            "7/7 [==============================] - 0s 33ms/step - loss: 0.4769 - accuracy: 0.8069 - val_loss: 0.6885 - val_accuracy: 0.5098\n",
            "Epoch 8/20\n",
            "7/7 [==============================] - 0s 31ms/step - loss: 0.5004 - accuracy: 0.8267 - val_loss: 0.6885 - val_accuracy: 0.5098\n",
            "Epoch 9/20\n",
            "7/7 [==============================] - 0s 32ms/step - loss: 0.2785 - accuracy: 0.8713 - val_loss: 0.6883 - val_accuracy: 0.4902\n",
            "Epoch 10/20\n",
            "7/7 [==============================] - 0s 31ms/step - loss: 0.3316 - accuracy: 0.8713 - val_loss: 0.6883 - val_accuracy: 0.4902\n",
            "Epoch 11/20\n",
            "7/7 [==============================] - 0s 31ms/step - loss: 0.1891 - accuracy: 0.9307 - val_loss: 0.6877 - val_accuracy: 0.4902\n",
            "Epoch 12/20\n",
            "7/7 [==============================] - 0s 31ms/step - loss: 0.2011 - accuracy: 0.9109 - val_loss: 0.6867 - val_accuracy: 0.4902\n",
            "Epoch 13/20\n",
            "7/7 [==============================] - 0s 32ms/step - loss: 0.2559 - accuracy: 0.9109 - val_loss: 0.6864 - val_accuracy: 0.4902\n",
            "Epoch 14/20\n",
            "7/7 [==============================] - 0s 32ms/step - loss: 0.2434 - accuracy: 0.9059 - val_loss: 0.6853 - val_accuracy: 0.5098\n",
            "Epoch 15/20\n",
            "7/7 [==============================] - 0s 33ms/step - loss: 0.1875 - accuracy: 0.9257 - val_loss: 0.6839 - val_accuracy: 0.5294\n",
            "Epoch 16/20\n",
            "7/7 [==============================] - 0s 31ms/step - loss: 0.1741 - accuracy: 0.9356 - val_loss: 0.6821 - val_accuracy: 0.5686\n",
            "Epoch 17/20\n",
            "7/7 [==============================] - 0s 33ms/step - loss: 0.1009 - accuracy: 0.9703 - val_loss: 0.6806 - val_accuracy: 0.5686\n",
            "Epoch 18/20\n",
            "7/7 [==============================] - 0s 30ms/step - loss: 0.1123 - accuracy: 0.9356 - val_loss: 0.6779 - val_accuracy: 0.6275\n",
            "Epoch 19/20\n",
            "7/7 [==============================] - 0s 32ms/step - loss: 0.1559 - accuracy: 0.9406 - val_loss: 0.6755 - val_accuracy: 0.6275\n",
            "Epoch 20/20\n",
            "7/7 [==============================] - 0s 30ms/step - loss: 0.0551 - accuracy: 0.9802 - val_loss: 0.6739 - val_accuracy: 0.6275\n"
          ]
        }
      ]
    },
    {
      "cell_type": "code",
      "source": [
        "batch_size = 24\n",
        "# data_generator = tf.keras.preprocessing.image.ImageDataGenerator(width_shift_range = 0.1, height_shift_range = 0.1, horizontal_flip = True)\n",
        "# data_generator = tf.keras.preprocessing.image.ImageDataGenerator(width_shift_range = 0.1, height_shift_range = 0.1)\n",
        "data_generator = tf.keras.preprocessing.image.ImageDataGenerator(\n",
        "    # featurewise_center=True,\n",
        "    # featurewise_std_normalization=True,\n",
        "    # rotation_range=20,\n",
        "    width_shift_range=0.2,\n",
        "    height_shift_range=0.2,\n",
        "    # horizontal_flip=True,\n",
        "    # rescale=1./255,\n",
        "    # shear_range=0.2,\n",
        "    zoom_range=0.2\n",
        "    )\n",
        "train_generator = data_generator.flow(X_train, y_train, batch_size)\n",
        "steps_per_epoch = X_train.shape[0] // batch_size\n",
        "r = m.fit_generator(train_generator, validation_data = (X_test, y_test), steps_per_epoch = steps_per_epoch, epochs = 50)"
      ],
      "metadata": {
        "id": "tRi0G359Pk6x",
        "colab": {
          "base_uri": "https://localhost:8080/"
        },
        "outputId": "0179e58a-7528-4735-f926-720bdbe63f6a"
      },
      "execution_count": 23,
      "outputs": [
        {
          "output_type": "stream",
          "name": "stderr",
          "text": [
            "/usr/local/lib/python3.7/dist-packages/ipykernel_launcher.py:17: UserWarning: `Model.fit_generator` is deprecated and will be removed in a future version. Please use `Model.fit`, which supports generators.\n"
          ]
        },
        {
          "output_type": "stream",
          "name": "stdout",
          "text": [
            "Epoch 1/50\n",
            "8/8 [==============================] - 3s 323ms/step - loss: 1.1153 - accuracy: 0.6180 - val_loss: 0.6694 - val_accuracy: 0.6471\n",
            "Epoch 2/50\n",
            "8/8 [==============================] - 2s 289ms/step - loss: 1.1241 - accuracy: 0.6910 - val_loss: 0.6647 - val_accuracy: 0.6863\n",
            "Epoch 3/50\n",
            "8/8 [==============================] - 2s 320ms/step - loss: 1.0361 - accuracy: 0.6236 - val_loss: 0.6557 - val_accuracy: 0.6471\n",
            "Epoch 4/50\n",
            "8/8 [==============================] - 2s 293ms/step - loss: 1.2663 - accuracy: 0.6348 - val_loss: 0.6461 - val_accuracy: 0.6667\n",
            "Epoch 5/50\n",
            "8/8 [==============================] - 2s 289ms/step - loss: 0.9810 - accuracy: 0.6742 - val_loss: 0.6341 - val_accuracy: 0.6863\n",
            "Epoch 6/50\n",
            "8/8 [==============================] - 2s 321ms/step - loss: 1.0566 - accuracy: 0.6685 - val_loss: 0.6243 - val_accuracy: 0.7059\n",
            "Epoch 7/50\n",
            "8/8 [==============================] - 2s 319ms/step - loss: 0.9310 - accuracy: 0.6854 - val_loss: 0.6203 - val_accuracy: 0.7255\n",
            "Epoch 8/50\n",
            "8/8 [==============================] - 2s 291ms/step - loss: 0.7071 - accuracy: 0.7303 - val_loss: 0.6147 - val_accuracy: 0.7255\n",
            "Epoch 9/50\n",
            "8/8 [==============================] - 2s 284ms/step - loss: 0.7838 - accuracy: 0.7079 - val_loss: 0.6065 - val_accuracy: 0.7059\n",
            "Epoch 10/50\n",
            "8/8 [==============================] - 2s 287ms/step - loss: 0.8014 - accuracy: 0.7247 - val_loss: 0.5965 - val_accuracy: 0.7059\n",
            "Epoch 11/50\n",
            "8/8 [==============================] - 2s 314ms/step - loss: 0.6779 - accuracy: 0.7191 - val_loss: 0.5926 - val_accuracy: 0.6863\n",
            "Epoch 12/50\n",
            "8/8 [==============================] - 2s 289ms/step - loss: 0.7912 - accuracy: 0.7247 - val_loss: 0.5815 - val_accuracy: 0.7059\n",
            "Epoch 13/50\n",
            "8/8 [==============================] - 2s 289ms/step - loss: 0.6845 - accuracy: 0.7022 - val_loss: 0.5743 - val_accuracy: 0.7059\n",
            "Epoch 14/50\n",
            "8/8 [==============================] - 3s 338ms/step - loss: 0.7186 - accuracy: 0.7022 - val_loss: 0.5674 - val_accuracy: 0.6863\n",
            "Epoch 15/50\n",
            "8/8 [==============================] - 2s 288ms/step - loss: 0.6475 - accuracy: 0.7472 - val_loss: 0.5573 - val_accuracy: 0.6863\n",
            "Epoch 16/50\n",
            "8/8 [==============================] - 2s 290ms/step - loss: 0.7544 - accuracy: 0.7303 - val_loss: 0.5490 - val_accuracy: 0.6863\n",
            "Epoch 17/50\n",
            "8/8 [==============================] - 2s 291ms/step - loss: 0.8101 - accuracy: 0.6798 - val_loss: 0.5480 - val_accuracy: 0.6863\n",
            "Epoch 18/50\n",
            "8/8 [==============================] - 2s 285ms/step - loss: 0.7314 - accuracy: 0.6685 - val_loss: 0.5378 - val_accuracy: 0.7255\n",
            "Epoch 19/50\n",
            "8/8 [==============================] - 3s 295ms/step - loss: 0.7698 - accuracy: 0.6966 - val_loss: 0.5231 - val_accuracy: 0.7451\n",
            "Epoch 20/50\n",
            "8/8 [==============================] - 2s 285ms/step - loss: 0.6522 - accuracy: 0.7472 - val_loss: 0.5175 - val_accuracy: 0.7255\n",
            "Epoch 21/50\n",
            "8/8 [==============================] - 2s 291ms/step - loss: 0.5869 - accuracy: 0.7360 - val_loss: 0.5220 - val_accuracy: 0.7451\n",
            "Epoch 22/50\n",
            "8/8 [==============================] - 2s 297ms/step - loss: 0.6175 - accuracy: 0.7247 - val_loss: 0.5116 - val_accuracy: 0.7451\n",
            "Epoch 23/50\n",
            "8/8 [==============================] - 2s 293ms/step - loss: 0.6751 - accuracy: 0.6742 - val_loss: 0.5113 - val_accuracy: 0.7255\n",
            "Epoch 24/50\n",
            "8/8 [==============================] - 2s 298ms/step - loss: 0.5662 - accuracy: 0.7022 - val_loss: 0.5009 - val_accuracy: 0.7451\n",
            "Epoch 25/50\n",
            "8/8 [==============================] - 2s 293ms/step - loss: 0.6874 - accuracy: 0.7303 - val_loss: 0.4891 - val_accuracy: 0.7451\n",
            "Epoch 26/50\n",
            "8/8 [==============================] - 2s 295ms/step - loss: 0.6062 - accuracy: 0.7360 - val_loss: 0.4796 - val_accuracy: 0.7647\n",
            "Epoch 27/50\n",
            "8/8 [==============================] - 2s 319ms/step - loss: 0.5400 - accuracy: 0.7809 - val_loss: 0.4717 - val_accuracy: 0.7647\n",
            "Epoch 28/50\n",
            "8/8 [==============================] - 2s 295ms/step - loss: 0.5504 - accuracy: 0.7416 - val_loss: 0.4642 - val_accuracy: 0.7647\n",
            "Epoch 29/50\n",
            "8/8 [==============================] - 2s 291ms/step - loss: 0.5971 - accuracy: 0.7247 - val_loss: 0.4598 - val_accuracy: 0.8039\n",
            "Epoch 30/50\n",
            "8/8 [==============================] - 3s 317ms/step - loss: 0.5479 - accuracy: 0.7292 - val_loss: 0.4582 - val_accuracy: 0.8235\n",
            "Epoch 31/50\n",
            "8/8 [==============================] - 2s 296ms/step - loss: 0.6303 - accuracy: 0.7135 - val_loss: 0.4572 - val_accuracy: 0.8235\n",
            "Epoch 32/50\n",
            "8/8 [==============================] - 2s 291ms/step - loss: 0.4909 - accuracy: 0.7921 - val_loss: 0.4553 - val_accuracy: 0.8235\n",
            "Epoch 33/50\n",
            "8/8 [==============================] - 2s 291ms/step - loss: 0.6035 - accuracy: 0.7191 - val_loss: 0.4504 - val_accuracy: 0.8235\n",
            "Epoch 34/50\n",
            "8/8 [==============================] - 2s 322ms/step - loss: 0.6006 - accuracy: 0.7191 - val_loss: 0.4477 - val_accuracy: 0.8235\n",
            "Epoch 35/50\n",
            "8/8 [==============================] - 3s 320ms/step - loss: 0.5868 - accuracy: 0.7031 - val_loss: 0.4492 - val_accuracy: 0.8235\n",
            "Epoch 36/50\n",
            "8/8 [==============================] - 2s 295ms/step - loss: 0.5848 - accuracy: 0.7247 - val_loss: 0.4443 - val_accuracy: 0.8235\n",
            "Epoch 37/50\n",
            "8/8 [==============================] - 3s 388ms/step - loss: 0.5983 - accuracy: 0.7247 - val_loss: 0.4407 - val_accuracy: 0.8235\n",
            "Epoch 38/50\n",
            "8/8 [==============================] - 2s 300ms/step - loss: 0.5692 - accuracy: 0.7303 - val_loss: 0.4359 - val_accuracy: 0.8235\n",
            "Epoch 39/50\n",
            "8/8 [==============================] - 2s 297ms/step - loss: 0.5071 - accuracy: 0.7753 - val_loss: 0.4394 - val_accuracy: 0.8235\n",
            "Epoch 40/50\n",
            "8/8 [==============================] - 3s 354ms/step - loss: 0.4854 - accuracy: 0.7753 - val_loss: 0.4372 - val_accuracy: 0.8235\n",
            "Epoch 41/50\n",
            "8/8 [==============================] - 2s 289ms/step - loss: 0.5249 - accuracy: 0.7640 - val_loss: 0.4357 - val_accuracy: 0.8235\n",
            "Epoch 42/50\n",
            "8/8 [==============================] - 2s 295ms/step - loss: 0.4596 - accuracy: 0.7978 - val_loss: 0.4353 - val_accuracy: 0.8235\n",
            "Epoch 43/50\n",
            "8/8 [==============================] - 2s 293ms/step - loss: 0.5694 - accuracy: 0.7697 - val_loss: 0.4360 - val_accuracy: 0.8039\n",
            "Epoch 44/50\n",
            "8/8 [==============================] - 2s 294ms/step - loss: 0.4937 - accuracy: 0.7640 - val_loss: 0.4342 - val_accuracy: 0.8235\n",
            "Epoch 45/50\n",
            "8/8 [==============================] - 2s 293ms/step - loss: 0.6225 - accuracy: 0.7191 - val_loss: 0.4317 - val_accuracy: 0.8235\n",
            "Epoch 46/50\n",
            "8/8 [==============================] - 2s 321ms/step - loss: 0.5024 - accuracy: 0.7921 - val_loss: 0.4184 - val_accuracy: 0.8235\n",
            "Epoch 47/50\n",
            "8/8 [==============================] - 2s 293ms/step - loss: 0.5689 - accuracy: 0.7416 - val_loss: 0.4136 - val_accuracy: 0.8235\n",
            "Epoch 48/50\n",
            "8/8 [==============================] - 2s 293ms/step - loss: 0.5831 - accuracy: 0.7584 - val_loss: 0.4145 - val_accuracy: 0.8235\n",
            "Epoch 49/50\n",
            "8/8 [==============================] - 3s 320ms/step - loss: 0.4985 - accuracy: 0.7760 - val_loss: 0.4178 - val_accuracy: 0.8235\n",
            "Epoch 50/50\n",
            "8/8 [==============================] - 2s 294ms/step - loss: 0.5470 - accuracy: 0.7584 - val_loss: 0.4116 - val_accuracy: 0.8235\n"
          ]
        }
      ]
    },
    {
      "cell_type": "code",
      "source": [
        "plt.plot(r.history['loss'], label = 'loss')\n",
        "plt.plot(r.history['val_loss'], label = 'val_loss')\n",
        "plt.legend()"
      ],
      "metadata": {
        "colab": {
          "base_uri": "https://localhost:8080/",
          "height": 282
        },
        "id": "q2h_JT5iRQ2B",
        "outputId": "c2945102-060b-4393-fd8c-a6bffcc14697"
      },
      "execution_count": 24,
      "outputs": [
        {
          "output_type": "execute_result",
          "data": {
            "text/plain": [
              "<matplotlib.legend.Legend at 0x7f9b2a471cd0>"
            ]
          },
          "metadata": {},
          "execution_count": 24
        },
        {
          "output_type": "display_data",
          "data": {
            "text/plain": [
              "<Figure size 432x288 with 1 Axes>"
            ],
            "image/png": "[encoded data removed]"
          },
          "metadata": {
            "needs_background": "light"
          }
        }
      ]
    },
    {
      "cell_type": "code",
      "source": [
        "plt.plot(r.history['accuracy'], label = 'accuracy')\n",
        "plt.plot(r.history['val_accuracy'], label = 'val_accuracy')\n",
        "plt.legend()"
      ],
      "metadata": {
        "colab": {
          "base_uri": "https://localhost:8080/",
          "height": 282
        },
        "id": "5tkaJHtlR030",
        "outputId": "6f5477a5-d412-4fd9-ae0b-c2a64cc82906"
      },
      "execution_count": 25,
      "outputs": [
        {
          "output_type": "execute_result",
          "data": {
            "text/plain": [
              "<matplotlib.legend.Legend at 0x7f9b2a4b7a90>"
            ]
          },
          "metadata": {},
          "execution_count": 25
        },
        {
          "output_type": "display_data",
          "data": {
            "text/plain": [
              "<Figure size 432x288 with 1 Axes>"
            ],
            "image/png": "[encoded data removed]"
          },
          "metadata": {
            "needs_background": "light"
          }
        }
      ]
    },
    {
      "cell_type": "code",
      "source": [
        "# predictions\n",
        "\n",
        "y_test_pred = m.predict(X_test)\n",
        "y_test_pred_decoded = y_test_pred > 0.5\n",
        "y_test_pred_decoded"
      ],
      "metadata": {
        "colab": {
          "base_uri": "https://localhost:8080/"
        },
        "id": "H1dSTEhRSDRU",
        "outputId": "ebeac9ea-e184-4134-cf84-d04b0034e9c1"
      },
      "execution_count": 26,
      "outputs": [
        {
          "output_type": "execute_result",
          "data": {
            "text/plain": [
              "array([[False],\n",
              "       [ True],\n",
              "       [ True],\n",
              "       [False],\n",
              "       [ True],\n",
              "       [False],\n",
              "       [ True],\n",
              "       [ True],\n",
              "       [ True],\n",
              "       [False],\n",
              "       [False],\n",
              "       [ True],\n",
              "       [False],\n",
              "       [ True],\n",
              "       [False],\n",
              "       [False],\n",
              "       [False],\n",
              "       [ True],\n",
              "       [ True],\n",
              "       [ True],\n",
              "       [False],\n",
              "       [False],\n",
              "       [ True],\n",
              "       [ True],\n",
              "       [False],\n",
              "       [ True],\n",
              "       [ True],\n",
              "       [ True],\n",
              "       [False],\n",
              "       [ True],\n",
              "       [False],\n",
              "       [ True],\n",
              "       [ True],\n",
              "       [False],\n",
              "       [ True],\n",
              "       [ True],\n",
              "       [ True],\n",
              "       [ True],\n",
              "       [ True],\n",
              "       [ True],\n",
              "       [ True],\n",
              "       [False],\n",
              "       [ True],\n",
              "       [ True],\n",
              "       [ True],\n",
              "       [False],\n",
              "       [False],\n",
              "       [ True],\n",
              "       [False],\n",
              "       [ True],\n",
              "       [False]])"
            ]
          },
          "metadata": {},
          "execution_count": 26
        }
      ]
    },
    {
      "cell_type": "code",
      "source": [
        "import sklearn.metrics as metrics\n",
        "cm = metrics.confusion_matrix(y_test, y_test_pred_decoded)\n",
        "accuracy = metrics.accuracy_score(y_test, y_test_pred_decoded)\n",
        "error = 1 - accuracy\n",
        "precision = metrics.precision_score(y_test, y_test_pred_decoded)\n",
        "recall = metrics.recall_score(y_test, y_test_pred_decoded)\n",
        "f1 = metrics.f1_score(y_test, y_test_pred_decoded)\n",
        "\n",
        "print('accuracy: ', accuracy)\n",
        "print('error: ', error)\n",
        "print('precision: ', precision)\n",
        "print('recall: ', recall)\n",
        "print('f1: ', f1)\n",
        "\n",
        "print('\\n')\n",
        "print('The confusion matrix is: ')\n",
        "print(cm)\n",
        "\n",
        "from sklearn.metrics import classification_report\n",
        "print(classification_report(y_test, y_test_pred_decoded))"
      ],
      "metadata": {
        "colab": {
          "base_uri": "https://localhost:8080/"
        },
        "id": "huHtEhmYTmDs",
        "outputId": "d8621a10-967e-48b8-8da9-a8ee546e0e3d"
      },
      "execution_count": 27,
      "outputs": [
        {
          "output_type": "stream",
          "name": "stdout",
          "text": [
            "accuracy:  0.8235294117647058\n",
            "error:  0.17647058823529416\n",
            "precision:  0.7741935483870968\n",
            "recall:  0.9230769230769231\n",
            "f1:  0.8421052631578947\n",
            "\n",
            "\n",
            "The confusion matrix is: \n",
            "[[18  7]\n",
            " [ 2 24]]\n",
            "              precision    recall  f1-score   support\n",
            "\n",
            "           0       0.90      0.72      0.80        25\n",
            "           1       0.77      0.92      0.84        26\n",
            "\n",
            "    accuracy                           0.82        51\n",
            "   macro avg       0.84      0.82      0.82        51\n",
            "weighted avg       0.84      0.82      0.82        51\n",
            "\n"
          ]
        }
      ]
    },
    {
      "cell_type": "code",
      "source": [
        "# Lets use the model to predict\n",
        "\n",
        "import numpy as np\n",
        "\n",
        "img = load_img('/content/drive/MyDrive/brain_tumour/no/No22.jpg', target_size = (256, 256))\n",
        "img = img_to_array(img)\n",
        "img = img/255\n",
        "img = np.expand_dims(img, axis = 0)\n",
        "img.shape\n",
        "\n",
        "prediction = m.predict(img)\n",
        "prediction = prediction > 0.5\n",
        "\n",
        "if prediction:\n",
        "  print('This person has brain tumor')\n",
        "else:\n",
        "  print('This person does not have brain tumour')"
      ],
      "metadata": {
        "colab": {
          "base_uri": "https://localhost:8080/"
        },
        "id": "O57d06YvUzU0",
        "outputId": "e435a712-d447-49d9-c681-c6129636c7f5"
      },
      "execution_count": 28,
      "outputs": [
        {
          "output_type": "stream",
          "name": "stdout",
          "text": [
            "This person does not have brain tumour\n"
          ]
        }
      ]
    },
    {
      "cell_type": "code",
      "source": [
        ""
      ],
      "metadata": {
        "id": "RmaqWUYcWRoI"
      },
      "execution_count": 28,
      "outputs": []
    }
  ]
}