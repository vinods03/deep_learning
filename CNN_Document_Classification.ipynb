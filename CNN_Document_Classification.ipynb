{
  "nbformat": 4,
  "nbformat_minor": 0,
  "metadata": {
    "colab": {
      "name": "CNN - Document Classification.ipynb",
      "provenance": [],
      "collapsed_sections": [],
      "machine_shape": "hm",
      "authorship_tag": "ABX9TyNtzcruPp/qS4qXnBhRhjba",
      "include_colab_link": true
    },
    "kernelspec": {
      "name": "python3",
      "display_name": "Python 3"
    },
    "language_info": {
      "name": "python"
    },
    "accelerator": "GPU",
    "gpuClass": "standard"
  },
  "cells": [
    {
      "cell_type": "markdown",
      "metadata": {
        "id": "view-in-github",
        "colab_type": "text"
      },
      "source": [
        "<a href=\"https://colab.research.google.com/github/vinods03/deep_learning/blob/main/CNN_Document_Classification.ipynb\" target=\"_parent\"><img src=\"https://colab.research.google.com/assets/colab-badge.svg\" alt=\"Open In Colab\"/></a>"
      ]
    },
    {
      "cell_type": "code",
      "execution_count": 1,
      "metadata": {
        "colab": {
          "base_uri": "https://localhost:8080/"
        },
        "id": "tV0sfwkNrSuV",
        "outputId": "8e4243aa-326c-4343-834d-7b889863440a"
      },
      "outputs": [
        {
          "output_type": "stream",
          "name": "stdout",
          "text": [
            "Mounted at /content/drive\n"
          ]
        }
      ],
      "source": [
        "from google.colab import drive\n",
        "drive.mount('/content/drive')"
      ]
    },
    {
      "cell_type": "code",
      "source": [
        "import tensorflow as tf\n",
        "print(tf.__version__)"
      ],
      "metadata": {
        "colab": {
          "base_uri": "https://localhost:8080/"
        },
        "id": "HMCfy3S5roER",
        "outputId": "e0001736-725a-4e2f-c46b-a80329c1c1a2"
      },
      "execution_count": 2,
      "outputs": [
        {
          "output_type": "stream",
          "name": "stdout",
          "text": [
            "2.8.2\n"
          ]
        }
      ]
    },
    {
      "cell_type": "code",
      "source": [
        "base_dir = '/content/drive/MyDrive/DocumentClassification'"
      ],
      "metadata": {
        "id": "JGP_H4Zlr02k"
      },
      "execution_count": 3,
      "outputs": []
    },
    {
      "cell_type": "code",
      "source": [
        "folders = []\n",
        "\n",
        "import os\n",
        "for i in os.listdir(base_dir):\n",
        "  folders.append(os.path.join(base_dir, i))\n",
        "\n",
        "folders"
      ],
      "metadata": {
        "colab": {
          "base_uri": "https://localhost:8080/"
        },
        "id": "KIuxkdk1sCkK",
        "outputId": "191d3ddc-eb8c-4abe-f18c-3d6edb6b3d0e"
      },
      "execution_count": 4,
      "outputs": [
        {
          "output_type": "execute_result",
          "data": {
            "text/plain": [
              "['/content/drive/MyDrive/DocumentClassification/email',\n",
              " '/content/drive/MyDrive/DocumentClassification/resume',\n",
              " '/content/drive/MyDrive/DocumentClassification/scientific_publication']"
            ]
          },
          "metadata": {},
          "execution_count": 4
        }
      ]
    },
    {
      "cell_type": "code",
      "source": [
        "dataset = []\n",
        "\n",
        "for i in range(0, len(folders)):\n",
        "  for j in os.listdir(folders[i]):\n",
        "    dataset.append(os.path.join(folders[i], j))\n",
        "\n",
        "# dataset\n",
        "len(dataset)"
      ],
      "metadata": {
        "colab": {
          "base_uri": "https://localhost:8080/"
        },
        "id": "dLP731dysZp9",
        "outputId": "3972f968-7933-41e6-ff3c-ec561141d494"
      },
      "execution_count": 5,
      "outputs": [
        {
          "output_type": "execute_result",
          "data": {
            "text/plain": [
              "165"
            ]
          },
          "metadata": {},
          "execution_count": 5
        }
      ]
    },
    {
      "cell_type": "code",
      "source": [
        "translate = {'email':0,'resume':1,'scientific_publication':2}\n",
        "reverse_translate = {0:'email',1:'resume',2:'scientific_publication'}"
      ],
      "metadata": {
        "id": "HCAyvfBPK0F9"
      },
      "execution_count": 6,
      "outputs": []
    },
    {
      "cell_type": "code",
      "source": [
        "# convert one sample image into an array\n",
        "\n",
        "from tensorflow.keras.preprocessing.image import load_img, img_to_array\n",
        "img = load_img('/content/drive/MyDrive/DocumentClassification/email/doc_000042.png', target_size = (256,256))\n",
        "img = img_to_array(img)\n",
        "img = img/255\n",
        "img"
      ],
      "metadata": {
        "colab": {
          "base_uri": "https://localhost:8080/"
        },
        "id": "Xmh1SNNluTnw",
        "outputId": "554d8556-e2f4-4aef-f2da-2e76165c2d61"
      },
      "execution_count": 7,
      "outputs": [
        {
          "output_type": "execute_result",
          "data": {
            "text/plain": [
              "array([[[1.        , 1.        , 1.        ],\n",
              "        [1.        , 1.        , 1.        ],\n",
              "        [1.        , 1.        , 1.        ],\n",
              "        ...,\n",
              "        [1.        , 1.        , 1.        ],\n",
              "        [1.        , 1.        , 1.        ],\n",
              "        [1.        , 1.        , 1.        ]],\n",
              "\n",
              "       [[1.        , 1.        , 1.        ],\n",
              "        [1.        , 1.        , 1.        ],\n",
              "        [1.        , 1.        , 1.        ],\n",
              "        ...,\n",
              "        [1.        , 1.        , 1.        ],\n",
              "        [1.        , 1.        , 1.        ],\n",
              "        [1.        , 1.        , 1.        ]],\n",
              "\n",
              "       [[1.        , 1.        , 1.        ],\n",
              "        [1.        , 1.        , 1.        ],\n",
              "        [1.        , 1.        , 1.        ],\n",
              "        ...,\n",
              "        [1.        , 1.        , 1.        ],\n",
              "        [1.        , 1.        , 1.        ],\n",
              "        [1.        , 1.        , 1.        ]],\n",
              "\n",
              "       ...,\n",
              "\n",
              "       [[0.972549  , 0.972549  , 0.972549  ],\n",
              "        [1.        , 1.        , 1.        ],\n",
              "        [1.        , 1.        , 1.        ],\n",
              "        ...,\n",
              "        [1.        , 1.        , 1.        ],\n",
              "        [1.        , 1.        , 1.        ],\n",
              "        [1.        , 1.        , 1.        ]],\n",
              "\n",
              "       [[0.99215686, 0.99215686, 0.99215686],\n",
              "        [1.        , 1.        , 1.        ],\n",
              "        [1.        , 1.        , 1.        ],\n",
              "        ...,\n",
              "        [1.        , 1.        , 1.        ],\n",
              "        [1.        , 1.        , 1.        ],\n",
              "        [1.        , 1.        , 1.        ]],\n",
              "\n",
              "       [[0.7254902 , 0.7254902 , 0.7254902 ],\n",
              "        [0.69411767, 0.69411767, 0.69411767],\n",
              "        [0.69411767, 0.69411767, 0.69411767],\n",
              "        ...,\n",
              "        [1.        , 1.        , 1.        ],\n",
              "        [1.        , 1.        , 1.        ],\n",
              "        [1.        , 1.        , 1.        ]]], dtype=float32)"
            ]
          },
          "metadata": {},
          "execution_count": 7
        }
      ]
    },
    {
      "cell_type": "code",
      "source": [
        "import matplotlib.pyplot as plt\n",
        "plt.imshow(img)"
      ],
      "metadata": {
        "colab": {
          "base_uri": "https://localhost:8080/",
          "height": 286
        },
        "id": "oSZNxrJlA7Vg",
        "outputId": "9347db0e-da6b-4499-d4dd-07636d398354"
      },
      "execution_count": 8,
      "outputs": [
        {
          "output_type": "execute_result",
          "data": {
            "text/plain": [
              "<matplotlib.image.AxesImage at 0x7f16c86f4f50>"
            ]
          },
          "metadata": {},
          "execution_count": 8
        },
        {
          "output_type": "display_data",
          "data": {
            "text/plain": [
              "<Figure size 432x288 with 1 Axes>"
            ],
            "image/png": "[encoded data removed]"
          },
          "metadata": {
            "needs_background": "light"
          }
        }
      ]
    },
    {
      "cell_type": "code",
      "source": [
        "dataset"
      ],
      "metadata": {
        "colab": {
          "base_uri": "https://localhost:8080/"
        },
        "id": "iqEZWGKGCcmx",
        "outputId": "89ded740-bb0d-4a1b-8586-a1d51831c39a"
      },
      "execution_count": 9,
      "outputs": [
        {
          "output_type": "execute_result",
          "data": {
            "text/plain": [
              "['/content/drive/MyDrive/DocumentClassification/email/doc_000195.png',\n",
              " '/content/drive/MyDrive/DocumentClassification/email/doc_000133.png',\n",
              " '/content/drive/MyDrive/DocumentClassification/email/doc_000275.png',\n",
              " '/content/drive/MyDrive/DocumentClassification/email/doc_000115.png',\n",
              " '/content/drive/MyDrive/DocumentClassification/email/doc_000260.png',\n",
              " '/content/drive/MyDrive/DocumentClassification/email/doc_000042.png',\n",
              " '/content/drive/MyDrive/DocumentClassification/email/doc_000238.png',\n",
              " '/content/drive/MyDrive/DocumentClassification/email/doc_000142.png',\n",
              " '/content/drive/MyDrive/DocumentClassification/email/doc_000196.png',\n",
              " '/content/drive/MyDrive/DocumentClassification/email/doc_000079.png',\n",
              " '/content/drive/MyDrive/DocumentClassification/email/doc_000111.png',\n",
              " '/content/drive/MyDrive/DocumentClassification/email/doc_000076.png',\n",
              " '/content/drive/MyDrive/DocumentClassification/email/doc_000046.png',\n",
              " '/content/drive/MyDrive/DocumentClassification/email/doc_000255.png',\n",
              " '/content/drive/MyDrive/DocumentClassification/email/doc_000148.png',\n",
              " '/content/drive/MyDrive/DocumentClassification/email/doc_000165.png',\n",
              " '/content/drive/MyDrive/DocumentClassification/email/doc_000278.png',\n",
              " '/content/drive/MyDrive/DocumentClassification/email/doc_000507.png',\n",
              " '/content/drive/MyDrive/DocumentClassification/email/doc_000840.png',\n",
              " '/content/drive/MyDrive/DocumentClassification/email/doc_000483.png',\n",
              " '/content/drive/MyDrive/DocumentClassification/email/doc_000511.png',\n",
              " '/content/drive/MyDrive/DocumentClassification/email/doc_000596.png',\n",
              " '/content/drive/MyDrive/DocumentClassification/email/doc_000591.png',\n",
              " '/content/drive/MyDrive/DocumentClassification/email/doc_000637.png',\n",
              " '/content/drive/MyDrive/DocumentClassification/email/doc_000465.png',\n",
              " '/content/drive/MyDrive/DocumentClassification/email/doc_000825.png',\n",
              " '/content/drive/MyDrive/DocumentClassification/email/doc_000862.png',\n",
              " '/content/drive/MyDrive/DocumentClassification/email/doc_000784.png',\n",
              " '/content/drive/MyDrive/DocumentClassification/email/doc_000650.png',\n",
              " '/content/drive/MyDrive/DocumentClassification/email/doc_000655.png',\n",
              " '/content/drive/MyDrive/DocumentClassification/email/doc_000471.png',\n",
              " '/content/drive/MyDrive/DocumentClassification/email/doc_000750.png',\n",
              " '/content/drive/MyDrive/DocumentClassification/email/doc_000448.png',\n",
              " '/content/drive/MyDrive/DocumentClassification/email/doc_000485.png',\n",
              " '/content/drive/MyDrive/DocumentClassification/email/doc_000577.png',\n",
              " '/content/drive/MyDrive/DocumentClassification/email/doc_000528.png',\n",
              " '/content/drive/MyDrive/DocumentClassification/email/doc_000550.png',\n",
              " '/content/drive/MyDrive/DocumentClassification/email/doc_000873.png',\n",
              " '/content/drive/MyDrive/DocumentClassification/email/doc_000363.png',\n",
              " '/content/drive/MyDrive/DocumentClassification/email/doc_000333.png',\n",
              " '/content/drive/MyDrive/DocumentClassification/email/doc_000586.png',\n",
              " '/content/drive/MyDrive/DocumentClassification/email/doc_000347.png',\n",
              " '/content/drive/MyDrive/DocumentClassification/email/doc_000872.png',\n",
              " '/content/drive/MyDrive/DocumentClassification/email/doc_000532.png',\n",
              " '/content/drive/MyDrive/DocumentClassification/email/doc_000745.png',\n",
              " '/content/drive/MyDrive/DocumentClassification/email/doc_000297.png',\n",
              " '/content/drive/MyDrive/DocumentClassification/email/doc_000612.png',\n",
              " '/content/drive/MyDrive/DocumentClassification/email/doc_000675.png',\n",
              " '/content/drive/MyDrive/DocumentClassification/email/doc_000279.png',\n",
              " '/content/drive/MyDrive/DocumentClassification/email/doc_000787.png',\n",
              " '/content/drive/MyDrive/DocumentClassification/email/doc_000796.png',\n",
              " '/content/drive/MyDrive/DocumentClassification/email/doc_000694.png',\n",
              " '/content/drive/MyDrive/DocumentClassification/email/doc_000558.png',\n",
              " '/content/drive/MyDrive/DocumentClassification/email/doc_000464.png',\n",
              " '/content/drive/MyDrive/DocumentClassification/email/doc_000282.png',\n",
              " '/content/drive/MyDrive/DocumentClassification/resume/doc_000080.png',\n",
              " '/content/drive/MyDrive/DocumentClassification/resume/doc_000369.png',\n",
              " '/content/drive/MyDrive/DocumentClassification/resume/doc_000447.png',\n",
              " '/content/drive/MyDrive/DocumentClassification/resume/doc_000072.png',\n",
              " '/content/drive/MyDrive/DocumentClassification/resume/doc_000752.png',\n",
              " '/content/drive/MyDrive/DocumentClassification/resume/doc_000091.png',\n",
              " '/content/drive/MyDrive/DocumentClassification/resume/doc_000543.png',\n",
              " '/content/drive/MyDrive/DocumentClassification/resume/doc_000639.png',\n",
              " '/content/drive/MyDrive/DocumentClassification/resume/doc_000760.png',\n",
              " '/content/drive/MyDrive/DocumentClassification/resume/doc_000636.png',\n",
              " '/content/drive/MyDrive/DocumentClassification/resume/doc_000286.png',\n",
              " '/content/drive/MyDrive/DocumentClassification/resume/doc_000674.png',\n",
              " '/content/drive/MyDrive/DocumentClassification/resume/doc_000575.png',\n",
              " '/content/drive/MyDrive/DocumentClassification/resume/doc_000109.png',\n",
              " '/content/drive/MyDrive/DocumentClassification/resume/doc_000191.png',\n",
              " '/content/drive/MyDrive/DocumentClassification/resume/doc_000353.png',\n",
              " '/content/drive/MyDrive/DocumentClassification/resume/doc_000763.png',\n",
              " '/content/drive/MyDrive/DocumentClassification/resume/doc_000344.png',\n",
              " '/content/drive/MyDrive/DocumentClassification/resume/doc_000499.png',\n",
              " '/content/drive/MyDrive/DocumentClassification/resume/doc_000375.png',\n",
              " '/content/drive/MyDrive/DocumentClassification/resume/doc_000173.png',\n",
              " '/content/drive/MyDrive/DocumentClassification/resume/doc_000847.png',\n",
              " '/content/drive/MyDrive/DocumentClassification/resume/doc_000551.png',\n",
              " '/content/drive/MyDrive/DocumentClassification/resume/doc_000402.png',\n",
              " '/content/drive/MyDrive/DocumentClassification/resume/doc_000734.png',\n",
              " '/content/drive/MyDrive/DocumentClassification/resume/doc_000361.png',\n",
              " '/content/drive/MyDrive/DocumentClassification/resume/doc_000460.png',\n",
              " '/content/drive/MyDrive/DocumentClassification/resume/doc_000101.png',\n",
              " '/content/drive/MyDrive/DocumentClassification/resume/doc_000450.png',\n",
              " '/content/drive/MyDrive/DocumentClassification/resume/doc_000088.png',\n",
              " '/content/drive/MyDrive/DocumentClassification/resume/doc_000223.png',\n",
              " '/content/drive/MyDrive/DocumentClassification/resume/doc_000264.png',\n",
              " '/content/drive/MyDrive/DocumentClassification/resume/doc_000468.png',\n",
              " '/content/drive/MyDrive/DocumentClassification/resume/doc_000281.png',\n",
              " '/content/drive/MyDrive/DocumentClassification/resume/doc_000175.png',\n",
              " '/content/drive/MyDrive/DocumentClassification/resume/doc_000248.png',\n",
              " '/content/drive/MyDrive/DocumentClassification/resume/doc_000824.png',\n",
              " '/content/drive/MyDrive/DocumentClassification/resume/doc_000441.png',\n",
              " '/content/drive/MyDrive/DocumentClassification/resume/doc_000377.png',\n",
              " '/content/drive/MyDrive/DocumentClassification/resume/doc_000301.png',\n",
              " '/content/drive/MyDrive/DocumentClassification/resume/doc_000609.png',\n",
              " '/content/drive/MyDrive/DocumentClassification/resume/doc_000097.png',\n",
              " '/content/drive/MyDrive/DocumentClassification/resume/doc_000169.png',\n",
              " '/content/drive/MyDrive/DocumentClassification/resume/doc_000501.png',\n",
              " '/content/drive/MyDrive/DocumentClassification/resume/doc_000802.png',\n",
              " '/content/drive/MyDrive/DocumentClassification/resume/doc_000070.png',\n",
              " '/content/drive/MyDrive/DocumentClassification/resume/doc_000727.png',\n",
              " '/content/drive/MyDrive/DocumentClassification/resume/doc_000473.png',\n",
              " '/content/drive/MyDrive/DocumentClassification/resume/doc_000411.png',\n",
              " '/content/drive/MyDrive/DocumentClassification/resume/doc_000051.png',\n",
              " '/content/drive/MyDrive/DocumentClassification/resume/doc_000443.png',\n",
              " '/content/drive/MyDrive/DocumentClassification/resume/doc_000294.png',\n",
              " '/content/drive/MyDrive/DocumentClassification/resume/doc_000629.png',\n",
              " '/content/drive/MyDrive/DocumentClassification/resume/doc_000476.png',\n",
              " '/content/drive/MyDrive/DocumentClassification/resume/doc_000809.png',\n",
              " '/content/drive/MyDrive/DocumentClassification/scientific_publication/doc_000942.png',\n",
              " '/content/drive/MyDrive/DocumentClassification/scientific_publication/doc_000767.png',\n",
              " '/content/drive/MyDrive/DocumentClassification/scientific_publication/doc_000228.png',\n",
              " '/content/drive/MyDrive/DocumentClassification/scientific_publication/doc_000845.png',\n",
              " '/content/drive/MyDrive/DocumentClassification/scientific_publication/doc_000584.png',\n",
              " '/content/drive/MyDrive/DocumentClassification/scientific_publication/doc_000513.png',\n",
              " '/content/drive/MyDrive/DocumentClassification/scientific_publication/doc_000345.png',\n",
              " '/content/drive/MyDrive/DocumentClassification/scientific_publication/doc_000530.png',\n",
              " '/content/drive/MyDrive/DocumentClassification/scientific_publication/doc_000509.png',\n",
              " '/content/drive/MyDrive/DocumentClassification/scientific_publication/doc_000821.png',\n",
              " '/content/drive/MyDrive/DocumentClassification/scientific_publication/doc_000741.png',\n",
              " '/content/drive/MyDrive/DocumentClassification/scientific_publication/doc_000240.png',\n",
              " '/content/drive/MyDrive/DocumentClassification/scientific_publication/doc_000498.png',\n",
              " '/content/drive/MyDrive/DocumentClassification/scientific_publication/doc_000615.png',\n",
              " '/content/drive/MyDrive/DocumentClassification/scientific_publication/doc_000779.png',\n",
              " '/content/drive/MyDrive/DocumentClassification/scientific_publication/doc_000697.png',\n",
              " '/content/drive/MyDrive/DocumentClassification/scientific_publication/doc_000594.png',\n",
              " '/content/drive/MyDrive/DocumentClassification/scientific_publication/doc_000437.png',\n",
              " '/content/drive/MyDrive/DocumentClassification/scientific_publication/doc_000016.png',\n",
              " '/content/drive/MyDrive/DocumentClassification/scientific_publication/doc_000298.png',\n",
              " '/content/drive/MyDrive/DocumentClassification/scientific_publication/doc_000756.png',\n",
              " '/content/drive/MyDrive/DocumentClassification/scientific_publication/doc_000515.png',\n",
              " '/content/drive/MyDrive/DocumentClassification/scientific_publication/doc_000453.png',\n",
              " '/content/drive/MyDrive/DocumentClassification/scientific_publication/doc_000089.png',\n",
              " '/content/drive/MyDrive/DocumentClassification/scientific_publication/doc_000445.png',\n",
              " '/content/drive/MyDrive/DocumentClassification/scientific_publication/doc_000392.png',\n",
              " '/content/drive/MyDrive/DocumentClassification/scientific_publication/doc_000785.png',\n",
              " '/content/drive/MyDrive/DocumentClassification/scientific_publication/doc_000534.png',\n",
              " '/content/drive/MyDrive/DocumentClassification/scientific_publication/doc_000050.png',\n",
              " '/content/drive/MyDrive/DocumentClassification/scientific_publication/doc_000128.png',\n",
              " '/content/drive/MyDrive/DocumentClassification/scientific_publication/doc_000451.png',\n",
              " '/content/drive/MyDrive/DocumentClassification/scientific_publication/doc_000864.png',\n",
              " '/content/drive/MyDrive/DocumentClassification/scientific_publication/doc_000522.png',\n",
              " '/content/drive/MyDrive/DocumentClassification/scientific_publication/doc_000045.png',\n",
              " '/content/drive/MyDrive/DocumentClassification/scientific_publication/doc_000285.png',\n",
              " '/content/drive/MyDrive/DocumentClassification/scientific_publication/doc_000250.png',\n",
              " '/content/drive/MyDrive/DocumentClassification/scientific_publication/doc_000235.png',\n",
              " '/content/drive/MyDrive/DocumentClassification/scientific_publication/doc_000171.png',\n",
              " '/content/drive/MyDrive/DocumentClassification/scientific_publication/doc_000429.png',\n",
              " '/content/drive/MyDrive/DocumentClassification/scientific_publication/doc_000311.png',\n",
              " '/content/drive/MyDrive/DocumentClassification/scientific_publication/doc_000766.png',\n",
              " '/content/drive/MyDrive/DocumentClassification/scientific_publication/doc_000698.png',\n",
              " '/content/drive/MyDrive/DocumentClassification/scientific_publication/doc_000061.png',\n",
              " '/content/drive/MyDrive/DocumentClassification/scientific_publication/doc_000438.png',\n",
              " '/content/drive/MyDrive/DocumentClassification/scientific_publication/doc_000769.png',\n",
              " '/content/drive/MyDrive/DocumentClassification/scientific_publication/doc_000617.png',\n",
              " '/content/drive/MyDrive/DocumentClassification/scientific_publication/doc_000950.png',\n",
              " '/content/drive/MyDrive/DocumentClassification/scientific_publication/doc_000891.png',\n",
              " '/content/drive/MyDrive/DocumentClassification/scientific_publication/doc_000832.png',\n",
              " '/content/drive/MyDrive/DocumentClassification/scientific_publication/doc_000130.png',\n",
              " '/content/drive/MyDrive/DocumentClassification/scientific_publication/doc_000480.png',\n",
              " '/content/drive/MyDrive/DocumentClassification/scientific_publication/doc_000349.png',\n",
              " '/content/drive/MyDrive/DocumentClassification/scientific_publication/doc_000121.png',\n",
              " '/content/drive/MyDrive/DocumentClassification/scientific_publication/doc_000334.png',\n",
              " '/content/drive/MyDrive/DocumentClassification/scientific_publication/doc_000309.png']"
            ]
          },
          "metadata": {},
          "execution_count": 9
        }
      ]
    },
    {
      "cell_type": "code",
      "source": [
        "image_array = []\n",
        "image_label = []\n",
        "\n",
        "for i in dataset:\n",
        "  img = load_img(i, target_size = (256,256))\n",
        "  img = img_to_array(img)\n",
        "  img = img/255\n",
        "  image_array.append(img)\n",
        "  label = translate[i.split('/')[-2]]\n",
        "  image_label.append(label)\n"
      ],
      "metadata": {
        "id": "SkMYwnrvBowm"
      },
      "execution_count": 10,
      "outputs": []
    },
    {
      "cell_type": "code",
      "source": [
        "import numpy as np\n",
        "\n",
        "image_array = np.array(image_array)\n",
        "image_label = np.array(image_label)\n",
        "\n",
        "print(image_array.shape)\n",
        "print(image_label.shape)"
      ],
      "metadata": {
        "colab": {
          "base_uri": "https://localhost:8080/"
        },
        "id": "iWCvAtpWD2ZK",
        "outputId": "56ea41ee-bd52-4791-f938-ba7e1cb44641"
      },
      "execution_count": 11,
      "outputs": [
        {
          "output_type": "stream",
          "name": "stdout",
          "text": [
            "(165, 256, 256, 3)\n",
            "(165,)\n"
          ]
        }
      ]
    },
    {
      "cell_type": "code",
      "source": [
        "from sklearn.model_selection import train_test_split\n",
        "X_train, X_test, y_train, y_test = train_test_split(image_array, image_label, test_size = 0.2)"
      ],
      "metadata": {
        "id": "4CvDVMpwEu5B"
      },
      "execution_count": 12,
      "outputs": []
    },
    {
      "cell_type": "code",
      "source": [
        "c = len(set(y_train))\n",
        "print('The number of distinct classes in training data is', c)\n",
        "\n",
        "d = len(set(y_test))\n",
        "print('The number of distinct classes in test data is', d)"
      ],
      "metadata": {
        "colab": {
          "base_uri": "https://localhost:8080/"
        },
        "id": "XrZoQ2lbFQ7H",
        "outputId": "136388e3-99e8-4900-f6f0-e2a7e5072719"
      },
      "execution_count": 13,
      "outputs": [
        {
          "output_type": "stream",
          "name": "stdout",
          "text": [
            "The number of distinct classes in training data is 3\n",
            "The number of distinct classes in test data is 3\n"
          ]
        }
      ]
    },
    {
      "cell_type": "code",
      "source": [
        "from tensorflow.keras.layers import Input, Conv2D, BatchNormalization, Flatten, GlobalMaxPooling2D, Dropout, Dense\n",
        "from tensorflow.keras.models import Model"
      ],
      "metadata": {
        "id": "styILG5ZGBq_"
      },
      "execution_count": 14,
      "outputs": []
    },
    {
      "cell_type": "code",
      "source": [
        "X_train[0].shape\n",
        "\n",
        "i = Input(shape = X_train[0].shape)\n",
        "\n",
        "x = Conv2D(32, (3,3), strides = 2, activation = 'relu', padding = 'same')(i)\n",
        "x = BatchNormalization()(x)\n",
        "\n",
        "x = Conv2D(64, (3,3), strides = 2, activation = 'relu', padding = 'same')(x)\n",
        "x = BatchNormalization()(x)\n",
        "\n",
        "x = Conv2D(128, (3,3), strides = 2, activation = 'relu', padding = 'same')(x)\n",
        "x = BatchNormalization()(x)\n",
        "\n",
        "x = Conv2D(256, (3,3), strides = 2, activation = 'relu', padding = 'same')(x)\n",
        "x = BatchNormalization()(x)\n",
        "\n",
        "# x = Flatten()(x)\n",
        "x = GlobalMaxPooling2D()(x)\n",
        "\n",
        "x = Dropout(0.2)(x)\n",
        "x = Dense(256, activation = 'relu')(x)\n",
        "\n",
        "x = Dropout(0.2)(x)\n",
        "x = Dense(128, activation = 'relu')(x)\n",
        "\n",
        "x = Dropout(0.2)(x)\n",
        "x = Dense(64, activation = 'relu')(x)\n",
        "\n",
        "x = Dropout(0.2)(x)\n",
        "x = Dense(c, activation = 'softmax' )(x)\n",
        "\n",
        "m = Model(i, x)"
      ],
      "metadata": {
        "id": "rUyFh1LPHeTm"
      },
      "execution_count": 15,
      "outputs": []
    },
    {
      "cell_type": "code",
      "source": [
        "# opt = tf.keras.optimizers.Adam(0.0001)\n",
        "# m.compile(optimizer = opt, loss = 'sparse_categorical_crossentropy', metrics = ['accuracy'])\n",
        "# r = m.fit(X_train, y_train, validation_data = (X_test, y_test), epochs = 20)\n",
        "\n",
        "m.compile(optimizer = 'adam', loss = 'sparse_categorical_crossentropy', metrics = ['accuracy'])\n",
        "r = m.fit(X_train, y_train, validation_data = (X_test, y_test), epochs = 20)"
      ],
      "metadata": {
        "colab": {
          "base_uri": "https://localhost:8080/"
        },
        "id": "rGrk8b9aH9BD",
        "outputId": "7e7e3f70-8158-43e9-911d-e6906b684639"
      },
      "execution_count": 16,
      "outputs": [
        {
          "output_type": "stream",
          "name": "stdout",
          "text": [
            "Epoch 1/20\n",
            "5/5 [==============================] - 13s 203ms/step - loss: 3.8972 - accuracy: 0.3864 - val_loss: 1.0994 - val_accuracy: 0.3030\n",
            "Epoch 2/20\n",
            "5/5 [==============================] - 0s 43ms/step - loss: 1.5620 - accuracy: 0.3864 - val_loss: 1.0990 - val_accuracy: 0.3030\n",
            "Epoch 3/20\n",
            "5/5 [==============================] - 0s 43ms/step - loss: 1.4039 - accuracy: 0.3712 - val_loss: 1.0996 - val_accuracy: 0.3030\n",
            "Epoch 4/20\n",
            "5/5 [==============================] - 0s 42ms/step - loss: 1.3764 - accuracy: 0.3561 - val_loss: 1.0995 - val_accuracy: 0.3333\n",
            "Epoch 5/20\n",
            "5/5 [==============================] - 0s 44ms/step - loss: 1.0753 - accuracy: 0.5227 - val_loss: 1.0979 - val_accuracy: 0.3636\n",
            "Epoch 6/20\n",
            "5/5 [==============================] - 0s 41ms/step - loss: 1.0912 - accuracy: 0.4470 - val_loss: 1.0999 - val_accuracy: 0.2727\n",
            "Epoch 7/20\n",
            "5/5 [==============================] - 0s 43ms/step - loss: 1.0418 - accuracy: 0.5000 - val_loss: 1.0988 - val_accuracy: 0.3636\n",
            "Epoch 8/20\n",
            "5/5 [==============================] - 0s 41ms/step - loss: 1.0736 - accuracy: 0.5000 - val_loss: 1.0958 - val_accuracy: 0.3636\n",
            "Epoch 9/20\n",
            "5/5 [==============================] - 0s 40ms/step - loss: 1.0758 - accuracy: 0.4773 - val_loss: 1.0934 - val_accuracy: 0.3636\n",
            "Epoch 10/20\n",
            "5/5 [==============================] - 0s 42ms/step - loss: 0.8939 - accuracy: 0.6136 - val_loss: 1.0917 - val_accuracy: 0.3636\n",
            "Epoch 11/20\n",
            "5/5 [==============================] - 0s 42ms/step - loss: 0.8249 - accuracy: 0.5833 - val_loss: 1.0924 - val_accuracy: 0.3636\n",
            "Epoch 12/20\n",
            "5/5 [==============================] - 0s 41ms/step - loss: 0.9087 - accuracy: 0.6061 - val_loss: 1.0959 - val_accuracy: 0.3636\n",
            "Epoch 13/20\n",
            "5/5 [==============================] - 0s 43ms/step - loss: 0.8091 - accuracy: 0.7045 - val_loss: 1.1008 - val_accuracy: 0.3636\n",
            "Epoch 14/20\n",
            "5/5 [==============================] - 0s 41ms/step - loss: 0.6678 - accuracy: 0.6742 - val_loss: 1.1062 - val_accuracy: 0.3636\n",
            "Epoch 15/20\n",
            "5/5 [==============================] - 0s 42ms/step - loss: 0.5391 - accuracy: 0.7500 - val_loss: 1.1092 - val_accuracy: 0.3636\n",
            "Epoch 16/20\n",
            "5/5 [==============================] - 0s 40ms/step - loss: 0.4534 - accuracy: 0.8106 - val_loss: 1.1156 - val_accuracy: 0.3636\n",
            "Epoch 17/20\n",
            "5/5 [==============================] - 0s 40ms/step - loss: 0.4029 - accuracy: 0.8485 - val_loss: 1.1259 - val_accuracy: 0.3636\n",
            "Epoch 18/20\n",
            "5/5 [==============================] - 0s 41ms/step - loss: 0.4447 - accuracy: 0.8182 - val_loss: 1.1363 - val_accuracy: 0.3636\n",
            "Epoch 19/20\n",
            "5/5 [==============================] - 0s 40ms/step - loss: 0.3952 - accuracy: 0.8712 - val_loss: 1.1451 - val_accuracy: 0.3636\n",
            "Epoch 20/20\n",
            "5/5 [==============================] - 0s 39ms/step - loss: 0.2676 - accuracy: 0.9242 - val_loss: 1.1488 - val_accuracy: 0.3636\n"
          ]
        }
      ]
    },
    {
      "cell_type": "code",
      "source": [
        "batch_size = 18\n",
        "# data_generator = tf.keras.preprocessing.image.ImageDataGenerator(width_shift_range = 0.1, height_shift_range = 0.1, horizontal_flip = True)\n",
        "# data_generator = tf.keras.preprocessing.image.ImageDataGenerator(width_shift_range = 0.1, height_shift_range = 0.1)\n",
        "data_generator = tf.keras.preprocessing.image.ImageDataGenerator(\n",
        "    # featurewise_center=True,\n",
        "    # featurewise_std_normalization=True,\n",
        "    # rotation_range=20,\n",
        "    width_shift_range=0.2,\n",
        "    height_shift_range=0.2,\n",
        "    # horizontal_flip=True,\n",
        "    # rescale=1./255,\n",
        "    # shear_range=0.2,\n",
        "    zoom_range=0.2)\n",
        "train_generator = data_generator.flow(X_train, y_train, batch_size)\n",
        "steps_per_epoch = X_train.shape[0] // batch_size\n",
        "r = m.fit_generator(train_generator, validation_data = (X_test, y_test), steps_per_epoch = steps_per_epoch, epochs = 50)"
      ],
      "metadata": {
        "colab": {
          "base_uri": "https://localhost:8080/"
        },
        "id": "Dr2nTG4eZ5WI",
        "outputId": "71a5bd1c-b240-4475-a777-41d9deee16ab"
      },
      "execution_count": 17,
      "outputs": [
        {
          "output_type": "stream",
          "name": "stderr",
          "text": [
            "/usr/local/lib/python3.7/dist-packages/ipykernel_launcher.py:16: UserWarning: `Model.fit_generator` is deprecated and will be removed in a future version. Please use `Model.fit`, which supports generators.\n",
            "  app.launch_new_instance()\n"
          ]
        },
        {
          "output_type": "stream",
          "name": "stdout",
          "text": [
            "Epoch 1/50\n",
            "7/7 [==============================] - 2s 176ms/step - loss: 1.5589 - accuracy: 0.5000 - val_loss: 1.1557 - val_accuracy: 0.3636\n",
            "Epoch 2/50\n",
            "7/7 [==============================] - 1s 204ms/step - loss: 1.2608 - accuracy: 0.4386 - val_loss: 1.1463 - val_accuracy: 0.3636\n",
            "Epoch 3/50\n",
            "7/7 [==============================] - 1s 202ms/step - loss: 1.1333 - accuracy: 0.4035 - val_loss: 1.1438 - val_accuracy: 0.3636\n",
            "Epoch 4/50\n",
            "7/7 [==============================] - 2s 225ms/step - loss: 1.0365 - accuracy: 0.4603 - val_loss: 1.1458 - val_accuracy: 0.3636\n",
            "Epoch 5/50\n",
            "7/7 [==============================] - 1s 205ms/step - loss: 1.0253 - accuracy: 0.4561 - val_loss: 1.1565 - val_accuracy: 0.3636\n",
            "Epoch 6/50\n",
            "7/7 [==============================] - 1s 202ms/step - loss: 0.9303 - accuracy: 0.5614 - val_loss: 1.1848 - val_accuracy: 0.3636\n",
            "Epoch 7/50\n",
            "7/7 [==============================] - 1s 206ms/step - loss: 1.0583 - accuracy: 0.4912 - val_loss: 1.2181 - val_accuracy: 0.3636\n",
            "Epoch 8/50\n",
            "7/7 [==============================] - 2s 207ms/step - loss: 1.0619 - accuracy: 0.5439 - val_loss: 1.2113 - val_accuracy: 0.3636\n",
            "Epoch 9/50\n",
            "7/7 [==============================] - 1s 203ms/step - loss: 0.9234 - accuracy: 0.5263 - val_loss: 1.2114 - val_accuracy: 0.3636\n",
            "Epoch 10/50\n",
            "7/7 [==============================] - 1s 229ms/step - loss: 0.9986 - accuracy: 0.4825 - val_loss: 1.2552 - val_accuracy: 0.3636\n",
            "Epoch 11/50\n",
            "7/7 [==============================] - 1s 203ms/step - loss: 0.9621 - accuracy: 0.5614 - val_loss: 1.2881 - val_accuracy: 0.3636\n",
            "Epoch 12/50\n",
            "7/7 [==============================] - 1s 204ms/step - loss: 1.0656 - accuracy: 0.4649 - val_loss: 1.2720 - val_accuracy: 0.3636\n",
            "Epoch 13/50\n",
            "7/7 [==============================] - 2s 207ms/step - loss: 0.8453 - accuracy: 0.6404 - val_loss: 1.2812 - val_accuracy: 0.3636\n",
            "Epoch 14/50\n",
            "7/7 [==============================] - 1s 206ms/step - loss: 1.0814 - accuracy: 0.4123 - val_loss: 1.3010 - val_accuracy: 0.3636\n",
            "Epoch 15/50\n",
            "7/7 [==============================] - 1s 200ms/step - loss: 0.9273 - accuracy: 0.5439 - val_loss: 1.3070 - val_accuracy: 0.3636\n",
            "Epoch 16/50\n",
            "7/7 [==============================] - 1s 204ms/step - loss: 0.8820 - accuracy: 0.5877 - val_loss: 1.3325 - val_accuracy: 0.3636\n",
            "Epoch 17/50\n",
            "7/7 [==============================] - 1s 229ms/step - loss: 0.9848 - accuracy: 0.5702 - val_loss: 1.3552 - val_accuracy: 0.3636\n",
            "Epoch 18/50\n",
            "7/7 [==============================] - 2s 226ms/step - loss: 0.8988 - accuracy: 0.5714 - val_loss: 1.2637 - val_accuracy: 0.3636\n",
            "Epoch 19/50\n",
            "7/7 [==============================] - 1s 198ms/step - loss: 0.9776 - accuracy: 0.5877 - val_loss: 1.2671 - val_accuracy: 0.3636\n",
            "Epoch 20/50\n",
            "7/7 [==============================] - 1s 202ms/step - loss: 0.9262 - accuracy: 0.5702 - val_loss: 1.2547 - val_accuracy: 0.3636\n",
            "Epoch 21/50\n",
            "7/7 [==============================] - 1s 201ms/step - loss: 0.9092 - accuracy: 0.5263 - val_loss: 1.3377 - val_accuracy: 0.3636\n",
            "Epoch 22/50\n",
            "7/7 [==============================] - 2s 235ms/step - loss: 0.8334 - accuracy: 0.6404 - val_loss: 1.3576 - val_accuracy: 0.3636\n",
            "Epoch 23/50\n",
            "7/7 [==============================] - 1s 203ms/step - loss: 0.8128 - accuracy: 0.6316 - val_loss: 1.4790 - val_accuracy: 0.3636\n",
            "Epoch 24/50\n",
            "7/7 [==============================] - 1s 204ms/step - loss: 0.7511 - accuracy: 0.6404 - val_loss: 1.4419 - val_accuracy: 0.3636\n",
            "Epoch 25/50\n",
            "7/7 [==============================] - 1s 205ms/step - loss: 0.9156 - accuracy: 0.5789 - val_loss: 1.3135 - val_accuracy: 0.3636\n",
            "Epoch 26/50\n",
            "7/7 [==============================] - 2s 209ms/step - loss: 0.8976 - accuracy: 0.5702 - val_loss: 1.1970 - val_accuracy: 0.3636\n",
            "Epoch 27/50\n",
            "7/7 [==============================] - 1s 204ms/step - loss: 0.7676 - accuracy: 0.6316 - val_loss: 1.3157 - val_accuracy: 0.3636\n",
            "Epoch 28/50\n",
            "7/7 [==============================] - 1s 202ms/step - loss: 0.7972 - accuracy: 0.6053 - val_loss: 1.2974 - val_accuracy: 0.3636\n",
            "Epoch 29/50\n",
            "7/7 [==============================] - 1s 203ms/step - loss: 0.8747 - accuracy: 0.5877 - val_loss: 1.3447 - val_accuracy: 0.3636\n",
            "Epoch 30/50\n",
            "7/7 [==============================] - 2s 206ms/step - loss: 0.8724 - accuracy: 0.6316 - val_loss: 1.2309 - val_accuracy: 0.3636\n",
            "Epoch 31/50\n",
            "7/7 [==============================] - 1s 207ms/step - loss: 1.0475 - accuracy: 0.5439 - val_loss: 1.2026 - val_accuracy: 0.3636\n",
            "Epoch 32/50\n",
            "7/7 [==============================] - 2s 218ms/step - loss: 0.7979 - accuracy: 0.5877 - val_loss: 1.1962 - val_accuracy: 0.3636\n",
            "Epoch 33/50\n",
            "7/7 [==============================] - 2s 220ms/step - loss: 0.9016 - accuracy: 0.5702 - val_loss: 1.0447 - val_accuracy: 0.3939\n",
            "Epoch 34/50\n",
            "7/7 [==============================] - 1s 205ms/step - loss: 0.8267 - accuracy: 0.6140 - val_loss: 0.9852 - val_accuracy: 0.5152\n",
            "Epoch 35/50\n",
            "7/7 [==============================] - 1s 206ms/step - loss: 0.8117 - accuracy: 0.6228 - val_loss: 0.9712 - val_accuracy: 0.5152\n",
            "Epoch 36/50\n",
            "7/7 [==============================] - 1s 204ms/step - loss: 0.7392 - accuracy: 0.7193 - val_loss: 1.0529 - val_accuracy: 0.4545\n",
            "Epoch 37/50\n",
            "7/7 [==============================] - 2s 207ms/step - loss: 0.8797 - accuracy: 0.5877 - val_loss: 0.9684 - val_accuracy: 0.5758\n",
            "Epoch 38/50\n",
            "7/7 [==============================] - 2s 207ms/step - loss: 0.7277 - accuracy: 0.6491 - val_loss: 0.9300 - val_accuracy: 0.3939\n",
            "Epoch 39/50\n",
            "7/7 [==============================] - 2s 207ms/step - loss: 0.7475 - accuracy: 0.6579 - val_loss: 0.8313 - val_accuracy: 0.6667\n",
            "Epoch 40/50\n",
            "7/7 [==============================] - 2s 229ms/step - loss: 0.7389 - accuracy: 0.6508 - val_loss: 0.7182 - val_accuracy: 0.7273\n",
            "Epoch 41/50\n",
            "7/7 [==============================] - 2s 229ms/step - loss: 0.8106 - accuracy: 0.6349 - val_loss: 0.7115 - val_accuracy: 0.7576\n",
            "Epoch 42/50\n",
            "7/7 [==============================] - 1s 231ms/step - loss: 0.7991 - accuracy: 0.6404 - val_loss: 0.7177 - val_accuracy: 0.7273\n",
            "Epoch 43/50\n",
            "7/7 [==============================] - 1s 207ms/step - loss: 0.8723 - accuracy: 0.5877 - val_loss: 0.7920 - val_accuracy: 0.6667\n",
            "Epoch 44/50\n",
            "7/7 [==============================] - 2s 210ms/step - loss: 0.7975 - accuracy: 0.6053 - val_loss: 0.8463 - val_accuracy: 0.5455\n",
            "Epoch 45/50\n",
            "7/7 [==============================] - 2s 208ms/step - loss: 0.7877 - accuracy: 0.6316 - val_loss: 0.7942 - val_accuracy: 0.6364\n",
            "Epoch 46/50\n",
            "7/7 [==============================] - 1s 206ms/step - loss: 0.8096 - accuracy: 0.6667 - val_loss: 0.7782 - val_accuracy: 0.6667\n",
            "Epoch 47/50\n",
            "7/7 [==============================] - 1s 233ms/step - loss: 0.7709 - accuracy: 0.6754 - val_loss: 0.7377 - val_accuracy: 0.6970\n",
            "Epoch 48/50\n",
            "7/7 [==============================] - 1s 204ms/step - loss: 0.8041 - accuracy: 0.6053 - val_loss: 0.6701 - val_accuracy: 0.8182\n",
            "Epoch 49/50\n",
            "7/7 [==============================] - 1s 201ms/step - loss: 0.7739 - accuracy: 0.6491 - val_loss: 0.7257 - val_accuracy: 0.7879\n",
            "Epoch 50/50\n",
            "7/7 [==============================] - 1s 204ms/step - loss: 0.6683 - accuracy: 0.7105 - val_loss: 0.6508 - val_accuracy: 0.8182\n"
          ]
        }
      ]
    },
    {
      "cell_type": "code",
      "source": [
        "plt.plot(r.history['loss'], label = 'loss')\n",
        "plt.plot(r.history['val_loss'], label = 'val_loss')\n",
        "plt.legend()"
      ],
      "metadata": {
        "colab": {
          "base_uri": "https://localhost:8080/",
          "height": 285
        },
        "id": "e7TvcD3bKtRD",
        "outputId": "1141a6bf-69e4-4efa-8a9b-fc7da6b09b35"
      },
      "execution_count": 18,
      "outputs": [
        {
          "output_type": "execute_result",
          "data": {
            "text/plain": [
              "<matplotlib.legend.Legend at 0x7f164a2f8c50>"
            ]
          },
          "metadata": {},
          "execution_count": 18
        },
        {
          "output_type": "display_data",
          "data": {
            "text/plain": [
              "<Figure size 432x288 with 1 Axes>"
            ],
            "image/png": "[encoded data removed]"
          },
          "metadata": {
            "needs_background": "light"
          }
        }
      ]
    },
    {
      "cell_type": "code",
      "source": [
        "plt.plot(r.history['accuracy'], label = 'accuracy')\n",
        "plt.plot(r.history['val_accuracy'], label = 'val_accuracy')\n",
        "plt.legend()"
      ],
      "metadata": {
        "colab": {
          "base_uri": "https://localhost:8080/",
          "height": 282
        },
        "id": "nek4PFNtS0un",
        "outputId": "870e8b32-bc0f-47dd-8636-cedd8af57e97"
      },
      "execution_count": 19,
      "outputs": [
        {
          "output_type": "execute_result",
          "data": {
            "text/plain": [
              "<matplotlib.legend.Legend at 0x7f164a1cd290>"
            ]
          },
          "metadata": {},
          "execution_count": 19
        },
        {
          "output_type": "display_data",
          "data": {
            "text/plain": [
              "<Figure size 432x288 with 1 Axes>"
            ],
            "image/png": "[encoded data removed]"
          },
          "metadata": {
            "needs_background": "light"
          }
        }
      ]
    },
    {
      "cell_type": "code",
      "source": [],
      "metadata": {
        "id": "S_tcUNnVTDKL"
      },
      "execution_count": 19,
      "outputs": []
    }
  ]
}