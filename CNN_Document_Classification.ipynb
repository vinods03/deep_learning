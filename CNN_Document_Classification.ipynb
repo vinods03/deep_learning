{
  "nbformat": 4,
  "nbformat_minor": 0,
  "metadata": {
    "colab": {
      "name": "CNN - Document Classification.ipynb",
      "provenance": [],
      "collapsed_sections": [],
      "machine_shape": "hm",
      "authorship_tag": "ABX9TyNIpFi7jvmbthBBxiEvDUKX",
      "include_colab_link": true
    },
    "kernelspec": {
      "name": "python3",
      "display_name": "Python 3"
    },
    "language_info": {
      "name": "python"
    },
    "accelerator": "GPU",
    "gpuClass": "standard"
  },
  "cells": [
    {
      "cell_type": "markdown",
      "metadata": {
        "id": "view-in-github",
        "colab_type": "text"
      },
      "source": [
        "<a href=\"https://colab.research.google.com/github/vinods03/deep_learning/blob/main/CNN_Document_Classification.ipynb\" target=\"_parent\"><img src=\"https://colab.research.google.com/assets/colab-badge.svg\" alt=\"Open In Colab\"/></a>"
      ]
    },
    {
      "cell_type": "code",
      "execution_count": 1,
      "metadata": {
        "colab": {
          "base_uri": "https://localhost:8080/"
        },
        "id": "tV0sfwkNrSuV",
        "outputId": "d85bd12e-b46b-4132-a8fc-e794bbe98100"
      },
      "outputs": [
        {
          "output_type": "stream",
          "name": "stdout",
          "text": [
            "Mounted at /content/drive\n"
          ]
        }
      ],
      "source": [
        "from google.colab import drive\n",
        "drive.mount('/content/drive')"
      ]
    },
    {
      "cell_type": "code",
      "source": [
        "import tensorflow as tf\n",
        "print(tf.__version__)"
      ],
      "metadata": {
        "colab": {
          "base_uri": "https://localhost:8080/"
        },
        "id": "HMCfy3S5roER",
        "outputId": "98b34668-c44a-4b9b-f0a7-da03adf93645"
      },
      "execution_count": 2,
      "outputs": [
        {
          "output_type": "stream",
          "name": "stdout",
          "text": [
            "2.8.2\n"
          ]
        }
      ]
    },
    {
      "cell_type": "code",
      "source": [
        "base_dir = '/content/drive/MyDrive/DocumentClassification'"
      ],
      "metadata": {
        "id": "JGP_H4Zlr02k"
      },
      "execution_count": 3,
      "outputs": []
    },
    {
      "cell_type": "code",
      "source": [
        "folders = []\n",
        "\n",
        "import os\n",
        "for i in os.listdir(base_dir):\n",
        "  folders.append(os.path.join(base_dir, i))\n",
        "\n",
        "folders"
      ],
      "metadata": {
        "colab": {
          "base_uri": "https://localhost:8080/"
        },
        "id": "KIuxkdk1sCkK",
        "outputId": "7b3db04e-2cb3-46fe-a047-e9cea4e18ee3"
      },
      "execution_count": 4,
      "outputs": [
        {
          "output_type": "execute_result",
          "data": {
            "text/plain": [
              "['/content/drive/MyDrive/DocumentClassification/email',\n",
              " '/content/drive/MyDrive/DocumentClassification/resume',\n",
              " '/content/drive/MyDrive/DocumentClassification/scientific_publication']"
            ]
          },
          "metadata": {},
          "execution_count": 4
        }
      ]
    },
    {
      "cell_type": "code",
      "source": [
        "dataset = []\n",
        "\n",
        "for i in range(0, len(folders)):\n",
        "  for j in os.listdir(folders[i]):\n",
        "    dataset.append(os.path.join(folders[i], j))\n",
        "\n",
        "# dataset\n",
        "len(dataset)"
      ],
      "metadata": {
        "colab": {
          "base_uri": "https://localhost:8080/"
        },
        "id": "dLP731dysZp9",
        "outputId": "f4f065cf-7333-488e-ca8b-ce52fef90654"
      },
      "execution_count": 5,
      "outputs": [
        {
          "output_type": "execute_result",
          "data": {
            "text/plain": [
              "165"
            ]
          },
          "metadata": {},
          "execution_count": 5
        }
      ]
    },
    {
      "cell_type": "code",
      "source": [
        "translate = {'email':0,'resume':1,'scientific_publication':2}\n",
        "reverse_translate = {0:'email',1:'resume',2:'scientific_publication'}"
      ],
      "metadata": {
        "id": "HCAyvfBPK0F9"
      },
      "execution_count": 6,
      "outputs": []
    },
    {
      "cell_type": "code",
      "source": [
        "# convert one sample image into an array\n",
        "\n",
        "from tensorflow.keras.preprocessing.image import load_img, img_to_array\n",
        "img = load_img('/content/drive/MyDrive/DocumentClassification/email/doc_000042.png', target_size = (256,256))\n",
        "img = img_to_array(img)\n",
        "img = img/255\n",
        "img"
      ],
      "metadata": {
        "colab": {
          "base_uri": "https://localhost:8080/"
        },
        "id": "Xmh1SNNluTnw",
        "outputId": "a78db4ba-e722-4b15-8627-1773df3f44d0"
      },
      "execution_count": 7,
      "outputs": [
        {
          "output_type": "execute_result",
          "data": {
            "text/plain": [
              "array([[[1.        , 1.        , 1.        ],\n",
              "        [1.        , 1.        , 1.        ],\n",
              "        [1.        , 1.        , 1.        ],\n",
              "        ...,\n",
              "        [1.        , 1.        , 1.        ],\n",
              "        [1.        , 1.        , 1.        ],\n",
              "        [1.        , 1.        , 1.        ]],\n",
              "\n",
              "       [[1.        , 1.        , 1.        ],\n",
              "        [1.        , 1.        , 1.        ],\n",
              "        [1.        , 1.        , 1.        ],\n",
              "        ...,\n",
              "        [1.        , 1.        , 1.        ],\n",
              "        [1.        , 1.        , 1.        ],\n",
              "        [1.        , 1.        , 1.        ]],\n",
              "\n",
              "       [[1.        , 1.        , 1.        ],\n",
              "        [1.        , 1.        , 1.        ],\n",
              "        [1.        , 1.        , 1.        ],\n",
              "        ...,\n",
              "        [1.        , 1.        , 1.        ],\n",
              "        [1.        , 1.        , 1.        ],\n",
              "        [1.        , 1.        , 1.        ]],\n",
              "\n",
              "       ...,\n",
              "\n",
              "       [[0.972549  , 0.972549  , 0.972549  ],\n",
              "        [1.        , 1.        , 1.        ],\n",
              "        [1.        , 1.        , 1.        ],\n",
              "        ...,\n",
              "        [1.        , 1.        , 1.        ],\n",
              "        [1.        , 1.        , 1.        ],\n",
              "        [1.        , 1.        , 1.        ]],\n",
              "\n",
              "       [[0.99215686, 0.99215686, 0.99215686],\n",
              "        [1.        , 1.        , 1.        ],\n",
              "        [1.        , 1.        , 1.        ],\n",
              "        ...,\n",
              "        [1.        , 1.        , 1.        ],\n",
              "        [1.        , 1.        , 1.        ],\n",
              "        [1.        , 1.        , 1.        ]],\n",
              "\n",
              "       [[0.7254902 , 0.7254902 , 0.7254902 ],\n",
              "        [0.69411767, 0.69411767, 0.69411767],\n",
              "        [0.69411767, 0.69411767, 0.69411767],\n",
              "        ...,\n",
              "        [1.        , 1.        , 1.        ],\n",
              "        [1.        , 1.        , 1.        ],\n",
              "        [1.        , 1.        , 1.        ]]], dtype=float32)"
            ]
          },
          "metadata": {},
          "execution_count": 7
        }
      ]
    },
    {
      "cell_type": "code",
      "source": [
        "import matplotlib.pyplot as plt\n",
        "plt.imshow(img)"
      ],
      "metadata": {
        "colab": {
          "base_uri": "https://localhost:8080/",
          "height": 286
        },
        "id": "oSZNxrJlA7Vg",
        "outputId": "20b7cc3f-1abb-4303-ed5a-c5beb052870f"
      },
      "execution_count": 8,
      "outputs": [
        {
          "output_type": "execute_result",
          "data": {
            "text/plain": [
              "<matplotlib.image.AxesImage at 0x7fe0d4ff7bd0>"
            ]
          },
          "metadata": {},
          "execution_count": 8
        },
        {
          "output_type": "display_data",
          "data": {
            "text/plain": [
              "<Figure size 432x288 with 1 Axes>"
            ],
            "image/png": "[encoded data removed]"
          },
          "metadata": {
            "needs_background": "light"
          }
        }
      ]
    },
    {
      "cell_type": "code",
      "source": [
        "dataset"
      ],
      "metadata": {
        "colab": {
          "base_uri": "https://localhost:8080/"
        },
        "id": "iqEZWGKGCcmx",
        "outputId": "dbe05eff-8faf-4b16-af88-482f3bf46768"
      },
      "execution_count": 9,
      "outputs": [
        {
          "output_type": "execute_result",
          "data": {
            "text/plain": [
              "['/content/drive/MyDrive/DocumentClassification/email/doc_000195.png',\n",
              " '/content/drive/MyDrive/DocumentClassification/email/doc_000133.png',\n",
              " '/content/drive/MyDrive/DocumentClassification/email/doc_000275.png',\n",
              " '/content/drive/MyDrive/DocumentClassification/email/doc_000115.png',\n",
              " '/content/drive/MyDrive/DocumentClassification/email/doc_000260.png',\n",
              " '/content/drive/MyDrive/DocumentClassification/email/doc_000042.png',\n",
              " '/content/drive/MyDrive/DocumentClassification/email/doc_000238.png',\n",
              " '/content/drive/MyDrive/DocumentClassification/email/doc_000142.png',\n",
              " '/content/drive/MyDrive/DocumentClassification/email/doc_000196.png',\n",
              " '/content/drive/MyDrive/DocumentClassification/email/doc_000079.png',\n",
              " '/content/drive/MyDrive/DocumentClassification/email/doc_000111.png',\n",
              " '/content/drive/MyDrive/DocumentClassification/email/doc_000076.png',\n",
              " '/content/drive/MyDrive/DocumentClassification/email/doc_000046.png',\n",
              " '/content/drive/MyDrive/DocumentClassification/email/doc_000255.png',\n",
              " '/content/drive/MyDrive/DocumentClassification/email/doc_000148.png',\n",
              " '/content/drive/MyDrive/DocumentClassification/email/doc_000165.png',\n",
              " '/content/drive/MyDrive/DocumentClassification/email/doc_000278.png',\n",
              " '/content/drive/MyDrive/DocumentClassification/email/doc_000507.png',\n",
              " '/content/drive/MyDrive/DocumentClassification/email/doc_000840.png',\n",
              " '/content/drive/MyDrive/DocumentClassification/email/doc_000483.png',\n",
              " '/content/drive/MyDrive/DocumentClassification/email/doc_000511.png',\n",
              " '/content/drive/MyDrive/DocumentClassification/email/doc_000596.png',\n",
              " '/content/drive/MyDrive/DocumentClassification/email/doc_000591.png',\n",
              " '/content/drive/MyDrive/DocumentClassification/email/doc_000637.png',\n",
              " '/content/drive/MyDrive/DocumentClassification/email/doc_000465.png',\n",
              " '/content/drive/MyDrive/DocumentClassification/email/doc_000825.png',\n",
              " '/content/drive/MyDrive/DocumentClassification/email/doc_000862.png',\n",
              " '/content/drive/MyDrive/DocumentClassification/email/doc_000784.png',\n",
              " '/content/drive/MyDrive/DocumentClassification/email/doc_000650.png',\n",
              " '/content/drive/MyDrive/DocumentClassification/email/doc_000655.png',\n",
              " '/content/drive/MyDrive/DocumentClassification/email/doc_000471.png',\n",
              " '/content/drive/MyDrive/DocumentClassification/email/doc_000750.png',\n",
              " '/content/drive/MyDrive/DocumentClassification/email/doc_000448.png',\n",
              " '/content/drive/MyDrive/DocumentClassification/email/doc_000485.png',\n",
              " '/content/drive/MyDrive/DocumentClassification/email/doc_000577.png',\n",
              " '/content/drive/MyDrive/DocumentClassification/email/doc_000528.png',\n",
              " '/content/drive/MyDrive/DocumentClassification/email/doc_000550.png',\n",
              " '/content/drive/MyDrive/DocumentClassification/email/doc_000873.png',\n",
              " '/content/drive/MyDrive/DocumentClassification/email/doc_000363.png',\n",
              " '/content/drive/MyDrive/DocumentClassification/email/doc_000333.png',\n",
              " '/content/drive/MyDrive/DocumentClassification/email/doc_000586.png',\n",
              " '/content/drive/MyDrive/DocumentClassification/email/doc_000347.png',\n",
              " '/content/drive/MyDrive/DocumentClassification/email/doc_000872.png',\n",
              " '/content/drive/MyDrive/DocumentClassification/email/doc_000532.png',\n",
              " '/content/drive/MyDrive/DocumentClassification/email/doc_000745.png',\n",
              " '/content/drive/MyDrive/DocumentClassification/email/doc_000297.png',\n",
              " '/content/drive/MyDrive/DocumentClassification/email/doc_000612.png',\n",
              " '/content/drive/MyDrive/DocumentClassification/email/doc_000675.png',\n",
              " '/content/drive/MyDrive/DocumentClassification/email/doc_000279.png',\n",
              " '/content/drive/MyDrive/DocumentClassification/email/doc_000787.png',\n",
              " '/content/drive/MyDrive/DocumentClassification/email/doc_000796.png',\n",
              " '/content/drive/MyDrive/DocumentClassification/email/doc_000694.png',\n",
              " '/content/drive/MyDrive/DocumentClassification/email/doc_000558.png',\n",
              " '/content/drive/MyDrive/DocumentClassification/email/doc_000464.png',\n",
              " '/content/drive/MyDrive/DocumentClassification/email/doc_000282.png',\n",
              " '/content/drive/MyDrive/DocumentClassification/resume/doc_000080.png',\n",
              " '/content/drive/MyDrive/DocumentClassification/resume/doc_000369.png',\n",
              " '/content/drive/MyDrive/DocumentClassification/resume/doc_000447.png',\n",
              " '/content/drive/MyDrive/DocumentClassification/resume/doc_000072.png',\n",
              " '/content/drive/MyDrive/DocumentClassification/resume/doc_000752.png',\n",
              " '/content/drive/MyDrive/DocumentClassification/resume/doc_000091.png',\n",
              " '/content/drive/MyDrive/DocumentClassification/resume/doc_000543.png',\n",
              " '/content/drive/MyDrive/DocumentClassification/resume/doc_000639.png',\n",
              " '/content/drive/MyDrive/DocumentClassification/resume/doc_000760.png',\n",
              " '/content/drive/MyDrive/DocumentClassification/resume/doc_000636.png',\n",
              " '/content/drive/MyDrive/DocumentClassification/resume/doc_000286.png',\n",
              " '/content/drive/MyDrive/DocumentClassification/resume/doc_000674.png',\n",
              " '/content/drive/MyDrive/DocumentClassification/resume/doc_000575.png',\n",
              " '/content/drive/MyDrive/DocumentClassification/resume/doc_000109.png',\n",
              " '/content/drive/MyDrive/DocumentClassification/resume/doc_000191.png',\n",
              " '/content/drive/MyDrive/DocumentClassification/resume/doc_000353.png',\n",
              " '/content/drive/MyDrive/DocumentClassification/resume/doc_000763.png',\n",
              " '/content/drive/MyDrive/DocumentClassification/resume/doc_000344.png',\n",
              " '/content/drive/MyDrive/DocumentClassification/resume/doc_000499.png',\n",
              " '/content/drive/MyDrive/DocumentClassification/resume/doc_000375.png',\n",
              " '/content/drive/MyDrive/DocumentClassification/resume/doc_000173.png',\n",
              " '/content/drive/MyDrive/DocumentClassification/resume/doc_000847.png',\n",
              " '/content/drive/MyDrive/DocumentClassification/resume/doc_000551.png',\n",
              " '/content/drive/MyDrive/DocumentClassification/resume/doc_000402.png',\n",
              " '/content/drive/MyDrive/DocumentClassification/resume/doc_000734.png',\n",
              " '/content/drive/MyDrive/DocumentClassification/resume/doc_000361.png',\n",
              " '/content/drive/MyDrive/DocumentClassification/resume/doc_000460.png',\n",
              " '/content/drive/MyDrive/DocumentClassification/resume/doc_000101.png',\n",
              " '/content/drive/MyDrive/DocumentClassification/resume/doc_000450.png',\n",
              " '/content/drive/MyDrive/DocumentClassification/resume/doc_000088.png',\n",
              " '/content/drive/MyDrive/DocumentClassification/resume/doc_000223.png',\n",
              " '/content/drive/MyDrive/DocumentClassification/resume/doc_000264.png',\n",
              " '/content/drive/MyDrive/DocumentClassification/resume/doc_000468.png',\n",
              " '/content/drive/MyDrive/DocumentClassification/resume/doc_000281.png',\n",
              " '/content/drive/MyDrive/DocumentClassification/resume/doc_000175.png',\n",
              " '/content/drive/MyDrive/DocumentClassification/resume/doc_000248.png',\n",
              " '/content/drive/MyDrive/DocumentClassification/resume/doc_000824.png',\n",
              " '/content/drive/MyDrive/DocumentClassification/resume/doc_000441.png',\n",
              " '/content/drive/MyDrive/DocumentClassification/resume/doc_000377.png',\n",
              " '/content/drive/MyDrive/DocumentClassification/resume/doc_000301.png',\n",
              " '/content/drive/MyDrive/DocumentClassification/resume/doc_000609.png',\n",
              " '/content/drive/MyDrive/DocumentClassification/resume/doc_000097.png',\n",
              " '/content/drive/MyDrive/DocumentClassification/resume/doc_000169.png',\n",
              " '/content/drive/MyDrive/DocumentClassification/resume/doc_000501.png',\n",
              " '/content/drive/MyDrive/DocumentClassification/resume/doc_000802.png',\n",
              " '/content/drive/MyDrive/DocumentClassification/resume/doc_000070.png',\n",
              " '/content/drive/MyDrive/DocumentClassification/resume/doc_000727.png',\n",
              " '/content/drive/MyDrive/DocumentClassification/resume/doc_000473.png',\n",
              " '/content/drive/MyDrive/DocumentClassification/resume/doc_000411.png',\n",
              " '/content/drive/MyDrive/DocumentClassification/resume/doc_000051.png',\n",
              " '/content/drive/MyDrive/DocumentClassification/resume/doc_000443.png',\n",
              " '/content/drive/MyDrive/DocumentClassification/resume/doc_000294.png',\n",
              " '/content/drive/MyDrive/DocumentClassification/resume/doc_000629.png',\n",
              " '/content/drive/MyDrive/DocumentClassification/resume/doc_000476.png',\n",
              " '/content/drive/MyDrive/DocumentClassification/resume/doc_000809.png',\n",
              " '/content/drive/MyDrive/DocumentClassification/scientific_publication/doc_000942.png',\n",
              " '/content/drive/MyDrive/DocumentClassification/scientific_publication/doc_000767.png',\n",
              " '/content/drive/MyDrive/DocumentClassification/scientific_publication/doc_000228.png',\n",
              " '/content/drive/MyDrive/DocumentClassification/scientific_publication/doc_000845.png',\n",
              " '/content/drive/MyDrive/DocumentClassification/scientific_publication/doc_000584.png',\n",
              " '/content/drive/MyDrive/DocumentClassification/scientific_publication/doc_000513.png',\n",
              " '/content/drive/MyDrive/DocumentClassification/scientific_publication/doc_000345.png',\n",
              " '/content/drive/MyDrive/DocumentClassification/scientific_publication/doc_000530.png',\n",
              " '/content/drive/MyDrive/DocumentClassification/scientific_publication/doc_000509.png',\n",
              " '/content/drive/MyDrive/DocumentClassification/scientific_publication/doc_000821.png',\n",
              " '/content/drive/MyDrive/DocumentClassification/scientific_publication/doc_000741.png',\n",
              " '/content/drive/MyDrive/DocumentClassification/scientific_publication/doc_000240.png',\n",
              " '/content/drive/MyDrive/DocumentClassification/scientific_publication/doc_000498.png',\n",
              " '/content/drive/MyDrive/DocumentClassification/scientific_publication/doc_000615.png',\n",
              " '/content/drive/MyDrive/DocumentClassification/scientific_publication/doc_000779.png',\n",
              " '/content/drive/MyDrive/DocumentClassification/scientific_publication/doc_000697.png',\n",
              " '/content/drive/MyDrive/DocumentClassification/scientific_publication/doc_000594.png',\n",
              " '/content/drive/MyDrive/DocumentClassification/scientific_publication/doc_000437.png',\n",
              " '/content/drive/MyDrive/DocumentClassification/scientific_publication/doc_000016.png',\n",
              " '/content/drive/MyDrive/DocumentClassification/scientific_publication/doc_000298.png',\n",
              " '/content/drive/MyDrive/DocumentClassification/scientific_publication/doc_000756.png',\n",
              " '/content/drive/MyDrive/DocumentClassification/scientific_publication/doc_000515.png',\n",
              " '/content/drive/MyDrive/DocumentClassification/scientific_publication/doc_000453.png',\n",
              " '/content/drive/MyDrive/DocumentClassification/scientific_publication/doc_000089.png',\n",
              " '/content/drive/MyDrive/DocumentClassification/scientific_publication/doc_000445.png',\n",
              " '/content/drive/MyDrive/DocumentClassification/scientific_publication/doc_000392.png',\n",
              " '/content/drive/MyDrive/DocumentClassification/scientific_publication/doc_000785.png',\n",
              " '/content/drive/MyDrive/DocumentClassification/scientific_publication/doc_000534.png',\n",
              " '/content/drive/MyDrive/DocumentClassification/scientific_publication/doc_000050.png',\n",
              " '/content/drive/MyDrive/DocumentClassification/scientific_publication/doc_000128.png',\n",
              " '/content/drive/MyDrive/DocumentClassification/scientific_publication/doc_000451.png',\n",
              " '/content/drive/MyDrive/DocumentClassification/scientific_publication/doc_000864.png',\n",
              " '/content/drive/MyDrive/DocumentClassification/scientific_publication/doc_000522.png',\n",
              " '/content/drive/MyDrive/DocumentClassification/scientific_publication/doc_000045.png',\n",
              " '/content/drive/MyDrive/DocumentClassification/scientific_publication/doc_000285.png',\n",
              " '/content/drive/MyDrive/DocumentClassification/scientific_publication/doc_000250.png',\n",
              " '/content/drive/MyDrive/DocumentClassification/scientific_publication/doc_000235.png',\n",
              " '/content/drive/MyDrive/DocumentClassification/scientific_publication/doc_000171.png',\n",
              " '/content/drive/MyDrive/DocumentClassification/scientific_publication/doc_000429.png',\n",
              " '/content/drive/MyDrive/DocumentClassification/scientific_publication/doc_000311.png',\n",
              " '/content/drive/MyDrive/DocumentClassification/scientific_publication/doc_000766.png',\n",
              " '/content/drive/MyDrive/DocumentClassification/scientific_publication/doc_000698.png',\n",
              " '/content/drive/MyDrive/DocumentClassification/scientific_publication/doc_000061.png',\n",
              " '/content/drive/MyDrive/DocumentClassification/scientific_publication/doc_000438.png',\n",
              " '/content/drive/MyDrive/DocumentClassification/scientific_publication/doc_000769.png',\n",
              " '/content/drive/MyDrive/DocumentClassification/scientific_publication/doc_000617.png',\n",
              " '/content/drive/MyDrive/DocumentClassification/scientific_publication/doc_000950.png',\n",
              " '/content/drive/MyDrive/DocumentClassification/scientific_publication/doc_000891.png',\n",
              " '/content/drive/MyDrive/DocumentClassification/scientific_publication/doc_000832.png',\n",
              " '/content/drive/MyDrive/DocumentClassification/scientific_publication/doc_000130.png',\n",
              " '/content/drive/MyDrive/DocumentClassification/scientific_publication/doc_000480.png',\n",
              " '/content/drive/MyDrive/DocumentClassification/scientific_publication/doc_000349.png',\n",
              " '/content/drive/MyDrive/DocumentClassification/scientific_publication/doc_000121.png',\n",
              " '/content/drive/MyDrive/DocumentClassification/scientific_publication/doc_000334.png',\n",
              " '/content/drive/MyDrive/DocumentClassification/scientific_publication/doc_000309.png']"
            ]
          },
          "metadata": {},
          "execution_count": 9
        }
      ]
    },
    {
      "cell_type": "code",
      "source": [
        "image_array = []\n",
        "image_label = []\n",
        "\n",
        "for i in dataset:\n",
        "  img = load_img(i, target_size = (256,256))\n",
        "  img = img_to_array(img)\n",
        "  img = img/255\n",
        "  image_array.append(img)\n",
        "  label = translate[i.split('/')[-2]]\n",
        "  image_label.append(label)\n"
      ],
      "metadata": {
        "id": "SkMYwnrvBowm"
      },
      "execution_count": 10,
      "outputs": []
    },
    {
      "cell_type": "code",
      "source": [
        "import numpy as np\n",
        "\n",
        "image_array = np.array(image_array)\n",
        "image_label = np.array(image_label)\n",
        "\n",
        "print(image_array.shape)\n",
        "print(image_label.shape)"
      ],
      "metadata": {
        "colab": {
          "base_uri": "https://localhost:8080/"
        },
        "id": "iWCvAtpWD2ZK",
        "outputId": "90289348-b085-4da9-c144-f5547145764a"
      },
      "execution_count": 11,
      "outputs": [
        {
          "output_type": "stream",
          "name": "stdout",
          "text": [
            "(165, 256, 256, 3)\n",
            "(165,)\n"
          ]
        }
      ]
    },
    {
      "cell_type": "code",
      "source": [
        "from sklearn.model_selection import train_test_split\n",
        "X_train, X_test, y_train, y_test = train_test_split(image_array, image_label, test_size = 0.2)"
      ],
      "metadata": {
        "id": "4CvDVMpwEu5B"
      },
      "execution_count": 12,
      "outputs": []
    },
    {
      "cell_type": "code",
      "source": [
        "c = len(set(y_train))\n",
        "print('The number of distinct classes in training data is', c)\n",
        "\n",
        "d = len(set(y_test))\n",
        "print('The number of distinct classes in test data is', d)"
      ],
      "metadata": {
        "colab": {
          "base_uri": "https://localhost:8080/"
        },
        "id": "XrZoQ2lbFQ7H",
        "outputId": "eaa52c5d-303e-48d2-f26b-d51272d83f87"
      },
      "execution_count": 13,
      "outputs": [
        {
          "output_type": "stream",
          "name": "stdout",
          "text": [
            "The number of distinct classes in training data is 3\n",
            "The number of distinct classes in test data is 3\n"
          ]
        }
      ]
    },
    {
      "cell_type": "code",
      "source": [
        "from tensorflow.keras.layers import Input, Conv2D, BatchNormalization, Flatten, GlobalMaxPooling2D, Dropout, Dense\n",
        "from tensorflow.keras.models import Model"
      ],
      "metadata": {
        "id": "styILG5ZGBq_"
      },
      "execution_count": 14,
      "outputs": []
    },
    {
      "cell_type": "code",
      "source": [
        "X_train[0].shape\n",
        "\n",
        "i = Input(shape = X_train[0].shape)\n",
        "\n",
        "x = Conv2D(32, (3,3), strides = 2, activation = 'relu', padding = 'same')(i)\n",
        "x = BatchNormalization()(x)\n",
        "\n",
        "x = Conv2D(64, (3,3), strides = 2, activation = 'relu', padding = 'same')(x)\n",
        "x = BatchNormalization()(x)\n",
        "\n",
        "x = Conv2D(128, (3,3), strides = 2, activation = 'relu', padding = 'same')(x)\n",
        "x = BatchNormalization()(x)\n",
        "\n",
        "x = Conv2D(256, (3,3), strides = 2, activation = 'relu', padding = 'same')(x)\n",
        "x = BatchNormalization()(x)\n",
        "\n",
        "# x = Flatten()(x)\n",
        "x = GlobalMaxPooling2D()(x)\n",
        "\n",
        "x = Dropout(0.2)(x)\n",
        "x = Dense(256, activation = 'relu')(x)\n",
        "\n",
        "x = Dropout(0.2)(x)\n",
        "x = Dense(128, activation = 'relu')(x)\n",
        "\n",
        "# x = Dropout(0.2)(x)\n",
        "# x = Dense(64, activation = 'relu')(x)\n",
        "\n",
        "x = Dropout(0.2)(x)\n",
        "x = Dense(c, activation = 'softmax' )(x)\n",
        "\n",
        "m = Model(i, x)"
      ],
      "metadata": {
        "id": "rUyFh1LPHeTm"
      },
      "execution_count": 15,
      "outputs": []
    },
    {
      "cell_type": "code",
      "source": [
        "# opt = tf.keras.optimizers.Adam(0.0001)\n",
        "# m.compile(optimizer = opt, loss = 'sparse_categorical_crossentropy', metrics = ['accuracy'])\n",
        "# r = m.fit(X_train, y_train, validation_data = (X_test, y_test), epochs = 20)\n",
        "\n",
        "m.compile(optimizer = 'adam', loss = 'sparse_categorical_crossentropy', metrics = ['accuracy'])\n",
        "r = m.fit(X_train, y_train, validation_data = (X_test, y_test), epochs = 20)"
      ],
      "metadata": {
        "colab": {
          "base_uri": "https://localhost:8080/"
        },
        "id": "rGrk8b9aH9BD",
        "outputId": "cde74085-3847-4188-9db3-0e6c3436383a"
      },
      "execution_count": 16,
      "outputs": [
        {
          "output_type": "stream",
          "name": "stdout",
          "text": [
            "Epoch 1/20\n",
            "5/5 [==============================] - 14s 197ms/step - loss: 5.2822 - accuracy: 0.3106 - val_loss: 1.0926 - val_accuracy: 0.3939\n",
            "Epoch 2/20\n",
            "5/5 [==============================] - 0s 40ms/step - loss: 1.7571 - accuracy: 0.4924 - val_loss: 1.0934 - val_accuracy: 0.3939\n",
            "Epoch 3/20\n",
            "5/5 [==============================] - 0s 40ms/step - loss: 1.6732 - accuracy: 0.4924 - val_loss: 1.0961 - val_accuracy: 0.3939\n",
            "Epoch 4/20\n",
            "5/5 [==============================] - 0s 39ms/step - loss: 1.2220 - accuracy: 0.4848 - val_loss: 1.1001 - val_accuracy: 0.3030\n",
            "Epoch 5/20\n",
            "5/5 [==============================] - 0s 39ms/step - loss: 1.0515 - accuracy: 0.5833 - val_loss: 1.1028 - val_accuracy: 0.3030\n",
            "Epoch 6/20\n",
            "5/5 [==============================] - 0s 41ms/step - loss: 0.9540 - accuracy: 0.6667 - val_loss: 1.1059 - val_accuracy: 0.3030\n",
            "Epoch 7/20\n",
            "5/5 [==============================] - 0s 41ms/step - loss: 0.6951 - accuracy: 0.7121 - val_loss: 1.1185 - val_accuracy: 0.3030\n",
            "Epoch 8/20\n",
            "5/5 [==============================] - 0s 40ms/step - loss: 0.6847 - accuracy: 0.7273 - val_loss: 1.1362 - val_accuracy: 0.3030\n",
            "Epoch 9/20\n",
            "5/5 [==============================] - 0s 39ms/step - loss: 0.6488 - accuracy: 0.7500 - val_loss: 1.1489 - val_accuracy: 0.3030\n",
            "Epoch 10/20\n",
            "5/5 [==============================] - 0s 39ms/step - loss: 0.4681 - accuracy: 0.7955 - val_loss: 1.1715 - val_accuracy: 0.3030\n",
            "Epoch 11/20\n",
            "5/5 [==============================] - 0s 40ms/step - loss: 0.4428 - accuracy: 0.8636 - val_loss: 1.1880 - val_accuracy: 0.3030\n",
            "Epoch 12/20\n",
            "5/5 [==============================] - 0s 41ms/step - loss: 0.3410 - accuracy: 0.8333 - val_loss: 1.2077 - val_accuracy: 0.3030\n",
            "Epoch 13/20\n",
            "5/5 [==============================] - 0s 41ms/step - loss: 0.2398 - accuracy: 0.9242 - val_loss: 1.2330 - val_accuracy: 0.3030\n",
            "Epoch 14/20\n",
            "5/5 [==============================] - 0s 39ms/step - loss: 0.2220 - accuracy: 0.9091 - val_loss: 1.2443 - val_accuracy: 0.3030\n",
            "Epoch 15/20\n",
            "5/5 [==============================] - 0s 41ms/step - loss: 0.2470 - accuracy: 0.9015 - val_loss: 1.2601 - val_accuracy: 0.3030\n",
            "Epoch 16/20\n",
            "5/5 [==============================] - 0s 42ms/step - loss: 0.1120 - accuracy: 0.9545 - val_loss: 1.2840 - val_accuracy: 0.3030\n",
            "Epoch 17/20\n",
            "5/5 [==============================] - 0s 40ms/step - loss: 0.1746 - accuracy: 0.9318 - val_loss: 1.3048 - val_accuracy: 0.3030\n",
            "Epoch 18/20\n",
            "5/5 [==============================] - 0s 41ms/step - loss: 0.2041 - accuracy: 0.9091 - val_loss: 1.3246 - val_accuracy: 0.3030\n",
            "Epoch 19/20\n",
            "5/5 [==============================] - 0s 39ms/step - loss: 0.0431 - accuracy: 1.0000 - val_loss: 1.3493 - val_accuracy: 0.3030\n",
            "Epoch 20/20\n",
            "5/5 [==============================] - 0s 39ms/step - loss: 0.0879 - accuracy: 0.9621 - val_loss: 1.3713 - val_accuracy: 0.3030\n"
          ]
        }
      ]
    },
    {
      "cell_type": "code",
      "source": [
        "batch_size = 21\n",
        "# data_generator = tf.keras.preprocessing.image.ImageDataGenerator(width_shift_range = 0.1, height_shift_range = 0.1, horizontal_flip = True)\n",
        "# data_generator = tf.keras.preprocessing.image.ImageDataGenerator(width_shift_range = 0.1, height_shift_range = 0.1)\n",
        "data_generator = tf.keras.preprocessing.image.ImageDataGenerator(\n",
        "    # featurewise_center=True,\n",
        "    # featurewise_std_normalization=True,\n",
        "    # rotation_range=20,\n",
        "    width_shift_range=0.2,\n",
        "    height_shift_range=0.2,\n",
        "    # horizontal_flip=True,\n",
        "    # rescale=1./255,\n",
        "    # shear_range=0.2,\n",
        "    zoom_range=0.2)\n",
        "train_generator = data_generator.flow(X_train, y_train, batch_size)\n",
        "steps_per_epoch = X_train.shape[0] // batch_size\n",
        "r = m.fit_generator(train_generator, validation_data = (X_test, y_test), steps_per_epoch = steps_per_epoch, epochs = 50)"
      ],
      "metadata": {
        "colab": {
          "base_uri": "https://localhost:8080/"
        },
        "id": "Dr2nTG4eZ5WI",
        "outputId": "5b894c66-58c2-4848-a22a-e8459faf484c"
      },
      "execution_count": 17,
      "outputs": [
        {
          "output_type": "stream",
          "name": "stderr",
          "text": [
            "/usr/local/lib/python3.7/dist-packages/ipykernel_launcher.py:16: UserWarning: `Model.fit_generator` is deprecated and will be removed in a future version. Please use `Model.fit`, which supports generators.\n",
            "  app.launch_new_instance()\n"
          ]
        },
        {
          "output_type": "stream",
          "name": "stdout",
          "text": [
            "Epoch 1/50\n",
            "6/6 [==============================] - 2s 218ms/step - loss: 1.9325 - accuracy: 0.5476 - val_loss: 1.3633 - val_accuracy: 0.3030\n",
            "Epoch 2/50\n",
            "6/6 [==============================] - 1s 222ms/step - loss: 1.2789 - accuracy: 0.5045 - val_loss: 1.3652 - val_accuracy: 0.3030\n",
            "Epoch 3/50\n",
            "6/6 [==============================] - 1s 218ms/step - loss: 1.2356 - accuracy: 0.5135 - val_loss: 1.4608 - val_accuracy: 0.3030\n",
            "Epoch 4/50\n",
            "6/6 [==============================] - 1s 222ms/step - loss: 1.1134 - accuracy: 0.5135 - val_loss: 1.5512 - val_accuracy: 0.3030\n",
            "Epoch 5/50\n",
            "6/6 [==============================] - 1s 217ms/step - loss: 1.2075 - accuracy: 0.4775 - val_loss: 1.5668 - val_accuracy: 0.3030\n",
            "Epoch 6/50\n",
            "6/6 [==============================] - 1s 220ms/step - loss: 1.1499 - accuracy: 0.4324 - val_loss: 1.5856 - val_accuracy: 0.3030\n",
            "Epoch 7/50\n",
            "6/6 [==============================] - 1s 220ms/step - loss: 1.1443 - accuracy: 0.5315 - val_loss: 1.6637 - val_accuracy: 0.3030\n",
            "Epoch 8/50\n",
            "6/6 [==============================] - 2s 256ms/step - loss: 0.9708 - accuracy: 0.5714 - val_loss: 1.6838 - val_accuracy: 0.3030\n",
            "Epoch 9/50\n",
            "6/6 [==============================] - 2s 251ms/step - loss: 1.0187 - accuracy: 0.5635 - val_loss: 1.6906 - val_accuracy: 0.3030\n",
            "Epoch 10/50\n",
            "6/6 [==============================] - 1s 222ms/step - loss: 0.9276 - accuracy: 0.5766 - val_loss: 1.6171 - val_accuracy: 0.3030\n",
            "Epoch 11/50\n",
            "6/6 [==============================] - 1s 222ms/step - loss: 0.9159 - accuracy: 0.5676 - val_loss: 1.6147 - val_accuracy: 0.3030\n",
            "Epoch 12/50\n",
            "6/6 [==============================] - 1s 219ms/step - loss: 0.8147 - accuracy: 0.6036 - val_loss: 1.5915 - val_accuracy: 0.3030\n",
            "Epoch 13/50\n",
            "6/6 [==============================] - 1s 213ms/step - loss: 0.9994 - accuracy: 0.5495 - val_loss: 1.5263 - val_accuracy: 0.3030\n",
            "Epoch 14/50\n",
            "6/6 [==============================] - 1s 261ms/step - loss: 0.9341 - accuracy: 0.5676 - val_loss: 1.4154 - val_accuracy: 0.3030\n",
            "Epoch 15/50\n",
            "6/6 [==============================] - 1s 223ms/step - loss: 0.8930 - accuracy: 0.6396 - val_loss: 1.2621 - val_accuracy: 0.3030\n",
            "Epoch 16/50\n",
            "6/6 [==============================] - 1s 220ms/step - loss: 0.8859 - accuracy: 0.6396 - val_loss: 1.1840 - val_accuracy: 0.3030\n",
            "Epoch 17/50\n",
            "6/6 [==============================] - 1s 220ms/step - loss: 0.8475 - accuracy: 0.5676 - val_loss: 1.0774 - val_accuracy: 0.3636\n",
            "Epoch 18/50\n",
            "6/6 [==============================] - 1s 222ms/step - loss: 0.9036 - accuracy: 0.5946 - val_loss: 0.9777 - val_accuracy: 0.4242\n",
            "Epoch 19/50\n",
            "6/6 [==============================] - 1s 221ms/step - loss: 0.9220 - accuracy: 0.5225 - val_loss: 0.9777 - val_accuracy: 0.4242\n",
            "Epoch 20/50\n",
            "6/6 [==============================] - 1s 225ms/step - loss: 0.8828 - accuracy: 0.6036 - val_loss: 0.9627 - val_accuracy: 0.4848\n",
            "Epoch 21/50\n",
            "6/6 [==============================] - 1s 221ms/step - loss: 1.0590 - accuracy: 0.5495 - val_loss: 0.9420 - val_accuracy: 0.4848\n",
            "Epoch 22/50\n",
            "6/6 [==============================] - 1s 266ms/step - loss: 0.8021 - accuracy: 0.6396 - val_loss: 1.0018 - val_accuracy: 0.4545\n",
            "Epoch 23/50\n",
            "6/6 [==============================] - 1s 224ms/step - loss: 0.8430 - accuracy: 0.6486 - val_loss: 0.9511 - val_accuracy: 0.5152\n",
            "Epoch 24/50\n",
            "6/6 [==============================] - 1s 262ms/step - loss: 0.8535 - accuracy: 0.5676 - val_loss: 0.9069 - val_accuracy: 0.5758\n",
            "Epoch 25/50\n",
            "6/6 [==============================] - 2s 263ms/step - loss: 0.8283 - accuracy: 0.5952 - val_loss: 0.9361 - val_accuracy: 0.5758\n",
            "Epoch 26/50\n",
            "6/6 [==============================] - 1s 225ms/step - loss: 0.8198 - accuracy: 0.6216 - val_loss: 0.9119 - val_accuracy: 0.6061\n",
            "Epoch 27/50\n",
            "6/6 [==============================] - 1s 224ms/step - loss: 0.7178 - accuracy: 0.6396 - val_loss: 0.8942 - val_accuracy: 0.6061\n",
            "Epoch 28/50\n",
            "6/6 [==============================] - 2s 259ms/step - loss: 0.8087 - accuracy: 0.6746 - val_loss: 0.9159 - val_accuracy: 0.6061\n",
            "Epoch 29/50\n",
            "6/6 [==============================] - 1s 217ms/step - loss: 0.8017 - accuracy: 0.6486 - val_loss: 1.0381 - val_accuracy: 0.4848\n",
            "Epoch 30/50\n",
            "6/6 [==============================] - 1s 221ms/step - loss: 0.8873 - accuracy: 0.5405 - val_loss: 0.8499 - val_accuracy: 0.6061\n",
            "Epoch 31/50\n",
            "6/6 [==============================] - 1s 231ms/step - loss: 0.7249 - accuracy: 0.7297 - val_loss: 0.7749 - val_accuracy: 0.7576\n",
            "Epoch 32/50\n",
            "6/6 [==============================] - 1s 220ms/step - loss: 0.7961 - accuracy: 0.6126 - val_loss: 0.7929 - val_accuracy: 0.6970\n",
            "Epoch 33/50\n",
            "6/6 [==============================] - 1s 221ms/step - loss: 0.6490 - accuracy: 0.7207 - val_loss: 0.7630 - val_accuracy: 0.7879\n",
            "Epoch 34/50\n",
            "6/6 [==============================] - 1s 223ms/step - loss: 0.7629 - accuracy: 0.6847 - val_loss: 0.7271 - val_accuracy: 0.7273\n",
            "Epoch 35/50\n",
            "6/6 [==============================] - 1s 220ms/step - loss: 0.8534 - accuracy: 0.6577 - val_loss: 0.7341 - val_accuracy: 0.7879\n",
            "Epoch 36/50\n",
            "6/6 [==============================] - 1s 219ms/step - loss: 0.7984 - accuracy: 0.6396 - val_loss: 0.7769 - val_accuracy: 0.7879\n",
            "Epoch 37/50\n",
            "6/6 [==============================] - 1s 216ms/step - loss: 0.7556 - accuracy: 0.7117 - val_loss: 0.7563 - val_accuracy: 0.8788\n",
            "Epoch 38/50\n",
            "6/6 [==============================] - 1s 220ms/step - loss: 0.8605 - accuracy: 0.6216 - val_loss: 0.8298 - val_accuracy: 0.8788\n",
            "Epoch 39/50\n",
            "6/6 [==============================] - 1s 221ms/step - loss: 0.7362 - accuracy: 0.6757 - val_loss: 0.8131 - val_accuracy: 0.8182\n",
            "Epoch 40/50\n",
            "6/6 [==============================] - 1s 222ms/step - loss: 0.8249 - accuracy: 0.6937 - val_loss: 0.7733 - val_accuracy: 0.7576\n",
            "Epoch 41/50\n",
            "6/6 [==============================] - 1s 224ms/step - loss: 0.6954 - accuracy: 0.7117 - val_loss: 0.7760 - val_accuracy: 0.7273\n",
            "Epoch 42/50\n",
            "6/6 [==============================] - 1s 220ms/step - loss: 0.7005 - accuracy: 0.6757 - val_loss: 0.7935 - val_accuracy: 0.7273\n",
            "Epoch 43/50\n",
            "6/6 [==============================] - 2s 257ms/step - loss: 0.6709 - accuracy: 0.7222 - val_loss: 0.7821 - val_accuracy: 0.6364\n",
            "Epoch 44/50\n",
            "6/6 [==============================] - 1s 225ms/step - loss: 0.7760 - accuracy: 0.6667 - val_loss: 0.7369 - val_accuracy: 0.6970\n",
            "Epoch 45/50\n",
            "6/6 [==============================] - 1s 232ms/step - loss: 0.7198 - accuracy: 0.7387 - val_loss: 0.6455 - val_accuracy: 0.8485\n",
            "Epoch 46/50\n",
            "6/6 [==============================] - 1s 230ms/step - loss: 0.7458 - accuracy: 0.7027 - val_loss: 0.6138 - val_accuracy: 0.9394\n",
            "Epoch 47/50\n",
            "6/6 [==============================] - 1s 221ms/step - loss: 0.8229 - accuracy: 0.6306 - val_loss: 0.5731 - val_accuracy: 0.9394\n",
            "Epoch 48/50\n",
            "6/6 [==============================] - 1s 260ms/step - loss: 0.8904 - accuracy: 0.6396 - val_loss: 0.5696 - val_accuracy: 0.9091\n",
            "Epoch 49/50\n",
            "6/6 [==============================] - 1s 222ms/step - loss: 0.7318 - accuracy: 0.6847 - val_loss: 0.6251 - val_accuracy: 0.8485\n",
            "Epoch 50/50\n",
            "6/6 [==============================] - 1s 260ms/step - loss: 0.7270 - accuracy: 0.6937 - val_loss: 0.6618 - val_accuracy: 0.7879\n"
          ]
        }
      ]
    },
    {
      "cell_type": "code",
      "source": [
        "plt.plot(r.history['loss'], label = 'loss')\n",
        "plt.plot(r.history['val_loss'], label = 'val_loss')\n",
        "plt.legend()"
      ],
      "metadata": {
        "colab": {
          "base_uri": "https://localhost:8080/",
          "height": 286
        },
        "id": "e7TvcD3bKtRD",
        "outputId": "e4a193c9-42cc-4675-9b99-56962838563c"
      },
      "execution_count": 18,
      "outputs": [
        {
          "output_type": "execute_result",
          "data": {
            "text/plain": [
              "<matplotlib.legend.Legend at 0x7fe0564cedd0>"
            ]
          },
          "metadata": {},
          "execution_count": 18
        },
        {
          "output_type": "display_data",
          "data": {
            "text/plain": [
              "<Figure size 432x288 with 1 Axes>"
            ],
            "image/png": "[encoded data removed]"
          },
          "metadata": {
            "needs_background": "light"
          }
        }
      ]
    },
    {
      "cell_type": "code",
      "source": [
        "plt.plot(r.history['accuracy'], label = 'accuracy')\n",
        "plt.plot(r.history['val_accuracy'], label = 'val_accuracy')\n",
        "plt.legend()"
      ],
      "metadata": {
        "colab": {
          "base_uri": "https://localhost:8080/",
          "height": 282
        },
        "id": "nek4PFNtS0un",
        "outputId": "c292ef89-73d8-4350-dd97-adf21bb8ca4a"
      },
      "execution_count": 19,
      "outputs": [
        {
          "output_type": "execute_result",
          "data": {
            "text/plain": [
              "<matplotlib.legend.Legend at 0x7fe0562770d0>"
            ]
          },
          "metadata": {},
          "execution_count": 19
        },
        {
          "output_type": "display_data",
          "data": {
            "text/plain": [
              "<Figure size 432x288 with 1 Axes>"
            ],
            "image/png": "[encoded data removed]"
          },
          "metadata": {
            "needs_background": "light"
          }
        }
      ]
    },
    {
      "cell_type": "code",
      "source": [
        "y_test_pred = m.predict(X_test)"
      ],
      "metadata": {
        "id": "S_tcUNnVTDKL"
      },
      "execution_count": 20,
      "outputs": []
    },
    {
      "cell_type": "code",
      "source": [
        "y_test_pred"
      ],
      "metadata": {
        "colab": {
          "base_uri": "https://localhost:8080/"
        },
        "id": "qemIMJpSt5ZL",
        "outputId": "833b74d0-8d1f-4730-e088-67454950b0a6"
      },
      "execution_count": 21,
      "outputs": [
        {
          "output_type": "execute_result",
          "data": {
            "text/plain": [
              "array([[0.10333513, 0.3199714 , 0.5766935 ],\n",
              "       [0.23095784, 0.45683205, 0.3122101 ],\n",
              "       [0.23989499, 0.5348526 , 0.22525236],\n",
              "       [0.156027  , 0.58721614, 0.2567568 ],\n",
              "       [0.04641104, 0.10666706, 0.84692186],\n",
              "       [0.6336398 , 0.16894579, 0.19741435],\n",
              "       [0.17065269, 0.5421628 , 0.28718457],\n",
              "       [0.4576133 , 0.20782904, 0.33455768],\n",
              "       [0.09982955, 0.307277  , 0.5928935 ],\n",
              "       [0.17601222, 0.5554498 , 0.26853797],\n",
              "       [0.27074212, 0.35784957, 0.37140828],\n",
              "       [0.17567186, 0.5908312 , 0.23349695],\n",
              "       [0.04490983, 0.13389157, 0.82119864],\n",
              "       [0.14109336, 0.35966846, 0.49923822],\n",
              "       [0.04723722, 0.20618345, 0.7465793 ],\n",
              "       [0.24211687, 0.49547553, 0.26240757],\n",
              "       [0.292448  , 0.44598398, 0.261568  ],\n",
              "       [0.19740652, 0.35327363, 0.44931987],\n",
              "       [0.08899375, 0.24619424, 0.664812  ],\n",
              "       [0.2512646 , 0.43331692, 0.31541845],\n",
              "       [0.28155407, 0.49419975, 0.2242462 ],\n",
              "       [0.12013587, 0.21692386, 0.66294026],\n",
              "       [0.32521936, 0.39936063, 0.27542   ],\n",
              "       [0.32193518, 0.40352052, 0.2745443 ],\n",
              "       [0.15470801, 0.5769799 , 0.26831216],\n",
              "       [0.6549308 , 0.24113257, 0.10393662],\n",
              "       [0.3940341 , 0.37713528, 0.22883071],\n",
              "       [0.12743309, 0.31583816, 0.5567288 ],\n",
              "       [0.30075267, 0.42228606, 0.27696124],\n",
              "       [0.71707225, 0.17386311, 0.10906465],\n",
              "       [0.347992  , 0.3736071 , 0.27840087],\n",
              "       [0.06675997, 0.20929061, 0.72394943],\n",
              "       [0.15879092, 0.61230004, 0.22890902]], dtype=float32)"
            ]
          },
          "metadata": {},
          "execution_count": 21
        }
      ]
    },
    {
      "cell_type": "code",
      "source": [
        "y_test_pred_decoded = []\n",
        "\n",
        "for i in range(0, len(y_test_pred)):\n",
        "  y_test_pred_decoded.append(y_test_pred[i].argmax())\n",
        "\n",
        "y_test_pred_decoded"
      ],
      "metadata": {
        "colab": {
          "base_uri": "https://localhost:8080/"
        },
        "id": "zB1VKvtGt-IE",
        "outputId": "8d557ade-6c5a-4045-e5a5-97dd97d4f154"
      },
      "execution_count": 22,
      "outputs": [
        {
          "output_type": "execute_result",
          "data": {
            "text/plain": [
              "[2,\n",
              " 1,\n",
              " 1,\n",
              " 1,\n",
              " 2,\n",
              " 0,\n",
              " 1,\n",
              " 0,\n",
              " 2,\n",
              " 1,\n",
              " 2,\n",
              " 1,\n",
              " 2,\n",
              " 2,\n",
              " 2,\n",
              " 1,\n",
              " 1,\n",
              " 2,\n",
              " 2,\n",
              " 1,\n",
              " 1,\n",
              " 2,\n",
              " 1,\n",
              " 1,\n",
              " 1,\n",
              " 0,\n",
              " 0,\n",
              " 2,\n",
              " 1,\n",
              " 0,\n",
              " 1,\n",
              " 2,\n",
              " 1]"
            ]
          },
          "metadata": {},
          "execution_count": 22
        }
      ]
    },
    {
      "cell_type": "code",
      "source": [
        "y_test"
      ],
      "metadata": {
        "colab": {
          "base_uri": "https://localhost:8080/"
        },
        "id": "R8HLdTxKyEjx",
        "outputId": "357fc025-86d7-450c-ea8c-de46c536282d"
      },
      "execution_count": 23,
      "outputs": [
        {
          "output_type": "execute_result",
          "data": {
            "text/plain": [
              "array([2, 1, 1, 1, 2, 0, 1, 0, 2, 1, 1, 1, 2, 2, 2, 1, 0, 1, 2, 1, 1, 2,\n",
              "       0, 0, 1, 0, 0, 2, 0, 0, 0, 2, 1])"
            ]
          },
          "metadata": {},
          "execution_count": 23
        }
      ]
    },
    {
      "cell_type": "code",
      "source": [
        "import sklearn.metrics as metrics\n",
        "accuracy = metrics.accuracy_score(y_test, y_test_pred_decoded)\n",
        "error = 1 - accuracy\n",
        "precision = metrics.precision_score(y_test, y_test_pred_decoded, average = 'weighted')\n",
        "recall = metrics.recall_score(y_test, y_test_pred_decoded, average = 'weighted')\n",
        "f1 = metrics.f1_score(y_test, y_test_pred_decoded, average = 'weighted')\n",
        "cm = metrics.confusion_matrix(y_test, y_test_pred_decoded)\n",
        "\n",
        "print('accuracy:', accuracy)\n",
        "print('error:', error)\n",
        "print('precision:', precision)\n",
        "print('recall:', recall)\n",
        "print('f1:',f1)\n",
        "print('\\n')\n",
        "print(cm)\n",
        "\n",
        "from sklearn.metrics import classification_report\n",
        "print('\\n')\n",
        "print(classification_report(y_test, y_test_pred_decoded))"
      ],
      "metadata": {
        "colab": {
          "base_uri": "https://localhost:8080/"
        },
        "id": "QOgfs8Pfx7lC",
        "outputId": "81d1870b-a639-464f-8465-f99b305fc21a"
      },
      "execution_count": 24,
      "outputs": [
        {
          "output_type": "stream",
          "name": "stdout",
          "text": [
            "accuracy: 0.7878787878787878\n",
            "error: 0.21212121212121215\n",
            "precision: 0.826388888888889\n",
            "recall: 0.7878787878787878\n",
            "f1: 0.7763528703967575\n",
            "\n",
            "\n",
            "[[ 5  5  0]\n",
            " [ 0 11  2]\n",
            " [ 0  0 10]]\n",
            "\n",
            "\n",
            "              precision    recall  f1-score   support\n",
            "\n",
            "           0       1.00      0.50      0.67        10\n",
            "           1       0.69      0.85      0.76        13\n",
            "           2       0.83      1.00      0.91        10\n",
            "\n",
            "    accuracy                           0.79        33\n",
            "   macro avg       0.84      0.78      0.78        33\n",
            "weighted avg       0.83      0.79      0.78        33\n",
            "\n"
          ]
        }
      ]
    },
    {
      "cell_type": "code",
      "source": [
        "# predict for 1 document\n",
        "\n",
        "val_image = load_img('/content/drive/MyDrive/DocumentClassification/resume/doc_000809.png', target_size = (256,256))\n",
        "val_image_arr = img_to_array(val_image)\n",
        "val_image_arr = val_image_arr/255\n",
        "val_image_arr = np.expand_dims(val_image_arr, axis = 0)\n",
        "print(val_image_arr.shape)\n",
        "\n",
        "document_prediction_details = m.predict(val_image_arr)\n",
        "document_prediction = document_prediction_details.argmax()\n",
        "print('The document is a', reverse_translate[document_prediction])"
      ],
      "metadata": {
        "colab": {
          "base_uri": "https://localhost:8080/"
        },
        "id": "JVDzuqgeuOF9",
        "outputId": "1e2ddfb5-bcbc-4163-b271-2340d5d75f3d"
      },
      "execution_count": 25,
      "outputs": [
        {
          "output_type": "stream",
          "name": "stdout",
          "text": [
            "(1, 256, 256, 3)\n",
            "The document is a resume\n"
          ]
        }
      ]
    },
    {
      "cell_type": "code",
      "source": [],
      "metadata": {
        "id": "9-qkEvozvZbZ"
      },
      "execution_count": 25,
      "outputs": []
    }
  ]
}