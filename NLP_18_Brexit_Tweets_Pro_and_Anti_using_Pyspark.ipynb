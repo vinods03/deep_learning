{
  "nbformat": 4,
  "nbformat_minor": 0,
  "metadata": {
    "colab": {
      "name": "NLP - 18 Brexit Tweets - Pro and Anti - using Pyspark.ipynb",
      "provenance": [],
      "collapsed_sections": [],
      "machine_shape": "hm",
      "authorship_tag": "ABX9TyNsO/y82OXnNhoSATCGIzZc",
      "include_colab_link": true
    },
    "kernelspec": {
      "name": "python3",
      "display_name": "Python 3"
    },
    "language_info": {
      "name": "python"
    },
    "accelerator": "GPU",
    "gpuClass": "standard"
  },
  "cells": [
    {
      "cell_type": "markdown",
      "metadata": {
        "id": "view-in-github",
        "colab_type": "text"
      },
      "source": [
        "<a href=\"https://colab.research.google.com/github/vinods03/deep_learning/blob/main/NLP_18_Brexit_Tweets_Pro_and_Anti_using_Pyspark.ipynb\" target=\"_parent\"><img src=\"https://colab.research.google.com/assets/colab-badge.svg\" alt=\"Open In Colab\"/></a>"
      ]
    },
    {
      "cell_type": "code",
      "execution_count": null,
      "metadata": {
        "colab": {
          "base_uri": "https://localhost:8080/"
        },
        "id": "nKDT6JqzZX8c",
        "outputId": "7f848f8a-4d07-4d2c-8f36-d118e5a83ef5"
      },
      "outputs": [
        {
          "output_type": "stream",
          "name": "stdout",
          "text": [
            "Looking in indexes: https://pypi.org/simple, https://us-python.pkg.dev/colab-wheels/public/simple/\n",
            "Collecting pyspark\n",
            "  Downloading pyspark-3.3.0.tar.gz (281.3 MB)\n",
            "\u001b[K     |████████████████████████████████| 281.3 MB 36 kB/s \n",
            "\u001b[?25hCollecting py4j==0.10.9.5\n",
            "  Downloading py4j-0.10.9.5-py2.py3-none-any.whl (199 kB)\n",
            "\u001b[K     |████████████████████████████████| 199 kB 49.5 MB/s \n",
            "\u001b[?25hBuilding wheels for collected packages: pyspark\n",
            "  Building wheel for pyspark (setup.py) ... \u001b[?25l\u001b[?25hdone\n",
            "  Created wheel for pyspark: filename=pyspark-3.3.0-py2.py3-none-any.whl size=281764026 sha256=a9f893b7916db38e8d2db41a4e84c9efbaec8888a0695411a576e4448f9b1229\n",
            "  Stored in directory: /root/.cache/pip/wheels/7a/8e/1b/f73a52650d2e5f337708d9f6a1750d451a7349a867f928b885\n",
            "Successfully built pyspark\n",
            "Installing collected packages: py4j, pyspark\n",
            "Successfully installed py4j-0.10.9.5 pyspark-3.3.0\n"
          ]
        }
      ],
      "source": [
        "pip install pyspark"
      ]
    },
    {
      "cell_type": "code",
      "source": [
        "from pyspark.sql import SparkSession"
      ],
      "metadata": {
        "id": "dFNcyg_NZj7W"
      },
      "execution_count": null,
      "outputs": []
    },
    {
      "cell_type": "code",
      "source": [
        "spark = SparkSession.builder.appName('Brexit Tweets').getOrCreate()"
      ],
      "metadata": {
        "id": "Ju-94VLcaqNF"
      },
      "execution_count": null,
      "outputs": []
    },
    {
      "cell_type": "code",
      "source": [
        "from google.colab import drive\n",
        "drive.mount('/content/drive')"
      ],
      "metadata": {
        "colab": {
          "base_uri": "https://localhost:8080/"
        },
        "id": "v_XEXUrkaypW",
        "outputId": "d110e0b5-2768-43a7-848b-3912c97b4d37"
      },
      "execution_count": null,
      "outputs": [
        {
          "output_type": "stream",
          "name": "stdout",
          "text": [
            "Mounted at /content/drive\n"
          ]
        }
      ]
    },
    {
      "cell_type": "code",
      "source": [
        "df1 = spark.read.csv('/content/drive/MyDrive/Brexit/TweetDataset_ProBrexit_Jan-Mar2022.csv', header = True)"
      ],
      "metadata": {
        "id": "XIo_DWVEa52u"
      },
      "execution_count": null,
      "outputs": []
    },
    {
      "cell_type": "code",
      "source": [
        "df1.show()"
      ],
      "metadata": {
        "colab": {
          "base_uri": "https://localhost:8080/"
        },
        "id": "aHWLm5FQb_Mx",
        "outputId": "67bb6ec2-ef7c-4d32-f60d-9803d825e3ad"
      },
      "execution_count": null,
      "outputs": [
        {
          "output_type": "stream",
          "name": "stdout",
          "text": [
            "+---+-------------------+--------+--------------------+------------+--------------------+-------+----------------+--------------+---------+--------+-----+-------------+------------+-------------------+--------------------+------------------+-------------------+----------+------+---------+--------------------+-------------------+--------------------+-----------------+--------------------+-------------------+-------------------+--------------------+--------------------+--------------------+-----------------+-----------------+---------------------+--------+----------------+---------+-------------+\n",
            "|_c0|               Date|Headline|                 URL|Opening Text|        Hit Sentence| Source|      Influencer|       Country|Subregion|Language|Reach|Desktop Reach|Mobile Reach|Twitter Social Echo|Facebook Social Echo|Reddit Social Echo|National Viewership|Engagement|   AVE|Sentiment|         Key Phrases|         Input Name|            Keywords|Twitter Authority|            Tweet Id|         Twitter Id|     Twitter Client| Twitter Screen Name|    User Profile Url|         Twitter Bio|Twitter Followers|Twitter Following|Alternate Date Format|    Time|           State|     City|Document Tags|\n",
            "+---+-------------------+--------+--------------------+------------+--------------------+-------+----------------+--------------+---------+--------+-----+-------------+------------+-------------------+--------------------+------------------+-------------------+----------+------+---------+--------------------+-------------------+--------------------+-----------------+--------------------+-------------------+-------------------+--------------------+--------------------+--------------------+-----------------+-----------------+---------------------+--------+----------------+---------+-------------+\n",
            "|  0|15-Jan-2022 11:58PM|    null|https://twitter.c...|        null|RT @re11ddy: QT @...|Twitter| @dianemcgregor8|      Cameroon|     null| English|  122|            0|           0|               null|                null|              null|                  0|      null|  1.13|  Neutral|                null|Adhoc Search Export|              Brexit|              4.0|'1482502364728893...|         2333154780|Twitter for Android|    Diane M McGregor|https://twitter.c...|Veggie burger! Lo...|            122.0|            185.0|         Jan 15, 2022|11:58 PM|           North|     null|         null|\n",
            "|  1|15-Jan-2022 11:57PM|    null|http://twitter.co...|        null|RT @RickSacrop: M...|Twitter|  @DeniseMembery|United Kingdom|     null| English| 5721|            0|           0|               null|                null|              null|                  0|      null| 52.92| Negative|hell bent,preciou...|Adhoc Search Export|                  EU|              7.0|'1482502266603118...|         3678878175|Twitter for Android|           Denise M.|http://www.twitte...|🇬🇧✡️ Proud to b...|           5721.0|           6291.0|         Jan 15, 2022|11:57 PM|         England|     null|         null|\n",
            "|  2|15-Jan-2022 11:56PM|    null|https://twitter.c...|        null|@StokieDrew2 I do...|Twitter|    @007stirling|United Kingdom|     null| English| 7219|            0|           0|               null|                null|              null|                  0|      null| 66.78| Negative|Johnson leadershi...|Adhoc Search Export|           Brexit,EU|              7.0|'1482501928479301...|1384540273494069249|Twitter for Android|Finlay Stirling ?...|https://twitter.c...|BRITISH/IRISH/ULS...|           7219.0|           7433.0|         Jan 15, 2022|11:56 PM|Northern Ireland|  Belfast|         null|\n",
            "|  3|15-Jan-2022 11:54PM|    null|https://twitter.c...|        null|RT @denistmurray:...|Twitter|@ukleadstheworld|United Kingdom|     null| English|  700|            0|           0|               null|                null|              null|                  0|      null|  6.48| Positive|           best city|Adhoc Search Export|              Brexit|              5.0|'1482501439624732...|1394212805071577089| Twitter for iPhone|       BestofBritish|https://twitter.c...|GB News, Conserva...|            700.0|           1014.0|         Jan 15, 2022|11:54 PM|            null|     null|         null|\n",
            "|  4|15-Jan-2022 11:53PM|    null|https://twitter.c...|        null|@afneil If Johnso...|Twitter|   @paul_beamish|United Kingdom|     null| English|  200|            0|           0|               null|                null|              null|                  0|      null|  1.85|  Neutral|credible Brexitee...|Adhoc Search Export|Brexiteers,Brexiteer|              4.0|'1482501195767898...| 971698786148986880|Twitter for Android|        Paul Beamish|https://twitter.c...|Brexiteer and Shi...|            200.0|            822.0|         Jan 15, 2022|11:53 PM|         England|     null|         null|\n",
            "|  5|15-Jan-2022 11:52PM|    null|https://twitter.c...|        null|RT @phil_woods: @...|Twitter|    @sandieshoes|       Unknown|     null| English|21587|            0|           0|               null|                null|              null|                  0|      null|199.68| Negative|       press,success|Adhoc Search Export|              Brexit|              8.0|'1482501097222778...|         2170986966| Twitter for iPhone|sandieshoes 🇬🇧🇺🇸|https://twitter.c...|Brexiteer🇬🇧Anim...|          21587.0|          20791.0|         Jan 15, 2022|11:52 PM|            null|     null|         null|\n",
            "|  6|15-Jan-2022 11:51PM|    null|http://twitter.co...|        null|RT @albundysdad: ...|Twitter|      @Macetrain|United Kingdom|     null| English|23674|            0|           0|               null|                null|              null|                  0|      null|218.98| Negative|whole sorry media...|Adhoc Search Export|              Brexit|              8.0|'1482500808465948...|          131140715|Twitter for Android|Canibalalien 🇬🇧...|http://www.twitte...|Brexiteer and tot...|          23674.0|          24842.0|         Jan 15, 2022|11:51 PM|         England|  Salford|         null|\n",
            "|  7|15-Jan-2022 11:51PM|    null|http://twitter.co...|        null|RT @malc_hill: @J...|Twitter|      @Macetrain|United Kingdom|     null| English|23674|            0|           0|               null|                null|              null|                  0|      null|218.98| Negative|country property,...|Adhoc Search Export|              Europe|              8.0|'1482500697744629...|          131140715|Twitter for Android|Canibalalien 🇬🇧...|http://www.twitte...|Brexiteer and tot...|          23674.0|          24842.0|         Jan 15, 2022|11:51 PM|         England|  Salford|         null|\n",
            "|  8|15-Jan-2022 11:50PM|    null|https://twitter.c...|        null|RT @inmarshall100...|Twitter|      @ladyjan67|United Kingdom|     null| English| 2052|            0|           0|               null|                null|              null|                  0|      null| 18.98| Negative|                bloc|Adhoc Search Export|           EU,Brexit|              6.0|'1482500586817953...|         1115138641|Twitter for Android|         janice bell|https://twitter.c...|Pro Brexit. I do ...|           2052.0|           2303.0|         Jan 15, 2022|11:50 PM|         England|Cambridge|         null|\n",
            "|  9|15-Jan-2022 11:50PM|    null|https://twitter.c...|        null|RT @JamesRobvince...|Twitter|      @melembe99|United Kingdom|     null| English|  570|            0|           0|               null|                null|              null|                  0|      null|  5.27| Positive|             lefties|Adhoc Search Export|              Brexit|              5.0|'1482500545109803...|1006403544231088128| Twitter for iPhone|            moonbeam|https://twitter.c...|English patriot🏴...|            570.0|            575.0|         Jan 15, 2022|11:50 PM|         England|     null|         null|\n",
            "| 10|15-Jan-2022 11:50PM|    null|https://twitter.c...|        null|@TerryONeilJerry ...|Twitter|     @susiesale6|United Kingdom|     null| English| 3121|            0|           0|               null|                null|              null|                  0|      null| 28.87|  Neutral|               rules|Adhoc Search Export|                  Eu|              6.0|'1482500540844187...| 969956488415531010| Twitter for iPhone|          susie sale|https://twitter.c...|Food Books Music ...|           3121.0|           4103.0|         Jan 15, 2022|11:50 PM|           Wales|    Tenby|         null|\n",
            "| 11|15-Jan-2022 11:50PM|    null|http://twitter.co...|        null|RT @KEdge23: Unde...|Twitter| @GeorgieGreen94|United Kingdom|     null| English| 1591|            0|           0|               null|                null|              null|                  0|      null| 14.72|  Neutral|Fully open econom...|Adhoc Search Export|              Brexit|              6.0|'1482500429242064...|1349161192305131520| Twitter for iPhone|       Georgie Green|http://www.twitte...|Conservative. Bre...|           1591.0|           1762.0|         Jan 15, 2022|11:50 PM|         England|   London|         null|\n",
            "| 12|15-Jan-2022 11:50PM|    null|http://twitter.co...|        null|QT @afneil: Johns...|Twitter| @mcdonnellandco|United Kingdom|     null| English| 1358|            0|           0|               null|                null|              null|                  0|      null| 12.56|  Neutral|Failure to learn,...|Adhoc Search Export|              Brexit|              6.0|'1482500413530198...|          281089096|Twitter for Android|Joseph McDonnell ...|http://www.twitte...|Chartered Account...|           1358.0|            967.0|         Jan 15, 2022|11:50 PM|         England|   London|         null|\n",
            "| 13|15-Jan-2022 11:49PM|    null|http://twitter.co...|        null|@memoFlibble Just...|Twitter|  @westloats1950|United Kingdom|     null| English| 1004|            0|           0|               null|                null|              null|                  0|      null|  9.29| Negative|financial models,...|Adhoc Search Export|              Brexit|              6.0|'1482500258710044...|         2832808677|   Twitter for iPad|    David Lynch 🇬🇧|http://www.twitte...|Happily retired. ...|           1004.0|           1381.0|         Jan 15, 2022|11:49 PM|         England|     null|         null|\n",
            "| 14|15-Jan-2022 11:49PM|    null|http://twitter.co...|        null|@TheGhos72578902 ...|Twitter|@wanderer_bolton|United Kingdom|     null| English|  407|            0|           0|               null|                null|              null|                  0|      null|  3.76|  Neutral|                bear|Adhoc Search Export|          fcukBrexit|              5.0|'1482500163310604...| 904097911209938948|    Twitter Web App|     Bolton Wanderer|http://www.twitte...|Came on for ⚽ Got...|            407.0|            509.0|         Jan 15, 2022|11:49 PM|            null|     null|         null|\n",
            "| 15|15-Jan-2022 11:49PM|    null|http://twitter.co...|        null|RT @gringolito: T...|Twitter|      @ladyjan67|United Kingdom|     null| English| 2052|            0|           0|               null|                null|              null|                  0|      null| 18.98|  Neutral|brexit,media,moti...|Adhoc Search Export|              brexit|              6.0|'1482500151952523...|         1115138641|Twitter for Android|         janice bell|http://www.twitte...|Pro Brexit. I do ...|           2052.0|           2303.0|         Jan 15, 2022|11:49 PM|         England|Cambridge|         null|\n",
            "| 16|15-Jan-2022 11:48PM|    null|http://twitter.co...|        null|@ConraddKonnrad @...|Twitter|@wanderer_bolton|United Kingdom|     null| English|  406|            0|           0|               null|                null|              null|                  0|      null|  3.76|  Neutral|very serious mission|Adhoc Search Export|          fcukBrexit|              5.0|'1482500001125191...| 904097911209938948|    Twitter Web App|     Bolton Wanderer|http://www.twitte...|Came on for ⚽ Got...|            406.0|            509.0|         Jan 15, 2022|11:48 PM|            null|     null|         null|\n",
            "| 17|15-Jan-2022 11:48PM|    null|http://twitter.co...|        null|RT @IanCharlesUK:...|Twitter|@UKleadstheworld|United Kingdom|     null| English|  700|            0|           0|               null|                null|              null|                  0|      null|  6.48| Negative|blatant attempt,c...|Adhoc Search Export|                  EU|              5.0|'1482499907294539...|1394212805071577089| Twitter for iPhone|       BestofBritish|http://www.twitte...|GB News, Conserva...|            700.0|           1014.0|         Jan 15, 2022|11:48 PM|            null|     null|         null|\n",
            "| 18|15-Jan-2022 11:47PM|    null|http://twitter.co...|        null|RT @DomPlums: @Ga...|Twitter|    @Ottosmummy1|       Unknown|     null| English| 1050|            0|           0|               null|                null|              null|                  0|      null|  9.71| Positive|Chinese spy,bias,...|Adhoc Search Export|                  eu|              6.0|'1482499781763215...|1184744700554678272| Twitter for iPhone|          Ottosmummy|http://www.twitte...|Pro Brexit & The ...|           1050.0|            834.0|         Jan 15, 2022|11:47 PM|            null|     null|         null|\n",
            "| 19|15-Jan-2022 11:46PM|    null|http://twitter.co...|        null|RT @KEdge23: Unde...|Twitter|  @DeniseMembery|United Kingdom|     null| English| 5721|            0|           0|               null|                null|              null|                  0|      null| 52.92|  Neutral|Fully open econom...|Adhoc Search Export|              Brexit|              7.0|'1482499526158131...|         3678878175|Twitter for Android|           Denise M.|http://www.twitte...|🇬🇧✡️ Proud to b...|           5721.0|           6291.0|         Jan 15, 2022|11:46 PM|         England|     null|         null|\n",
            "+---+-------------------+--------+--------------------+------------+--------------------+-------+----------------+--------------+---------+--------+-----+-------------+------------+-------------------+--------------------+------------------+-------------------+----------+------+---------+--------------------+-------------------+--------------------+-----------------+--------------------+-------------------+-------------------+--------------------+--------------------+--------------------+-----------------+-----------------+---------------------+--------+----------------+---------+-------------+\n",
            "only showing top 20 rows\n",
            "\n"
          ]
        }
      ]
    },
    {
      "cell_type": "code",
      "source": [
        "df1 = df1[['Hit Sentence']]"
      ],
      "metadata": {
        "id": "2RgVIN-7dqrG"
      },
      "execution_count": null,
      "outputs": []
    },
    {
      "cell_type": "code",
      "source": [
        "df1.show()"
      ],
      "metadata": {
        "colab": {
          "base_uri": "https://localhost:8080/"
        },
        "id": "VibLiNASdwWA",
        "outputId": "5e051f1e-d76b-4fe4-ca5e-f4fd93ac5e6e"
      },
      "execution_count": null,
      "outputs": [
        {
          "output_type": "stream",
          "name": "stdout",
          "text": [
            "+--------------------+\n",
            "|        Hit Sentence|\n",
            "+--------------------+\n",
            "|RT @re11ddy: QT @...|\n",
            "|RT @RickSacrop: M...|\n",
            "|@StokieDrew2 I do...|\n",
            "|RT @denistmurray:...|\n",
            "|@afneil If Johnso...|\n",
            "|RT @phil_woods: @...|\n",
            "|RT @albundysdad: ...|\n",
            "|RT @malc_hill: @J...|\n",
            "|RT @inmarshall100...|\n",
            "|RT @JamesRobvince...|\n",
            "|@TerryONeilJerry ...|\n",
            "|RT @KEdge23: Unde...|\n",
            "|QT @afneil: Johns...|\n",
            "|@memoFlibble Just...|\n",
            "|@TheGhos72578902 ...|\n",
            "|RT @gringolito: T...|\n",
            "|@ConraddKonnrad @...|\n",
            "|RT @IanCharlesUK:...|\n",
            "|RT @DomPlums: @Ga...|\n",
            "|RT @KEdge23: Unde...|\n",
            "+--------------------+\n",
            "only showing top 20 rows\n",
            "\n"
          ]
        }
      ]
    },
    {
      "cell_type": "code",
      "source": [
        "from pyspark.sql.functions import lit\n",
        "df1 = df1.withColumn('label',lit(1))"
      ],
      "metadata": {
        "id": "R7UzCV7cdzux"
      },
      "execution_count": null,
      "outputs": []
    },
    {
      "cell_type": "code",
      "source": [
        "df1.show()"
      ],
      "metadata": {
        "colab": {
          "base_uri": "https://localhost:8080/"
        },
        "id": "aQ_yfrd8eoQ7",
        "outputId": "82d2f00d-85e1-4967-8453-d98af2575355"
      },
      "execution_count": null,
      "outputs": [
        {
          "output_type": "stream",
          "name": "stdout",
          "text": [
            "+--------------------+-----+\n",
            "|        Hit Sentence|label|\n",
            "+--------------------+-----+\n",
            "|RT @re11ddy: QT @...|    1|\n",
            "|RT @RickSacrop: M...|    1|\n",
            "|@StokieDrew2 I do...|    1|\n",
            "|RT @denistmurray:...|    1|\n",
            "|@afneil If Johnso...|    1|\n",
            "|RT @phil_woods: @...|    1|\n",
            "|RT @albundysdad: ...|    1|\n",
            "|RT @malc_hill: @J...|    1|\n",
            "|RT @inmarshall100...|    1|\n",
            "|RT @JamesRobvince...|    1|\n",
            "|@TerryONeilJerry ...|    1|\n",
            "|RT @KEdge23: Unde...|    1|\n",
            "|QT @afneil: Johns...|    1|\n",
            "|@memoFlibble Just...|    1|\n",
            "|@TheGhos72578902 ...|    1|\n",
            "|RT @gringolito: T...|    1|\n",
            "|@ConraddKonnrad @...|    1|\n",
            "|RT @IanCharlesUK:...|    1|\n",
            "|RT @DomPlums: @Ga...|    1|\n",
            "|RT @KEdge23: Unde...|    1|\n",
            "+--------------------+-----+\n",
            "only showing top 20 rows\n",
            "\n"
          ]
        }
      ]
    },
    {
      "cell_type": "code",
      "source": [
        "df2 = spark.read.csv('/content/drive/MyDrive/Brexit/TweetDataset_AntiBrexit_Jan-Mar2022.csv', header = True)"
      ],
      "metadata": {
        "id": "kJ5W2_f-cCgO"
      },
      "execution_count": null,
      "outputs": []
    },
    {
      "cell_type": "code",
      "source": [
        "df2.show()"
      ],
      "metadata": {
        "colab": {
          "base_uri": "https://localhost:8080/"
        },
        "id": "IP7dwOwUcP9C",
        "outputId": "222cc01e-9aab-4af8-c3a7-3f042d274e2a"
      },
      "execution_count": null,
      "outputs": [
        {
          "output_type": "stream",
          "name": "stdout",
          "text": [
            "+---+-------------------+--------+--------------------+------------+--------------------+-------+----------------+--------------+---------+--------+------+-------------+------------+-------------------+--------------------+------------------+-------------------+----------+-------+---------+--------------------+-------------------+----------------+-----------------+--------------------+-------------------+-------------------+--------------------+--------------------+--------------------+-----------------+-----------------+---------------------+--------+----------+------------+-------------+\n",
            "|_c0|               Date|Headline|                 URL|Opening Text|        Hit Sentence| Source|      Influencer|       Country|Subregion|Language| Reach|Desktop Reach|Mobile Reach|Twitter Social Echo|Facebook Social Echo|Reddit Social Echo|National Viewership|Engagement|    AVE|Sentiment|         Key Phrases|         Input Name|        Keywords|Twitter Authority|            Tweet Id|         Twitter Id|     Twitter Client| Twitter Screen Name|    User Profile Url|         Twitter Bio|Twitter Followers|Twitter Following|Alternate Date Format|    Time|     State|        City|Document Tags|\n",
            "+---+-------------------+--------+--------------------+------------+--------------------+-------+----------------+--------------+---------+--------+------+-------------+------------+-------------------+--------------------+------------------+-------------------+----------+-------+---------+--------------------+-------------------+----------------+-----------------+--------------------+-------------------+-------------------+--------------------+--------------------+--------------------+-----------------+-----------------+---------------------+--------+----------+------------+-------------+\n",
            "|  0|09-Jan-2022 11:58PM|    null|https://twitter.c...|        null|RT @cnapan: #John...|Twitter|@nickynicky77551|       Unknown|     null| English|  1697|            0|           0|               null|                null|              null|                  0|      null|   15.7|  Neutral|electoral liabili...|Adhoc Search Export|          Brexit|              6.0|'1480328159618732...|1315126719007789057|Twitter for Android|     nicky@nicky7755|https://twitter.c...|Ardent Remainer; ...|           1697.0|           2576.0|          Jan 9, 2022|11:58 PM|      null|        null|         null|\n",
            "|  1|09-Jan-2022 11:58PM|    null|https://twitter.c...|        null|RT @Femi_Sorry: M...|Twitter|     @lines12345|       Unknown|     null| English|    11|            0|           0|               null|                null|              null|                  0|      null|    0.1| Negative|Labour leader,com...|Adhoc Search Export|          Brexit|              1.0|'1480328147304337...|          147229309| Twitter for iPhone|               Helen|https://twitter.c...|Tory hating Remainer|             11.0|             92.0|          Jan 9, 2022|11:58 PM|      null|        null|         null|\n",
            "|  2|09-Jan-2022 11:58PM|    null|https://twitter.c...|        null|RT @andy_murray: ...|Twitter|     @millymoo97|       Unknown|     null| English|  2129|            0|           0|               null|                null|              null|                  0|      null|  19.69|  Neutral|awkward moment,ca...|Adhoc Search Export|          Europe|              6.0|'1480328144678699...|           19862216|    Twitter Web App|      seonaid mcgill|https://twitter.c...|Scottish, Europea...|           2129.0|           3880.0|          Jan 9, 2022|11:58 PM|      null|        null|         null|\n",
            "|  3|09-Jan-2022 11:58PM|    null|https://twitter.c...|        null|RT @mikegalsworth...|Twitter|   @valuesurplus|United Kingdom|     null| English|  2420|            0|           0|               null|                null|              null|                  0|      null|  22.39| Negative|Covid deaths,Plus...|Adhoc Search Export|          Europe|              6.0|'1480328085421629...|1172871351083950081|    Twitter Web App|Rightwing politic...|https://twitter.c...|Classical Cultura...|           2420.0|           4952.0|          Jan 9, 2022|11:58 PM|      null|        null|         null|\n",
            "|  4|09-Jan-2022 11:57PM|    null|https://twitter.c...|        null|RT @StevePeers: Q...|Twitter|     @jackcdawes|United Kingdom|     null| English| 18304|            0|           0|               null|                null|              null|                  0|      null| 169.31|  Neutral|                null|Adhoc Search Export|          Europe|              8.0|'1480327958631960...|         3065680671|    Twitter Web App|Jack Dawes #FBPEG...|https://twitter.c...|Lover of crime & ...|          18304.0|          19889.0|          Jan 9, 2022|11:57 PM|   England|      London|         null|\n",
            "|  5|09-Jan-2022 11:57PM|    null|http://twitter.co...|        null|RT @jdpoc: In cas...|Twitter|   @ValueSurplus|United Kingdom|     null| English|  2420|            0|           0|               null|                null|              null|                  0|      null|  22.39| Negative|Party candidate,l...|Adhoc Search Export|   brexit,Brexit|              6.0|'1480327864000077...|1172871351083950081|    Twitter Web App|Rightwing politic...|http://www.twitte...|Classical Cultura...|           2420.0|           4952.0|          Jan 9, 2022|11:57 PM|      null|        null|         null|\n",
            "|  6|09-Jan-2022 11:57PM|    null|https://twitter.c...|        null|RT @jdpoc: In cas...|Twitter| @nicolapollard5|United Kingdom|     null| English|   315|            0|           0|               null|                null|              null|                  0|      null|   2.91| Negative|Party candidate,l...|Adhoc Search Export|   brexit,Brexit|              5.0|'1480327864797077...| 782114545074638848| Twitter for iPhone|Nicola Pollard 3....|https://twitter.c...|Tory hating remai...|            315.0|            701.0|          Jan 9, 2022|11:57 PM|   England|   Sheffield|         null|\n",
            "|  7|09-Jan-2022 11:55PM|    null|http://twitter.co...|        null|@JayneMonie1 @How...|Twitter|   @polly_titian|       Unknown|     null| English|   290|            0|           0|               null|                null|              null|                  0|      null|   2.68|  Neutral|Johnson to win,Pa...|Adhoc Search Export|          Brexit|              4.0|'1480327317520064...|1270608320085229569| Twitter for iPhone|        Polly Titian|http://www.twitte...|Anti Brexit. “Nev...|            290.0|            305.0|          Jan 9, 2022|11:55 PM|      null|        null|         null|\n",
            "|  8|09-Jan-2022 11:54PM|    null|http://twitter.co...|        null|RT @br_nning: To ...|Twitter|   @superpablo67|United Kingdom|     null| English|   635|            0|           0|               null|                null|              null|                  0|      null|   5.87|  Neutral|econ data,economi...|Adhoc Search Export|brexiters,Brexit|              5.0|'1480327074837676...|          296526555|Twitter for Android| Paul Davidson #FBPE|http://www.twitte...|United fan, Remai...|            635.0|           1416.0|          Jan 9, 2022|11:54 PM|   England|  Manchester|         null|\n",
            "|  9|09-Jan-2022 11:54PM|    null|http://twitter.co...|        null|RT @andy_murray: ...|Twitter|     @AlexJTudor| United States|     null| English|  5028|            0|           0|               null|                null|              null|                  0|      null|  46.51|  Neutral|awkward moment,ca...|Adhoc Search Export|          Europe|              7.0|'1480327034144493...| 911365117010436096|   Twitter for iPad|       Alex Tudor 💙|http://www.twitte...|Born Glasgow. Mai...|           5028.0|           5007.0|          Jan 9, 2022|11:54 PM|Washington|        Kent|         null|\n",
            "| 10|09-Jan-2022 11:52PM|    null|http://twitter.co...|        null|RT @andy_murray: ...|Twitter|    @HelenGothel|       Iceland|     null| English|  1265|            0|           0|               null|                null|              null|                  0|      null|   11.7|  Neutral|awkward moment,ca...|Adhoc Search Export|          Europe|              6.0|'1480326645525499...| 736632572063719426|   Twitter for iPad|              gothel|http://www.twitte...|Excluded Remainer...|           1265.0|           1210.0|          Jan 9, 2022|11:52 PM|      null|        null|         null|\n",
            "| 11|09-Jan-2022 11:50PM|    null|http://twitter.co...|        null|RT @andy_murray: ...|Twitter|    @Julia001Ann| United States|     null| English|   459|            0|           0|               null|                null|              null|                  0|      null|   4.25|  Neutral|awkward moment,ca...|Adhoc Search Export|          Europe|              5.0|'1480326232390742...|1160509505140088832|   Twitter for iPad|               Julia|http://www.twitte...|Victims & women’s...|            459.0|           1867.0|          Jan 9, 2022|11:50 PM|  Virginia|   Yorkshire|         null|\n",
            "| 12|09-Jan-2022 11:49PM|    null|https://twitter.c...|        null|QT @uk_domain_nam...|Twitter|@marani_hartnell|United Kingdom|     null| English|   281|            0|           0|               null|                null|              null|                  0|      null|    2.6|  Neutral|                null|Adhoc Search Export|          Brexit|              4.0|'1480325978702454...|         2302483486|   Twitter for iPad|      Steve Hartnell|https://twitter.c...|Centre Left Labou...|            281.0|            476.0|          Jan 9, 2022|11:49 PM|   England|     Bristol|         null|\n",
            "| 13|09-Jan-2022 11:49PM|    null|http://twitter.co...|        null|QT @andy_murray: ...|Twitter|       @JulianOD| United States|     null| English|   173|            0|           0|               null|                null|              null|                  0|      null|    1.6|  Neutral|awkward moment,ca...|Adhoc Search Export|          Europe|              4.0|'1480325798095634...|           20383368| Twitter for iPhone|    Julian O'Donovan|http://www.twitte...|European, Remaine...|            173.0|            422.0|          Jan 9, 2022|11:49 PM|  Illinois|Lincolnshire|         null|\n",
            "| 14|09-Jan-2022 11:48PM|    null|http://twitter.co...|        null|RT @andy_murray: ...|Twitter| @NicolaPollard5|United Kingdom|     null| English|   315|            0|           0|               null|                null|              null|                  0|      null|   2.91|  Neutral|awkward moment,ca...|Adhoc Search Export|          Europe|              5.0|'1480325750230294...| 782114545074638848| Twitter for iPhone|Nicola Pollard 3....|http://www.twitte...|Tory hating remai...|            315.0|            700.0|          Jan 9, 2022|11:48 PM|   England|   Sheffield|         null|\n",
            "| 15|09-Jan-2022 11:45PM|    null|https://twitter.c...|        null|RT @andy_murray: ...|Twitter|  @marinapurkiss|United Kingdom|     null| English|127246|            0|           0|               null|                null|              null|                  0|      null|1177.03|  Neutral|awkward moment,ca...|Adhoc Search Export|          Europe|             10.0|'1480324953358671...|           58436094| Twitter for iPhone|      Marina Purkiss|https://twitter.c...|I’m not always ha...|         127246.0|           2619.0|          Jan 9, 2022|11:45 PM|   England|      London|         null|\n",
            "| 16|09-Jan-2022 11:45PM|    null|http://twitter.co...|        null|QT @andy_murray: ...|Twitter|@Chrisballingall|United Kingdom|     null| English| 13612|            0|           0|               null|                null|              null|                  0|       5.0| 125.91|  Neutral|awkward moment,ca...|Adhoc Search Export|          Europe|              8.0|'1480324860991651...|           21060055| Twitter for iPhone|Chris Ballingall ...|http://www.twitte...|Woke and proud - ...|          13612.0|          13888.0|          Jan 9, 2022|11:45 PM|      null|        null|         null|\n",
            "| 17|09-Jan-2022 11:45PM|    null|http://twitter.co...|        null|@MPIainDS You hav...|Twitter|     @woodenscot|United Kingdom|     null| English|   478|            0|           0|               null|                null|              null|                  0|      null|   4.42|  Neutral|European funding ...|Adhoc Search Export|        European|              5.0|'1480324760353619...|          160965276| Twitter for iPhone|              Graeme|http://www.twitte...|IT person, Apple ...|            478.0|            877.0|          Jan 9, 2022|11:45 PM|  Scotland|   Edinburgh|         null|\n",
            "| 18|09-Jan-2022 11:44PM|    null|http://twitter.co...|        null|RT @DMinghella: S...|Twitter|@nickynicky77551|       Unknown|     null| English|  1697|            0|           0|               null|                null|              null|                  0|      null|   15.7|  Neutral|official communic...|Adhoc Search Export|          Brexit|              6.0|'1480324708662874...|1315126719007789057|Twitter for Android|     nicky@nicky7755|http://www.twitte...|Ardent Remainer; ...|           1697.0|           2576.0|          Jan 9, 2022|11:44 PM|      null|        null|         null|\n",
            "| 19|09-Jan-2022 11:44PM|    null|https://twitter.c...|        null|RT @andy_murray: ...|Twitter|       @julianod| United States|     null| English|   173|            0|           0|               null|                null|              null|                  0|      null|    1.6|  Neutral|awkward moment,ca...|Adhoc Search Export|          Europe|              4.0|'1480324601511043...|           20383368| Twitter for iPhone|    Julian O'Donovan|https://twitter.c...|European, Remaine...|            173.0|            422.0|          Jan 9, 2022|11:44 PM|  Illinois|Lincolnshire|         null|\n",
            "+---+-------------------+--------+--------------------+------------+--------------------+-------+----------------+--------------+---------+--------+------+-------------+------------+-------------------+--------------------+------------------+-------------------+----------+-------+---------+--------------------+-------------------+----------------+-----------------+--------------------+-------------------+-------------------+--------------------+--------------------+--------------------+-----------------+-----------------+---------------------+--------+----------+------------+-------------+\n",
            "only showing top 20 rows\n",
            "\n"
          ]
        }
      ]
    },
    {
      "cell_type": "code",
      "source": [
        "df2 = df2[['Hit Sentence']]"
      ],
      "metadata": {
        "id": "AUnbWMnbetxT"
      },
      "execution_count": null,
      "outputs": []
    },
    {
      "cell_type": "code",
      "source": [
        "df2 = df2.withColumn('label',lit(0))"
      ],
      "metadata": {
        "id": "GL7ugyF2e1td"
      },
      "execution_count": null,
      "outputs": []
    },
    {
      "cell_type": "code",
      "source": [
        "df = df1.union(df2)"
      ],
      "metadata": {
        "id": "F3lD44OYcRsW"
      },
      "execution_count": null,
      "outputs": []
    },
    {
      "cell_type": "code",
      "source": [
        "df.show()"
      ],
      "metadata": {
        "colab": {
          "base_uri": "https://localhost:8080/"
        },
        "id": "UAdJ_t0ucVyh",
        "outputId": "686e525b-de6a-4a54-a187-97d8b6e631c5"
      },
      "execution_count": null,
      "outputs": [
        {
          "output_type": "stream",
          "name": "stdout",
          "text": [
            "+--------------------+-----+\n",
            "|        Hit Sentence|label|\n",
            "+--------------------+-----+\n",
            "|RT @re11ddy: QT @...|    1|\n",
            "|RT @RickSacrop: M...|    1|\n",
            "|@StokieDrew2 I do...|    1|\n",
            "|RT @denistmurray:...|    1|\n",
            "|@afneil If Johnso...|    1|\n",
            "|RT @phil_woods: @...|    1|\n",
            "|RT @albundysdad: ...|    1|\n",
            "|RT @malc_hill: @J...|    1|\n",
            "|RT @inmarshall100...|    1|\n",
            "|RT @JamesRobvince...|    1|\n",
            "|@TerryONeilJerry ...|    1|\n",
            "|RT @KEdge23: Unde...|    1|\n",
            "|QT @afneil: Johns...|    1|\n",
            "|@memoFlibble Just...|    1|\n",
            "|@TheGhos72578902 ...|    1|\n",
            "|RT @gringolito: T...|    1|\n",
            "|@ConraddKonnrad @...|    1|\n",
            "|RT @IanCharlesUK:...|    1|\n",
            "|RT @DomPlums: @Ga...|    1|\n",
            "|RT @KEdge23: Unde...|    1|\n",
            "+--------------------+-----+\n",
            "only showing top 20 rows\n",
            "\n"
          ]
        }
      ]
    },
    {
      "cell_type": "code",
      "source": [
        "df.count()"
      ],
      "metadata": {
        "colab": {
          "base_uri": "https://localhost:8080/"
        },
        "id": "VdgPlrsfcXHO",
        "outputId": "ffc155f9-23af-44b3-fbb7-41bc95d1d598"
      },
      "execution_count": null,
      "outputs": [
        {
          "output_type": "execute_result",
          "data": {
            "text/plain": [
              "358205"
            ]
          },
          "metadata": {},
          "execution_count": 17
        }
      ]
    },
    {
      "cell_type": "code",
      "source": [
        "df.groupBy('label').count().show()"
      ],
      "metadata": {
        "colab": {
          "base_uri": "https://localhost:8080/"
        },
        "id": "moDOATi9cZsq",
        "outputId": "796b5837-f5f0-4fbb-82c7-b4da56fe67bf"
      },
      "execution_count": null,
      "outputs": [
        {
          "output_type": "stream",
          "name": "stdout",
          "text": [
            "+-----+------+\n",
            "|label| count|\n",
            "+-----+------+\n",
            "|    1|147631|\n",
            "|    0|210574|\n",
            "+-----+------+\n",
            "\n"
          ]
        }
      ]
    },
    {
      "cell_type": "code",
      "source": [
        "df.show()"
      ],
      "metadata": {
        "colab": {
          "base_uri": "https://localhost:8080/"
        },
        "id": "LZ0S1pa_ceWg",
        "outputId": "b7dbd7e4-07ac-41b4-89f6-30129bba0670"
      },
      "execution_count": null,
      "outputs": [
        {
          "output_type": "stream",
          "name": "stdout",
          "text": [
            "+--------------------+-----+\n",
            "|        Hit Sentence|label|\n",
            "+--------------------+-----+\n",
            "|RT @re11ddy: QT @...|    1|\n",
            "|RT @RickSacrop: M...|    1|\n",
            "|@StokieDrew2 I do...|    1|\n",
            "|RT @denistmurray:...|    1|\n",
            "|@afneil If Johnso...|    1|\n",
            "|RT @phil_woods: @...|    1|\n",
            "|RT @albundysdad: ...|    1|\n",
            "|RT @malc_hill: @J...|    1|\n",
            "|RT @inmarshall100...|    1|\n",
            "|RT @JamesRobvince...|    1|\n",
            "|@TerryONeilJerry ...|    1|\n",
            "|RT @KEdge23: Unde...|    1|\n",
            "|QT @afneil: Johns...|    1|\n",
            "|@memoFlibble Just...|    1|\n",
            "|@TheGhos72578902 ...|    1|\n",
            "|RT @gringolito: T...|    1|\n",
            "|@ConraddKonnrad @...|    1|\n",
            "|RT @IanCharlesUK:...|    1|\n",
            "|RT @DomPlums: @Ga...|    1|\n",
            "|RT @KEdge23: Unde...|    1|\n",
            "+--------------------+-----+\n",
            "only showing top 20 rows\n",
            "\n"
          ]
        }
      ]
    },
    {
      "cell_type": "code",
      "source": [
        "from pyspark.ml.feature import Tokenizer, RegexTokenizer, StopWordsRemover, HashingTF, IDF, CountVectorizer, StringIndexer, VectorAssembler"
      ],
      "metadata": {
        "id": "Ig7OLboVcfii"
      },
      "execution_count": null,
      "outputs": []
    },
    {
      "cell_type": "code",
      "source": [
        "tokenizer = Tokenizer(inputCol = 'Hit Sentence', outputCol = 'words')"
      ],
      "metadata": {
        "id": "UYzDlz86czx5"
      },
      "execution_count": null,
      "outputs": []
    },
    {
      "cell_type": "code",
      "source": [
        "remover = StopWordsRemover(inputCol = 'words', outputCol = 'required_words')"
      ],
      "metadata": {
        "id": "sdFfV53fgkrL"
      },
      "execution_count": null,
      "outputs": []
    },
    {
      "cell_type": "code",
      "source": [
        "vectorizer = CountVectorizer(inputCol = 'required_words', outputCol = 'c_vec')"
      ],
      "metadata": {
        "id": "Fm0STS3bgthG"
      },
      "execution_count": null,
      "outputs": []
    },
    {
      "cell_type": "code",
      "source": [
        "idf = IDF(inputCol = 'c_vec', outputCol = 'tf_idf')"
      ],
      "metadata": {
        "id": "oU9X0tHFg3F5"
      },
      "execution_count": null,
      "outputs": []
    },
    {
      "cell_type": "code",
      "source": [
        "assembler = VectorAssembler(inputCols = ['tf_idf'], outputCol = 'features')"
      ],
      "metadata": {
        "id": "cf-1XdTThUzs"
      },
      "execution_count": null,
      "outputs": []
    },
    {
      "cell_type": "code",
      "source": [
        "from pyspark.ml.pipeline import Pipeline"
      ],
      "metadata": {
        "id": "qQpLP-RJhf6k"
      },
      "execution_count": null,
      "outputs": []
    },
    {
      "cell_type": "code",
      "source": [
        "pipeline = Pipeline(stages = [tokenizer, remover, vectorizer, idf, assembler])"
      ],
      "metadata": {
        "id": "I2OZwBDEhuQS"
      },
      "execution_count": null,
      "outputs": []
    },
    {
      "cell_type": "code",
      "source": [
        "fit_data_in_pipeline = pipeline.fit(df)"
      ],
      "metadata": {
        "id": "knMdABGbh75V"
      },
      "execution_count": null,
      "outputs": []
    },
    {
      "cell_type": "code",
      "source": [
        "transformed_df = fit_data_in_pipeline.transform(df)"
      ],
      "metadata": {
        "id": "GARfATfbiC1V"
      },
      "execution_count": null,
      "outputs": []
    },
    {
      "cell_type": "code",
      "source": [
        "transformed_df.show()"
      ],
      "metadata": {
        "colab": {
          "base_uri": "https://localhost:8080/"
        },
        "id": "LpJV1j0zisgA",
        "outputId": "08534cc4-f3a8-4522-8355-e006e698e12a"
      },
      "execution_count": null,
      "outputs": [
        {
          "output_type": "stream",
          "name": "stdout",
          "text": [
            "+--------------------+-----+--------------------+--------------------+--------------------+--------------------+--------------------+\n",
            "|        Hit Sentence|label|               words|      required_words|               c_vec|              tf_idf|            features|\n",
            "+--------------------+-----+--------------------+--------------------+--------------------+--------------------+--------------------+\n",
            "|RT @re11ddy: QT @...|    1|[rt, @re11ddy:, q...|[rt, @re11ddy:, q...|(262144,[0,1,3,6,...|(262144,[0,1,3,6,...|(262144,[0,1,3,6,...|\n",
            "|RT @RickSacrop: M...|    1|[rt, @ricksacrop:...|[rt, @ricksacrop:...|(262144,[0,8,11,2...|(262144,[0,8,11,2...|(262144,[0,8,11,2...|\n",
            "|@StokieDrew2 I do...|    1|[@stokiedrew2, i,...|[@stokiedrew2, fi...|(262144,[1,2,10,3...|(262144,[1,2,10,3...|(262144,[1,2,10,3...|\n",
            "|RT @denistmurray:...|    1|[rt, @denistmurra...|[rt, @denistmurra...|(262144,[0,1,4,37...|(262144,[0,1,4,37...|(262144,[0,1,4,37...|\n",
            "|@afneil If Johnso...|    1|[@afneil, if, joh...|[@afneil, johnson...|(262144,[10,36,51...|(262144,[10,36,51...|(262144,[10,36,51...|\n",
            "|RT @phil_woods: @...|    1|[rt, @phil_woods:...|[rt, @phil_woods:...|(262144,[0,1,9,32...|(262144,[0,1,9,32...|(262144,[0,1,9,32...|\n",
            "|RT @albundysdad: ...|    1|[rt, @albundysdad...|[rt, @albundysdad...|(262144,[0,19,122...|(262144,[0,19,122...|(262144,[0,19,122...|\n",
            "|RT @malc_hill: @J...|    1|[rt, @malc_hill:,...|[rt, @malc_hill:,...|(262144,[0,11,20,...|(262144,[0,11,20,...|(262144,[0,11,20,...|\n",
            "|RT @inmarshall100...|    1|[rt, @inmarshall1...|[rt, @inmarshall1...|(262144,[0,1,2,4,...|(262144,[0,1,2,4,...|(262144,[0,1,2,4,...|\n",
            "|RT @JamesRobvince...|    1|[rt, @jamesrobvin...|[rt, @jamesrobvin...|(262144,[0,1,30,1...|(262144,[0,1,30,1...|(262144,[0,1,30,1...|\n",
            "|@TerryONeilJerry ...|    1|[@terryoneiljerry...|[@terryoneiljerry...|(262144,[2,15,62,...|(262144,[2,15,62,...|(262144,[2,15,62,...|\n",
            "|RT @KEdge23: Unde...|    1|[rt, @kedge23:, u...|[rt, @kedge23:, @...|(262144,[0,1,5,53...|(262144,[0,1,5,53...|(262144,[0,1,5,53...|\n",
            "|QT @afneil: Johns...|    1|[qt, @afneil:, jo...|[qt, @afneil:, jo...|(262144,[3,6,10,1...|(262144,[3,6,10,1...|(262144,[3,6,10,1...|\n",
            "|@memoFlibble Just...|    1|[@memoflibble, ju...|[@memoflibble, li...|(262144,[1,18,342...|(262144,[1,18,342...|(262144,[1,18,342...|\n",
            "|@TheGhos72578902 ...|    1|[@theghos72578902...|[@theghos72578902...|(262144,[353,354,...|(262144,[353,354,...|(262144,[353,354,...|\n",
            "|RT @gringolito: T...|    1|[rt, @gringolito:...|[rt, @gringolito:...|(262144,[0,10,16,...|(262144,[0,10,16,...|(262144,[0,10,16,...|\n",
            "|@ConraddKonnrad @...|    1|[@conraddkonnrad,...|[@conraddkonnrad,...|(262144,[47,353,3...|(262144,[47,353,3...|(262144,[47,353,3...|\n",
            "|RT @IanCharlesUK:...|    1|[rt, @iancharlesu...|[rt, @iancharlesu...|(262144,[0,4,26,4...|(262144,[0,4,26,4...|(262144,[0,4,26,4...|\n",
            "|RT @DomPlums: @Ga...|    1|[rt, @domplums:, ...|[rt, @domplums:, ...|(262144,[0,2,41,9...|(262144,[0,2,41,9...|(262144,[0,2,41,9...|\n",
            "|RT @KEdge23: Unde...|    1|[rt, @kedge23:, u...|[rt, @kedge23:, @...|(262144,[0,1,5,53...|(262144,[0,1,5,53...|(262144,[0,1,5,53...|\n",
            "+--------------------+-----+--------------------+--------------------+--------------------+--------------------+--------------------+\n",
            "only showing top 20 rows\n",
            "\n"
          ]
        }
      ]
    },
    {
      "cell_type": "code",
      "source": [
        "transformed_df = transformed_df.select(['features', 'label'])"
      ],
      "metadata": {
        "id": "JywE0I_livu5"
      },
      "execution_count": null,
      "outputs": []
    },
    {
      "cell_type": "code",
      "source": [
        "transformed_df.show()"
      ],
      "metadata": {
        "colab": {
          "base_uri": "https://localhost:8080/"
        },
        "id": "_aqnkB12jGX0",
        "outputId": "146fb706-f604-457b-b1a6-dfb9567fff7f"
      },
      "execution_count": null,
      "outputs": [
        {
          "output_type": "stream",
          "name": "stdout",
          "text": [
            "+--------------------+-----+\n",
            "|            features|label|\n",
            "+--------------------+-----+\n",
            "|(262144,[0,1,3,6,...|    1|\n",
            "|(262144,[0,8,11,2...|    1|\n",
            "|(262144,[1,2,10,3...|    1|\n",
            "|(262144,[0,1,4,37...|    1|\n",
            "|(262144,[10,36,51...|    1|\n",
            "|(262144,[0,1,9,32...|    1|\n",
            "|(262144,[0,19,122...|    1|\n",
            "|(262144,[0,11,20,...|    1|\n",
            "|(262144,[0,1,2,4,...|    1|\n",
            "|(262144,[0,1,30,1...|    1|\n",
            "|(262144,[2,15,62,...|    1|\n",
            "|(262144,[0,1,5,53...|    1|\n",
            "|(262144,[3,6,10,1...|    1|\n",
            "|(262144,[1,18,342...|    1|\n",
            "|(262144,[353,354,...|    1|\n",
            "|(262144,[0,10,16,...|    1|\n",
            "|(262144,[47,353,3...|    1|\n",
            "|(262144,[0,4,26,4...|    1|\n",
            "|(262144,[0,2,41,9...|    1|\n",
            "|(262144,[0,1,5,53...|    1|\n",
            "+--------------------+-----+\n",
            "only showing top 20 rows\n",
            "\n"
          ]
        }
      ]
    },
    {
      "cell_type": "code",
      "source": [
        "training, test = transformed_df.randomSplit([0.8, 0.2])"
      ],
      "metadata": {
        "id": "PTXVCjFdjIj7"
      },
      "execution_count": null,
      "outputs": []
    },
    {
      "cell_type": "code",
      "source": [
        "from pyspark.ml.classification import LinearSVC"
      ],
      "metadata": {
        "id": "UWl_YlmMjTK5"
      },
      "execution_count": null,
      "outputs": []
    },
    {
      "cell_type": "code",
      "source": [
        "svc = LinearSVC()"
      ],
      "metadata": {
        "id": "WXccMg9vje6_"
      },
      "execution_count": null,
      "outputs": []
    },
    {
      "cell_type": "code",
      "source": [
        "tweet_sentiment_detector = svc.fit(training)"
      ],
      "metadata": {
        "id": "B8S48fPOjhfB"
      },
      "execution_count": null,
      "outputs": []
    },
    {
      "cell_type": "code",
      "source": [
        "predictions = tweet_sentiment_detector.transform(test)"
      ],
      "metadata": {
        "id": "u0TcxfwkkCM0"
      },
      "execution_count": null,
      "outputs": []
    },
    {
      "cell_type": "code",
      "source": [
        "from pyspark.ml.evaluation import MulticlassClassificationEvaluator"
      ],
      "metadata": {
        "id": "By0RUWExk5W5"
      },
      "execution_count": null,
      "outputs": []
    },
    {
      "cell_type": "code",
      "source": [
        "eval = MulticlassClassificationEvaluator()"
      ],
      "metadata": {
        "id": "Bsgg1IhWlBEt"
      },
      "execution_count": null,
      "outputs": []
    },
    {
      "cell_type": "code",
      "source": [
        "accuracy = eval.evaluate(predictions)"
      ],
      "metadata": {
        "id": "RIg6nLPAlFuw"
      },
      "execution_count": null,
      "outputs": []
    },
    {
      "cell_type": "code",
      "source": [
        "print(accuracy)"
      ],
      "metadata": {
        "colab": {
          "base_uri": "https://localhost:8080/"
        },
        "id": "h1BiasZiulUr",
        "outputId": "d7aeef15-fee7-46cd-8ec1-0c9e8d672a7f"
      },
      "execution_count": null,
      "outputs": [
        {
          "output_type": "stream",
          "name": "stdout",
          "text": [
            "0.9096215376108373\n"
          ]
        }
      ]
    },
    {
      "cell_type": "code",
      "source": [
        "type(test)"
      ],
      "metadata": {
        "colab": {
          "base_uri": "https://localhost:8080/"
        },
        "id": "meLdtAERu_dY",
        "outputId": "67d24b2e-e4ec-4194-cd88-c6e8f230c31d"
      },
      "execution_count": null,
      "outputs": [
        {
          "output_type": "execute_result",
          "data": {
            "text/plain": [
              "pyspark.sql.dataframe.DataFrame"
            ]
          },
          "metadata": {},
          "execution_count": 45
        }
      ]
    },
    {
      "cell_type": "code",
      "source": [
        "validation_df = spark.createDataFrame([\"@shep59r1 @Callan23474387 Oh dear..... Is that why over 30k people have fled France in rubber boats? The EU's benefits system must be so much more lucrative https://t.co/UOJhoptUzF\"],'string').toDF('Hit Sentence')"
      ],
      "metadata": {
        "id": "r5N2LUw3uowk"
      },
      "execution_count": null,
      "outputs": []
    },
    {
      "cell_type": "code",
      "source": [
        "transformed_validation_df = fit_data_in_pipeline.transform(validation_df)"
      ],
      "metadata": {
        "id": "av2aJwT2u1FH"
      },
      "execution_count": null,
      "outputs": []
    },
    {
      "cell_type": "code",
      "source": [
        "transformed_validation_df.show()"
      ],
      "metadata": {
        "colab": {
          "base_uri": "https://localhost:8080/"
        },
        "id": "q4uAW8POu75m",
        "outputId": "511c4b81-ccd2-4503-c34b-76a91f828e95"
      },
      "execution_count": null,
      "outputs": [
        {
          "output_type": "stream",
          "name": "stdout",
          "text": [
            "+--------------------+--------------------+--------------------+--------------------+--------------------+--------------------+\n",
            "|        Hit Sentence|               words|      required_words|               c_vec|              tf_idf|            features|\n",
            "+--------------------+--------------------+--------------------+--------------------+--------------------+--------------------+\n",
            "|@shep59r1 @Callan...|[@shep59r1, @call...|[@shep59r1, @call...|(262144,[9,60,63,...|(262144,[9,60,63,...|(262144,[9,60,63,...|\n",
            "+--------------------+--------------------+--------------------+--------------------+--------------------+--------------------+\n",
            "\n"
          ]
        }
      ]
    },
    {
      "cell_type": "code",
      "source": [
        "validation_data_prediction = tweet_sentiment_detector.transform(transformed_validation_df)"
      ],
      "metadata": {
        "id": "ncaluhjLwf3h"
      },
      "execution_count": null,
      "outputs": []
    },
    {
      "cell_type": "code",
      "source": [
        "validation_data_prediction.show() # actually pro-brexit and getting pro-brexit (sarcastic)"
      ],
      "metadata": {
        "colab": {
          "base_uri": "https://localhost:8080/"
        },
        "id": "1qBF9P7Nwp3d",
        "outputId": "35a38f44-3046-4491-d080-cf1ac14a7293"
      },
      "execution_count": null,
      "outputs": [
        {
          "output_type": "stream",
          "name": "stdout",
          "text": [
            "+--------------------+--------------------+--------------------+--------------------+--------------------+--------------------+--------------------+----------+\n",
            "|        Hit Sentence|               words|      required_words|               c_vec|              tf_idf|            features|       rawPrediction|prediction|\n",
            "+--------------------+--------------------+--------------------+--------------------+--------------------+--------------------+--------------------+----------+\n",
            "|@shep59r1 @Callan...|[@shep59r1, @call...|[@shep59r1, @call...|(262144,[9,60,63,...|(262144,[9,60,63,...|(262144,[9,60,63,...|[-2.3631040325425...|       1.0|\n",
            "+--------------------+--------------------+--------------------+--------------------+--------------------+--------------------+--------------------+----------+\n",
            "\n"
          ]
        }
      ]
    },
    {
      "cell_type": "code",
      "source": [
        "validation_df = spark.createDataFrame([\"RT @andy_murray: Please record the awkward moment when you tell them youâ€™ve spent most of your career campaigning to have people from Eastern Europe deported.ðŸ˜‰ ; In the trophy room with Novak's brother Djordje. https://t.co/DjgD4ItdMz\"],'string').toDF('Hit Sentence')"
      ],
      "metadata": {
        "id": "7ZCK3myYwr5m"
      },
      "execution_count": null,
      "outputs": []
    },
    {
      "cell_type": "code",
      "source": [
        "transformed_validation_df = fit_data_in_pipeline.transform(validation_df)"
      ],
      "metadata": {
        "id": "3QTocDyOyXnV"
      },
      "execution_count": null,
      "outputs": []
    },
    {
      "cell_type": "code",
      "source": [
        "validation_data_prediction = tweet_sentiment_detector.transform(transformed_validation_df)"
      ],
      "metadata": {
        "id": "kEXHgEwcyZ7M"
      },
      "execution_count": null,
      "outputs": []
    },
    {
      "cell_type": "code",
      "source": [
        "validation_data_prediction.show() # actually anti-brexit and getting anti-brexit"
      ],
      "metadata": {
        "colab": {
          "base_uri": "https://localhost:8080/"
        },
        "id": "xTr3fRF_ydGe",
        "outputId": "43ca1473-ece4-4149-d88b-55b45364c9e2"
      },
      "execution_count": null,
      "outputs": [
        {
          "output_type": "stream",
          "name": "stdout",
          "text": [
            "+--------------------+--------------------+--------------------+--------------------+--------------------+--------------------+--------------------+----------+\n",
            "|        Hit Sentence|               words|      required_words|               c_vec|              tf_idf|            features|       rawPrediction|prediction|\n",
            "+--------------------+--------------------+--------------------+--------------------+--------------------+--------------------+--------------------+----------+\n",
            "|RT @andy_murray: ...|[rt, @andy_murray...|[rt, @andy_murray...|(262144,[0,3,9,14...|(262144,[0,3,9,14...|(262144,[0,3,9,14...|[1.61600005754034...|       0.0|\n",
            "+--------------------+--------------------+--------------------+--------------------+--------------------+--------------------+--------------------+----------+\n",
            "\n"
          ]
        }
      ]
    },
    {
      "cell_type": "code",
      "source": [],
      "metadata": {
        "id": "Q9fSA7EDyfGn"
      },
      "execution_count": null,
      "outputs": []
    }
  ]
}